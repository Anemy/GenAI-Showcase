{
 "cells": [
  {
   "cell_type": "markdown",
   "id": "d84a72ea",
   "metadata": {},
   "source": [
    "# Adding Semantic Caching and Memory to your RAG Application using MongoDB and LangChain\n",
    "\n",
    "In this notebook, we will see how to use the new MongoDBCache and MongoDBChatMessageHistory in your RAG application.\n"
   ]
  },
  {
   "cell_type": "markdown",
   "id": "53d985b9",
   "metadata": {},
   "source": [
    "[![Open In Colab](https://colab.research.google.com/assets/colab-badge.svg)](https://colab.research.google.com/github/mongodb-developer/GenAI-Showcase/blob/main/notebooks/rag/mongodb-langchain-cache-memory.ipynb)"
   ]
  },
  {
   "cell_type": "markdown",
   "id": "65527202",
   "metadata": {},
   "source": [
    "## Step 1: Install required libraries\n",
    "\n",
    "- **datasets**: Python library to get access to datasets available on Hugging Face Hub\n",
    "\n",
    "- **langchain**: Python toolkit for LangChain\n",
    "\n",
    "- **pymongo**: Python toolkit for MongoDB"
   ]
  },
  {
   "cell_type": "code",
   "execution_count": 1,
   "id": "cbc22fa4",
   "metadata": {},
   "outputs": [],
   "source": [
    "! pip install -qU datasets langchain langchain-mongodb langchain-openai pymongo"
   ]
  },
  {
   "cell_type": "markdown",
   "id": "39c41e87",
   "metadata": {},
   "source": [
    "## Step 2: Setup pre-requisites\n",
    "\n",
    "* Set the MongoDB connection string. Follow the steps [here](https://www.mongodb.com/docs/manual/reference/connection-string/) to get the connection string from the Atlas UI.\n",
    "\n",
    "* Set the OpenAI API key. Steps to obtain an API key as [here](https://help.openai.com/en/articles/4936850-where-do-i-find-my-openai-api-key)"
   ]
  },
  {
   "cell_type": "code",
   "execution_count": 2,
   "id": "b56412ae",
   "metadata": {},
   "outputs": [],
   "source": [
    "import getpass"
   ]
  },
  {
   "cell_type": "code",
   "execution_count": 3,
   "id": "16a20d7a",
   "metadata": {},
   "outputs": [
    {
     "name": "stdout",
     "output_type": "stream",
     "text": [
      "Enter your MongoDB connection string:········\n"
     ]
    }
   ],
   "source": [
    "MONGODB_URI = getpass.getpass(\"Enter your MongoDB connection string:\")"
   ]
  },
  {
   "cell_type": "code",
   "execution_count": 4,
   "id": "978682d4",
   "metadata": {},
   "outputs": [
    {
     "name": "stdout",
     "output_type": "stream",
     "text": [
      "Enter your OpenAI API key:········\n"
     ]
    }
   ],
   "source": [
    "OPENAI_API_KEY = getpass.getpass(\"Enter your OpenAI API key:\")"
   ]
  },
  {
   "cell_type": "code",
   "execution_count": 7,
   "id": "606081c5",
   "metadata": {},
   "outputs": [
    {
     "name": "stdout",
     "output_type": "stream",
     "text": [
      "········\n"
     ]
    }
   ],
   "source": [
    "# Optional-- If you want to enable Langsmith -- good for debugging\n",
    "# import os\n",
    "# os.environ[\"LANGCHAIN_TRACING_V2\"] = \"true\"\n",
    "# os.environ[\"LANGCHAIN_API_KEY\"] = getpass.getpass()"
   ]
  },
  {
   "cell_type": "markdown",
   "id": "f6b8302c",
   "metadata": {},
   "source": [
    "## Step 3: Download the dataset"
   ]
  },
  {
   "cell_type": "code",
   "execution_count": 5,
   "id": "1a3433a6",
   "metadata": {},
   "outputs": [],
   "source": [
    "from datasets import load_dataset\n",
    "import pandas as pd"
   ]
  },
  {
   "cell_type": "code",
   "execution_count": 6,
   "id": "aee5311b",
   "metadata": {},
   "outputs": [
    {
     "data": {
      "application/vnd.jupyter.widget-view+json": {
       "model_id": "e9c1601ef58a49469ab4d458fa1027a0",
       "version_major": 2,
       "version_minor": 0
      },
      "text/plain": [
       "Downloading readme:   0%|          | 0.00/7.04k [00:00<?, ?B/s]"
      ]
     },
     "metadata": {},
     "output_type": "display_data"
    },
    {
     "data": {
      "application/vnd.jupyter.widget-view+json": {
       "model_id": "0c16e2ad0ec84ed293e5894f91df7ade",
       "version_major": 2,
       "version_minor": 0
      },
      "text/plain": [
       "Resolving data files:   0%|          | 0/42 [00:00<?, ?it/s]"
      ]
     },
     "metadata": {},
     "output_type": "display_data"
    }
   ],
   "source": [
    "# Use streaming=True to load the dataset without downloading it fully\n",
    "data = load_dataset(\"MongoDB/tech-news-embeddings\", split=\"train\", streaming=True)\n",
    "# Get first 25k records from the dataset\n",
    "data_head = data.take(25000)"
   ]
  },
  {
   "cell_type": "code",
   "execution_count": 7,
   "id": "1d630a26",
   "metadata": {},
   "outputs": [],
   "source": [
    "df = pd.DataFrame(data_head)"
   ]
  },
  {
   "cell_type": "markdown",
   "id": "a1f94f43",
   "metadata": {},
   "source": [
    "## Step 4: Data analysis\n",
    "\n",
    "Make sure length of the dataset is what we expect, drop Nones etc."
   ]
  },
  {
   "cell_type": "code",
   "execution_count": 8,
   "id": "592228fe",
   "metadata": {},
   "outputs": [
    {
     "data": {
      "text/plain": [
       "25000"
      ]
     },
     "execution_count": 8,
     "metadata": {},
     "output_type": "execute_result"
    }
   ],
   "source": [
    "# Ensuring length of dataset is what we expect i.e. 25k\n",
    "len(df)"
   ]
  },
  {
   "cell_type": "code",
   "execution_count": 9,
   "id": "b276df71",
   "metadata": {},
   "outputs": [
    {
     "data": {
      "text/html": [
       "<div>\n",
       "<style scoped>\n",
       "    .dataframe tbody tr th:only-of-type {\n",
       "        vertical-align: middle;\n",
       "    }\n",
       "\n",
       "    .dataframe tbody tr th {\n",
       "        vertical-align: top;\n",
       "    }\n",
       "\n",
       "    .dataframe thead th {\n",
       "        text-align: right;\n",
       "    }\n",
       "</style>\n",
       "<table border=\"1\" class=\"dataframe\">\n",
       "  <thead>\n",
       "    <tr style=\"text-align: right;\">\n",
       "      <th></th>\n",
       "      <th>_id</th>\n",
       "      <th>companyName</th>\n",
       "      <th>companyUrl</th>\n",
       "      <th>published_at</th>\n",
       "      <th>url</th>\n",
       "      <th>title</th>\n",
       "      <th>main_image</th>\n",
       "      <th>description</th>\n",
       "      <th>embedding</th>\n",
       "    </tr>\n",
       "  </thead>\n",
       "  <tbody>\n",
       "    <tr>\n",
       "      <th>0</th>\n",
       "      <td>65c63ea1f187c085a866f680</td>\n",
       "      <td>01Synergy</td>\n",
       "      <td>https://hackernoon.com/company/01synergy</td>\n",
       "      <td>2023-05-16 02:09:00</td>\n",
       "      <td>https://www.businesswire.com/news/home/2023051...</td>\n",
       "      <td>onsemi and Sineng Electric Spearhead the Devel...</td>\n",
       "      <td>https://firebasestorage.googleapis.com/v0/b/ha...</td>\n",
       "      <td>(Nasdaq: ON) a leader in intelligent power and...</td>\n",
       "      <td>[0.05243798345327377, -0.10347484797239304, -0...</td>\n",
       "    </tr>\n",
       "    <tr>\n",
       "      <th>1</th>\n",
       "      <td>65c63ea2f187c085a866f681</td>\n",
       "      <td>01Synergy</td>\n",
       "      <td>https://hackernoon.com/company/01synergy</td>\n",
       "      <td>2023-05-02 00:07:00</td>\n",
       "      <td>https://elkodaily.com/news/local/adobe-student...</td>\n",
       "      <td>Adobe student receives national Information an...</td>\n",
       "      <td>https://firebasestorage.googleapis.com/v0/b/ha...</td>\n",
       "      <td>ELKO — An eighth grader at Adobe Middle School...</td>\n",
       "      <td>[0.0036485784221440554, -0.05992984399199486, ...</td>\n",
       "    </tr>\n",
       "    <tr>\n",
       "      <th>2</th>\n",
       "      <td>65c63ea2f187c085a866f682</td>\n",
       "      <td>01Synergy</td>\n",
       "      <td>https://hackernoon.com/company/01synergy</td>\n",
       "      <td>2023-05-01 22:22:00</td>\n",
       "      <td>https://www.aei.org/technology-and-innovation/...</td>\n",
       "      <td>Modernizing State Services: Harnessing Technol...</td>\n",
       "      <td>https://firebasestorage.googleapis.com/v0/b/ha...</td>\n",
       "      <td>To deliver 21st-century government services Go...</td>\n",
       "      <td>[0.012319465167820454, -0.0807630866765976, 0....</td>\n",
       "    </tr>\n",
       "    <tr>\n",
       "      <th>3</th>\n",
       "      <td>65c63ea2f187c085a866f683</td>\n",
       "      <td>01Synergy</td>\n",
       "      <td>https://hackernoon.com/company/01synergy</td>\n",
       "      <td>2023-05-02 13:12:00</td>\n",
       "      <td>https://www.crn.com/news/managed-services/terr...</td>\n",
       "      <td>Terry Richardson On Why He Left AMD GreenPages...</td>\n",
       "      <td>https://firebasestorage.googleapis.com/v0/b/ha...</td>\n",
       "      <td>In February GreenPages acquired Toronto-based ...</td>\n",
       "      <td>[-0.02363203465938568, 0.021521812304854393, 0...</td>\n",
       "    </tr>\n",
       "    <tr>\n",
       "      <th>4</th>\n",
       "      <td>65c63ea7f187c085a866f684</td>\n",
       "      <td>01Synergy</td>\n",
       "      <td>https://hackernoon.com/company/01synergy</td>\n",
       "      <td>2023-05-15 20:01:00</td>\n",
       "      <td>https://www.benzinga.com/pressreleases/23/05/3...</td>\n",
       "      <td>Synex Renewable Energy Corporation (Formerly S...</td>\n",
       "      <td>https://firebasestorage.googleapis.com/v0/b/ha...</td>\n",
       "      <td>The conference will bring together growth orie...</td>\n",
       "      <td>[0.08473014086484909, -0.07019763439893723, 0....</td>\n",
       "    </tr>\n",
       "  </tbody>\n",
       "</table>\n",
       "</div>"
      ],
      "text/plain": [
       "                        _id companyName  \\\n",
       "0  65c63ea1f187c085a866f680   01Synergy   \n",
       "1  65c63ea2f187c085a866f681   01Synergy   \n",
       "2  65c63ea2f187c085a866f682   01Synergy   \n",
       "3  65c63ea2f187c085a866f683   01Synergy   \n",
       "4  65c63ea7f187c085a866f684   01Synergy   \n",
       "\n",
       "                                 companyUrl         published_at  \\\n",
       "0  https://hackernoon.com/company/01synergy  2023-05-16 02:09:00   \n",
       "1  https://hackernoon.com/company/01synergy  2023-05-02 00:07:00   \n",
       "2  https://hackernoon.com/company/01synergy  2023-05-01 22:22:00   \n",
       "3  https://hackernoon.com/company/01synergy  2023-05-02 13:12:00   \n",
       "4  https://hackernoon.com/company/01synergy  2023-05-15 20:01:00   \n",
       "\n",
       "                                                 url  \\\n",
       "0  https://www.businesswire.com/news/home/2023051...   \n",
       "1  https://elkodaily.com/news/local/adobe-student...   \n",
       "2  https://www.aei.org/technology-and-innovation/...   \n",
       "3  https://www.crn.com/news/managed-services/terr...   \n",
       "4  https://www.benzinga.com/pressreleases/23/05/3...   \n",
       "\n",
       "                                               title  \\\n",
       "0  onsemi and Sineng Electric Spearhead the Devel...   \n",
       "1  Adobe student receives national Information an...   \n",
       "2  Modernizing State Services: Harnessing Technol...   \n",
       "3  Terry Richardson On Why He Left AMD GreenPages...   \n",
       "4  Synex Renewable Energy Corporation (Formerly S...   \n",
       "\n",
       "                                          main_image  \\\n",
       "0  https://firebasestorage.googleapis.com/v0/b/ha...   \n",
       "1  https://firebasestorage.googleapis.com/v0/b/ha...   \n",
       "2  https://firebasestorage.googleapis.com/v0/b/ha...   \n",
       "3  https://firebasestorage.googleapis.com/v0/b/ha...   \n",
       "4  https://firebasestorage.googleapis.com/v0/b/ha...   \n",
       "\n",
       "                                         description  \\\n",
       "0  (Nasdaq: ON) a leader in intelligent power and...   \n",
       "1  ELKO — An eighth grader at Adobe Middle School...   \n",
       "2  To deliver 21st-century government services Go...   \n",
       "3  In February GreenPages acquired Toronto-based ...   \n",
       "4  The conference will bring together growth orie...   \n",
       "\n",
       "                                           embedding  \n",
       "0  [0.05243798345327377, -0.10347484797239304, -0...  \n",
       "1  [0.0036485784221440554, -0.05992984399199486, ...  \n",
       "2  [0.012319465167820454, -0.0807630866765976, 0....  \n",
       "3  [-0.02363203465938568, 0.021521812304854393, 0...  \n",
       "4  [0.08473014086484909, -0.07019763439893723, 0....  "
      ]
     },
     "execution_count": 9,
     "metadata": {},
     "output_type": "execute_result"
    }
   ],
   "source": [
    "# Previewing the contents of the data\n",
    "df.head()"
   ]
  },
  {
   "cell_type": "code",
   "execution_count": 10,
   "id": "22ab375d",
   "metadata": {},
   "outputs": [],
   "source": [
    "# Only keep records where the description field is not null\n",
    "df = df[df[\"description\"].notna()]"
   ]
  },
  {
   "cell_type": "code",
   "execution_count": 11,
   "id": "fceed99a",
   "metadata": {},
   "outputs": [],
   "source": [
    "# Created a list of texts to embed\n",
    "texts = df[\"description\"].tolist()"
   ]
  },
  {
   "cell_type": "markdown",
   "id": "aedec13a",
   "metadata": {},
   "source": [
    "## Step 5: Create a simple RAG chain using MongoDB as the vector store"
   ]
  },
  {
   "cell_type": "code",
   "execution_count": 12,
   "id": "e4bf0bac",
   "metadata": {},
   "outputs": [],
   "source": [
    "from langchain_mongodb.vectorstores import MongoDBAtlasVectorSearch\n",
    "from langchain_openai import OpenAIEmbeddings, ChatOpenAI\n",
    "from langchain_core.prompts import ChatPromptTemplate\n",
    "from langchain_core.runnables import RunnablePassthrough\n",
    "from langchain_core.output_parsers import StrOutputParser\n",
    "\n",
    "from pymongo import MongoClient"
   ]
  },
  {
   "cell_type": "code",
   "execution_count": 13,
   "id": "0b407b5f",
   "metadata": {},
   "outputs": [],
   "source": [
    "# Initializing the OpenAI model for embeddings\n",
    "embeddings = OpenAIEmbeddings(openai_api_key=OPENAI_API_KEY, model=\"text-embedding-3-small\")"
   ]
  },
  {
   "cell_type": "code",
   "execution_count": 14,
   "id": "3580d65d",
   "metadata": {},
   "outputs": [],
   "source": [
    "# Initializing the MongoDB client\n",
    "mongo_client = MongoClient(MONGODB_URI)\n",
    "# Defining the database name, collection name and vector search index name\n",
    "db = \"langchain_chatbot\"\n",
    "data_collection = mongo_client[db][\"data\"]\n",
    "index_name = \"vector_index\"\n",
    "# Delete documents from the collection, if any exist\n",
    "data_collection.delete_many({})\n",
    "\n",
    "# Create a MongoDB Atlas Search vector store \n",
    "vectorstore = MongoDBAtlasVectorSearch.from_texts(texts[:1000], embeddings, collection=data_collection, index_name=index_name)"
   ]
  },
  {
   "cell_type": "code",
   "execution_count": 15,
   "id": "e448fb59",
   "metadata": {},
   "outputs": [],
   "source": [
    "# Use the MongoDB Atlas vector store as a retriever\n",
    "retriever = vectorstore.as_retriever(search_kwargs={\"k\": 1})"
   ]
  },
  {
   "cell_type": "code",
   "execution_count": 16,
   "id": "b6588cd3",
   "metadata": {},
   "outputs": [],
   "source": [
    "# Generate context using the retriever, and pass the user question through\n",
    "retrieve = {\"context\": retriever, \"question\": RunnablePassthrough()}\n",
    "template = \"\"\"Answer the question based only on the following context: \\\n",
    "{context}\n",
    "\n",
    "Question: {question}\n",
    "\"\"\"\n",
    "# Defining the chat prompt\n",
    "prompt = ChatPromptTemplate.from_template(template)\n",
    "# Defining the model to be used for chat completion\n",
    "model = ChatOpenAI(temperature=0, openai_api_key=OPENAI_API_KEY, model_name=\"gpt-3.5-turbo\")\n",
    "# Parse output as a string\n",
    "parse_output = StrOutputParser()\n",
    "\n",
    "# Naive RAG chain \n",
    "naive_rag_chain = (\n",
    "    retrieve\n",
    "    | prompt\n",
    "    | model\n",
    "    | parse_output\n",
    ")"
   ]
  },
  {
   "cell_type": "code",
   "execution_count": 34,
   "id": "aaae21f5",
   "metadata": {},
   "outputs": [
    {
     "data": {
      "text/plain": [
       "'Fidelity National Information Services Inc. is a financial technology solutions provider headquartered in Jacksonville, Florida.'"
      ]
     },
     "execution_count": 34,
     "metadata": {},
     "output_type": "execute_result"
    }
   ],
   "source": [
    "naive_rag_chain.invoke(\"Tell me about Fidelity Financial Services.\")"
   ]
  },
  {
   "cell_type": "markdown",
   "id": "9d3d80b9",
   "metadata": {},
   "source": [
    "## Step 5: Create Semantic Caching and Memory\n"
   ]
  },
  {
   "cell_type": "code",
   "execution_count": 22,
   "id": "15dd30e8",
   "metadata": {},
   "outputs": [],
   "source": [
    "from langchain_mongodb.cache import MongoDBAtlasSemanticCache\n",
    "from langchain_core.globals import set_llm_cache\n",
    "\n",
    "set_llm_cache(MongoDBAtlasSemanticCache(\n",
    "    connection_string=MONGODB_URI,\n",
    "    embedding=embeddings,\n",
    "    collection_name=\"semantic_cache\",\n",
    "    database_name=\"langchain_chatbot\",\n",
    "    index_name=\"vector_index\",\n",
    "    wait_until_ready=True # Optional, waits until the cache is ready to be used\n",
    "))"
   ]
  },
  {
   "cell_type": "code",
   "execution_count": 23,
   "id": "58a24d74",
   "metadata": {
    "scrolled": false
   },
   "outputs": [
    {
     "data": {
      "text/plain": [
       "'Samsung Electronics Co. Ltd. is a world leader in advanced semiconductor technology. They recently unveiled their latest innovations in analog and logic semiconductor technologies and outlined their blueprint for upcoming technological advancements.'"
      ]
     },
     "execution_count": 23,
     "metadata": {},
     "output_type": "execute_result"
    }
   ],
   "source": [
    "naive_rag_chain.invoke(\"Tell me about Samsung Electronics.\")"
   ]
  },
  {
   "cell_type": "code",
   "execution_count": 24,
   "id": "c424de61",
   "metadata": {},
   "outputs": [
    {
     "data": {
      "text/plain": [
       "'Based on the provided context, Samsung Electronics Co. Ltd. is described as a world leader in advanced semiconductor technology. They have unveiled their latest innovations in analog and logic semiconductor technologies and outlined their blueprint for upcoming technological advancements.'"
      ]
     },
     "execution_count": 24,
     "metadata": {},
     "output_type": "execute_result"
    }
   ],
   "source": [
    "naive_rag_chain.invoke(\"What do you know about Samsung Electronics?\")"
   ]
  },
  {
   "cell_type": "markdown",
   "id": "75f929ef",
   "metadata": {},
   "source": [
    "## Step 6: Create a RAG chain with chat history"
   ]
  },
  {
   "cell_type": "code",
   "execution_count": 35,
   "id": "94e7bd4a",
   "metadata": {},
   "outputs": [],
   "source": [
    "from langchain_mongodb.chat_message_histories import MongoDBChatMessageHistory\n",
    "from langchain_core.runnables.history import RunnableWithMessageHistory\n",
    "from langchain_core.prompts import MessagesPlaceholder"
   ]
  },
  {
   "cell_type": "code",
   "execution_count": 36,
   "id": "44dde880",
   "metadata": {},
   "outputs": [],
   "source": [
    "history_coll_name = \"history\""
   ]
  },
  {
   "cell_type": "code",
   "execution_count": 44,
   "id": "5bb30860",
   "metadata": {},
   "outputs": [],
   "source": [
    "def get_session_history(session_id: str) -> MongoDBChatMessageHistory:\n",
    "        return MongoDBChatMessageHistory(MONGODB_URI, session_id, database_name=db, collection_name=history_coll_name)"
   ]
  },
  {
   "cell_type": "code",
   "execution_count": 45,
   "id": "f51d0f35",
   "metadata": {},
   "outputs": [],
   "source": [
    "# Given a follow-up question and history, create a standalone question\n",
    "standalone_system_prompt = \"\"\"\n",
    "Given a chat history and a follow-up question, rephrase the follow-up question to be a standalone question. \\\n",
    "Do NOT answer the question, just reformulate it if needed, otherwise return it as is. \\\n",
    "Only return the final standalone question. \\\n",
    "\"\"\"\n",
    "standalone_question_prompt = ChatPromptTemplate.from_messages(\n",
    "    [\n",
    "        (\"system\", standalone_system_prompt),\n",
    "        MessagesPlaceholder(variable_name=\"history\"),\n",
    "        (\"human\", \"{question}\"),\n",
    "    ]\n",
    ")\n",
    "\n",
    "question_chain = standalone_question_prompt | model | parse_output"
   ]
  },
  {
   "cell_type": "code",
   "execution_count": 46,
   "id": "f3ef3354",
   "metadata": {},
   "outputs": [],
   "source": [
    "# Generate context by passing output of the question_chain i.e. the standalone question to the retriever\n",
    "retriever_chain = RunnablePassthrough.assign(context=question_chain | retriever)"
   ]
  },
  {
   "cell_type": "code",
   "execution_count": 47,
   "id": "5afb7345",
   "metadata": {},
   "outputs": [],
   "source": [
    "# Create a prompt that includes the context, history and the follow-up question\n",
    "rag_system_prompt = \"\"\"Answer the question based only on the following context. If you don't know the answer, say 'I don't know!': \\\n",
    "{context}\n",
    "\"\"\"\n",
    "rag_prompt = ChatPromptTemplate.from_messages(\n",
    "    [\n",
    "        (\"system\", rag_system_prompt),\n",
    "        MessagesPlaceholder(variable_name=\"history\"),\n",
    "        (\"human\", \"{question}\"),\n",
    "    ]\n",
    ")"
   ]
  },
  {
   "cell_type": "code",
   "execution_count": 48,
   "id": "f95f47d0",
   "metadata": {},
   "outputs": [],
   "source": [
    "# RAG chain\n",
    "rag_chain = (\n",
    "    retriever_chain\n",
    "    | rag_prompt\n",
    "    | model\n",
    "    | parse_output\n",
    ")"
   ]
  },
  {
   "cell_type": "code",
   "execution_count": 49,
   "id": "9618d395",
   "metadata": {},
   "outputs": [
    {
     "data": {
      "text/plain": [
       "\"I don't know!\""
      ]
     },
     "execution_count": 49,
     "metadata": {},
     "output_type": "execute_result"
    }
   ],
   "source": [
    "# RAG chain with history\n",
    "with_message_history = RunnableWithMessageHistory(\n",
    "    rag_chain,\n",
    "    get_session_history,\n",
    "    input_messages_key=\"question\",\n",
    "    history_messages_key=\"history\",\n",
    ")\n",
    "with_message_history.invoke({\"question\": \"Tell me about Fidelity Financial Services.\"}, {\"configurable\": {\"session_id\": \"1\"}})"
   ]
  },
  {
   "cell_type": "code",
   "execution_count": 50,
   "id": "6e3080d1",
   "metadata": {},
   "outputs": [
    {
     "data": {
      "text/plain": [
       "\"I don't have the information about Fidelity Financial Services in the provided context.\""
      ]
     },
     "execution_count": 50,
     "metadata": {},
     "output_type": "execute_result"
    }
   ],
   "source": [
    "with_message_history.invoke({\"question\": \"Are you sure you don't know?\"}, {\"configurable\": {\"session_id\": \"1\"}})"
   ]
  },
  {
   "cell_type": "code",
   "execution_count": 51,
   "id": "daea2953",
   "metadata": {},
   "outputs": [
    {
     "data": {
      "text/plain": [
       "'Fidelity National Information Services Inc. (NYSE:FIS) is a financial technology solutions provider headquartered in Jacksonville, Florida.'"
      ]
     },
     "execution_count": 51,
     "metadata": {},
     "output_type": "execute_result"
    }
   ],
   "source": [
    "with_message_history.invoke({\"question\": \"How about Fidelity National Information Services?\"}, {\"configurable\": {\"session_id\": \"1\"}})"
   ]
  }
 ],
 "metadata": {
  "kernelspec": {
   "display_name": "conda_pytorch_p310",
   "language": "python",
   "name": "conda_pytorch_p310"
  },
  "language_info": {
   "codemirror_mode": {
    "name": "ipython",
    "version": 3
   },
   "file_extension": ".py",
   "mimetype": "text/x-python",
   "name": "python",
   "nbconvert_exporter": "python",
   "pygments_lexer": "ipython3",
   "version": "3.10.13"
  }
 },
 "nbformat": 4,
 "nbformat_minor": 5
}
