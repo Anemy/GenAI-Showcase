{
 "cells": [
  {
   "cell_type": "markdown",
   "id": "463fc59e",
   "metadata": {},
   "source": [
    "[![Open In Colab](https://colab.research.google.com/assets/colab-badge.svg)](https://colab.research.google.com/github/mongodb-developer/GenAI-Showcase/blob/main/notebooks/evals/ragas-evaluation.ipynb)\n"
   ]
  },
  {
   "cell_type": "markdown",
   "id": "55f28a64",
   "metadata": {},
   "source": [
    "# RAG Series Part 3: Data Modeling Strategies for RAG\n",
    "\n",
    "In this notebook, we will explore and evaluate different chunking techniques for RAG.\n"
   ]
  },
  {
   "cell_type": "markdown",
   "id": "7d5e0bc8",
   "metadata": {},
   "source": [
    "## Step 1: Install required libraries\n"
   ]
  },
  {
   "cell_type": "code",
   "execution_count": 27,
   "id": "2f403d1b",
   "metadata": {},
   "outputs": [],
   "source": [
    "! pip install -qU langchain langchain-openai langchain-experimental ragas lxml bs4 nest_asyncio"
   ]
  },
  {
   "cell_type": "markdown",
   "id": "edfbd26b",
   "metadata": {},
   "source": [
    "## Step 2: Setup pre-requisites\n",
    "\n",
    "- Set the MongoDB connection string. Follow the steps [here](https://www.mongodb.com/docs/manual/reference/connection-string/) to get the connection string from the Atlas UI.\n",
    "\n",
    "- Set the OpenAI API key. Steps to obtain an API key as [here](https://help.openai.com/en/articles/4936850-where-do-i-find-my-openai-api-key)\n"
   ]
  },
  {
   "cell_type": "code",
   "execution_count": 8,
   "id": "3e9fcf67",
   "metadata": {},
   "outputs": [],
   "source": [
    "import os\n",
    "import getpass\n",
    "from openai import OpenAI"
   ]
  },
  {
   "cell_type": "code",
   "execution_count": 9,
   "id": "6dd337af",
   "metadata": {},
   "outputs": [],
   "source": [
    "os.environ[\"OPENAI_API_KEY\"] = getpass.getpass(\"Enter your OpenAI API Key:\")\n",
    "openai_client = OpenAI()"
   ]
  },
  {
   "cell_type": "code",
   "execution_count": 10,
   "id": "ba4f45fd",
   "metadata": {},
   "outputs": [],
   "source": [
    "MONGODB_URI = getpass.getpass(\"Enter your MongoDB connection string:\")"
   ]
  },
  {
   "cell_type": "markdown",
   "id": "32216846",
   "metadata": {},
   "source": [
    "## Step 3: Load the dataset\n"
   ]
  },
  {
   "cell_type": "code",
   "execution_count": 102,
   "id": "57121b3e",
   "metadata": {},
   "outputs": [],
   "source": [
    "from langchain_community.document_loaders import WebBaseLoader\n",
    "\n",
    "web_loader = WebBaseLoader(\n",
    "    [\n",
    "        \"https://peps.python.org/pep-0483/\",\n",
    "        \"https://peps.python.org/pep-0008/\",\n",
    "        \"https://peps.python.org/pep-0257/\",\n",
    "    ]\n",
    ")\n",
    "\n",
    "pages = web_loader.load()"
   ]
  },
  {
   "cell_type": "code",
   "execution_count": 79,
   "id": "255d751e",
   "metadata": {},
   "outputs": [
    {
     "data": {
      "text/plain": [
       "3"
      ]
     },
     "execution_count": 79,
     "metadata": {},
     "output_type": "execute_result"
    }
   ],
   "source": [
    "len(pages)"
   ]
  },
  {
   "cell_type": "markdown",
   "id": "b46573da",
   "metadata": {},
   "source": [
    "## Step 4: Define chunking functions\n"
   ]
  },
  {
   "cell_type": "code",
   "execution_count": 95,
   "id": "defa10d4",
   "metadata": {},
   "outputs": [],
   "source": [
    "from langchain.text_splitter import (\n",
    "    Language,\n",
    "    RecursiveCharacterTextSplitter,\n",
    "    TokenTextSplitter,\n",
    ")\n",
    "from langchain_experimental.text_splitter import SemanticChunker\n",
    "from langchain_openai.embeddings import OpenAIEmbeddings"
   ]
  },
  {
   "cell_type": "code",
   "execution_count": 81,
   "id": "fa29d3f4",
   "metadata": {},
   "outputs": [],
   "source": [
    "def fixed_token(docs, chunk_size, chunk_overlap):\n",
    "    splitter = TokenTextSplitter(chunk_size=chunk_size, chunk_overlap=chunk_overlap)\n",
    "    return splitter.split_documents(docs)"
   ]
  },
  {
   "cell_type": "code",
   "execution_count": 90,
   "id": "5a62e2c2",
   "metadata": {},
   "outputs": [],
   "source": [
    "def recursive_split(docs, chunk_size, chunk_overlap):\n",
    "    splitter = RecursiveCharacterTextSplitter.from_tiktoken_encoder(\n",
    "        encoding_name=\"cl100k_base\",\n",
    "        chunk_size=chunk_size,\n",
    "        chunk_overlap=chunk_overlap,\n",
    "    )\n",
    "    return splitter.split_documents(docs)"
   ]
  },
  {
   "cell_type": "code",
   "execution_count": 124,
   "id": "aa4b0bde",
   "metadata": {},
   "outputs": [],
   "source": [
    "def recursive_python_split(docs, chunk_size, chunk_overlap, language):\n",
    "    splitter = RecursiveCharacterTextSplitter.from_language(\n",
    "        language=language,\n",
    "        chunk_size=chunk_size,\n",
    "        chunk_overlap=chunk_overlap,\n",
    "    )\n",
    "    return splitter.split_documents(docs)"
   ]
  },
  {
   "cell_type": "code",
   "execution_count": 84,
   "id": "7f05d15a",
   "metadata": {},
   "outputs": [],
   "source": [
    "def semantic_split(docs):\n",
    "    splitter = SemanticChunker(\n",
    "        OpenAIEmbeddings(), breakpoint_threshold_type=\"percentile\"\n",
    "    )\n",
    "    return splitter.split_documents(docs)"
   ]
  }
 ],
 "metadata": {
  "kernelspec": {
   "display_name": "Python 3",
   "language": "python",
   "name": "python3"
  },
  "language_info": {
   "codemirror_mode": {
    "name": "ipython",
    "version": 3
   },
   "file_extension": ".py",
   "mimetype": "text/x-python",
   "name": "python",
   "nbconvert_exporter": "python",
   "pygments_lexer": "ipython3",
   "version": "3.12.1"
  }
 },
 "nbformat": 4,
 "nbformat_minor": 5
}
