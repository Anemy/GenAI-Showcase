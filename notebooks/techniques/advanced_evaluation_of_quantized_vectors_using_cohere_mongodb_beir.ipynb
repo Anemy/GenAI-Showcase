{
  "nbformat": 4,
  "nbformat_minor": 0,
  "metadata": {
    "colab": {
      "provenance": [],
      "toc_visible": true
    },
    "kernelspec": {
      "name": "python3",
      "display_name": "Python 3"
    },
    "language_info": {
      "name": "python"
    },
    "widgets": {
      "application/vnd.jupyter.widget-state+json": {
        "638886c7529d41468c923eb3cf984be1": {
          "model_module": "@jupyter-widgets/controls",
          "model_name": "HBoxModel",
          "model_module_version": "1.5.0",
          "state": {
            "_dom_classes": [],
            "_model_module": "@jupyter-widgets/controls",
            "_model_module_version": "1.5.0",
            "_model_name": "HBoxModel",
            "_view_count": null,
            "_view_module": "@jupyter-widgets/controls",
            "_view_module_version": "1.5.0",
            "_view_name": "HBoxView",
            "box_style": "",
            "children": [
              "IPY_MODEL_62cc008f60a042e0b5993b4f1e431cca",
              "IPY_MODEL_eeac20a5eec54340976fb69ded98fea7",
              "IPY_MODEL_da3169774e994c4fa714dcfe7fe7e214"
            ],
            "layout": "IPY_MODEL_c378969231f9466aa869742b5f228f21"
          }
        },
        "62cc008f60a042e0b5993b4f1e431cca": {
          "model_module": "@jupyter-widgets/controls",
          "model_name": "HTMLModel",
          "model_module_version": "1.5.0",
          "state": {
            "_dom_classes": [],
            "_model_module": "@jupyter-widgets/controls",
            "_model_module_version": "1.5.0",
            "_model_name": "HTMLModel",
            "_view_count": null,
            "_view_module": "@jupyter-widgets/controls",
            "_view_module_version": "1.5.0",
            "_view_name": "HTMLView",
            "description": "",
            "description_tooltip": null,
            "layout": "IPY_MODEL_abe515a142b94a80925577a3ef06b83a",
            "placeholder": "​",
            "style": "IPY_MODEL_0abd439cefad4cfeb67d2e7a6179402e",
            "value": "100%"
          }
        },
        "eeac20a5eec54340976fb69ded98fea7": {
          "model_module": "@jupyter-widgets/controls",
          "model_name": "FloatProgressModel",
          "model_module_version": "1.5.0",
          "state": {
            "_dom_classes": [],
            "_model_module": "@jupyter-widgets/controls",
            "_model_module_version": "1.5.0",
            "_model_name": "FloatProgressModel",
            "_view_count": null,
            "_view_module": "@jupyter-widgets/controls",
            "_view_module_version": "1.5.0",
            "_view_name": "ProgressView",
            "bar_style": "success",
            "description": "",
            "description_tooltip": null,
            "layout": "IPY_MODEL_8f12327b7b514d4781ef056b8ab89937",
            "max": 5183,
            "min": 0,
            "orientation": "horizontal",
            "style": "IPY_MODEL_ba19645d965e4243a7de0321b75796db",
            "value": 5183
          }
        },
        "da3169774e994c4fa714dcfe7fe7e214": {
          "model_module": "@jupyter-widgets/controls",
          "model_name": "HTMLModel",
          "model_module_version": "1.5.0",
          "state": {
            "_dom_classes": [],
            "_model_module": "@jupyter-widgets/controls",
            "_model_module_version": "1.5.0",
            "_model_name": "HTMLModel",
            "_view_count": null,
            "_view_module": "@jupyter-widgets/controls",
            "_view_module_version": "1.5.0",
            "_view_name": "HTMLView",
            "description": "",
            "description_tooltip": null,
            "layout": "IPY_MODEL_5a63bd22f4614153b954321a675f0abc",
            "placeholder": "​",
            "style": "IPY_MODEL_fc798e19209d4476806dc678286ca952",
            "value": " 5183/5183 [00:00&lt;00:00, 71083.85it/s]"
          }
        },
        "c378969231f9466aa869742b5f228f21": {
          "model_module": "@jupyter-widgets/base",
          "model_name": "LayoutModel",
          "model_module_version": "1.2.0",
          "state": {
            "_model_module": "@jupyter-widgets/base",
            "_model_module_version": "1.2.0",
            "_model_name": "LayoutModel",
            "_view_count": null,
            "_view_module": "@jupyter-widgets/base",
            "_view_module_version": "1.2.0",
            "_view_name": "LayoutView",
            "align_content": null,
            "align_items": null,
            "align_self": null,
            "border": null,
            "bottom": null,
            "display": null,
            "flex": null,
            "flex_flow": null,
            "grid_area": null,
            "grid_auto_columns": null,
            "grid_auto_flow": null,
            "grid_auto_rows": null,
            "grid_column": null,
            "grid_gap": null,
            "grid_row": null,
            "grid_template_areas": null,
            "grid_template_columns": null,
            "grid_template_rows": null,
            "height": null,
            "justify_content": null,
            "justify_items": null,
            "left": null,
            "margin": null,
            "max_height": null,
            "max_width": null,
            "min_height": null,
            "min_width": null,
            "object_fit": null,
            "object_position": null,
            "order": null,
            "overflow": null,
            "overflow_x": null,
            "overflow_y": null,
            "padding": null,
            "right": null,
            "top": null,
            "visibility": null,
            "width": null
          }
        },
        "abe515a142b94a80925577a3ef06b83a": {
          "model_module": "@jupyter-widgets/base",
          "model_name": "LayoutModel",
          "model_module_version": "1.2.0",
          "state": {
            "_model_module": "@jupyter-widgets/base",
            "_model_module_version": "1.2.0",
            "_model_name": "LayoutModel",
            "_view_count": null,
            "_view_module": "@jupyter-widgets/base",
            "_view_module_version": "1.2.0",
            "_view_name": "LayoutView",
            "align_content": null,
            "align_items": null,
            "align_self": null,
            "border": null,
            "bottom": null,
            "display": null,
            "flex": null,
            "flex_flow": null,
            "grid_area": null,
            "grid_auto_columns": null,
            "grid_auto_flow": null,
            "grid_auto_rows": null,
            "grid_column": null,
            "grid_gap": null,
            "grid_row": null,
            "grid_template_areas": null,
            "grid_template_columns": null,
            "grid_template_rows": null,
            "height": null,
            "justify_content": null,
            "justify_items": null,
            "left": null,
            "margin": null,
            "max_height": null,
            "max_width": null,
            "min_height": null,
            "min_width": null,
            "object_fit": null,
            "object_position": null,
            "order": null,
            "overflow": null,
            "overflow_x": null,
            "overflow_y": null,
            "padding": null,
            "right": null,
            "top": null,
            "visibility": null,
            "width": null
          }
        },
        "0abd439cefad4cfeb67d2e7a6179402e": {
          "model_module": "@jupyter-widgets/controls",
          "model_name": "DescriptionStyleModel",
          "model_module_version": "1.5.0",
          "state": {
            "_model_module": "@jupyter-widgets/controls",
            "_model_module_version": "1.5.0",
            "_model_name": "DescriptionStyleModel",
            "_view_count": null,
            "_view_module": "@jupyter-widgets/base",
            "_view_module_version": "1.2.0",
            "_view_name": "StyleView",
            "description_width": ""
          }
        },
        "8f12327b7b514d4781ef056b8ab89937": {
          "model_module": "@jupyter-widgets/base",
          "model_name": "LayoutModel",
          "model_module_version": "1.2.0",
          "state": {
            "_model_module": "@jupyter-widgets/base",
            "_model_module_version": "1.2.0",
            "_model_name": "LayoutModel",
            "_view_count": null,
            "_view_module": "@jupyter-widgets/base",
            "_view_module_version": "1.2.0",
            "_view_name": "LayoutView",
            "align_content": null,
            "align_items": null,
            "align_self": null,
            "border": null,
            "bottom": null,
            "display": null,
            "flex": null,
            "flex_flow": null,
            "grid_area": null,
            "grid_auto_columns": null,
            "grid_auto_flow": null,
            "grid_auto_rows": null,
            "grid_column": null,
            "grid_gap": null,
            "grid_row": null,
            "grid_template_areas": null,
            "grid_template_columns": null,
            "grid_template_rows": null,
            "height": null,
            "justify_content": null,
            "justify_items": null,
            "left": null,
            "margin": null,
            "max_height": null,
            "max_width": null,
            "min_height": null,
            "min_width": null,
            "object_fit": null,
            "object_position": null,
            "order": null,
            "overflow": null,
            "overflow_x": null,
            "overflow_y": null,
            "padding": null,
            "right": null,
            "top": null,
            "visibility": null,
            "width": null
          }
        },
        "ba19645d965e4243a7de0321b75796db": {
          "model_module": "@jupyter-widgets/controls",
          "model_name": "ProgressStyleModel",
          "model_module_version": "1.5.0",
          "state": {
            "_model_module": "@jupyter-widgets/controls",
            "_model_module_version": "1.5.0",
            "_model_name": "ProgressStyleModel",
            "_view_count": null,
            "_view_module": "@jupyter-widgets/base",
            "_view_module_version": "1.2.0",
            "_view_name": "StyleView",
            "bar_color": null,
            "description_width": ""
          }
        },
        "5a63bd22f4614153b954321a675f0abc": {
          "model_module": "@jupyter-widgets/base",
          "model_name": "LayoutModel",
          "model_module_version": "1.2.0",
          "state": {
            "_model_module": "@jupyter-widgets/base",
            "_model_module_version": "1.2.0",
            "_model_name": "LayoutModel",
            "_view_count": null,
            "_view_module": "@jupyter-widgets/base",
            "_view_module_version": "1.2.0",
            "_view_name": "LayoutView",
            "align_content": null,
            "align_items": null,
            "align_self": null,
            "border": null,
            "bottom": null,
            "display": null,
            "flex": null,
            "flex_flow": null,
            "grid_area": null,
            "grid_auto_columns": null,
            "grid_auto_flow": null,
            "grid_auto_rows": null,
            "grid_column": null,
            "grid_gap": null,
            "grid_row": null,
            "grid_template_areas": null,
            "grid_template_columns": null,
            "grid_template_rows": null,
            "height": null,
            "justify_content": null,
            "justify_items": null,
            "left": null,
            "margin": null,
            "max_height": null,
            "max_width": null,
            "min_height": null,
            "min_width": null,
            "object_fit": null,
            "object_position": null,
            "order": null,
            "overflow": null,
            "overflow_x": null,
            "overflow_y": null,
            "padding": null,
            "right": null,
            "top": null,
            "visibility": null,
            "width": null
          }
        },
        "fc798e19209d4476806dc678286ca952": {
          "model_module": "@jupyter-widgets/controls",
          "model_name": "DescriptionStyleModel",
          "model_module_version": "1.5.0",
          "state": {
            "_model_module": "@jupyter-widgets/controls",
            "_model_module_version": "1.5.0",
            "_model_name": "DescriptionStyleModel",
            "_view_count": null,
            "_view_module": "@jupyter-widgets/base",
            "_view_module_version": "1.2.0",
            "_view_name": "StyleView",
            "description_width": ""
          }
        }
      }
    }
  },
  "cells": [
    {
      "cell_type": "markdown",
      "source": [
        "# Advanced Evaluation of Quantized Vectors: Cohere, MongoDB, and BEIR Integration\n",
        "\n",
        "## What to Expect\n",
        "\n",
        "In this notebook, we will conduct an advanced evaluation of quantized vectors using Cohere's embedding models, MongoDB for vector storage and search, and the BEIR (Benchmarking IR) framework for performance assessment. Here's what you can expect to learn and explore:\n",
        "\n",
        "1. **Vector Quantization**: Understand the process and benefits of vector quantization in the context of embedding storage and retrieval.\n",
        "\n",
        "2. **Cohere Integration**: Learn how to generate embeddings using Cohere's state-of-the-art models, including both float32 and quantized int8 versions.\n",
        "\n",
        "3. **MongoDB Vector Storage**: Explore efficient ways to store and index vector embeddings in MongoDB, including BSON encoding for optimized storage.\n",
        "\n",
        "4. **Vector Search Implementation**: Implement and compare vector search capabilities using different vector representations (float32, BSON float32, and BSON int8).\n",
        "\n",
        "5. **BEIR Framework Usage**: Utilize the BEIR framework to evaluate the performance of our vector search implementations across various information retrieval metrics.\n",
        "\n",
        "6. **Performance Comparison**: Analyze and visualize the performance differences between non-quantized and quantized vector representations in terms of:\n",
        "   - Storage efficiency\n",
        "   - Search accuracy\n",
        "\n",
        "7. **Advanced Metrics**: Dive deep into advanced IR metrics such as NDCG, MAP, Recall, and Precision at different cut-off points.\n",
        "\n",
        "8. **Visualization**: Create informative plots to compare the performance of different vector representations across multiple metrics.\n",
        "\n",
        "9. **Practical Insights**: Gain insights into the trade-offs between storage efficiency and search performance, helping you make informed decisions for your own vector search applications.\n",
        "\n",
        "By the end of this notebook, you will have a comprehensive understanding of how vector quantization affects the performance of embedding-based search systems, and you'll be equipped with the knowledge to implement and evaluate such systems using industry-standard tools and frameworks."
      ],
      "metadata": {
        "id": "UabjZg0NLAPz"
      }
    },
    {
      "cell_type": "code",
      "source": [
        "%pip install git+https://github.com/caseyclements/mongo-python-driver.git@DRIVERS-2926-BSON-Binary-Vectors"
      ],
      "metadata": {
        "id": "debe1r322Vrv"
      },
      "execution_count": null,
      "outputs": []
    },
    {
      "cell_type": "code",
      "execution_count": null,
      "metadata": {
        "id": "X0M3Ijfk1_TB"
      },
      "outputs": [],
      "source": [
        "!pip install beir pandas cohere #pymongo"
      ]
    },
    {
      "cell_type": "markdown",
      "source": [
        "# **Step 1: Load the BEIR scifact dataset**"
      ],
      "metadata": {
        "id": "2_v_e-DP2LKn"
      }
    },
    {
      "cell_type": "code",
      "source": [
        "from beir import util, LoggingHandler\n",
        "from beir.datasets.data_loader import GenericDataLoader\n",
        "from beir.retrieval.evaluation import EvaluateRetrieval\n",
        "import pandas as pd\n",
        "\n",
        "# Load BEIR dataset\n",
        "def load_beir_dataset(dataset_name=\"scifact\"):\n",
        "    url = f\"https://public.ukp.informatik.tu-darmstadt.de/thakur/BEIR/datasets/{dataset_name}.zip\"\n",
        "    data_path = util.download_and_unzip(url, \"datasets\")\n",
        "    corpus, queries, qrels = GenericDataLoader(data_folder=data_path).load(split=\"test\")\n",
        "    return corpus, queries, qrels"
      ],
      "metadata": {
        "id": "eO58cgnJ2G3L"
      },
      "execution_count": 52,
      "outputs": []
    },
    {
      "cell_type": "code",
      "source": [
        "DATASET = \"scifact\"\n",
        "corpus, queries, qrels = load_beir_dataset(\"scifact\")"
      ],
      "metadata": {
        "colab": {
          "base_uri": "https://localhost:8080/",
          "height": 49,
          "referenced_widgets": [
            "638886c7529d41468c923eb3cf984be1",
            "62cc008f60a042e0b5993b4f1e431cca",
            "eeac20a5eec54340976fb69ded98fea7",
            "da3169774e994c4fa714dcfe7fe7e214",
            "c378969231f9466aa869742b5f228f21",
            "abe515a142b94a80925577a3ef06b83a",
            "0abd439cefad4cfeb67d2e7a6179402e",
            "8f12327b7b514d4781ef056b8ab89937",
            "ba19645d965e4243a7de0321b75796db",
            "5a63bd22f4614153b954321a675f0abc",
            "fc798e19209d4476806dc678286ca952"
          ]
        },
        "id": "WPDVJ2v62J2v",
        "outputId": "6736ecba-ffc3-4f84-da2f-4171e4093e80"
      },
      "execution_count": 53,
      "outputs": [
        {
          "output_type": "display_data",
          "data": {
            "text/plain": [
              "  0%|          | 0/5183 [00:00<?, ?it/s]"
            ],
            "application/vnd.jupyter.widget-view+json": {
              "version_major": 2,
              "version_minor": 0,
              "model_id": "638886c7529d41468c923eb3cf984be1"
            }
          },
          "metadata": {}
        }
      ]
    },
    {
      "cell_type": "code",
      "source": [
        "# print the first item in the corpus\n",
        "print(list(corpus.items())[0])\n",
        "print()\n",
        "# print the first item in the queries\n",
        "print(list(queries.items())[0])\n",
        "print()\n",
        "# print the first item in the qrels\n",
        "print(list(qrels.items())[0])"
      ],
      "metadata": {
        "colab": {
          "base_uri": "https://localhost:8080/"
        },
        "id": "L0NEebWmaVKz",
        "outputId": "db9d072e-82fa-46cd-8761-0c3b738ce86d"
      },
      "execution_count": 54,
      "outputs": [
        {
          "output_type": "stream",
          "name": "stdout",
          "text": [
            "('4983', {'text': 'Alterations of the architecture of cerebral white matter in the developing human brain can affect cortical development and result in functional disabilities. A line scan diffusion-weighted magnetic resonance imaging (MRI) sequence with diffusion tensor analysis was applied to measure the apparent diffusion coefficient, to calculate relative anisotropy, and to delineate three-dimensional fiber architecture in cerebral white matter in preterm (n = 17) and full-term infants (n = 7). To assess effects of prematurity on cerebral white matter development, early gestation preterm infants (n = 10) were studied a second time at term. In the central white matter the mean apparent diffusion coefficient at 28 wk was high, 1.8 microm2/ms, and decreased toward term to 1.2 microm2/ms. In the posterior limb of the internal capsule, the mean apparent diffusion coefficients at both times were similar (1.2 versus 1.1 microm2/ms). Relative anisotropy was higher the closer birth was to term with greater absolute values in the internal capsule than in the central white matter. Preterm infants at term showed higher mean diffusion coefficients in the central white matter (1.4 +/- 0.24 versus 1.15 +/- 0.09 microm2/ms, p = 0.016) and lower relative anisotropy in both areas compared with full-term infants (white matter, 10.9 +/- 0.6 versus 22.9 +/- 3.0%, p = 0.001; internal capsule, 24.0 +/- 4.44 versus 33.1 +/- 0.6% p = 0.006). Nonmyelinated fibers in the corpus callosum were visible by diffusion tensor MRI as early as 28 wk; full-term and preterm infants at term showed marked differences in white matter fiber organization. The data indicate that quantitative assessment of water diffusion by diffusion tensor MRI provides insight into microstructural development in cerebral white matter in living infants.', 'title': 'Microstructural development of human newborn cerebral white matter assessed in vivo by diffusion tensor magnetic resonance imaging.'})\n",
            "\n",
            "('1', '0-dimensional biomaterials show inductive properties.')\n",
            "\n",
            "('1', {'31715818': 1})\n"
          ]
        }
      ]
    },
    {
      "cell_type": "markdown",
      "source": [
        "Corpus:\n",
        "The corpus is a dictionary where each key is a document ID, and the value is another dictionary containing the document's text and title. For example:\n",
        "\n",
        "```\n",
        "'4983': {\n",
        "    'text': 'Alterations of the architecture of cerebral white matter...',\n",
        "    'title': 'Microstructural development of human newborn cerebral white matter...'\n",
        "}\n",
        "```\n",
        "\n",
        "\n",
        "This corresponds to the scientific abstracts in our earlier example.\n",
        "\n",
        "Queries:\n",
        "The queries dictionary contains the scientific claims, where the key is a query ID and the value is the claim text. For example:\n",
        "\n",
        "```\n",
        "'1': '0-dimensional biomaterials show inductive properties.'\n",
        "```\n",
        "\n",
        "Qrels:\n",
        "The qrels (query relevance) dictionary contains the ground truth relevance judgments. It's structured as a nested dictionary where the outer key is the query ID, the inner key is a document ID, and the value is the relevance score (typically 1 for relevant, 0 for non-relevant). For example:\n",
        "\n",
        "```\n",
        "'1': {'31715818': 1}\n",
        "```\n",
        "This indicates that for query '1', the document with ID '31715818' is relevant."
      ],
      "metadata": {
        "id": "ndtXex_kaZkZ"
      }
    },
    {
      "cell_type": "code",
      "source": [
        "# Convert the corpus to a dataframe\n",
        "corpus_df = pd.DataFrame.from_dict(corpus, orient=\"index\")\n",
        "\n",
        "# Create coloumns for various embedding data types\n",
        "corpus_df[\"float32_embedding\"] = None\n",
        "corpus_df[\"int8_embedding\"] = None\n",
        "corpus_df[\"bson_int8_embedding\"] = None\n",
        "corpus_df[\"bson_float32_embedding\"] = None"
      ],
      "metadata": {
        "id": "NZ_OMO-Z2hIg"
      },
      "execution_count": 55,
      "outputs": []
    },
    {
      "cell_type": "code",
      "source": [
        "corpus_df.head()"
      ],
      "metadata": {
        "colab": {
          "base_uri": "https://localhost:8080/",
          "height": 206
        },
        "id": "9e86_W_F2mCC",
        "outputId": "49100760-f16e-4a9b-b87b-d4c6c6eb3c4c"
      },
      "execution_count": 56,
      "outputs": [
        {
          "output_type": "execute_result",
          "data": {
            "text/plain": [
              "                                                    text  \\\n",
              "4983   Alterations of the architecture of cerebral wh...   \n",
              "5836   Myelodysplastic syndromes (MDS) are age-depend...   \n",
              "7912   ID elements are short interspersed elements (S...   \n",
              "18670  DNA methylation plays an important role in bio...   \n",
              "19238  Two human Golli (for gene expressed in the oli...   \n",
              "\n",
              "                                                   title float32_embedding  \\\n",
              "4983   Microstructural development of human newborn c...              None   \n",
              "5836   Induction of myelodysplasia by myeloid-derived...              None   \n",
              "7912   BC1 RNA, the transcript from a master gene for...              None   \n",
              "18670  The DNA Methylome of Human Peripheral Blood Mo...              None   \n",
              "19238  The human myelin basic protein gene is include...              None   \n",
              "\n",
              "      int8_embedding bson_int8_embedding bson_float32_embedding  \n",
              "4983            None                None                   None  \n",
              "5836            None                None                   None  \n",
              "7912            None                None                   None  \n",
              "18670           None                None                   None  \n",
              "19238           None                None                   None  "
            ],
            "text/html": [
              "\n",
              "  <div id=\"df-d377fe35-4668-4560-b587-96caed49ae8a\" class=\"colab-df-container\">\n",
              "    <div>\n",
              "<style scoped>\n",
              "    .dataframe tbody tr th:only-of-type {\n",
              "        vertical-align: middle;\n",
              "    }\n",
              "\n",
              "    .dataframe tbody tr th {\n",
              "        vertical-align: top;\n",
              "    }\n",
              "\n",
              "    .dataframe thead th {\n",
              "        text-align: right;\n",
              "    }\n",
              "</style>\n",
              "<table border=\"1\" class=\"dataframe\">\n",
              "  <thead>\n",
              "    <tr style=\"text-align: right;\">\n",
              "      <th></th>\n",
              "      <th>text</th>\n",
              "      <th>title</th>\n",
              "      <th>float32_embedding</th>\n",
              "      <th>int8_embedding</th>\n",
              "      <th>bson_int8_embedding</th>\n",
              "      <th>bson_float32_embedding</th>\n",
              "    </tr>\n",
              "  </thead>\n",
              "  <tbody>\n",
              "    <tr>\n",
              "      <th>4983</th>\n",
              "      <td>Alterations of the architecture of cerebral wh...</td>\n",
              "      <td>Microstructural development of human newborn c...</td>\n",
              "      <td>None</td>\n",
              "      <td>None</td>\n",
              "      <td>None</td>\n",
              "      <td>None</td>\n",
              "    </tr>\n",
              "    <tr>\n",
              "      <th>5836</th>\n",
              "      <td>Myelodysplastic syndromes (MDS) are age-depend...</td>\n",
              "      <td>Induction of myelodysplasia by myeloid-derived...</td>\n",
              "      <td>None</td>\n",
              "      <td>None</td>\n",
              "      <td>None</td>\n",
              "      <td>None</td>\n",
              "    </tr>\n",
              "    <tr>\n",
              "      <th>7912</th>\n",
              "      <td>ID elements are short interspersed elements (S...</td>\n",
              "      <td>BC1 RNA, the transcript from a master gene for...</td>\n",
              "      <td>None</td>\n",
              "      <td>None</td>\n",
              "      <td>None</td>\n",
              "      <td>None</td>\n",
              "    </tr>\n",
              "    <tr>\n",
              "      <th>18670</th>\n",
              "      <td>DNA methylation plays an important role in bio...</td>\n",
              "      <td>The DNA Methylome of Human Peripheral Blood Mo...</td>\n",
              "      <td>None</td>\n",
              "      <td>None</td>\n",
              "      <td>None</td>\n",
              "      <td>None</td>\n",
              "    </tr>\n",
              "    <tr>\n",
              "      <th>19238</th>\n",
              "      <td>Two human Golli (for gene expressed in the oli...</td>\n",
              "      <td>The human myelin basic protein gene is include...</td>\n",
              "      <td>None</td>\n",
              "      <td>None</td>\n",
              "      <td>None</td>\n",
              "      <td>None</td>\n",
              "    </tr>\n",
              "  </tbody>\n",
              "</table>\n",
              "</div>\n",
              "    <div class=\"colab-df-buttons\">\n",
              "\n",
              "  <div class=\"colab-df-container\">\n",
              "    <button class=\"colab-df-convert\" onclick=\"convertToInteractive('df-d377fe35-4668-4560-b587-96caed49ae8a')\"\n",
              "            title=\"Convert this dataframe to an interactive table.\"\n",
              "            style=\"display:none;\">\n",
              "\n",
              "  <svg xmlns=\"http://www.w3.org/2000/svg\" height=\"24px\" viewBox=\"0 -960 960 960\">\n",
              "    <path d=\"M120-120v-720h720v720H120Zm60-500h600v-160H180v160Zm220 220h160v-160H400v160Zm0 220h160v-160H400v160ZM180-400h160v-160H180v160Zm440 0h160v-160H620v160ZM180-180h160v-160H180v160Zm440 0h160v-160H620v160Z\"/>\n",
              "  </svg>\n",
              "    </button>\n",
              "\n",
              "  <style>\n",
              "    .colab-df-container {\n",
              "      display:flex;\n",
              "      gap: 12px;\n",
              "    }\n",
              "\n",
              "    .colab-df-convert {\n",
              "      background-color: #E8F0FE;\n",
              "      border: none;\n",
              "      border-radius: 50%;\n",
              "      cursor: pointer;\n",
              "      display: none;\n",
              "      fill: #1967D2;\n",
              "      height: 32px;\n",
              "      padding: 0 0 0 0;\n",
              "      width: 32px;\n",
              "    }\n",
              "\n",
              "    .colab-df-convert:hover {\n",
              "      background-color: #E2EBFA;\n",
              "      box-shadow: 0px 1px 2px rgba(60, 64, 67, 0.3), 0px 1px 3px 1px rgba(60, 64, 67, 0.15);\n",
              "      fill: #174EA6;\n",
              "    }\n",
              "\n",
              "    .colab-df-buttons div {\n",
              "      margin-bottom: 4px;\n",
              "    }\n",
              "\n",
              "    [theme=dark] .colab-df-convert {\n",
              "      background-color: #3B4455;\n",
              "      fill: #D2E3FC;\n",
              "    }\n",
              "\n",
              "    [theme=dark] .colab-df-convert:hover {\n",
              "      background-color: #434B5C;\n",
              "      box-shadow: 0px 1px 3px 1px rgba(0, 0, 0, 0.15);\n",
              "      filter: drop-shadow(0px 1px 2px rgba(0, 0, 0, 0.3));\n",
              "      fill: #FFFFFF;\n",
              "    }\n",
              "  </style>\n",
              "\n",
              "    <script>\n",
              "      const buttonEl =\n",
              "        document.querySelector('#df-d377fe35-4668-4560-b587-96caed49ae8a button.colab-df-convert');\n",
              "      buttonEl.style.display =\n",
              "        google.colab.kernel.accessAllowed ? 'block' : 'none';\n",
              "\n",
              "      async function convertToInteractive(key) {\n",
              "        const element = document.querySelector('#df-d377fe35-4668-4560-b587-96caed49ae8a');\n",
              "        const dataTable =\n",
              "          await google.colab.kernel.invokeFunction('convertToInteractive',\n",
              "                                                    [key], {});\n",
              "        if (!dataTable) return;\n",
              "\n",
              "        const docLinkHtml = 'Like what you see? Visit the ' +\n",
              "          '<a target=\"_blank\" href=https://colab.research.google.com/notebooks/data_table.ipynb>data table notebook</a>'\n",
              "          + ' to learn more about interactive tables.';\n",
              "        element.innerHTML = '';\n",
              "        dataTable['output_type'] = 'display_data';\n",
              "        await google.colab.output.renderOutput(dataTable, element);\n",
              "        const docLink = document.createElement('div');\n",
              "        docLink.innerHTML = docLinkHtml;\n",
              "        element.appendChild(docLink);\n",
              "      }\n",
              "    </script>\n",
              "  </div>\n",
              "\n",
              "\n",
              "<div id=\"df-9e75285e-5e00-4f5a-9045-500cd9954a86\">\n",
              "  <button class=\"colab-df-quickchart\" onclick=\"quickchart('df-9e75285e-5e00-4f5a-9045-500cd9954a86')\"\n",
              "            title=\"Suggest charts\"\n",
              "            style=\"display:none;\">\n",
              "\n",
              "<svg xmlns=\"http://www.w3.org/2000/svg\" height=\"24px\"viewBox=\"0 0 24 24\"\n",
              "     width=\"24px\">\n",
              "    <g>\n",
              "        <path d=\"M19 3H5c-1.1 0-2 .9-2 2v14c0 1.1.9 2 2 2h14c1.1 0 2-.9 2-2V5c0-1.1-.9-2-2-2zM9 17H7v-7h2v7zm4 0h-2V7h2v10zm4 0h-2v-4h2v4z\"/>\n",
              "    </g>\n",
              "</svg>\n",
              "  </button>\n",
              "\n",
              "<style>\n",
              "  .colab-df-quickchart {\n",
              "      --bg-color: #E8F0FE;\n",
              "      --fill-color: #1967D2;\n",
              "      --hover-bg-color: #E2EBFA;\n",
              "      --hover-fill-color: #174EA6;\n",
              "      --disabled-fill-color: #AAA;\n",
              "      --disabled-bg-color: #DDD;\n",
              "  }\n",
              "\n",
              "  [theme=dark] .colab-df-quickchart {\n",
              "      --bg-color: #3B4455;\n",
              "      --fill-color: #D2E3FC;\n",
              "      --hover-bg-color: #434B5C;\n",
              "      --hover-fill-color: #FFFFFF;\n",
              "      --disabled-bg-color: #3B4455;\n",
              "      --disabled-fill-color: #666;\n",
              "  }\n",
              "\n",
              "  .colab-df-quickchart {\n",
              "    background-color: var(--bg-color);\n",
              "    border: none;\n",
              "    border-radius: 50%;\n",
              "    cursor: pointer;\n",
              "    display: none;\n",
              "    fill: var(--fill-color);\n",
              "    height: 32px;\n",
              "    padding: 0;\n",
              "    width: 32px;\n",
              "  }\n",
              "\n",
              "  .colab-df-quickchart:hover {\n",
              "    background-color: var(--hover-bg-color);\n",
              "    box-shadow: 0 1px 2px rgba(60, 64, 67, 0.3), 0 1px 3px 1px rgba(60, 64, 67, 0.15);\n",
              "    fill: var(--button-hover-fill-color);\n",
              "  }\n",
              "\n",
              "  .colab-df-quickchart-complete:disabled,\n",
              "  .colab-df-quickchart-complete:disabled:hover {\n",
              "    background-color: var(--disabled-bg-color);\n",
              "    fill: var(--disabled-fill-color);\n",
              "    box-shadow: none;\n",
              "  }\n",
              "\n",
              "  .colab-df-spinner {\n",
              "    border: 2px solid var(--fill-color);\n",
              "    border-color: transparent;\n",
              "    border-bottom-color: var(--fill-color);\n",
              "    animation:\n",
              "      spin 1s steps(1) infinite;\n",
              "  }\n",
              "\n",
              "  @keyframes spin {\n",
              "    0% {\n",
              "      border-color: transparent;\n",
              "      border-bottom-color: var(--fill-color);\n",
              "      border-left-color: var(--fill-color);\n",
              "    }\n",
              "    20% {\n",
              "      border-color: transparent;\n",
              "      border-left-color: var(--fill-color);\n",
              "      border-top-color: var(--fill-color);\n",
              "    }\n",
              "    30% {\n",
              "      border-color: transparent;\n",
              "      border-left-color: var(--fill-color);\n",
              "      border-top-color: var(--fill-color);\n",
              "      border-right-color: var(--fill-color);\n",
              "    }\n",
              "    40% {\n",
              "      border-color: transparent;\n",
              "      border-right-color: var(--fill-color);\n",
              "      border-top-color: var(--fill-color);\n",
              "    }\n",
              "    60% {\n",
              "      border-color: transparent;\n",
              "      border-right-color: var(--fill-color);\n",
              "    }\n",
              "    80% {\n",
              "      border-color: transparent;\n",
              "      border-right-color: var(--fill-color);\n",
              "      border-bottom-color: var(--fill-color);\n",
              "    }\n",
              "    90% {\n",
              "      border-color: transparent;\n",
              "      border-bottom-color: var(--fill-color);\n",
              "    }\n",
              "  }\n",
              "</style>\n",
              "\n",
              "  <script>\n",
              "    async function quickchart(key) {\n",
              "      const quickchartButtonEl =\n",
              "        document.querySelector('#' + key + ' button');\n",
              "      quickchartButtonEl.disabled = true;  // To prevent multiple clicks.\n",
              "      quickchartButtonEl.classList.add('colab-df-spinner');\n",
              "      try {\n",
              "        const charts = await google.colab.kernel.invokeFunction(\n",
              "            'suggestCharts', [key], {});\n",
              "      } catch (error) {\n",
              "        console.error('Error during call to suggestCharts:', error);\n",
              "      }\n",
              "      quickchartButtonEl.classList.remove('colab-df-spinner');\n",
              "      quickchartButtonEl.classList.add('colab-df-quickchart-complete');\n",
              "    }\n",
              "    (() => {\n",
              "      let quickchartButtonEl =\n",
              "        document.querySelector('#df-9e75285e-5e00-4f5a-9045-500cd9954a86 button');\n",
              "      quickchartButtonEl.style.display =\n",
              "        google.colab.kernel.accessAllowed ? 'block' : 'none';\n",
              "    })();\n",
              "  </script>\n",
              "</div>\n",
              "\n",
              "    </div>\n",
              "  </div>\n"
            ],
            "application/vnd.google.colaboratory.intrinsic+json": {
              "type": "dataframe",
              "variable_name": "corpus_df",
              "repr_error": "Out of range float values are not JSON compliant: nan"
            }
          },
          "metadata": {},
          "execution_count": 56
        }
      ]
    },
    {
      "cell_type": "markdown",
      "source": [
        "# **Step 2: Generate embedddings for float 32, Int8 embedding by using Cohere**"
      ],
      "metadata": {
        "id": "Q-IIXdE22txD"
      }
    },
    {
      "cell_type": "code",
      "source": [
        "import os\n",
        "import cohere\n",
        "import getpass\n",
        "\n",
        "# You are going to need a production API key due to rate limiting on free tier\n",
        "COHERE_API_KEY = getpass.getpass(\"Enter Cohere API Key: \")\n",
        "os.environ[\"COHERE_API_KEY\"] = COHERE_API_KEY"
      ],
      "metadata": {
        "colab": {
          "base_uri": "https://localhost:8080/"
        },
        "id": "ulfeupA_4Qq1",
        "outputId": "1b6bf744-22f2-4ad7-941a-9452309c42a8"
      },
      "execution_count": 57,
      "outputs": [
        {
          "name": "stdout",
          "output_type": "stream",
          "text": [
            "Enter Cohere API Key: ··········\n"
          ]
        }
      ]
    },
    {
      "cell_type": "code",
      "source": [
        "import cohere\n",
        "\n",
        "# Initialize Cohere Client\n",
        "co = cohere.Client(COHERE_API_KEY)"
      ],
      "metadata": {
        "id": "SSmnN3_c25oa"
      },
      "execution_count": 58,
      "outputs": []
    },
    {
      "cell_type": "code",
      "source": [
        "from typing import List, Tuple\n",
        "\n",
        "def get_cohere_embeddings(sentences: List[str]) -> Tuple[List[float], List[int]]:\n",
        "  \"\"\"\n",
        "  Generates embeddings for the provided sentences using Cohere's embedding model.\n",
        "\n",
        "  Args:\n",
        "      sentences (list of str): List of sentences to generate embeddings for.\n",
        "\n",
        "  Returns:\n",
        "    list: A list of embeddings, where each embedding corresponds to a sentence.\n",
        "          The embeddings are generated using the \"embed-english-v3.0\" model and include both\n",
        "          float and int8 types.\n",
        "  \"\"\"\n",
        "  genereated_embedding = co.embed(\n",
        "      texts=sentences,\n",
        "      model=\"embed-english-v3.0\",\n",
        "      input_type=\"search_document\",\n",
        "      embedding_types=[\"float\", \"int8\"]\n",
        "  ).embeddings\n",
        "\n",
        "  return genereated_embedding.float, genereated_embedding.int8"
      ],
      "metadata": {
        "id": "6ex-8gaw2nQz"
      },
      "execution_count": 59,
      "outputs": []
    },
    {
      "cell_type": "code",
      "source": [
        "from tqdm import tqdm\n",
        "\n",
        "# Create a tqdm progress bar\n",
        "total_rows = len(corpus_df)\n",
        "with tqdm(total=total_rows, desc=\"Generating embeddings\") as pbar:\n",
        "  # Iterate through each row in the DataFrame\n",
        "  for index, row in corpus_df.iterrows():\n",
        "    # Concatenate the title and text field and then use this data point for embedding generation\n",
        "    concatenated_text = row[\"title\"] + \" \" + row[\"text\"]\n",
        "\n",
        "    # Fetch the embeddings for the sentence\n",
        "    embeddings = get_cohere_embeddings([concatenated_text])\n",
        "\n",
        "    # Assign the embeddings to the corresponding columns in the DataFrame\n",
        "    corpus_df.at[index, \"float32_embedding\"] = embeddings[0][0]  # float32_embedding\n",
        "    corpus_df.at[index, \"int8_embedding\"] = embeddings[1][0]  # int8_embedding\n",
        "\n",
        "    # Update the progress bar\n",
        "    pbar.update(1)"
      ],
      "metadata": {
        "colab": {
          "base_uri": "https://localhost:8080/"
        },
        "id": "shSEbmMD2-BZ",
        "outputId": "4620edda-eebd-4945-f499-7e2f86161724"
      },
      "execution_count": 60,
      "outputs": [
        {
          "output_type": "stream",
          "name": "stderr",
          "text": [
            "Generating embeddings: 100%|██████████| 5183/5183 [22:16<00:00,  3.88it/s]\n"
          ]
        }
      ]
    },
    {
      "cell_type": "code",
      "source": [
        "corpus_df.head()"
      ],
      "metadata": {
        "colab": {
          "base_uri": "https://localhost:8080/",
          "height": 293
        },
        "id": "SOovfsE64bng",
        "outputId": "ff13f98b-880d-4db2-8b92-d64ce4bf8fb6"
      },
      "execution_count": 61,
      "outputs": [
        {
          "output_type": "execute_result",
          "data": {
            "text/plain": [
              "                                                    text  \\\n",
              "4983   Alterations of the architecture of cerebral wh...   \n",
              "5836   Myelodysplastic syndromes (MDS) are age-depend...   \n",
              "7912   ID elements are short interspersed elements (S...   \n",
              "18670  DNA methylation plays an important role in bio...   \n",
              "19238  Two human Golli (for gene expressed in the oli...   \n",
              "\n",
              "                                                   title  \\\n",
              "4983   Microstructural development of human newborn c...   \n",
              "5836   Induction of myelodysplasia by myeloid-derived...   \n",
              "7912   BC1 RNA, the transcript from a master gene for...   \n",
              "18670  The DNA Methylome of Human Peripheral Blood Mo...   \n",
              "19238  The human myelin basic protein gene is include...   \n",
              "\n",
              "                                       float32_embedding  \\\n",
              "4983   [-0.01966858, -0.021835327, -0.0135269165, 0.0...   \n",
              "5836   [0.03463745, 0.018798828, -0.043823242, -0.074...   \n",
              "7912   [-0.06451416, 0.0061187744, -0.012504578, -0.0...   \n",
              "18670  [0.011962891, 0.0052948, -0.048095703, -0.0731...   \n",
              "19238  [-0.0435791, -0.056121826, -0.05392456, -0.070...   \n",
              "\n",
              "                                          int8_embedding bson_int8_embedding  \\\n",
              "4983   [-25, -28, -17, 38, -52, -28, -9, -33, 17, 29,...                None   \n",
              "5836   [43, 23, -56, -96, 21, -8, -20, -2, 6, 51, 39,...                None   \n",
              "7912   [-83, 7, -16, -14, -34, 24, -74, -14, 21, 51, ...                None   \n",
              "18670  [14, 6, -62, -94, 1, -26, -70, 19, -37, 50, 78...                None   \n",
              "19238  [-56, -72, -69, -91, -84, 13, -108, 64, -36, 6...                None   \n",
              "\n",
              "      bson_float32_embedding  \n",
              "4983                    None  \n",
              "5836                    None  \n",
              "7912                    None  \n",
              "18670                   None  \n",
              "19238                   None  "
            ],
            "text/html": [
              "\n",
              "  <div id=\"df-7c94cae3-98f7-485a-b47a-edcd13074e8b\" class=\"colab-df-container\">\n",
              "    <div>\n",
              "<style scoped>\n",
              "    .dataframe tbody tr th:only-of-type {\n",
              "        vertical-align: middle;\n",
              "    }\n",
              "\n",
              "    .dataframe tbody tr th {\n",
              "        vertical-align: top;\n",
              "    }\n",
              "\n",
              "    .dataframe thead th {\n",
              "        text-align: right;\n",
              "    }\n",
              "</style>\n",
              "<table border=\"1\" class=\"dataframe\">\n",
              "  <thead>\n",
              "    <tr style=\"text-align: right;\">\n",
              "      <th></th>\n",
              "      <th>text</th>\n",
              "      <th>title</th>\n",
              "      <th>float32_embedding</th>\n",
              "      <th>int8_embedding</th>\n",
              "      <th>bson_int8_embedding</th>\n",
              "      <th>bson_float32_embedding</th>\n",
              "    </tr>\n",
              "  </thead>\n",
              "  <tbody>\n",
              "    <tr>\n",
              "      <th>4983</th>\n",
              "      <td>Alterations of the architecture of cerebral wh...</td>\n",
              "      <td>Microstructural development of human newborn c...</td>\n",
              "      <td>[-0.01966858, -0.021835327, -0.0135269165, 0.0...</td>\n",
              "      <td>[-25, -28, -17, 38, -52, -28, -9, -33, 17, 29,...</td>\n",
              "      <td>None</td>\n",
              "      <td>None</td>\n",
              "    </tr>\n",
              "    <tr>\n",
              "      <th>5836</th>\n",
              "      <td>Myelodysplastic syndromes (MDS) are age-depend...</td>\n",
              "      <td>Induction of myelodysplasia by myeloid-derived...</td>\n",
              "      <td>[0.03463745, 0.018798828, -0.043823242, -0.074...</td>\n",
              "      <td>[43, 23, -56, -96, 21, -8, -20, -2, 6, 51, 39,...</td>\n",
              "      <td>None</td>\n",
              "      <td>None</td>\n",
              "    </tr>\n",
              "    <tr>\n",
              "      <th>7912</th>\n",
              "      <td>ID elements are short interspersed elements (S...</td>\n",
              "      <td>BC1 RNA, the transcript from a master gene for...</td>\n",
              "      <td>[-0.06451416, 0.0061187744, -0.012504578, -0.0...</td>\n",
              "      <td>[-83, 7, -16, -14, -34, 24, -74, -14, 21, 51, ...</td>\n",
              "      <td>None</td>\n",
              "      <td>None</td>\n",
              "    </tr>\n",
              "    <tr>\n",
              "      <th>18670</th>\n",
              "      <td>DNA methylation plays an important role in bio...</td>\n",
              "      <td>The DNA Methylome of Human Peripheral Blood Mo...</td>\n",
              "      <td>[0.011962891, 0.0052948, -0.048095703, -0.0731...</td>\n",
              "      <td>[14, 6, -62, -94, 1, -26, -70, 19, -37, 50, 78...</td>\n",
              "      <td>None</td>\n",
              "      <td>None</td>\n",
              "    </tr>\n",
              "    <tr>\n",
              "      <th>19238</th>\n",
              "      <td>Two human Golli (for gene expressed in the oli...</td>\n",
              "      <td>The human myelin basic protein gene is include...</td>\n",
              "      <td>[-0.0435791, -0.056121826, -0.05392456, -0.070...</td>\n",
              "      <td>[-56, -72, -69, -91, -84, 13, -108, 64, -36, 6...</td>\n",
              "      <td>None</td>\n",
              "      <td>None</td>\n",
              "    </tr>\n",
              "  </tbody>\n",
              "</table>\n",
              "</div>\n",
              "    <div class=\"colab-df-buttons\">\n",
              "\n",
              "  <div class=\"colab-df-container\">\n",
              "    <button class=\"colab-df-convert\" onclick=\"convertToInteractive('df-7c94cae3-98f7-485a-b47a-edcd13074e8b')\"\n",
              "            title=\"Convert this dataframe to an interactive table.\"\n",
              "            style=\"display:none;\">\n",
              "\n",
              "  <svg xmlns=\"http://www.w3.org/2000/svg\" height=\"24px\" viewBox=\"0 -960 960 960\">\n",
              "    <path d=\"M120-120v-720h720v720H120Zm60-500h600v-160H180v160Zm220 220h160v-160H400v160Zm0 220h160v-160H400v160ZM180-400h160v-160H180v160Zm440 0h160v-160H620v160ZM180-180h160v-160H180v160Zm440 0h160v-160H620v160Z\"/>\n",
              "  </svg>\n",
              "    </button>\n",
              "\n",
              "  <style>\n",
              "    .colab-df-container {\n",
              "      display:flex;\n",
              "      gap: 12px;\n",
              "    }\n",
              "\n",
              "    .colab-df-convert {\n",
              "      background-color: #E8F0FE;\n",
              "      border: none;\n",
              "      border-radius: 50%;\n",
              "      cursor: pointer;\n",
              "      display: none;\n",
              "      fill: #1967D2;\n",
              "      height: 32px;\n",
              "      padding: 0 0 0 0;\n",
              "      width: 32px;\n",
              "    }\n",
              "\n",
              "    .colab-df-convert:hover {\n",
              "      background-color: #E2EBFA;\n",
              "      box-shadow: 0px 1px 2px rgba(60, 64, 67, 0.3), 0px 1px 3px 1px rgba(60, 64, 67, 0.15);\n",
              "      fill: #174EA6;\n",
              "    }\n",
              "\n",
              "    .colab-df-buttons div {\n",
              "      margin-bottom: 4px;\n",
              "    }\n",
              "\n",
              "    [theme=dark] .colab-df-convert {\n",
              "      background-color: #3B4455;\n",
              "      fill: #D2E3FC;\n",
              "    }\n",
              "\n",
              "    [theme=dark] .colab-df-convert:hover {\n",
              "      background-color: #434B5C;\n",
              "      box-shadow: 0px 1px 3px 1px rgba(0, 0, 0, 0.15);\n",
              "      filter: drop-shadow(0px 1px 2px rgba(0, 0, 0, 0.3));\n",
              "      fill: #FFFFFF;\n",
              "    }\n",
              "  </style>\n",
              "\n",
              "    <script>\n",
              "      const buttonEl =\n",
              "        document.querySelector('#df-7c94cae3-98f7-485a-b47a-edcd13074e8b button.colab-df-convert');\n",
              "      buttonEl.style.display =\n",
              "        google.colab.kernel.accessAllowed ? 'block' : 'none';\n",
              "\n",
              "      async function convertToInteractive(key) {\n",
              "        const element = document.querySelector('#df-7c94cae3-98f7-485a-b47a-edcd13074e8b');\n",
              "        const dataTable =\n",
              "          await google.colab.kernel.invokeFunction('convertToInteractive',\n",
              "                                                    [key], {});\n",
              "        if (!dataTable) return;\n",
              "\n",
              "        const docLinkHtml = 'Like what you see? Visit the ' +\n",
              "          '<a target=\"_blank\" href=https://colab.research.google.com/notebooks/data_table.ipynb>data table notebook</a>'\n",
              "          + ' to learn more about interactive tables.';\n",
              "        element.innerHTML = '';\n",
              "        dataTable['output_type'] = 'display_data';\n",
              "        await google.colab.output.renderOutput(dataTable, element);\n",
              "        const docLink = document.createElement('div');\n",
              "        docLink.innerHTML = docLinkHtml;\n",
              "        element.appendChild(docLink);\n",
              "      }\n",
              "    </script>\n",
              "  </div>\n",
              "\n",
              "\n",
              "<div id=\"df-814d858b-0f24-4340-9236-59bc4414cc8d\">\n",
              "  <button class=\"colab-df-quickchart\" onclick=\"quickchart('df-814d858b-0f24-4340-9236-59bc4414cc8d')\"\n",
              "            title=\"Suggest charts\"\n",
              "            style=\"display:none;\">\n",
              "\n",
              "<svg xmlns=\"http://www.w3.org/2000/svg\" height=\"24px\"viewBox=\"0 0 24 24\"\n",
              "     width=\"24px\">\n",
              "    <g>\n",
              "        <path d=\"M19 3H5c-1.1 0-2 .9-2 2v14c0 1.1.9 2 2 2h14c1.1 0 2-.9 2-2V5c0-1.1-.9-2-2-2zM9 17H7v-7h2v7zm4 0h-2V7h2v10zm4 0h-2v-4h2v4z\"/>\n",
              "    </g>\n",
              "</svg>\n",
              "  </button>\n",
              "\n",
              "<style>\n",
              "  .colab-df-quickchart {\n",
              "      --bg-color: #E8F0FE;\n",
              "      --fill-color: #1967D2;\n",
              "      --hover-bg-color: #E2EBFA;\n",
              "      --hover-fill-color: #174EA6;\n",
              "      --disabled-fill-color: #AAA;\n",
              "      --disabled-bg-color: #DDD;\n",
              "  }\n",
              "\n",
              "  [theme=dark] .colab-df-quickchart {\n",
              "      --bg-color: #3B4455;\n",
              "      --fill-color: #D2E3FC;\n",
              "      --hover-bg-color: #434B5C;\n",
              "      --hover-fill-color: #FFFFFF;\n",
              "      --disabled-bg-color: #3B4455;\n",
              "      --disabled-fill-color: #666;\n",
              "  }\n",
              "\n",
              "  .colab-df-quickchart {\n",
              "    background-color: var(--bg-color);\n",
              "    border: none;\n",
              "    border-radius: 50%;\n",
              "    cursor: pointer;\n",
              "    display: none;\n",
              "    fill: var(--fill-color);\n",
              "    height: 32px;\n",
              "    padding: 0;\n",
              "    width: 32px;\n",
              "  }\n",
              "\n",
              "  .colab-df-quickchart:hover {\n",
              "    background-color: var(--hover-bg-color);\n",
              "    box-shadow: 0 1px 2px rgba(60, 64, 67, 0.3), 0 1px 3px 1px rgba(60, 64, 67, 0.15);\n",
              "    fill: var(--button-hover-fill-color);\n",
              "  }\n",
              "\n",
              "  .colab-df-quickchart-complete:disabled,\n",
              "  .colab-df-quickchart-complete:disabled:hover {\n",
              "    background-color: var(--disabled-bg-color);\n",
              "    fill: var(--disabled-fill-color);\n",
              "    box-shadow: none;\n",
              "  }\n",
              "\n",
              "  .colab-df-spinner {\n",
              "    border: 2px solid var(--fill-color);\n",
              "    border-color: transparent;\n",
              "    border-bottom-color: var(--fill-color);\n",
              "    animation:\n",
              "      spin 1s steps(1) infinite;\n",
              "  }\n",
              "\n",
              "  @keyframes spin {\n",
              "    0% {\n",
              "      border-color: transparent;\n",
              "      border-bottom-color: var(--fill-color);\n",
              "      border-left-color: var(--fill-color);\n",
              "    }\n",
              "    20% {\n",
              "      border-color: transparent;\n",
              "      border-left-color: var(--fill-color);\n",
              "      border-top-color: var(--fill-color);\n",
              "    }\n",
              "    30% {\n",
              "      border-color: transparent;\n",
              "      border-left-color: var(--fill-color);\n",
              "      border-top-color: var(--fill-color);\n",
              "      border-right-color: var(--fill-color);\n",
              "    }\n",
              "    40% {\n",
              "      border-color: transparent;\n",
              "      border-right-color: var(--fill-color);\n",
              "      border-top-color: var(--fill-color);\n",
              "    }\n",
              "    60% {\n",
              "      border-color: transparent;\n",
              "      border-right-color: var(--fill-color);\n",
              "    }\n",
              "    80% {\n",
              "      border-color: transparent;\n",
              "      border-right-color: var(--fill-color);\n",
              "      border-bottom-color: var(--fill-color);\n",
              "    }\n",
              "    90% {\n",
              "      border-color: transparent;\n",
              "      border-bottom-color: var(--fill-color);\n",
              "    }\n",
              "  }\n",
              "</style>\n",
              "\n",
              "  <script>\n",
              "    async function quickchart(key) {\n",
              "      const quickchartButtonEl =\n",
              "        document.querySelector('#' + key + ' button');\n",
              "      quickchartButtonEl.disabled = true;  // To prevent multiple clicks.\n",
              "      quickchartButtonEl.classList.add('colab-df-spinner');\n",
              "      try {\n",
              "        const charts = await google.colab.kernel.invokeFunction(\n",
              "            'suggestCharts', [key], {});\n",
              "      } catch (error) {\n",
              "        console.error('Error during call to suggestCharts:', error);\n",
              "      }\n",
              "      quickchartButtonEl.classList.remove('colab-df-spinner');\n",
              "      quickchartButtonEl.classList.add('colab-df-quickchart-complete');\n",
              "    }\n",
              "    (() => {\n",
              "      let quickchartButtonEl =\n",
              "        document.querySelector('#df-814d858b-0f24-4340-9236-59bc4414cc8d button');\n",
              "      quickchartButtonEl.style.display =\n",
              "        google.colab.kernel.accessAllowed ? 'block' : 'none';\n",
              "    })();\n",
              "  </script>\n",
              "</div>\n",
              "\n",
              "    </div>\n",
              "  </div>\n"
            ],
            "application/vnd.google.colaboratory.intrinsic+json": {
              "type": "dataframe",
              "variable_name": "corpus_df",
              "repr_error": "Out of range float values are not JSON compliant: nan"
            }
          },
          "metadata": {},
          "execution_count": 61
        }
      ]
    },
    {
      "cell_type": "markdown",
      "source": [
        "# **Step 3: Generate BSON representations of float32 and int8 embedding**"
      ],
      "metadata": {
        "id": "5BImQHAy4g8j"
      }
    },
    {
      "cell_type": "code",
      "source": [
        "from bson.binary import Binary, BinaryVectorDtype\n",
        "\n",
        "def generate_bson_vector(array, data_type):\n",
        "  return Binary.from_vector(array, BinaryVectorDtype(data_type))"
      ],
      "metadata": {
        "id": "bY3s7krl4jgc"
      },
      "execution_count": 62,
      "outputs": []
    },
    {
      "cell_type": "code",
      "source": [
        "import numpy as np\n",
        "\n",
        "# For all data points in the corpus_df generate BSON vecotrs for float32 and int8 embeddings\n",
        "# Use the apply function of the sentence pandas dataframe\n",
        "corpus_df[\"bson_float32_embedding\"] = corpus_df[\"float32_embedding\"].apply(lambda x: generate_bson_vector(np.array(x, dtype=np.float32), BinaryVectorDtype.FLOAT32))\n",
        "corpus_df[\"bson_int8_embedding\"] = corpus_df[\"int8_embedding\"].apply(lambda x: generate_bson_vector(np.array(x, dtype=np.int8), BinaryVectorDtype.INT8))"
      ],
      "metadata": {
        "id": "l6qkOoX_4mBQ"
      },
      "execution_count": 63,
      "outputs": []
    },
    {
      "cell_type": "code",
      "source": [
        "corpus_df.head()"
      ],
      "metadata": {
        "colab": {
          "base_uri": "https://localhost:8080/",
          "height": 293
        },
        "id": "HMXOxAZbLAQ3",
        "outputId": "47aff488-fbc9-4e1b-dd4c-89c1c2055689"
      },
      "execution_count": 64,
      "outputs": [
        {
          "output_type": "execute_result",
          "data": {
            "text/plain": [
              "                                                    text  \\\n",
              "4983   Alterations of the architecture of cerebral wh...   \n",
              "5836   Myelodysplastic syndromes (MDS) are age-depend...   \n",
              "7912   ID elements are short interspersed elements (S...   \n",
              "18670  DNA methylation plays an important role in bio...   \n",
              "19238  Two human Golli (for gene expressed in the oli...   \n",
              "\n",
              "                                                   title  \\\n",
              "4983   Microstructural development of human newborn c...   \n",
              "5836   Induction of myelodysplasia by myeloid-derived...   \n",
              "7912   BC1 RNA, the transcript from a master gene for...   \n",
              "18670  The DNA Methylome of Human Peripheral Blood Mo...   \n",
              "19238  The human myelin basic protein gene is include...   \n",
              "\n",
              "                                       float32_embedding  \\\n",
              "4983   [-0.01966858, -0.021835327, -0.0135269165, 0.0...   \n",
              "5836   [0.03463745, 0.018798828, -0.043823242, -0.074...   \n",
              "7912   [-0.06451416, 0.0061187744, -0.012504578, -0.0...   \n",
              "18670  [0.011962891, 0.0052948, -0.048095703, -0.0731...   \n",
              "19238  [-0.0435791, -0.056121826, -0.05392456, -0.070...   \n",
              "\n",
              "                                          int8_embedding  \\\n",
              "4983   [-25, -28, -17, 38, -52, -28, -9, -33, 17, 29,...   \n",
              "5836   [43, 23, -56, -96, 21, -8, -20, -2, 6, 51, 39,...   \n",
              "7912   [-83, 7, -16, -14, -34, 24, -74, -14, 21, 51, ...   \n",
              "18670  [14, 6, -62, -94, 1, -26, -70, 19, -37, 50, 78...   \n",
              "19238  [-56, -72, -69, -91, -84, 13, -108, 64, -36, 6...   \n",
              "\n",
              "                                     bson_int8_embedding  \\\n",
              "4983   b'\\x03\\x00\\xe7\\xe4\\xef&\\xcc\\xe4\\xf7\\xdf\\x11\\x1...   \n",
              "5836   b'\\x03\\x00+\\x17\\xc8\\xa0\\x15\\xf8\\xec\\xfe\\x063\\'...   \n",
              "7912   b'\\x03\\x00\\xad\\x07\\xf0\\xf2\\xde\\x18\\xb6\\xf2\\x15...   \n",
              "18670  b'\\x03\\x00\\x0e\\x06\\xc2\\xa2\\x01\\xe6\\xba\\x13\\xdb...   \n",
              "19238  b'\\x03\\x00\\xc8\\xb8\\xbb\\xa5\\xac\\r\\x94@\\xdcD\"\\xf...   \n",
              "\n",
              "                                  bson_float32_embedding  \n",
              "4983   b'\\'\\x00\\x00 \\xa1\\xbc\\x00\\xe0\\xb2\\xbc\\x00\\xa0]...  \n",
              "5836   b'\\'\\x00\\x00\\xe0\\r=\\x00\\x00\\x9a<\\x00\\x803\\xbd\\...  \n",
              "7912   b'\\'\\x00\\x00 \\x84\\xbd\\x00\\x80\\xc8;\\x00\\xe0L\\xb...  \n",
              "18670  b'\\'\\x00\\x00\\x00D<\\x00\\x80\\xad;\\x00\\x00E\\xbd\\x...  \n",
              "19238  b'\\'\\x00\\x00\\x802\\xbd\\x00\\xe0e\\xbd\\x00\\xe0\\\\\\x...  "
            ],
            "text/html": [
              "\n",
              "  <div id=\"df-5d0a9748-56d5-442b-8e76-8fe46f7bf57d\" class=\"colab-df-container\">\n",
              "    <div>\n",
              "<style scoped>\n",
              "    .dataframe tbody tr th:only-of-type {\n",
              "        vertical-align: middle;\n",
              "    }\n",
              "\n",
              "    .dataframe tbody tr th {\n",
              "        vertical-align: top;\n",
              "    }\n",
              "\n",
              "    .dataframe thead th {\n",
              "        text-align: right;\n",
              "    }\n",
              "</style>\n",
              "<table border=\"1\" class=\"dataframe\">\n",
              "  <thead>\n",
              "    <tr style=\"text-align: right;\">\n",
              "      <th></th>\n",
              "      <th>text</th>\n",
              "      <th>title</th>\n",
              "      <th>float32_embedding</th>\n",
              "      <th>int8_embedding</th>\n",
              "      <th>bson_int8_embedding</th>\n",
              "      <th>bson_float32_embedding</th>\n",
              "    </tr>\n",
              "  </thead>\n",
              "  <tbody>\n",
              "    <tr>\n",
              "      <th>4983</th>\n",
              "      <td>Alterations of the architecture of cerebral wh...</td>\n",
              "      <td>Microstructural development of human newborn c...</td>\n",
              "      <td>[-0.01966858, -0.021835327, -0.0135269165, 0.0...</td>\n",
              "      <td>[-25, -28, -17, 38, -52, -28, -9, -33, 17, 29,...</td>\n",
              "      <td>b'\\x03\\x00\\xe7\\xe4\\xef&amp;\\xcc\\xe4\\xf7\\xdf\\x11\\x1...</td>\n",
              "      <td>b'\\'\\x00\\x00 \\xa1\\xbc\\x00\\xe0\\xb2\\xbc\\x00\\xa0]...</td>\n",
              "    </tr>\n",
              "    <tr>\n",
              "      <th>5836</th>\n",
              "      <td>Myelodysplastic syndromes (MDS) are age-depend...</td>\n",
              "      <td>Induction of myelodysplasia by myeloid-derived...</td>\n",
              "      <td>[0.03463745, 0.018798828, -0.043823242, -0.074...</td>\n",
              "      <td>[43, 23, -56, -96, 21, -8, -20, -2, 6, 51, 39,...</td>\n",
              "      <td>b'\\x03\\x00+\\x17\\xc8\\xa0\\x15\\xf8\\xec\\xfe\\x063\\'...</td>\n",
              "      <td>b'\\'\\x00\\x00\\xe0\\r=\\x00\\x00\\x9a&lt;\\x00\\x803\\xbd\\...</td>\n",
              "    </tr>\n",
              "    <tr>\n",
              "      <th>7912</th>\n",
              "      <td>ID elements are short interspersed elements (S...</td>\n",
              "      <td>BC1 RNA, the transcript from a master gene for...</td>\n",
              "      <td>[-0.06451416, 0.0061187744, -0.012504578, -0.0...</td>\n",
              "      <td>[-83, 7, -16, -14, -34, 24, -74, -14, 21, 51, ...</td>\n",
              "      <td>b'\\x03\\x00\\xad\\x07\\xf0\\xf2\\xde\\x18\\xb6\\xf2\\x15...</td>\n",
              "      <td>b'\\'\\x00\\x00 \\x84\\xbd\\x00\\x80\\xc8;\\x00\\xe0L\\xb...</td>\n",
              "    </tr>\n",
              "    <tr>\n",
              "      <th>18670</th>\n",
              "      <td>DNA methylation plays an important role in bio...</td>\n",
              "      <td>The DNA Methylome of Human Peripheral Blood Mo...</td>\n",
              "      <td>[0.011962891, 0.0052948, -0.048095703, -0.0731...</td>\n",
              "      <td>[14, 6, -62, -94, 1, -26, -70, 19, -37, 50, 78...</td>\n",
              "      <td>b'\\x03\\x00\\x0e\\x06\\xc2\\xa2\\x01\\xe6\\xba\\x13\\xdb...</td>\n",
              "      <td>b'\\'\\x00\\x00\\x00D&lt;\\x00\\x80\\xad;\\x00\\x00E\\xbd\\x...</td>\n",
              "    </tr>\n",
              "    <tr>\n",
              "      <th>19238</th>\n",
              "      <td>Two human Golli (for gene expressed in the oli...</td>\n",
              "      <td>The human myelin basic protein gene is include...</td>\n",
              "      <td>[-0.0435791, -0.056121826, -0.05392456, -0.070...</td>\n",
              "      <td>[-56, -72, -69, -91, -84, 13, -108, 64, -36, 6...</td>\n",
              "      <td>b'\\x03\\x00\\xc8\\xb8\\xbb\\xa5\\xac\\r\\x94@\\xdcD\"\\xf...</td>\n",
              "      <td>b'\\'\\x00\\x00\\x802\\xbd\\x00\\xe0e\\xbd\\x00\\xe0\\\\\\x...</td>\n",
              "    </tr>\n",
              "  </tbody>\n",
              "</table>\n",
              "</div>\n",
              "    <div class=\"colab-df-buttons\">\n",
              "\n",
              "  <div class=\"colab-df-container\">\n",
              "    <button class=\"colab-df-convert\" onclick=\"convertToInteractive('df-5d0a9748-56d5-442b-8e76-8fe46f7bf57d')\"\n",
              "            title=\"Convert this dataframe to an interactive table.\"\n",
              "            style=\"display:none;\">\n",
              "\n",
              "  <svg xmlns=\"http://www.w3.org/2000/svg\" height=\"24px\" viewBox=\"0 -960 960 960\">\n",
              "    <path d=\"M120-120v-720h720v720H120Zm60-500h600v-160H180v160Zm220 220h160v-160H400v160Zm0 220h160v-160H400v160ZM180-400h160v-160H180v160Zm440 0h160v-160H620v160ZM180-180h160v-160H180v160Zm440 0h160v-160H620v160Z\"/>\n",
              "  </svg>\n",
              "    </button>\n",
              "\n",
              "  <style>\n",
              "    .colab-df-container {\n",
              "      display:flex;\n",
              "      gap: 12px;\n",
              "    }\n",
              "\n",
              "    .colab-df-convert {\n",
              "      background-color: #E8F0FE;\n",
              "      border: none;\n",
              "      border-radius: 50%;\n",
              "      cursor: pointer;\n",
              "      display: none;\n",
              "      fill: #1967D2;\n",
              "      height: 32px;\n",
              "      padding: 0 0 0 0;\n",
              "      width: 32px;\n",
              "    }\n",
              "\n",
              "    .colab-df-convert:hover {\n",
              "      background-color: #E2EBFA;\n",
              "      box-shadow: 0px 1px 2px rgba(60, 64, 67, 0.3), 0px 1px 3px 1px rgba(60, 64, 67, 0.15);\n",
              "      fill: #174EA6;\n",
              "    }\n",
              "\n",
              "    .colab-df-buttons div {\n",
              "      margin-bottom: 4px;\n",
              "    }\n",
              "\n",
              "    [theme=dark] .colab-df-convert {\n",
              "      background-color: #3B4455;\n",
              "      fill: #D2E3FC;\n",
              "    }\n",
              "\n",
              "    [theme=dark] .colab-df-convert:hover {\n",
              "      background-color: #434B5C;\n",
              "      box-shadow: 0px 1px 3px 1px rgba(0, 0, 0, 0.15);\n",
              "      filter: drop-shadow(0px 1px 2px rgba(0, 0, 0, 0.3));\n",
              "      fill: #FFFFFF;\n",
              "    }\n",
              "  </style>\n",
              "\n",
              "    <script>\n",
              "      const buttonEl =\n",
              "        document.querySelector('#df-5d0a9748-56d5-442b-8e76-8fe46f7bf57d button.colab-df-convert');\n",
              "      buttonEl.style.display =\n",
              "        google.colab.kernel.accessAllowed ? 'block' : 'none';\n",
              "\n",
              "      async function convertToInteractive(key) {\n",
              "        const element = document.querySelector('#df-5d0a9748-56d5-442b-8e76-8fe46f7bf57d');\n",
              "        const dataTable =\n",
              "          await google.colab.kernel.invokeFunction('convertToInteractive',\n",
              "                                                    [key], {});\n",
              "        if (!dataTable) return;\n",
              "\n",
              "        const docLinkHtml = 'Like what you see? Visit the ' +\n",
              "          '<a target=\"_blank\" href=https://colab.research.google.com/notebooks/data_table.ipynb>data table notebook</a>'\n",
              "          + ' to learn more about interactive tables.';\n",
              "        element.innerHTML = '';\n",
              "        dataTable['output_type'] = 'display_data';\n",
              "        await google.colab.output.renderOutput(dataTable, element);\n",
              "        const docLink = document.createElement('div');\n",
              "        docLink.innerHTML = docLinkHtml;\n",
              "        element.appendChild(docLink);\n",
              "      }\n",
              "    </script>\n",
              "  </div>\n",
              "\n",
              "\n",
              "<div id=\"df-fad98a63-6366-46f0-8de3-5bf6f8b33ea7\">\n",
              "  <button class=\"colab-df-quickchart\" onclick=\"quickchart('df-fad98a63-6366-46f0-8de3-5bf6f8b33ea7')\"\n",
              "            title=\"Suggest charts\"\n",
              "            style=\"display:none;\">\n",
              "\n",
              "<svg xmlns=\"http://www.w3.org/2000/svg\" height=\"24px\"viewBox=\"0 0 24 24\"\n",
              "     width=\"24px\">\n",
              "    <g>\n",
              "        <path d=\"M19 3H5c-1.1 0-2 .9-2 2v14c0 1.1.9 2 2 2h14c1.1 0 2-.9 2-2V5c0-1.1-.9-2-2-2zM9 17H7v-7h2v7zm4 0h-2V7h2v10zm4 0h-2v-4h2v4z\"/>\n",
              "    </g>\n",
              "</svg>\n",
              "  </button>\n",
              "\n",
              "<style>\n",
              "  .colab-df-quickchart {\n",
              "      --bg-color: #E8F0FE;\n",
              "      --fill-color: #1967D2;\n",
              "      --hover-bg-color: #E2EBFA;\n",
              "      --hover-fill-color: #174EA6;\n",
              "      --disabled-fill-color: #AAA;\n",
              "      --disabled-bg-color: #DDD;\n",
              "  }\n",
              "\n",
              "  [theme=dark] .colab-df-quickchart {\n",
              "      --bg-color: #3B4455;\n",
              "      --fill-color: #D2E3FC;\n",
              "      --hover-bg-color: #434B5C;\n",
              "      --hover-fill-color: #FFFFFF;\n",
              "      --disabled-bg-color: #3B4455;\n",
              "      --disabled-fill-color: #666;\n",
              "  }\n",
              "\n",
              "  .colab-df-quickchart {\n",
              "    background-color: var(--bg-color);\n",
              "    border: none;\n",
              "    border-radius: 50%;\n",
              "    cursor: pointer;\n",
              "    display: none;\n",
              "    fill: var(--fill-color);\n",
              "    height: 32px;\n",
              "    padding: 0;\n",
              "    width: 32px;\n",
              "  }\n",
              "\n",
              "  .colab-df-quickchart:hover {\n",
              "    background-color: var(--hover-bg-color);\n",
              "    box-shadow: 0 1px 2px rgba(60, 64, 67, 0.3), 0 1px 3px 1px rgba(60, 64, 67, 0.15);\n",
              "    fill: var(--button-hover-fill-color);\n",
              "  }\n",
              "\n",
              "  .colab-df-quickchart-complete:disabled,\n",
              "  .colab-df-quickchart-complete:disabled:hover {\n",
              "    background-color: var(--disabled-bg-color);\n",
              "    fill: var(--disabled-fill-color);\n",
              "    box-shadow: none;\n",
              "  }\n",
              "\n",
              "  .colab-df-spinner {\n",
              "    border: 2px solid var(--fill-color);\n",
              "    border-color: transparent;\n",
              "    border-bottom-color: var(--fill-color);\n",
              "    animation:\n",
              "      spin 1s steps(1) infinite;\n",
              "  }\n",
              "\n",
              "  @keyframes spin {\n",
              "    0% {\n",
              "      border-color: transparent;\n",
              "      border-bottom-color: var(--fill-color);\n",
              "      border-left-color: var(--fill-color);\n",
              "    }\n",
              "    20% {\n",
              "      border-color: transparent;\n",
              "      border-left-color: var(--fill-color);\n",
              "      border-top-color: var(--fill-color);\n",
              "    }\n",
              "    30% {\n",
              "      border-color: transparent;\n",
              "      border-left-color: var(--fill-color);\n",
              "      border-top-color: var(--fill-color);\n",
              "      border-right-color: var(--fill-color);\n",
              "    }\n",
              "    40% {\n",
              "      border-color: transparent;\n",
              "      border-right-color: var(--fill-color);\n",
              "      border-top-color: var(--fill-color);\n",
              "    }\n",
              "    60% {\n",
              "      border-color: transparent;\n",
              "      border-right-color: var(--fill-color);\n",
              "    }\n",
              "    80% {\n",
              "      border-color: transparent;\n",
              "      border-right-color: var(--fill-color);\n",
              "      border-bottom-color: var(--fill-color);\n",
              "    }\n",
              "    90% {\n",
              "      border-color: transparent;\n",
              "      border-bottom-color: var(--fill-color);\n",
              "    }\n",
              "  }\n",
              "</style>\n",
              "\n",
              "  <script>\n",
              "    async function quickchart(key) {\n",
              "      const quickchartButtonEl =\n",
              "        document.querySelector('#' + key + ' button');\n",
              "      quickchartButtonEl.disabled = true;  // To prevent multiple clicks.\n",
              "      quickchartButtonEl.classList.add('colab-df-spinner');\n",
              "      try {\n",
              "        const charts = await google.colab.kernel.invokeFunction(\n",
              "            'suggestCharts', [key], {});\n",
              "      } catch (error) {\n",
              "        console.error('Error during call to suggestCharts:', error);\n",
              "      }\n",
              "      quickchartButtonEl.classList.remove('colab-df-spinner');\n",
              "      quickchartButtonEl.classList.add('colab-df-quickchart-complete');\n",
              "    }\n",
              "    (() => {\n",
              "      let quickchartButtonEl =\n",
              "        document.querySelector('#df-fad98a63-6366-46f0-8de3-5bf6f8b33ea7 button');\n",
              "      quickchartButtonEl.style.display =\n",
              "        google.colab.kernel.accessAllowed ? 'block' : 'none';\n",
              "    })();\n",
              "  </script>\n",
              "</div>\n",
              "\n",
              "    </div>\n",
              "  </div>\n"
            ],
            "application/vnd.google.colaboratory.intrinsic+json": {
              "type": "dataframe",
              "variable_name": "corpus_df",
              "summary": "{\n  \"name\": \"corpus_df\",\n  \"rows\": 5183,\n  \"fields\": [\n    {\n      \"column\": \"text\",\n      \"properties\": {\n        \"dtype\": \"string\",\n        \"num_unique_values\": 5183,\n        \"samples\": [\n          \"Expanded CGG repeats cause chromosomal fragility and hereditary neurological disorders in humans. Replication forks stall at CGG repeats in a length-dependent manner in primate cells and in yeast. Saccharomyces cerevisiae proteins Tof1 and Mrc1 facilitate replication fork progression through CGG repeats. Remarkably, the fork-stabilizing role of Mrc1 does not involve its checkpoint function. Thus, chromosomal fragility might occur when forks stalled at expanded CGG repeats escape the S-phase checkpoint.\",\n          \"The mechanisms by which melanoma and other cancer cells evade anti-tumor immunity remain incompletely understood. Here, we show that the growth of tumors formed by mutant Braf(V600E) mouse melanoma cells in an immunocompetent host requires their production of prostaglandin E2, which suppresses immunity and fuels tumor-promoting inflammation. Genetic ablation of cyclooxygenases (COX) or prostaglandin E synthases in Braf(V600E) mouse melanoma cells, as well as in Nras(G12D) melanoma or in breast or colorectal cancer cells, renders them susceptible to immune control and provokes a shift in the tumor inflammatory profile toward classic anti-cancer immune pathways. This mouse COX-dependent inflammatory signature is remarkably conserved in human cutaneous melanoma biopsies, arguing for COX activity as a driver of immune suppression across species. Pre-clinical data demonstrate that inhibition of COX synergizes with anti-PD-1 blockade in inducing eradication of tumors, implying that COX inhibitors could be useful adjuvants for immune-based therapies in cancer patients.\",\n          \"\\u03b2-Lactamase evolution presents to the infectious disease community a major challenge in the treatment of infections caused by multidrug-resistant gram-negative bacteria. Because over 1,000 of these naturally occurring \\u03b2-lactamases exist, attempts to correlate structure and function have become daunting. Although new enzymes in the extended-spectrum \\u03b2-lactamase (ESBL) families are frequently identified, the older CTX-M-14 and CTX-M-15 enzymes have become the most prevalent ESBLs in global surveillance. Carbapenemases with either serine-based or zinc-facilitated hydrolysis mechanisms are posing some of the most critical problems. Most geographical regions now report KPC serine carbapenemases and the metallo-\\u03b2-lactamases VIM, IMP, and NDM-1, even though NDM-1 was only recently identified. The rapid emergence of these newer enzymes, with multiple \\u03b2-lactamases appearing in a single organism, makes the design of new \\u03b2-lactamase inactivators or \\u03b2-lactamase-stable \\u03b2-lactams all the more difficult. Combination therapy will likely be required to counteract the continuing evolution of these insidious enzymes in multidrug-resistant pathogens.\"\n        ],\n        \"semantic_type\": \"\",\n        \"description\": \"\"\n      }\n    },\n    {\n      \"column\": \"title\",\n      \"properties\": {\n        \"dtype\": \"string\",\n        \"num_unique_values\": 5181,\n        \"samples\": [\n          \"Direct reprogramming of fibroblasts into neural stem cells by defined factors.\",\n          \"Passive Surveillance for I. scapularis Ticks: Enhanced Analysis for Early Detection of Emerging Lyme Disease Risk\",\n          \"Epidemiological expansion, structural studies, and clinical challenges of new \\u03b2-lactamases from gram-negative bacteria.\"\n        ],\n        \"semantic_type\": \"\",\n        \"description\": \"\"\n      }\n    },\n    {\n      \"column\": \"float32_embedding\",\n      \"properties\": {\n        \"dtype\": \"object\",\n        \"semantic_type\": \"\",\n        \"description\": \"\"\n      }\n    },\n    {\n      \"column\": \"int8_embedding\",\n      \"properties\": {\n        \"dtype\": \"object\",\n        \"semantic_type\": \"\",\n        \"description\": \"\"\n      }\n    },\n    {\n      \"column\": \"bson_int8_embedding\",\n      \"properties\": {\n        \"dtype\": \"string\",\n        \"num_unique_values\": 5183,\n        \"samples\": [\n          \"b'\\\\x03\\\\x00 \\\\xf2\\\\xf1\\\\xc0\\\\x0e\\\\xf4\\\\xf0\\\\x0b.c1\\\\xe9\\\\x7f\\\\xd5\\\\xe9=\\\\x02\\\\xda\\\\x02\\\\xee\\\\xfe\\\\x00\\\\t\\\\xc9\\\\x13\\\\x12\\\\xe3\\\\xdf\\\\x07\\\\xfa\\\\x05\\\\x0cF\\\\xd0\\\\xee\\\\xd3\\\\x19\\\\xd3\\\\xd8\\\\n\\\\x0b\\\\x00\\\\x7f\\\\xe96 \\\\xf9\\\\xad\\\\x13\\\\x03\\\\x14\\\\xd7\\\\x10,\\\\xf4\\\\xfe\\\\xf9\\\\xd0\\\\xfe\\\\x00!\\\\x15\\\\x10*\\\\x17\\\\xee\\\\xd1\\\\x1a\\\\xfa\\\\x1a\\\\'\\\\xd5\\\\xf7\\\\xe5\\\\xfa\\\\x15\\\\x13\\\\x0f\\\\xf6\\\\x08 =\\\\xfa<\\\\xcc:\\\\xf3\\\\xc6\\\\xe9\\\\xf3\\\\xeb\\\\xfd\\\\xd0=\\\\x0f\\\\xfb!\\\\xf3\\\\n\\\"\\\\xfe\\\\xc04\\\\xe3\\\\xe5\\\\xd9\\\\x15\\\\x14\\\\x0c6\\\\xd2\\\\x17\\\\xe1\\\\xa6\\\\xf9@\\\\xeb &\\\\x0b#e\\\\x9f%\\\\xda\\\\x08;\\\\xc7\\\\xa4M\\\\xd9\\\\xc4\\\\\\\\X \\\\xcf\\\\n\\\\xca\\\\xdb\\\\xf9<\\\\n\\\\xf7\\\\x02\\\\xf2\\\\xea\\\\x05\\\\x1e\\\\x03\\\\x19\\\\xde\\\\x19V\\\\xe0\\\\x80\\\\x95\\\\xbe\\\\xdc\\\\x06\\\\x93\\\\x02\\\\xed\\\\x02\\\\xf5\\\\xf6\\\\x03\\\\xdb\\\\x19\\\\x1d0\\\\t\\\\xf0\\\\xfd\\\\x0c\\\\x06\\\\x06\\\\x15\\\\xaf\\\\xf0n\\\\x17\\\\xeb\\\\xbc$\\\\x03\\\\xcd\\\\'\\\\xfe\\\\x00\\\\x10\\\\x18\\\\x1d\\\\xc9*\\\\xbf\\\\xd2,\\\\x1c\\\\xfc\\\\x05P\\\\xf9\\\\x1f\\\\xb4\\\\xde\\\\xe4\\\\x00\\\\x14+&\\\\xeb\\\\xef\\\\x19\\\\xd7\\\\xcc\\\\xf0\\\\xc6\\\\xf4\\\\xf82\\\\xd5\\\\x1f\\\\xe2\\\\xd3\\\\x13\\\\xd9\\\\xf5\\\\xde\\\\xd2$\\\\x98\\\\x1f\\\\xe3\\\\xac\\\\xab\\\\xfa\\\\xe4\\\\xe8\\\\xedE\\\\x1e\\\\x04\\\\xe4\\\\xe9b\\\\xed\\\\xf9\\\\xf0\\\\xf8\\\\x12.& :\\\\x13\\\\x1a\\\\xe3\\\\xdd\\\\x06\\\\x0f\\\\x13\\\\xf2\\\\xf7\\\\xef\\\\xe7\\\\r\\\\xd8\\\\xe6\\\\xf8)\\\\x13\\\\x83\\\\t)\\\\x08\\\\xc6\\\\x0c\\\\xe3\\\\xff\\\\xea\\\\x042!\\\\xe5\\\\x05\\\\xdd\\\\x03\\\\xfe\\\\xe5\\\\xfa\\\\x10\\\\x0e\\\\xe6\\\\x02I\\\\xe3\\\\xec1\\\\xf8\\\\xf7\\\\xc6#\\\\xfc\\\\xd0 0Y\\\\xf8\\\\x065\\\\x99\\\\xcbQ`#\\\\t\\\\x1cd\\\\x1c\\\\xd3\\\\xb9\\\\xf2\\\\x0c\\\\x01\\\\r\\\\t\\\\xf2\\\\x05\\\\xd5\\\\x07\\\\x02\\\\xd9\\\\xdd\\\\x01\\\\xfb\\\\x08\\\\xf1*\\\\xd5\\\\xbc\\\\xaa\\\\x80\\\\x03\\\\xeb\\\\xe1\\\\x06\\\\xdc\\\\t\\\\xf5\\\\x07\\\\x0c\\\\xf7\\\\x11\\\\xf86\\\\xd4\\\\xcb\\\\',\\\\xe7\\\\xce\\\\xf9\\\\xae\\\\xe0\\\\'\\\\n\\\\xe6\\\\x0f::\\\\xfc\\\\xff\\\\xf3\\\\xee\\\\x1e\\\\xf1\\\\xd3\\\\xb3\\\\x1d\\\\xd9\\\\xd3\\\\xcf\\\\x19\\\\x026\\\\xec\\\\xed)+,\\\\xf0\\\\xd8\\\\xa7\\\\xcb\\\\xdf\\\\xf3b\\\\x15\\\\x17\\\\xb72\\\\x05\\\\x01\\\\x04\\\\xc9\\\\x05\\\\xf8\\\\xfc\\\\xff2\\\\xc4\\\\xf4\\\\xd8\\\\xca \\\\xee\\\\xfb\\\\xfb4\\\\xe4\\\\xfc\\\\xe2\\\\x16\\\\x1d\\\\x1c\\\\xed&\\\\xca<X\\\\x0e\\\\x16\\\\x17+\\\\xf2\\\\xdd\\\\xc1\\\\x97\\\\x1a\\\\xbc\\\\x83\\\\xde\\\\x1e/\\\\x04\\\\x13\\\\xc5\\\\xaa\\\\xda\\\\x05\\\\xe4\\\\x15\\\\xc9\\\\x1d\\\\xef(\\\\x01\\\\xed\\\\xf6\\\\x0b\\\\xeb.\\\\xd6\\\\xb2\\\\xda\\\\xf7\\\\xed\\\\x0e\\\\xe7\\\\xf3\\\\xfer\\\\x02\\\\xd5,\\\\x00\\\\xfb\\\\xe8\\\\xfa\\\\xec\\\\xf1\\\\x13\\\\xf1\\\\xff\\\\x0c\\\\x0b\\\\xcd\\\\xf3\\\\x04\\\\xeb\\\\xb4\\\\xec\\\\x00\\\\xf5\\\\xfc\\\\n\\\\x05\\\\xe9\\\\xfb\\\\xd6\\\\xee\\\\x1c\\\\xfa\\\\rA\\\\x02\\\\xdf\\\\xfa\\\\xf40\\\\x03\\\\xf1\\\\x1b\\\\xfd\\\\x02\\\\xfc\\\\x13:\\\\xe1\\\\xd8\\\\x0f(\\\\xff6\\\\xf3\\\\xe9\\\\xf4\\\\xf1\\\\xf9\\\\x0b\\\\x06\\\\x05\\\\x01\\\\x05 \\\\xfc\\\\xed&\\\\xe0\\\\xcc\\\\xd1\\\\t?\\\\xe7\\\\xfd\\\\xd9\\\\xf7\\\\x12\\\\x00\\\\xe1\\\\x01\\\\x17\\\\xfa\\\\xd0\\\\xacB\\\\x1c\\\\xfd\\\\xee.\\\\xe3\\\\xe8\\\\xe1/\\\\xc0\\\\x0c\\\\x1b\\\\xf5\\\\xe0\\\\xc5\\\\xc7\\\\xf0\\\\xff\\\\xb5\\\\xfa\\\\x1b\\\\xd5\\\\xed\\\\x1bM\\\\xe1\\\\x1a\\\\xf8\\\\xb9\\\\x16\\\\x05\\\\x12\\\\x17\\\\x1c\\\\xea\\\\xba\\\\xf8\\\\xfc\\\\xff\\\\n\\\\xfa\\\\x12\\\\xf9+\\\\x07\\\\xda\\\\xf5\\\\xfc\\\\xe5\\\\x1a\\\\x0e\\\\xb2\\\\x1a\\\\xfb\\\\xf4\\\\xfaG\\\\xf3\\\\xe6\\\\xf7\\\\xd4\\\\x14\\\\x07\\\\x03\\\\xee\\\\x08\\\\x05\\\\t\\\\xf7\\\\x1f\\\\xc7\\\\xa7\\\\x12\\\\x10\\\\xf1(\\\\xec\\\\xd1\\\\xa9\\\\xcdH\\\\xe3\\\\xcd\\\\xf1\\\\x06\\\\x1b;\\\\x0f\\\\xf1\\\\xe8\\\\xfa\\\\xf0\\\\xcc\\\\xea\\\\xda\\\\x07\\\\x1a\\\\x0f#\\\\xe7\\\\r\\\\xfc\\\\x12\\\\xd8\\\\xf6\\\\x02\\\\x13\\\\xc7\\\\xf3\\\\x04\\\\x1e\\\\n7\\\\xfb#\\\\xfe\\\\xf4\\\\x14\\\\xd4\\\\xe3%\\\\x19\\\\x1c/\\\\xcd\\\\xf4&8\\\\x0f\\\\xdcI%\\\\xdb\\\\xe8\\\\n\\\\xde\\\\x0c\\\\xd1\\\\xe2,\\\\xca\\\\xfa\\\\xd2\\\\xf2\\\\xf6*\\\\xdd\\\\xff\\\\xd2\\\\x01(\\\\xcb\\\\xdd%8\\\\x00\\\\xd6\\\\xea\\\\xe3$\\\\xeb\\\\xff/\\\\xf0\\\\xe1\\\\xf8\\\\x1a\\\\x1e\\\\xb8\\\\x1d\\\\xd3\\\\x05\\\\x12\\\\xf0\\\\xe6\\\\xfe\\\\t\\\\xb2\\\\x08 \\\\x10\\\\xdf\\\\x1b\\\\xed\\\\xfb\\\\x01\\\\xe2\\\\x1d\\\\xf2\\\\r3\\\\x01c\\\\xed\\\\x00\\\\xef*\\\\x8d\\\\xd6\\\\x0e\\\\xfd+\\\\xfe\\\\xa1\\\\x03\\\\xf0\\\\r\\\\t\\\\xff\\\\x10!\\\\xf6\\\\x0b\\\\xfe\\\\xd9\\\\xe9\\\\x10\\\\xf9\\\\xca.\\\\xe6\\\\x04\\\\xc9\\\\xec\\\\x1e@\\\\xda\\\\xea\\\\xe9\\\\x004\\\\x15\\\\xf7\\\\xf5\\\\xe9\\\\t \\\\xfc\\\\xb3\\\\x1e+\\\\xbf\\\\xf7W\\\\xf2\\\\x04\\\\xd2\\\\x17\\\\xfd\\\\xf5\\\\nW\\\\xf6.+\\\\x11\\\\x14\\\\xfb\\\\xeb\\\\x0f?$\\\\x00\\\\xc2\\\\x00\\\\xfa\\\\x17\\\\x15\\\\x1e\\\\xfe\\\\xe2\\\\x00.\\\\xe5\\\\xda%\\\\xcd\\\\xf0\\\\xe7$\\\\x15\\\\xb9f\\\\xc9\\\\xda\\\\xe5\\\\xf8\\\\x18\\\\x1c\\\\xa6:*\\\\xe8\\\\x00H\\\\t\\\\xfc?\\\\xd0\\\\x18\\\\xed\\\\x07\\\\xea\\\\xf8S\\\\r\\\\xff=D\\\\x01\\\\xf7\\\\x00\\\\xf8\\\\x13\\\\xe8\\\\x1a\\\\xbe&\\\\xe0\\\\xd1\\\\x00\\\\x0b\\\\xd8\\\\xe2\\\"2\\\\x0e\\\\x1c\\\\xf8\\\\xe6&\\\\xed\\\\xeeC)6\\\\xe2\\\\xe1I,{\\\\xc0\\\\x16%\\\\xca\\\\x01!\\\\xba\\\\x1c \\\\x0e\\\\x08\\\\xdf\\\\x14\\\\xf5 6\\\\xea8\\\\xf6\\\\xf7\\\\xaf\\\\xf7\\\\xf1\\\\xe7\\\\xe8\\\\x17\\\\xfc#\\\\xd4\\\\xf2\\\\xdb\\\\xf3\\\\xd6\\\\xfd\\\\xc3\\\\xd31\\\\x1a\\\\x13\\\\xfb\\\\xb4\\\\xd6\\\\xcf~\\\\x06\\\\xc7\\\\xdbR\\\\tL\\\\x00\\\\x1c9D-\\\\xf9\\\\x12\\\\xfe\\\\x1e@\\\\xf6\\\\xa5\\\\xf2\\\\xa9\\\\xe9\\\\xfa\\\\x19\\\\xf4\\\\x11\\\\x0f\\\\x00\\\\xe2\\\\x02\\\\xba\\\\x06\\\\xd7\\\\xef\\\\xc8\\\\xdc\\\\x01/\\\\xfc\\\\x1f.\\\\xcfR\\\\xf0\\\\xec@\\\\xf6\\\\xe5\\\\xf9\\\\xdc\\\\xfe\\\\xe7\\\\xd1\\\\xddD\\\\xec\\\\xfd\\\\'\\\\xed\\\\xfe&\\\\x14\\\\xf7\\\\x00\\\\xe8\\\\xcf9\\\\xed%\\\\xe4E\\\\xe1\\\\x19\\\\xd9\\\\x16\\\\x08\\\\xd3 3\\\",\\\\xea\\\\x90\\\\xf8\\\\xea'\",\n          \"b'\\\\x03\\\\x00\\\\x15\\\\x0f\\\\xb6\\\\xe97\\\\xd3<\\\\xf3\\\\x06\\\\x032\\\\x10\\\\xd1\\\\xc4\\\\x04\\\\xfd$\\\\xda\\\\x00\\\\xe7\\\\xe0\\\\xfb3\\\\x1e\\\\xd5\\\\n\\\\xf8\\\\x18\\\\xb7\\\\xc9\\\\xf5/,S\\\\x80\\\\xca\\\\xd3/\\\\xd5\\\\x1e\\\\xef\\\\x1c\\\\x7f\\\\xa8\\\\x10\\\\x1a\\\\xe6\\\\xe3\\\\'\\\\xda#\\\\xe5,\\\\xf0\\\\xd9\\\\x170\\\\xd746\\\\xf0\\\\xef\\\\t\\\\xaa\\\\xe8\\\\xce\\\\xc9\\\\x12\\\\xdd\\\\xf6N\\\\xf6\\\\x16\\\\xb2\\\\xeb*\\\\xf3\\\\xfc\\\\t\\\\xe3\\\\xf0\\\\xc3\\\\x14\\\\x01\\\\xf4\\\\x16\\\\xe7\\\\x0b\\\\xef\\\\xd3\\\\xdfG\\\\xd7\\\\xdd\\\\xca\\\\xec\\\\xda\\\\xc9\\\\n\\\\x1a\\\\n\\\\xcd+\\\\xee\\\\xd7m\\\\xf3\\\\x1d\\\\xe9\\\\x11$\\\\x8f\\\\x07\\\\xcb\\\\xde3\\\\x1c\\\\xe9(\\\\xe0\\\\x1e9\\\\xc7\\\\xfc\\\\xfa\\\\xf9\\\\x04\\\\x06\\\\x80>\\\\xee\\\\x0bRA\\\\x0e\\\\xda5\\\\x1c\\\\xf7\\\\x02 \\\\xe9\\\\xf6\\\\xfd\\\\xd0)$\\\\xf6\\\\xcf\\\\xc4\\\\xf6\\\\xfaR\\\\xde\\\\xa7\\\\xd6\\\\xfd\\\\xc7\\\\xd9\\\\xb9\\\\x13\\\\xeb\\\\xd5\\\\x19\\\\xef\\\\x13\\\\x01\\\\n\\\\n\\\\x03\\\\xf8\\\\r\\\\xff\\\\x03\\\\xff\\\\x08\\\\xe6\\\\x0b\\\\x0b,\\\\xfa\\\\xc7\\\\x1a\\\\x06$\\\\xd0\\\\xfd\\\\xb5\\\\xdd\\\\xf3!M\\\\x08\\\\n\\\\xd4\\\\xc1\\\\x00\\\\x01\\\\xe4C6\\\\xe7\\\\x11\\\\xd4\\\\x99\\\\xfb\\\\xd9\\\";\\\"\\\\xd5\\\\xef*\\\\xa1\\\\xdb0\\\\xf6\\\\x0c\\\\xf5\\\\x17\\\\xed\\\\xf5\\\\xe7\\\\x01\\\\x08\\\\xd4\\\\xf8\\\\xd5\\\\x05\\\\xf0\\\\n,\\\\xf2\\\\x19\\\\xfd\\\\x0e\\\\x0e\\\\xc9\\\\x1e\\\\x18\\\\x14\\\\xb6\\\\xe4\\\\x0e\\\\x1158\\\\xf5\\\\xf0\\\\x0b\\\\xee\\\\xf1\\\\x0f$\\\\xf7\\\\xff$\\\\x1c\\\\xa77\\\\x0b]\\\\xe8\\\\x1d\\\\xf7\\\\xda\\\\xf9\\\\x02\\\\x00\\\\xe6\\\\x18\\\\x07\\\\x00.\\\\x0b\\\\x00\\\\xc0\\\\xfc\\\\x03\\\\x07\\\\x04\\\\xfc\\\\xe9\\\\xf7<\\\\xff\\\\xe7\\\\x0b\\\\xe55?\\\\xff\\\\xea\\\\x01\\\\xf4\\\\xf5\\\\xdd\\\\xd14\\\\xb4\\\\xea0\\\\xdf\\\\xde\\\\xff1\\\\n\\\\x12\\\\r\\\\xc7\\\\x02\\\\xf3\\\\r4\\\\x16\\\\xf5,<?\\\\x02\\\\xfe\\\\x12&\\\\xee/\\\\xc3\\\\xce\\\\t\\\\x19\\\\xee\\\\xfa\\\\xdc\\\\xd2\\\\xf4\\\\x06\\\\xf1\\\\x11b\\\\x08\\\\xda\\\\x13\\\\xe9\\\\x068\\\\xf8\\\\xdf\\\\x0e\\\\x08J\\\\xfc\\\\xfa\\\\xee\\\\xf8\\\\xfd/\\\\xc8\\\\xf3RD\\\\x05\\\\x08\\\\xed\\\\xea\\\\x00\\\\x1c\\\\xe4\\\\xef\\\\xdb9\\\\x1f\\\\xd6\\\\x04\\\\x04\\\\x13K\\\\xf1\\\\xd9\\\\xc4F\\\\xf5\\\\xe3\\\\xf06\\\\x18B\\\\x0f\\\\x04?\\\\x06\\\\xfe\\\\xd8\\\\xfe3\\\\xbd\\\\xcc\\\\x07\\\\xee\\\\xef/\\\\xf0\\\\xc4!\\\\t\\\\xf0\\\\x0b\\\\xc3\\\\xff\\\\xd8%3\\\\x00\\\\xfd\\\\xd9\\\\x1f\\\\xc2.\\\\xef\\\\xfb\\\\x1c\\\\xdd\\\\xe3+\\\\xff&\\\\xfe\\\\xe0\\\\x08\\\\xf0\\\\x1a@\\\\xf3\\\\x0e\\\\xff\\\\x0b\\\\x1bM\\\\xcd\\\\xeb\\\\xd7\\\\xe0\\\\xf6\\\\xf2Z=\\\\x0f!\\\\xf5\\\\x1f2\\\\xa8\\\\xff\\\\xe6J\\\\x1c\\\\x00\\\\x7f\\\\x0c\\\\x1d/\\\\xdc\\\\x17\\\\x0f\\\\x80\\\\xfd\\\\x08\\\\xafT\\\\xe9\\\\x01\\\\x16\\\\xcb>+)\\\\xf8O\\\\x06\\\\xf3\\\\xc8\\\\x03\\\\xf7\\\\x0b\\\\x12\\\\xf7\\\\xf2\\\\x16\\\\xd7\\\\xf1\\\\xf9\\\\n\\\\x15\\\\xbf\\\\x1e\\\\xbd\\\\xcb\\\\r\\\\xfb\\\\x13\\\\xfd\\\\xec\\\\xff\\\\xf3\\\\xfe\\\\x08\\\\xe0\\\\x0e0\\\\xe3\\\\xf2\\\\'\\\\xe0\\\\xd2\\\\x15\\\\x0c\\\\xf4\\\\'\\\\x0c\\\\x03\\\\xfe\\\\xef\\\\xfe\\\\x04M\\\\'\\\\xc1\\\\xe4)\\\\xf6\\\\xd3\\\\x00%\\\\'4\\\\xf5\\\\xef\\\\xee\\\\xe4\\\\x0f\\\\xfa\\\\xea\\\\xd2\\\\xe8,\\\\t\\\\xf2\\\\xe5\\\\xd4\\\\xe4\\\\xfd\\\\xda\\\\xf0\\\\xfa\\\\xf5\\\\xc6\\\\xa7\\\\xf2\\\\xe5)\\\\n\\\\xd9\\\\x02\\\\x18\\\\xe1\\\\xed\\\\x04\\\\x01\\\\x16\\\\xea\\\\x11\\\\xde\\\\xfc\\\\xc9\\\\x11\\\\x02\\\\xd6\\\\x03\\\\x0e\\\\xf1#\\\\x01\\\\xc1\\\\r,\\\\xea\\\\xfcT\\\\xc4#\\\\x12@\\\\x1e\\\\xce\\\\xe5\\\\xcb \\\\x0b\\\\x13\\\\xfa\\\\xf1\\\\x1a\\\\xe6\\\\x11\\\\x03\\\\xee\\\\x1a5\\\\x02\\\\x04\\\\xd3_\\\\xf4\\\\x18\\\\x15\\\\xa4)o\\\\xacVH\\\\xe9,\\\\x1a\\\\xfb\\\\x03\\\\x01\\\\xd9$\\\\xfd\\\\xe9&\\\\xe2\\\\x1b&\\\\xf71\\\\xfd\\\\xfd\\\\xe3\\\\xbfE\\\\x0f\\\\xd6\\\\xa7\\\\x0c\\\\x00\\\\x05\\\\xfa\\\\xef\\\\xe4\\\\xec\\\\x10\\\\x06\\\\x03\\\\xf4\\\\xde\\\\x04\\\\xe0\\\\x02\\\\xe3\\\\xed\\\\xcf\\\\r\\\\xfc\\\\x01 \\\\xff\\\\x0f\\\\x08\\\\x02\\\\xfd\\\\xee\\\\xd9)\\\\xda\\\\xdf%\\\\x0f\\\\x00\\\\x07\\\\xfb\\\\xff\\\\xef\\\\xffA\\\\xcc`\\\\x05\\\\xc1\\\\xb5\\\\xc6\\\\xdej\\\\x8b6f\\\\x8b\\\\xd6\\\\xb7\\\\xea\\\\t(\\\\xa8\\\\x02\\\\x9d\\\\x0c\\\\xe3\\\\xb0\\\\x07\\\\r\\\\x04\\\\x004\\\\xbe\\\\xd7\\\\xd2\\\\xf8\\\\x13$\\\\x10 \\\\x05\\\\x11A\\\\xcf\\\\x08\\\\x03\\\\x13\\\\x1f\\\\xeb\\\\xce\\\\x17\\\\xf1\\\\x06\\\\xf8\\\\xd6\\\\xfc0\\\\x07\\\\r\\\\x1d\\\\xf5\\\\x0e\\\\x17\\\\x11\\\\xfcV\\\\x0c%\\\\xef\\\\xe3\\\\xf9\\\\x1f\\\\xb8,*)\\\\xd36\\\\xe8\\\\x1d\\\\xf9\\\\x11\\\\xeb\\\\xdc\\\\xf2\\\\xf6h6\\\\xff\\\\xe5\\\\xee\\\\xdd\\\\xeb\\\\xd5x$\\\\x0e\\\\xe0\\\\xf4\\\\xeb\\\\x0f\\\\xd5\\\\x1a\\\\x0f\\\\xee4\\\\xda\\\\r\\\\xc5\\\\xbb\\\\x06-\\\\x19\\\\x16+\\\\x17\\\\xf8\\\\n\\\\x19\\\\xdf5\\\\x14\\\\xe6\\\\xe6\\\\xd4\\\\xc6_\\\\xe6\\\\xeb\\\\x15\\\\n\\\\xe4\\\\x1a\\\\xdc#\\\\x06\\\\xf2\\\\xf4\\\\x0c\\\\xc8\\\\x131\\\\xfc\\\\x0c\\\\xb55%\\\\xab\\\\xe9\\\\x18\\\\x19\\\\xfa%\\\\xfd\\\\x1b;\\\\x1fa\\\\xba\\\\x1eK\\\\xc8\\\\'/\\\\xe4\\\\xbe\\\\xf2\\\\x00\\\\xb3#\\\\x16\\\\xf70\\\\xff\\\\x07\\\\xe5*\\\\xd8\\\\xc5\\\\xc0\\\\xe4\\\\x1c+\\\\x10\\\\xd85\\\\xe9\\\\xfa3\\\\xfd\\\\x0b;\\\\xfa+\\\\xed-\\\\x0e\\\\x160\\\\xf0\\\\xf9\\\\xe75\\\\x02\\\\r\\\\xb3\\\\x1e\\\\x16\\\\xf7\\\\xf8\\\\x0e\\\\xf0\\\\xf3\\\\x11\\\\xc7\\\\x01\\\\x19\\\\xff\\\\x16\\\\x88M\\\\x08#\\\\xd0\\\\x0f\\\\xe7\\\\xe6\\\\xcd\\\\xbd\\\\xcc)\\\\xe1\\\\xe8\\\\t\\\\x13\\\\xd8\\\\xd3\\\\xcf\\\\x06\\\\xcf\\\\xe4\\\\xec\\\\xe4!C2\\\\xe2\\\\x8e\\\\xe6\\\\xe9\\\\xe1\\\\xc6\\\\xf9T\\\\x18\\\\xf4\\\\xd3\\\\xf5\\\\x13\\\\xde\\\\xe7\\\\xe4\\\\xe92\\\\xfe\\\\x1e\\\\x03\\\\xf5*7I\\\\xe0\\\\xc1$\\\\x067\\\\x04!\\\\x12\\\\xe2\\\\x05\\\\x02\\\\xef\\\\xdc1\\\\xfa\\\\x08\\\\x07\\\\xf7\\\\xc75\\\\xb8\\\\xdd\\\\xc8\\\\xe0\\\\xec \\\\xe3\\\\x11\\\\xf6\\\\xe0\\\\x10\\\\xf2\\\\x19?\\\\x04\\\\xdf\\\\x11\\\\xe1\\\\xdf\\\\t\\\\xfd\\\\xbd\\\\x0f\\\\xc8\\\\xf9\\\\xf1.\\\\xf2&\\\\x07\\\\x0e\\\\xf9\\\\xfd\\\\xe5c\\\\n9\\\\xec\\\\xca\\\\xbc7\\\\xe3\\\\xee\\\\xf0\\\\xfb0\\\\x19@0\\\\xe5\\\\x0f\\\\xf0\\\\xf0'\",\n          \"b'\\\\x03\\\\x00\\\\x05\\\\xcb\\\\r\\\\xc1\\\\xc3!\\\\xca\\\\x07\\\\x08\\\\x08\\\\x07\\\\x0e\\\\xcf\\\\xd9\\\\xf9\\\\xfc\\\\x1c#\\\\x11\\\\xee\\\\xf9\\\\x06\\\\xe7!\\\\x0b\\\\xce\\\\t\\\\xfe\\\\x02\\\\xf6\\\\x0c\\\\x13#\\\\xea\\\\x02/\\\\x04\\\\x02\\\\x06\\\\x11[\\\\xcd\\\\x7f\\\\xd0S\\\\x147\\\\xbb)\\\\xfb\\\\xea\\\\xbf\\\\xee\\\\xdf\\\\xcc\\\\xdb\\\\x95H\\\\x1f\\\\x7f\\\\r\\\\xfd\\\\xcf\\\\x84\\\\xe7\\\\xf8\\\\xf7\\\\xfc\\\\x19\\\\xe1\\\\xfa\\\\xfa\\\\x01\\\\xcd\\\\xde\\\\xef\\\\xe8\\\\xd2\\\\x1a\\\\xee\\\\x13\\\\r\\\\xdf\\\\xee\\\\xf2\\\\x07\\\\xf4\\\\xea\\\\x00\\\\xe3\\\\xe4\\\\xc7\\\\xeb\\\"\\\\x00\\\\xe0\\\\x04\\\\xce\\\\x1c\\\\x11D\\\\xae8\\\\xed\\\\xf9T\\\\xfd\\\\xe6\\\\xe9\\\\x06\\\\x02\\\\xd1\\\\r\\\\xc4\\\\x07\\\\x0e\\\\xdf3\\\\x15\\\\xef\\\\xd1\\\\xf2\\\\x06\\\\x00\\\\x15\\\\x10\\\\x03\\\\xf9\\\\xd7\\\\r\\\\xd5$+\\\\x17\\\\xf3\\\\xef.\\\\xbd\\\\xed\\\\x07#\\\\xff\\\\xfb\\\\xe4*\\\\xe5\\\\x11 \\\\x0f/\\\\xf1<\\\\\\\\\\\\xcf\\\\x80\\\\xc7\\\\xd1\\\\xd7\\\\xda\\\\xb9\\\\x1a\\\\xf9\\\\x15\\\\x12\\\\t\\\\xfa\\\\xed\\\\xfb\\\\r\\\\xdf\\\\xb3\\\\x1f%\\\\xd2\\\\xf5\\\\xff\\\\xd9\\\\x18\\\\xfa35\\\\xdc\\\\xd1@\\\\xc2\\\\xf8\\\\x0b4<\\\\x028\\\\xe2\\\\xec\\\\x16\\\\x06\\\\xdc\\\\xfe\\\\x04\\\\xfa\\\\xe2\\\\xb8\\\\x02\\\\x1c.F\\\\xee\\\\x0f\\\\x07X\\\\x18\\\\xda\\\\xe5\\\\x1d\\\\xf8\\\\xd7\\\\xf0\\\\xd2\\\\x05\\\\xc5K\\\\xe0\\\\xd0\\\\xc4\\\\x1c\\\\x1e\\\\xdf\\\\xf5\\\\xd9\\\\x1f\\\\x03\\\\xeb \\\\xd7\\\\xe4\\\\xef\\\\x16\\\\x1f\\\\xf7\\\\x0e\\\\x13@\\\\x00\\\\xed\\\\xcaC\\\\x15\\\\'\\\\xb9\\\\xf7\\\\x1f\\\\x03\\\\x00 \\\\xff\\\\x16!\\\\x0f\\\\x0f\\\\xfa\\\\x0f\\\\xfdn\\\\x11,\\\\x0f\\\\xeb4D%\\\\xc7\\\\xed\\\\n\\\\xf1\\\\xfc\\\\xe6\\\\xd1\\\\x00\\\\x00\\\\xd8\\\\xce\\\\xf6\\\\x12\\\\n\\\\xfb\\\\x17\\\\xdd\\\\x06\\\\xea\\\\x9c\\\\xe7\\\"\\\\xf5\\\\xb9\\\\xfd\\\\xe6\\\\xf0\\\\x18\\\\x10\\\\x1e\\\\xd9\\\\xf3-\\\\xe3\\\\x05\\\\x07\\\\x13)\\\\x07\\\\x11\\\\xdd\\\\x01\\\\r\\\\x07\\\\t\\\\xd7\\\\xf8\\\\xe8\\\\x01\\\\x1eQ\\\\x80.\\\\xe7.3\\\\x16\\\\x18\\\\x0fP\\\\xe1\\\\xe3\\\\xed\\\\xb6\\\\xbe\\\\x06\\\\xff\\\\x02#\\\\xf0\\\\xb2\\\\xf9\\\\xee\\\\xfa$\\\\xed7\\\\xd3\\\\x1a\\\\xcb\\\\xf2\\\\xf3\\\\xcb\\\\xe7\\\\x0f$\\\\x15\\\\xf7*%\\\\xf0J\\\\x1c&\\\\xe1\\\\xa7\\\\xdb3\\\\xf6c7\\\\x0b\\\\x17+\\\"9\\\\xa7\\\\x04\\\\xe3\\\\n\\\\xff\\\\x03\\\\xf1\\\\x19\\\\xda\\\\xf5-,F\\\\x00\\\\xcc\\\\xe9F<\\\\xde\\\\xea\\\\xf8\\\\xf5\\\\xe3\\\\x0c\\\\xf1\\\\x1b\\\\x1a\\\\t\\\\xf8\\\\xf2\\\\xeb\\\\x14\\\\x05!Y\\\\xef\\\\xf6\\\\x00\\\\xf6\\\\xe4/\\\\xbf\\\\xfb\\\\xe7<\\\\x08\\\\n\\\\xeb\\\\x15\\\\x1f\\\\xf1\\\\t\\\\xe2AA\\\\x03\\\\t\\\\x01\\\\xfd\\\\xdc\\\\x05\\\\xd1\\\\xf5\\\\xd9\\\\xde\\\\xef\\\\x029\\\\x1d\\\\xf9 \\\\x04\\\\xfb\\\\x0f%\\\\xe7\\\\xfd\\\\xf6\\\\x0f\\\\xd7\\\\x0e\\\\xc5\\\\x05R\\\\xce\\\\x9d\\\\xf5\\\\xf7\\\\xda\\\\xe9\\\\x01\\\\xff\\\\x14\\\\xe5\\\\x00\\\\x06\\\\x01\\\\x1e\\\\xdb\\\\x17\\\\xc6\\\\x1e\\\\xee\\\\x1f\\\\xcd\\\\xdc#\\\\x06\\\\x03\\\\xe7\\\\x12\\\\xde\\\\xc8\\\\x04\\\\xeb\\\\xd8\\\\xeb\\\\n\\\\xf6\\\\xea\\\\x01\\\\xefJ\\\\x02\\\\xd1\\\\x01\\\\xfe\\\\x16\\\\t\\\\x00K\\\\x16\\\\xe3\\\\xf9\\\\xe2\\\\xf4\\\\xa7\\\"\\\\xd1\\\\x12\\\\xf6V\\\\xa4J\\\\x18&\\\\x1d2\\\\x1f\\\\xc7\\\\xfe\\\\x11\\\\xcf\\\\x00\\\\xee\\\\xf5\\\\xe7\\\\xf5\\\\x18\\\\',\\\\xec\\\"\\\\x0b\\\\xd3\\\\xea\\\\xdd\\\\x07\\\\xdc\\\\xf4\\\\xe9\\\\x0b\\\\xe9\\\\xee\\\\xb6\\\\x163\\\\x0b\\\\xf3\\\\xda\\\\x1c\\\\t\\\\xd6\\\\xedF\\\\x18F\\\\xec\\\\xc2O\\\\x12\\\\r\\\\xc1\\\\xef\\\\xec\\\\xd0\\\\xdc\\\\xd0\\\\xd4\\\\x02\\\\x07\\\\xed\\\\xf18R\\\\x07\\\\n\\\\xc4\\\\x9a\\\\xaf\\\\x0c?\\\\xe9\\\\xea\\\\x03L\\\\xe8\\\\xe2  \\\\x10\\\\x0b\\\\xd0:\\\\x00\\\\xed\\\\xfe\\\\x0c\\\\xde\\\\x1d\\\\x07\\\\x05\\\\xec\\\\xd9\\\\x19!\\\"\\\\x0b\\\\xe3\\\\x19\\\\x02\\\\xed\\\\x01\\\\xfb\\\\xdf)\\\\xf3\\\\x18.\\\\xda,>F\\\\xef\\\\x1b.\\\\xf6\\\\xe5\\\\x9f\\\\x06E\\\\x18\\\\x17\\\\xf8\\\\xeb\\\\xf0\\\\x0e\\\\xc3*\\\\xf8\\\\xf6\\\\x04\\\\xd5\\\\xd5\\\\xf5\\\\x19\\\\x0e\\\\x11\\\\xf8\\\\xea\\\\xe8\\\\x00\\\\x0e\\\\t\\\\xbf\\\\xc2\\\\xf4\\\\xf8\\\\xe3\\\\xd5\\\\xef\\\\x0e\\\\x1e\\\\xdc\\\\x1c\\\\xdb.\\\\xd4\\\\xc4\\\\x0eY\\\\x175C\\\\xb3\\\\x06\\\\x00\\\\x00%\\\\xc1*\\\\xca\\\\xec\\\\x00\\\\xcb\\\\x1eK\\\\xdf\\\\x172\\\\x07\\\\xcb\\\\xa4\\\\xc9\\\\x1d1\\\\xb1\\\\x19\\\\x9d\\\\xfa\\\\x00\\\\x06,\\\\x19\\\\xfd3 \\\\xb1\\\\xed\\\\x00\\\\xfc\\\\x03\\\\x0f\\\\x08\\\\x00\\\\xfa\\\"7\\\\xfd!\\\\x11\\\\xd2\\\\xfe\\\\x03\\\\xee\\\\x12\\\\x02\\\\xe1 \\\\x07^\\\\x03\\\\xeb\\\\xda\\\\xfa\\\\xff\\\\x08\\\\x18\\\\x08\\\\xf6<\\\\x14-\\\\xf8\\\\x00\\\\xfa\\\\xff\\\\xdf\\\\xc8\\\\x0c\\\\xa7\\\\xce(\\\\x00\\\\r\\\\xc8\\\\x08\\\\xf4\\\\xda?\\\\xfd.H\\\\x05\\\\xef\\\\xe2\\\\xd1\\\\xf0\\\\xe1t%\\\\xbeD\\\\x0b\\\\\\\\\\\\x05U\\\\xcf\\\\xd9\\\\xdb4\\\\x06.\\\\xb5\\\\xe8\\\\x06:\\\\x127\\\\xe9\\\\xcf-\\\\x1b\\\\'\\\\xd5\\\\xea\\\\x12\\\\xe7\\\\x1e\\\\x04\\\\xe5(%2\\\\xfc$\\\\xfd\\\\xf3\\\\x1e+W\\\\xc7\\\\xc6\\\\x12`\\\\xfd\\\\x18\\\\x1e\\\\x14\\\\xee\\\\x01:\\\\xd3\\\\xe2\\\\xe7\\\"\\\\xe9\\\\r\\\\r\\\\x164\\\\xe9/\\\\xcf\\\\x16.\\\\x0f\\\\x1d\\\\x1a\\\\x06\\\\xec*\\\\xf6\\\\t,F\\\\xd2\\\\x0c\\\\x08\\\\x0b\\\\xe0\\\\xea\\\\xcc\\\\xf5G\\\\x0f\\\\xef\\\\xd2!\\\\xdbu\\\\xeb\\\\xd1]\\\\xdf&n\\\\xf4\\\\xce\\\\xe3\\\\xfd\\\\xfa\\\\xe4\\\\x03\\\\xee\\\\x00\\\\x05\\\\x1d\\\\xf9\\\\x07\\\\xde\\\\t#*\\\\x14\\\\x14\\\\xb5\\\\xf4\\\\xf4\\\\xe6*\\\\xe6\\\\x1e\\\\xf7\\\\xee\\\\xf6\\\\xef!\\\\xfb\\\\x03\\\\xf2D\\\\xcc\\\\xc1\\\\xc1\\\\x1d\\\\x8d\\\\xb9\\\\x93&$\\\\xd6\\\\xff\\\\xf9d\\\\xe1\\\\x1b\\\\xdb\\\\xf7\\\\xdb\\\\x08\\\\xa2\\\\xdf!\\\\xf8\\\\x0b\\\\xea\\\\xdf\\\\x1f!\\\\xeb\\\\xdbB\\\\xef\\\\xf8\\\\xfc\\\\xe18\\\\x1c\\\\xde\\\\x19\\\\x0b\\\\xed\\\\x1b)0\\\\xc6\\\\xbd$\\\\x00#\\\\x1a;A\\\\xe7\\\\xd7\\\\xd8\\\\x02\\\\xebA\\\\x1c\\\\xf3\\\\xcd!\\\\xf8\\\\xc4%\\\\xfd\\\\x1e#\\\\xd2#\\\\xf2\\\\r\\\\x0f\\\\xddI\\\\x07\\\\xdf\\\\x0b.\\\\xe3\\\\x0c\\\\xfa\\\\x01\\\\x10\\\\x03\\\\x01\\\\xe9\\\\x0e8\\\\xff\\\\xe6\\\\xe4\\\\xf6\\\\x00\\\\x00\\\\xe8\\\\xe1\\\\xcdz\\\\x01\\\\x7f\\\\xe5\\\\xf8\\\\xf2\\\\x14\\\\xfd\\\\x031\\\\xc4-(<\\\\x1a\\\\xf9^\\\\x0f\\\\xf7'\"\n        ],\n        \"semantic_type\": \"\",\n        \"description\": \"\"\n      }\n    },\n    {\n      \"column\": \"bson_float32_embedding\",\n      \"properties\": {\n        \"dtype\": \"string\",\n        \"num_unique_values\": 5183,\n        \"samples\": [\n          \"b'\\\\'\\\\x00\\\\x00\\\\xe0\\\\xd1<\\\\x00 ,\\\\xbc\\\\x00`>\\\\xbc\\\\x00\\\\xa0K\\\\xbd\\\\x00\\\\x00@<\\\\x00\\\\x80\\\\x12\\\\xbc\\\\x00\\\\x80O\\\\xbc\\\\x00`\\\\x1c<\\\\x00@\\\\x18=\\\\x00@\\\\xa0=\\\\x00\\\\xa0 =\\\\x00 \\\\x90\\\\xbc\\\\x00 \\\\xcd=\\\\x00\\\\xc0\\\\x07\\\\xbd\\\\x00`\\\\x90\\\\xbc\\\\x00\\\\xa0H=\\\\x00\\\\x80\\\\x1b;\\\\x00\\\\xe0\\\\xf2\\\\xbc\\\\x00\\\\xe04;\\\\x00 `\\\\xbc\\\\x00 \\\\xb2\\\\xba\\\\x00`\\\\x84:\\\\x00\\\\xe0\\\\x08<\\\\x00 1\\\\xbd\\\\x00\\\\x00\\\\x84<\\\\x00\\\\xe0p<\\\\x00\\\\xe0\\\\xbb\\\\xbc\\\\x00\\\\x00\\\\xd1\\\\xbc\\\\x00\\\\xa0\\\\xd8;\\\\x00\\\\xa0\\\\x91\\\\xbb\\\\x00 \\\\xa4;\\\\x00@*<\\\\x00\\\\x00e=\\\\x00 \\\\x18\\\\xbd\\\\x00\\\\xc0c\\\\xbc\\\\x00\\\\x00\\\\x0f\\\\xbd\\\\x00@\\\\xa7<\\\\x00\\\\xa0\\\\x10\\\\xbd\\\\x00 \\\\xfe\\\\xbc\\\\x00\\\\x80\\\\x13<\\\\x00@\\\\x1d<\\\\x00\\\\x00\\\\xaa:\\\\x00@\\\\x11>\\\\x00@\\\\x91\\\\xbc\\\\x00`0=\\\\x00\\\\xe0\\\\xd4<\\\\x00 \\\\xae\\\\xbb\\\\x00@\\\\x84\\\\xbd\\\\x00`\\\\x81<\\\\x00\\\\x00b;\\\\x00\\\\xc0\\\\x84<\\\\x00\\\\xc0\\\\x03\\\\xbd\\\\x00\\\\xc0Y<\\\\x00\\\\x80\\\\x0f=\\\\x00@\\\\x12\\\\xbc\\\\x00\\\\xe0\\\\xa1\\\\xba\\\\x00@\\\\xa9\\\\xbb\\\\x00\\\\xe0\\\\x18\\\\xbd\\\\x00@\\\\xac\\\\xba\\\\x00\\\\xa05:\\\\x00 \\\\xdd<\\\\x00\\\\x00\\\\x91<\\\\x00\\\\x00Z<\\\\x00\\\\x80\\\\t=\\\\x00`\\\\x98<\\\\x00\\\\x80f\\\\xbc\\\\x00`\\\\x17\\\\xbd\\\\x00\\\\xc0\\\\xab<\\\\x00\\\\xc0\\\\x9c\\\\xbb\\\\x00\\\\x00\\\\xb1<\\\\x00\\\\xa0\\\\x01=\\\\x00\\\\xe0\\\\x07\\\\xbd\\\\x00\\\\x80\\\\xe8\\\\xbb\\\\x00`\\\\xad\\\\xbc\\\\x00\\\\xc0\\\\x9a\\\\xbb\\\\x00@\\\\x91<\\\\x00\\\\xe0~<\\\\x00\\\\xc0Q<\\\\x00\\\\xe0\\\\xf1\\\\xbb\\\\x00 \\\\xf2;\\\\x00\\\\xe0\\\\xd4<\\\\x00\\\\xa0H=\\\\x00\\\\x00\\\\x9d\\\\xbb\\\\x00\\\\x80E=\\\\x00\\\\x80%\\\\xbd\\\\x00\\\\xa0>=\\\\x00\\\\x80\\\"\\\\xbc\\\\x00`8\\\\xbd\\\\x00\\\\x80\\\\x93\\\\xbc\\\\x00@*\\\\xbc\\\\x00\\\\xc0\\\\x85\\\\xbc\\\\x00\\\\xe0\\\\x0e\\\\xbb\\\\x00\\\\x00\\\\x1a\\\\xbd\\\\x00`F=\\\\x00\\\\xc0L<\\\\x00\\\\xc0\\\\x85\\\\xbb\\\\x00\\\\xe0\\\\xd9<\\\\x00\\\\x80\\\\x1e\\\\xbc\\\\x00\\\\xe0\\\\x0c<\\\\x00@\\\\xe4<\\\\x00\\\\xa0\\\\xd1\\\\xba\\\\x00\\\\x00M\\\\xbd\\\\x00\\\\xa0)=\\\\x00 \\\\xb9\\\\xbc\\\\x00\\\\xe0\\\\xa9\\\\xbc\\\\x00 \\\\xf6\\\\xbc\\\\x00\\\\xa0\\\\x8c<\\\\x00 \\\\x8b<\\\\x00\\\\x80&<\\\\x00\\\\xa00=\\\\x00`\\\\x14\\\\xbd\\\\x00`\\\\x9d<\\\\x00 \\\\xc3\\\\xbc\\\\x00 \\\\x90\\\\xbd\\\\x00`\\\\xb4\\\\xbb\\\\x00\\\\x00Q=\\\\x00\\\\xc0\\\\x87\\\\xbc\\\\x00\\\\x00\\\\xd2<\\\\x00`\\\\xf8<\\\\x00`\\\\x1f<\\\\x00`\\\\xe5<\\\\x00 \\\\xa3=\\\\x00\\\\xa0\\\\x9b\\\\xbd\\\\x00 \\\\xf6<\\\\x00`\\\\xf4\\\\xbc\\\\x00\\\\x00\\\\xf8;\\\\x00 A=\\\\x00\\\\xa07\\\\xbd\\\\x00\\\\xc0\\\\x92\\\\xbd\\\\x00\\\\x80y=\\\\x00\\\\xc0\\\\xf7\\\\xbc\\\\x00\\\\xa0?\\\\xbd\\\\x00@\\\\x95=\\\\x00\\\\xe0\\\\x8e=\\\\x00 \\\\xd4<\\\\x00@\\\\x1c\\\\xbd\\\\x00\\\\xa0\\\\t<\\\\x00\\\\x80,\\\\xbd\\\\x00\\\\xc0\\\\xe9\\\\xbc\\\\x00\\\\x00\\\\xaf\\\\xbb\\\\x00@C=\\\\x00\\\\xe0\\\\x15<\\\\x00\\\\xe0\\\\xe3\\\\xbb\\\\x00\\\\x005;\\\\x00\\\\x80/\\\\xbc\\\\x00`\\\\x8d\\\\xbc\\\\x00\\\\xa0\\\\xa3;\\\\x00\\\\xe0\\\\xc8<\\\\x00@B;\\\\x00 \\\\xa6<\\\\x00\\\\xa0\\\\xd6\\\\xbc\\\\x00\\\\xc0\\\\xa8<\\\\x00`\\\\x8c=\\\\x00 \\\\xcb\\\\xbc\\\\x00\\\\xe0\\\\xd8\\\\xbd\\\\x00 \\\\xab\\\\xbd\\\\x00\\\\x80R\\\\xbd\\\\x00 \\\\xe7\\\\xbc\\\\x00 \\\\xb3;\\\\x00 \\\\xae\\\\xbd\\\\x00\\\\xc0\\\\x17;\\\\x00\\\\xa0p\\\\xbc\\\\x00\\\\xe00;\\\\x00\\\\xa0\\\\r\\\\xbc\\\\x00\\\\x00\\\\xfd\\\\xbb\\\\x00`j;\\\\x00\\\\x00\\\\xeb\\\\xbc\\\\x00\\\\x00\\\\xa8<\\\\x00`\\\\xc4<\\\\x00@\\\\x1c=\\\\x00\\\\x00\\\\xfe;\\\\x00 G\\\\xbc\\\\x00 \\\\x17\\\\xbb\\\\x00 \\\\'<\\\\x00\\\\xa0\\\\xc1;\\\\x00 \\\\xb0;\\\\x00 \\\\x8e<\\\\x00 \\\\x82\\\\xbd\\\\x00\\\\xc0H\\\\xbc\\\\x00\\\\x80\\\\xb1=\\\\x00\\\\xa0\\\\x9a<\\\\x00\\\\xa0\\\\x82\\\\xbc\\\\x00\\\\xa0X\\\\xbd\\\\x00@\\\\xed<\\\\x00 [;\\\\x00@#\\\\xbd\\\\x00 \\\\x01=\\\\x00@\\\\xdc\\\\xba\\\\x00 \\\\x95:\\\\x00\\\\xc0^<\\\\x00@\\\\xa0<\\\\x00\\\\x00\\\\xc2<\\\\x00\\\\xc0/\\\\xbd\\\\x00`\\\\n=\\\\x00@N\\\\xbd\\\\x00\\\\xe0\\\\x12\\\\xbd\\\\x00 \\\\x10=\\\\x00`\\\\xba<\\\\x00@9\\\\xbb\\\\x00@\\\\x9b;\\\\x00\\\\x00\\\\x82=\\\\x00\\\\xa0\\\\xa7\\\\xbb\\\\x00\\\\xc0\\\\xcb<\\\\x00 t\\\\xbd\\\\x00 \\\\xd6\\\\xbc\\\\x00\\\\xa0\\\\xb4\\\\xbc\\\\x00\\\\x80\\\\x8c:\\\\x00\\\\xa0\\\\x89<\\\\x00\\\\xc0\\\\x0c=\\\\x00`\\\\xfc<\\\\x00\\\\xa0\\\\x83\\\\xbc\\\\x00`U\\\\xbc\\\\x00\\\\x00\\\\xa7<\\\\x00\\\\x00\\\\x02\\\\xbd\\\\x00\\\\x80%\\\\xbd\\\\x00`P\\\\xbc\\\\x00@8\\\\xbd\\\\x00\\\\x80\\\\x13\\\\xbc\\\\x00\\\\xa0\\\\xc1\\\\xbb\\\\x00\\\\xa0\\\"=\\\\x00\\\\xe0\\\\x07\\\\xbd\\\\x00 \\\\xcc<\\\\x00\\\\xe0\\\\xbd\\\\xbc\\\\x00\\\\x80\\\\x0f\\\\xbd\\\\x00@\\\\x80<\\\\x00\\\\xc0\\\\xfb\\\\xbc\\\\x00\\\\xa0\\\\x0c\\\\xbc\\\\x00\\\\xa0\\\\xd6\\\\xbc\\\\x00\\\\xe0\\\\x12\\\\xbd\\\\x00\\\\xc0\\\\xec<\\\\x00 \\\\xa7\\\\xbd\\\\x00\\\\xe0\\\\xce<\\\\x00\\\\xa0\\\\xb6\\\\xbc\\\\x00\\\\x80\\\\x86\\\\xbd\\\\x00@\\\\x88\\\\xbd\\\\x00@\\\\x9c\\\\xbb\\\\x00@\\\\xb5\\\\xbc\\\\x00\\\\x00\\\\x97\\\\xbc\\\\x00@r\\\\xbc\\\\x00\\\\xe0_=\\\\x00\\\\xc0\\\\xc9<\\\\x00@x;\\\\x00\\\\x00\\\\xb3\\\\xbc\\\\x00@\\\\x94\\\\xbc\\\\x00\\\\xc0\\\\x9f=\\\\x00 w\\\\xbc\\\\x00 \\\\xb2\\\\xbb\\\\x00\\\\xc0E\\\\xbc\\\\x00 \\\\xd0\\\\xbb\\\\x00\\\\x00u<\\\\x00`\\\\x17=\\\\x00\\\\xc0\\\\xf8<\\\\x00\\\\x00\\\\xd7<\\\\x00@==\\\\x00\\\\xe0\\\\x80<\\\\x00 \\\\xae<\\\\x00 \\\\xbb\\\\xbc\\\\x00`\\\\xde\\\\xbc\\\\x00 \\\\xaf;\\\\x00@T<\\\\x00\\\\xc0\\\\x83<\\\\x00\\\\xc01\\\\xbc\\\\x00\\\\xa0\\\\xd5\\\\xbb\\\\x00\\\\x80T\\\\xbc\\\\x00 \\\\xa0\\\\xbc\\\\x00\\\\xe07<\\\\x00\\\\xe0\\\\xfc\\\\xbc\\\\x00`\\\\xa8\\\\xbc\\\\x00\\\\xc0\\\\xd1\\\\xbb\\\\x00`\\\\x07=\\\\x00\\\\xa0\\\\x81<\\\\x00\\\\xe0\\\\xc8\\\\xbd\\\\x00`\\\\x04<\\\\x00@\\\\x07=\\\\x00 \\\\xe0;\\\\x00\\\\xe08\\\\xbd\\\\x00\\\\x00/<\\\\x00 \\\\xb6\\\\xbc\\\\x00@u\\\\xba\\\\x00 \\\\x89\\\\xbc\\\\x00\\\\xa0\\\\x81;\\\\x00\\\\xe0#=\\\\x00\\\\xe0\\\\xdb<\\\\x00\\\\xe0\\\\xaa\\\\xbc\\\\x00 \\\\x9c;\\\\x00`\\\\xe2\\\\xbc\\\\x00`J;\\\\x00\\\\xc0\\\\x8a\\\\xba\\\\x00\\\\x80\\\\xaa\\\\xbc\\\\x00`\\\\x90\\\\xbb\\\\x00\\\\xe0`<\\\\x00\\\\x80E<\\\\x00 \\\\xa7\\\\xbc\\\\x00\\\\x007;\\\\x00\\\\x80o=\\\\x00`\\\\xbb\\\\xbc\\\\x00\\\\xe0y\\\\xbc\\\\x00\\\\x80!=\\\\x00\\\\xc0\\\\xc3\\\\xbb\\\\x00@\\\\xe7\\\\xbb\\\\x00\\\\xe08\\\\xbd\\\\x00\\\\x80\\\\xe6<\\\\x00@W\\\\xbb\\\\x00\\\\xa0\\\\x1a\\\\xbd\\\\x00\\\\x00\\\\xd8<\\\\x00\\\\xc0\\\\x1d=\\\\x00\\\\xe0\\\\x90=\\\\x00\\\\xe0\\\\xc7\\\\xbb\\\\x00@\\\\xbe;\\\\x00@-=\\\\x00 \\\\xa5\\\\xbd\\\\x00 *\\\\xbd\\\\x00 \\\\x83=\\\\x00\\\\x00\\\\x9c=\\\\x00@\\\\xea<\\\\x00\\\\x00\\\\x01<\\\\x00\\\\x80\\\\xbd<\\\\x00\\\\xc0\\\\xa2=\\\\x00`\\\\xb8<\\\\x00\\\\x00\\\\x0f\\\\xbd\\\\x00\\\\xc0c\\\\xbd\\\\x00\\\\x803\\\\xbc\\\\x00\\\\xc0%<\\\\x00@\\\\xda:\\\\x00 ;<\\\\x00`\\\\x07<\\\\x00\\\\xa0+\\\\xbc\\\\x00`\\\\xaa;\\\\x00\\\\xa0\\\\n\\\\xbd\\\\x00\\\\x00\\\\xd9;\\\\x00\\\\xe0*;\\\\x00\\\\xe0\\\\xf7\\\\xbc\\\\x00`\\\\xdf\\\\xbc\\\\x00\\\\xa0\\\\x02;\\\\x00 e\\\\xbb\\\\x00\\\\x00\\\\xe5;\\\\x00\\\\xe07\\\\xbc\\\\x00\\\\xc0\\\\n=\\\\x00`\\\\x08\\\\xbd\\\\x00\\\\x00Z\\\\xbd\\\\x00 \\\\x89\\\\xbd\\\\x00`\\\\xd4\\\\xbd\\\\x00\\\\x80G;\\\\x00\\\\x00\\\\x85\\\\xbc\\\\x00 \\\\xc3\\\\xbc\\\\x00 \\\\xb9;\\\\x00\\\\xa0\\\\xe6\\\\xbc\\\\x00 \\\\x04<\\\\x00`\\\\x0b\\\\xbc\\\\x00@\\\\xcb;\\\\x00@\\\\'<\\\\x00@\\\\xed\\\\xbb\\\\x00\\\\x80o<\\\\x00@\\\\xbf\\\\xbb\\\\x00\\\\xa0/=\\\\x00\\\\xe0\\\\r\\\\xbd\\\\x00@(\\\\xbd\\\\x00@\\\\x01=\\\\x00\\\\x00\\\\x11=\\\\x00\\\\xe0\\\\xa1\\\\xbc\\\\x00\\\\x80 \\\\xbd\\\\x00\\\\xa0\\\\xb4\\\\xbb\\\\x00\\\\xa0\\\\x82\\\\xbd\\\\x00 \\\\xc9\\\\xbc\\\\x00\\\\xe0\\\\x01=\\\\x00`\\\\x0c<\\\\x00\\\\x80\\\\xa7\\\\xbc\\\\x00`S<\\\\x00\\\\x80<=\\\\x00`==\\\\x00\\\\x00F\\\\xbb\\\\x00\\\\xa0\\\\xf0\\\\xb9\\\\x00@ \\\\xbc\\\\x00\\\\x80g\\\\xbc\\\\x00\\\\x00\\\\xc6<\\\\x00`C\\\\xbc\\\\x00@\\\\x0e\\\\xbd\\\\x00\\\\xe0v\\\\xbd\\\\x00\\\\xe0\\\\xbe<\\\\x00@\\\\xfb\\\\xbc\\\\x00@\\\\x10\\\\xbd\\\\x00\\\\xe0\\\\x1b\\\\xbd\\\\x00\\\\xe0\\\\xa9<\\\\x00@\\\\x0c;\\\\x00@0=\\\\x00\\\\xc0y\\\\xbc\\\\x00\\\\x00p\\\\xbc\\\\x00@\\\\x06=\\\\x00\\\\x80\\\\r=\\\\x00\\\\xa0\\\\x10=\\\\x00\\\\x80F\\\\xbc\\\\x00@\\\\x01\\\\xbd\\\\x00`\\\\x8e\\\\xbd\\\\x00@(\\\\xbd\\\\x00\\\\xa0\\\\xd0\\\\xbc\\\\x00 \\\\x1f\\\\xbc\\\\x00\\\\x00\\\\x9f=\\\\x00\\\\xe0\\\\x90<\\\\x00\\\\x80\\\\x9a<\\\\x00`i\\\\xbd\\\\x00\\\\x00$=\\\\x00@\\\\xa4;\\\\x00\\\\x80\\\\xfd:\\\\x00\\\\x80\\\\x8e;\\\\x00\\\\xe0.\\\\xbd\\\\x00@\\\\x9a;\\\\x00@\\\\xd3\\\\xbb\\\\x00\\\\xa06\\\\xbb\\\\x00\\\\xe0\\\\xef\\\\xb9\\\\x00\\\\xe0\\\"=\\\\x00\\\\xa0>\\\\xbd\\\\x00\\\\xa0\\\\x12\\\\xbc\\\\x00 \\\\xff\\\\xbc\\\\x00 +\\\\xbd\\\\x00\\\\xe0\\\\xd7<\\\\x00`d\\\\xbc\\\\x00@\\\\x87\\\\xbb\\\\x00\\\\xe0g\\\\xbb\\\\x00\\\\x00*=\\\\x00@\\\\xaf\\\\xbc\\\\x00 \\\\\\\\\\\\xbb\\\\x00\\\\x00\\\\xbc\\\\xbc\\\\x00\\\\xa0\\\\x93<\\\\x00\\\\x80\\\\xbf<\\\\x00\\\\xa0\\\\xbc<\\\\x00@w\\\\xbc\\\\x00\\\\x00\\\\xfd<\\\\x00\\\\xc0+\\\\xbd\\\\x00\\\\x80E=\\\\x00`\\\\x8e=\\\\x00\\\\xc0G<\\\\x00\\\\xc0\\\\x95<\\\\x00@\\\\x9a<\\\\x00\\\\xe0\\\\x0c=\\\\x00`1\\\\xbc\\\\x00\\\\xc0\\\\xdc\\\\xbc\\\\x00\\\\x00H\\\\xbd\\\\x00\\\\xa0\\\\xa7\\\\xbd\\\\x00@\\\\xaf<\\\\x00\\\\xa0Y\\\\xbd\\\\x00\\\\xa0\\\\xc7\\\\xbd\\\\x00\\\\xa0\\\\xd6\\\\xbc\\\\x00\\\\xc0\\\\xc6<\\\\x00\\\\xe0\\\\x1a=\\\\x00@\\\\x90;\\\\x00\\\\x80~<\\\\x00\\\\xe0;\\\\xbd\\\\x00 \\\\x8a\\\\xbd\\\\x00 \\\\xf4\\\\xbc\\\\x00\\\\x00\\\\x9b;\\\\x00@\\\\xb4\\\\xbc\\\\x00@\\\\x8b<\\\\x00\\\\xe0/\\\\xbd\\\\x00\\\\xe0\\\\xc1<\\\\x00\\\\x00[\\\\xbc\\\\x00\\\\xc0\\\\x04=\\\\x00 \\\\x00;\\\\x00\\\\xc0o\\\\xbc\\\\x00\\\\xe0\\\\x00\\\\xbc\\\\x00\\\\xc0\\\\x16<\\\\x00@\\\\x83\\\\xbc\\\\x00@\\\\x17=\\\\x00\\\\xe0\\\\x04\\\\xbd\\\\x00\\\\x80z\\\\xbd\\\\x00\\\\x80\\\\xf0\\\\xbc\\\\x00\\\\x00\\\\xdb\\\\xbb\\\\x00\\\\x00w\\\\xbc\\\\x00\\\\x80B<\\\\x00@\\\\xa2\\\\xbc\\\\x00\\\\xe0(\\\\xbc\\\\x00\\\\x80\\\\xba\\\\xba\\\\x00@\\\\xb8=\\\\x00\\\\xe00;\\\\x00\\\\xc0\\\\x07\\\\xbd\\\\x00\\\\xc0\\\\x0f=\\\\x00@\\\\x97:\\\\x00\\\\xe0~\\\\xbb\\\\x00@\\\\x98\\\\xbc\\\\x00 \\\\x8a\\\\xbb\\\\x00\\\\xe0\\\\x80\\\\xbc\\\\x00\\\\xa0<\\\\xbc\\\\x00\\\\x80\\\\x81<\\\\x00\\\\xe0;\\\\xbc\\\\x00 y\\\\xba\\\\x00`+<\\\\x00 \\\\x19<\\\\x00 #\\\\xbd\\\\x00\\\\xc0\\\\'\\\\xbc\\\\x00\\\\x80\\\\x89;\\\\x00 \\\\x87\\\\xbc\\\\x00\\\\xe0r\\\\xbd\\\\x00\\\\xe0\\\\x81\\\\xbc\\\\x00\\\\xc0\\\\xbf9\\\\x00\\\\x80\\\\x07\\\\xbc\\\\x00 [\\\\xbb\\\\x00\\\\x00\\\\n<\\\\x00\\\\xe0\\\\xa6;\\\\x00\\\\x80\\\\x91\\\\xbc\\\\x00\\\\xa0l\\\\xbb\\\\x00\\\\xe0\\\\x06\\\\xbd\\\\x00\\\\xe0_\\\\xbc\\\\x00\\\\xc0\\\\xb9<\\\\x00\\\\xc0\\\\x90\\\\xbb\\\\x00\\\\xa03<\\\\x00\\\\x00T=\\\\x00 \\\\x10;\\\\x00\\\\x80\\\\xd3\\\\xbc\\\\x00 \\\\x88\\\\xbb\\\\x00\\\\xa0\\\\x1d\\\\xbc\\\\x00\\\\xe0\\\\x1e=\\\\x00`c;\\\\x00\\\\xe0?\\\\xbc\\\\x00\\\\x00\\\\xb8<\\\\x00\\\\xa0\\\\xef\\\\xba\\\\x00\\\\xa0\\\\r;\\\\x00 D\\\\xbb\\\\x00 \\\\x84<\\\\x00\\\\x00?=\\\\x00`\\\\xc5\\\\xbc\\\\x00\\\\xe0\\\\xfc\\\\xbc\\\\x00\\\\xc0K<\\\\x00`\\\\x05=\\\\x00\\\\xa0n\\\\xba\\\\x00\\\\x000=\\\\x00\\\\xa0\\\\x1e\\\\xbc\\\\x00\\\\xa0\\\\x90\\\\xbc\\\\x00\\\\x00\\\\x16\\\\xbc\\\\x00\\\\x008\\\\xbc\\\\x00 \\\\xa8\\\\xbb\\\\x00\\\\xc0\\\\x19<\\\\x00 \\\\xb7;\\\\x00`\\\\x99;\\\\x00\\\\xe0\\\\x03;\\\\x00 \\\\x92;\\\\x00\\\\xc0\\\\xd3<\\\\x00\\\\x80=\\\\xbb\\\\x00\\\\x00q\\\\xbc\\\\x00\\\\xa0\\\\xfc<\\\\x00\\\\xc0\\\\xc9\\\\xbc\\\\x00\\\\xc0%\\\\xbd\\\\x00@\\\\x16\\\\xbd\\\\x00@\\\\x02<\\\\x00`N=\\\\x00\\\\xa0\\\\xa1\\\\xbc\\\\x00 \\\\x03\\\\xbb\\\\x00@\\\\xfa\\\\xbc\\\\x00\\\\x80\\\\xec\\\\xbb\\\\x00`s<\\\\x00\\\\x00\\\\xcf9\\\\x00\\\\x80\\\\xc7\\\\xbc\\\\x00\\\\x00\\\\xf0:\\\\x00@\\\\x9d<\\\\x00 \\\\x8a\\\\xbb\\\\x00\\\\xa0\\\\x1a\\\\xbd\\\\x00\\\\x80\\\\x86\\\\xbd\\\\x00`W=\\\\x00\\\\xe0\\\\xba<\\\\x00\\\\xa0\\\\x14\\\\xbb\\\\x00\\\\x00d\\\\xbc\\\\x00@\\\\x18=\\\\x00@\\\\xbb\\\\xbc\\\\x00`\\\\x9b\\\\xbc\\\\x00\\\\x80\\\\xc3\\\\xbc\\\\x00\\\\x00\\\\x1c=\\\\x00\\\\x80M\\\\xbd\\\\x00\\\\x80(<\\\\x00 \\\\xb3<\\\\x00\\\\xe0\\\\x06\\\\xbc\\\\x00\\\\xe0\\\\xcb\\\\xbc\\\\x00 <\\\\xbd\\\\x00\\\\x006\\\\xbd\\\\x00\\\\xa0M\\\\xbc\\\\x00@$\\\\xba\\\\x00`o\\\\xbd\\\\x00@\\\\x95\\\\xbb\\\\x00\\\\x00\\\\xb3<\\\\x00\\\\xa0\\\\x08\\\\xbd\\\\x00 p\\\\xbc\\\\x00@\\\\xb3<\\\\x00`z=\\\\x00\\\\x00\\\\xc7\\\\xbc\\\\x00@\\\\xad<\\\\x00\\\\x00\\\\xd2\\\\xbb\\\\x00 c\\\\xbd\\\\x00\\\\xa0\\\\x94<\\\\x00\\\\x00\\\\x93;\\\\x00`u<\\\\x00\\\\xc0\\\\x9d<\\\\x00\\\\x80\\\\xbc<\\\\x00 \\\\x89\\\\xbc\\\\x00``\\\\xbd\\\\x00 \\\\xcd\\\\xbb\\\\x00@R\\\\xbb\\\\x00\\\\xa0\\\\x04\\\\xba\\\\x00\\\\x80\\\\x0f<\\\\x00@\\\\x90\\\\xbb\\\\x00\\\\x00y<\\\\x00 \\\\xa9\\\\xbb\\\\x00 \\\\r=\\\\x00 \\\\xd9;\\\\x00 \\\\xf3\\\\xbc\\\\x00 \\\\t\\\\xbc\\\\x00\\\\x00O\\\\xbb\\\\x00 \\\\xaf\\\\xbc\\\\x00@\\\\xb0<\\\\x00 H<\\\\x00\\\\xc0z\\\\xbd\\\\x00@\\\\xab<\\\\x00@\\\\x84\\\\xbb\\\\x00 \\\\x1b\\\\xbc\\\\x00\\\\xe0\\\\x89\\\\xbb\\\\x00\\\\xc0h=\\\\x00\\\\x80)\\\\xbc\\\\x00\\\\x80\\\\xa8\\\\xbc\\\\x00\\\\x80\\\\xda\\\\xbb\\\\x00\\\\xe0\\\\x0c\\\\xbd\\\\x00@\\\\x8a<\\\\x00\\\\xc0\\\\xdd;\\\\x00`L;\\\\x00\\\\xa0j\\\\xbc\\\\x00 \\\\xec;\\\\x00\\\\xa0\\\\xaa;\\\\x00\\\\xc0\\\\xfe;\\\\x00\\\\xc0\\\\xde\\\\xbb\\\\x00\\\\xc0\\\\xce<\\\\x00@7\\\\xbd\\\\x00\\\\xc0\\\\x8e\\\\xbd\\\\x00\\\\x80z<\\\\x00@V<\\\\x00\\\\xa0B\\\\xbc\\\\x00@\\\\x03=\\\\x00\\\\xc0\\\\x80\\\\xbc\\\\x00\\\\x00\\\\x15\\\\xbd\\\\x00\\\\xc0\\\\x8a\\\\xbd\\\\x00\\\\xa0\\\"\\\\xbd\\\\x00\\\\xe0i=\\\\x00\\\\xa0\\\\xb8\\\\xbc\\\\x00@$\\\\xbd\\\\x00\\\\xa0>\\\\xbc\\\\x00\\\\xa0\\\\xc0;\\\\x00\\\\xc0\\\\xb2<\\\\x00`@=\\\\x00@M<\\\\x00\\\\xa0>\\\\xbc\\\\x00\\\\xe0\\\\x97\\\\xbc\\\\x00\\\\xa0\\\\x8d\\\\xbb\\\\x00\\\\x00F\\\\xbc\\\\x00@&\\\\xbd\\\\x00\\\\xc0\\\\x8d\\\\xbc\\\\x00`\\\\xef\\\\xbc\\\\x00@\\\\xd1;\\\\x00`\\\\xb1<\\\\x00\\\\x00U<\\\\x00\\\\xe0\\\\xea<\\\\x00\\\\x80\\\\x9c\\\\xbc\\\\x00 5<\\\\x00 =\\\\xbb\\\\x00\\\\xa0w<\\\\x00\\\\x80\\\\xfe\\\\xbc\\\\x00\\\\x80\\\\x02\\\\xbc\\\\x00\\\\x80\\\\x18;\\\\x00\\\\xc0\\\\x7f<\\\\x00@5\\\\xbd\\\\x00\\\\xe0(\\\\xbc\\\\x00`w;\\\\x00\\\\x00\\\\xc6<\\\\x00\\\\x80\\\\x11<\\\\x00`3=\\\\x00 \\\\x81\\\\xbb\\\\x00\\\\xe0\\\\xe7<\\\\x00@\\\\xcf\\\\xba\\\\x00\\\\x00\\\\x1a\\\\xbc\\\\x00 \\\\x8b<\\\\x00`\\\\x0b\\\\xbd\\\\x00\\\\x80\\\\xb8\\\\xbc\\\\x00@\\\\xf2<\\\\x00\\\\xa0\\\\xaa<\\\\x00`\\\\xbd<\\\\x00\\\\xe0\\\\x1b=\\\\x00\\\\x00#\\\\xbd\\\\x00`\\\\x11\\\\xbc\\\\x00@\\\\xf9<\\\\x00\\\\x009=\\\\x00\\\\xc0N<\\\\x00\\\\xa0\\\\xe3\\\\xbc\\\\x00\\\\xe0l=\\\\x00\\\\xe0\\\\xf2<\\\\x00\\\\xa0\\\\xee\\\\xbc\\\\x00\\\\xc0\\\\x96\\\\xbc\\\\x00 \\\\x10<\\\\x00\\\\xe0\\\\xd5\\\\xbc\\\\x00\\\\xe0-<\\\\x00\\\\xc0\\\\x14\\\\xbd\\\\x00\\\\xc0\\\\xc1\\\\xbc\\\\x00`\\\\x12=\\\\x00\\\\xa0-\\\\xbd\\\\x00\\\\xe0\\\\x89\\\\xbb\\\\x00\\\\x00\\\\x12\\\\xbd\\\\x00\\\\xe04\\\\xbc\\\\x00\\\\xc0\\\\xf6\\\\xbb\\\\x00 \\\\t=\\\\x00\\\\xa0\\\\xe0\\\\xbc\\\\x00`\\\"\\\\xba\\\\x00\\\\xe0\\\\x13\\\\xbd\\\\x00\\\\xa0\\\\xb2:\\\\x00\\\\x80\\\\x05=\\\\x00\\\\x80)\\\\xbd\\\\x00 \\\\xdf\\\\xbc\\\\x00\\\\xc0\\\\xf2<\\\\x00@6=\\\\x00 \\\\x8c\\\\xb8\\\\x00\\\\xc0\\\\x04\\\\xbd\\\\x00`\\\\x89\\\\xbc\\\\x00\\\\x00\\\\xb9\\\\xbc\\\\x00`\\\\xef<\\\\x00`\\\\x86\\\\xbc\\\\x00\\\\x80\\\\xd6\\\\xb9\\\\x00\\\\xc0\\\\x1a=\\\\x00\\\\xa0F\\\\xbc\\\\x00 \\\\xc5\\\\xbc\\\\x00`\\\\xc4\\\\xbb\\\\x00 \\\\xaf<\\\\x00\\\\xe0\\\\xc6<\\\\x00@e\\\\xbd\\\\x00\\\\xe0\\\\xbe<\\\\x00 \\\\x0f\\\\xbd\\\\x00@\\\\xa1;\\\\x00 v<\\\\x00\\\\xc0J\\\\xbc\\\\x00\\\\xe0\\\\xa6\\\\xbc\\\\x00\\\\xc0\\\\xe3\\\\xba\\\\x00\\\\xa0\\\\x04<\\\\x00\\\\x80x\\\\xbd\\\\x00\\\\xa0\\\\xf4;\\\\x00\\\\xa0\\\\xd6<\\\\x00\\\\xc0Z<\\\\x00\\\\x00\\\\xd4\\\\xbc\\\\x00\\\\xa0\\\\xb4<\\\\x00@q\\\\xbc\\\\x00@|\\\\xbb\\\\x00`\\\\x03;\\\\x00 \\\\xbe\\\\xbc\\\\x00\\\\xa0\\\\xbe<\\\\x00\\\\xa06\\\\xbc\\\\x00\\\\xc06<\\\\x00@\\\\'=\\\\x00\\\\xe0\\\\x02;\\\\x00 \\\\xa0=\\\\x00\\\\xa0q\\\\xbc\\\\x00\\\\x00\\\\x1b8\\\\x00\\\\xa0V\\\\xbc\\\\x00\\\\x80\\\\x0b=\\\\x00\\\\xe0\\\\xb7\\\\xbd\\\\x00@\\\\x06\\\\xbd\\\\x00\\\\xe0H<\\\\x00\\\\x80\\\\x12\\\\xbb\\\\x00`\\\\r=\\\\x00\\\\xc0\\\\x8f\\\\xba\\\\x00\\\\xa0\\\\x98\\\\xbd\\\\x00\\\\xc0\\\\\\\\;\\\\x00\\\\x80E\\\\xbc\\\\x00\\\\xe03<\\\\x00@\\\\xfe;\\\\x00\\\\xe0\\\\xf4\\\\xb9\\\\x00\\\\xa0\\\\\\\\<\\\\x00`\\\\xdc<\\\\x00@\\\\xfe\\\\xbb\\\\x00\\\\xc0\\\\x1b<\\\\x00\\\\x80\\\\xb6\\\\xba\\\\x00\\\\x80\\\\xf9\\\\xbc\\\\x00\\\\x00\\\\x95\\\\xbc\\\\x00\\\\xe0Z<\\\\x00\\\\x00\\\\xb1\\\\xbb\\\\x00@,\\\\xbd\\\\x00\\\\x00\\\\x17=\\\\x00 \\\\xa7\\\\xbc\\\\x00@\\\\x8f;\\\\x00`/\\\\xbd\\\\x00@\\\\x7f\\\\xbc\\\\x00\\\\xa0\\\\xca<\\\\x00\\\\xc0P=\\\\x00\\\\x80\\\\xf1\\\\xbc\\\\x00\\\\xc0\\\\x8b\\\\xbc\\\\x00`\\\\x94\\\\xbc\\\\x00\\\\xc0e:\\\\x00`)=\\\\x00 \\\\x8d<\\\\x00\\\\xc0\\\\xdc\\\\xbb\\\\x00`\\\\n\\\\xbc\\\\x00`\\\\x95\\\\xbc\\\\x00@\\\\x01<\\\\x00\\\\x80\\\\xd7<\\\\x00\\\\xa07\\\\xbb\\\\x00`v\\\\xbd\\\\x00`\\\\xc5<\\\\x00 \\\\x0c=\\\\x00\\\\xc0N\\\\xbd\\\\x00\\\\x00\\\\xd6\\\\xbb\\\\x00\\\\xe0\\\\x8d=\\\\x00`3\\\\xbc\\\\x00@\\\\x87;\\\\x00\\\\xe0\\\\x13\\\\xbd\\\\x00\\\\x00\\\\x9a<\\\\x00@\\\\x00\\\\xbb\\\\x00\\\\xc0\\\\x0b\\\\xbc\\\\x00`\\\\x10<\\\\x00\\\\xa0\\\\x8d=\\\\x00@\\\\x03\\\\xbc\\\\x00 \\\\x17=\\\\x00\\\\x00\\\\r=\\\\x00\\\\x80n<\\\\x00\\\\x80\\\\x85<\\\\x00 \\\\x7f\\\\xbb\\\\x00\\\\x00\\\\x87\\\\xbc\\\\x00\\\\x80P<\\\\x00\\\\xc0N=\\\\x00@\\\\xec<\\\\x00\\\\xe0\\\\x15\\\\xb9\\\\x00\\\\x80E\\\\xbd\\\\x00\\\\x80*:\\\\x00\\\\xc0\\\\x91\\\\xbb\\\\x00@\\\\x9a<\\\\x00\\\\x80\\\\x90<\\\\x00\\\\x00\\\\xcb<\\\\x00`\\\\xc9\\\\xba\\\\x00\\\\xa0\\\\xbf\\\\xbc\\\\x00\\\\xc0I:\\\\x00`\\\\x18=\\\\x00 \\\\xaf\\\\xbc\\\\x00\\\\xa0\\\\xf3\\\\xbc\\\\x00\\\\xc0\\\\xf6<\\\\x00 #\\\\xbd\\\\x00`J\\\\xbc\\\\x00\\\\xa0\\\\x9e\\\\xbc\\\\x00`\\\\xed<\\\\x00\\\\x80\\\\x8f<\\\\x00\\\\x80c\\\\xbd\\\\x00\\\\xe0\\\\xa5=\\\\x00\\\\xc0/\\\\xbd\\\\x00\\\\xc0\\\\xf1\\\\xbc\\\\x00`\\\\xad\\\\xbc\\\\x00\\\\x00\\\\xc3\\\\xbb\\\\x00 \\\\xa2<\\\\x00@\\\\xbd<\\\\x00\\\\x00\\\\x90\\\\xbd\\\\x00\\\\xa0>=\\\\x00\\\\xe0\\\\t=\\\\x00\\\\x80\\\\x95\\\\xbc\\\\x00@\\\\x1d:\\\\x00@j=\\\\x00 \\\\x03<\\\\x00@E\\\\xbb\\\\x00\\\\x00O=\\\\x00 \\\\x19\\\\xbd\\\\x00`\\\\xa0<\\\\x00\\\\x80t\\\\xbc\\\\x00\\\\xc0\\\\xc5;\\\\x00\\\\xa0\\\\x89\\\\xbc\\\\x00\\\\x00\\\\xca\\\\xbb\\\\x00\\\\xa0\\\\x87=\\\\x00\\\\x003<\\\\x00\\\\xa0i\\\\xba\\\\x00\\\\x00G=\\\\x00`^=\\\\x00\\\\xc0\\\\xc4:\\\\x00\\\\x00\\\\xda\\\\xbb\\\\x00`_:\\\\x00 \\\\xc1\\\\xbb\\\\x00\\\\x80\\\\x7f<\\\\x00\\\\x80\\\\x9a\\\\xbc\\\\x00\\\\xa0\\\\xaf<\\\\x00\\\\xa0T\\\\xbd\\\\x00\\\\xe0\\\\xf8<\\\\x00\\\\xc0\\\\xc9\\\\xbc\\\\x00@\\\\x16\\\\xbd\\\\x00`\\\\x8d:\\\\x00@\\\\x18<\\\\x00\\\\xc0\\\\x00\\\\xbd\\\\x00@\\\\xbc\\\\xbc\\\\x00\\\\x00\\\\xe3<\\\\x00\\\\xa0#=\\\\x00\\\\xe0B<\\\\x00 \\\\xbc<\\\\x00\\\\xc0\\\\xd3\\\\xbb\\\\x00\\\\x00\\\\xa4\\\\xbc\\\\x00`\\\\xfb<\\\\x00\\\\x80q\\\\xbc\\\\x00`d\\\\xbc\\\\x00\\\\x00Z=\\\\x00\\\\x80\\\\x07=\\\\x00\\\\xc00=\\\\x00\\\\xa0\\\\xc0\\\\xbc\\\\x00`\\\\xc7\\\\xbc\\\\x00\\\\x80l=\\\\x00\\\\x80\\\\x10=\\\\x00`\\\\xc6=\\\\x00\\\\xc0K\\\\xbd\\\\x00\\\\x80\\\\x92<\\\\x00\\\\xe0\\\\xf3<\\\\x00\\\\xa0-\\\\xbd\\\\x00\\\\xa0\\\\xee:\\\\x00@\\\\xdc<\\\\x00\\\\x00a\\\\xbd\\\\x00\\\\xc0\\\\xb8<\\\\x00 \\\\xd4<\\\\x00@I<\\\\x00@\\\\xf3;\\\\x00`\\\\xd0\\\\xbc\\\\x00 \\\\x88<\\\\x00\\\\xa0\\\\x07\\\\xbc\\\\x00\\\\xc0\\\\xd5<\\\\x00\\\\xe0/=\\\\x00 \\\\x8b\\\\xbc\\\\x00\\\\x807=\\\\x00\\\\xc0\\\\xf0\\\\xbb\\\\x00\\\\x80\\\\xdb\\\\xbb\\\\x00@\\\\x82\\\\xbd\\\\x00\\\\xe0\\\\xe8\\\\xbb\\\\x00\\\\xe09\\\\xbc\\\\x00`\\\\xa1\\\\xbc\\\\x00 \\\\x9a\\\\xbc\\\\x00`\\\\x9a<\\\\x00\\\\xe07\\\\xbb\\\\x00\\\\x00\\\\xe7<\\\\x00\\\\xc0\\\\x0b\\\\xbd\\\\x00\\\\xc05\\\\xbc\\\\x00@\\\\xef\\\\xbc\\\\x00@%\\\\xbc\\\\x00@\\\\x05\\\\xbd\\\\x00\\\\x80\\\\x0f\\\\xbb\\\\x00@B\\\\xbd\\\\x00@\\\\x0f\\\\xbd\\\\x00\\\\xc0 =\\\\x00\\\\xe0\\\\xae<\\\\x00`\\\\x80<\\\\x00\\\\xc0\\\\x85\\\\xbb\\\\x00@s\\\\xbd\\\\x00\\\\x80\\\\x06\\\\xbd\\\\x00\\\\x80\\\\x1c\\\\xbd\\\\x00`\\\\xcb=\\\\x00 \\\\xae;\\\\x00\\\\x805\\\\xbd\\\\x00\\\\xa0\\\\xe9\\\\xbc\\\\x00\\\\xc0\\\\x84=\\\\x00\\\\xc0\\\\x01<\\\\x00\\\\xa0v=\\\\x00\\\\x80\\\\xc89\\\\x00 \\\\xb9<\\\\x00\\\\x00:=\\\\x00\\\\xe0]=\\\\x00\\\\xa0\\\\x14=\\\\x00\\\\xc0\\\\xb5\\\\xbb\\\\x00\\\\xc0t<\\\\x00@\\\\xd9\\\\xba\\\\x00\\\\xa0\\\\xc5<\\\\x00\\\\x80R=\\\\x00 \\\\x00\\\\xbc\\\\x00\\\\xe0\\\\x91\\\\xbd\\\\x00\\\\xc03\\\\xbc\\\\x00\\\\x80\\\\x8a\\\\xbd\\\\x00\\\\xe0\\\\x93\\\\xbc\\\\x00 \\\\xa1\\\\xbb\\\\x00\\\\xe0\\\\xa8<\\\\x00\\\\xe0\\\\x18\\\\xbc\\\\x00@o<\\\\x00\\\\x80R<\\\\x00\\\\xc0\\\\xa8:\\\\x00\\\\xc0\\\\xbe\\\\xbc\\\\x00\\\\xe0\\\\x13;\\\\x00@`\\\\xbd\\\\x00`\\\\xac;\\\\x00@\\\\x04\\\\xbd\\\\x00`]\\\\xbc\\\\x00\\\\xc01\\\\xbd\\\\x00\\\\xe0\\\\xe4\\\\xbc\\\\x00\\\\x00\\\\xd6:\\\\x00\\\\xe0\\\\x19=\\\\x00\\\\xa0-\\\\xbb\\\\x00 \\\\xcf<\\\\x00\\\\x80\\\\x16=\\\\x00\\\\x80\\\\x1d\\\\xbd\\\\x00\\\\x00\\\\x85=\\\\x00@N\\\\xbc\\\\x00 y\\\\xbc\\\\x00\\\\x80P=\\\\x00@\\\\xf4\\\\xbb\\\\x00\\\\xa0\\\\xab\\\\xbc\\\\x00 \\\\xb0\\\\xbb\\\\x00 \\\\xe4\\\\xbc\\\\x00 \\\\xe9\\\\xba\\\\x00@\\\\x9f\\\\xbc\\\\x00\\\\xa0\\\\x15\\\\xbd\\\\x00\\\\xe0\\\\xdd\\\\xbc\\\\x00\\\\x80_=\\\\x00\\\\x00}\\\\xbc\\\\x00\\\\xe0\\\\x0b\\\\xbb\\\\x00`\\\\x01=\\\\x00\\\\x00k\\\\xbc\\\\x00@\\\\x9c\\\\xba\\\\x00`\\\\xf8<\\\\x00`\\\\x86<\\\\x00\\\\x80\\\\xe6\\\\xbb\\\\x00\\\\xc0 \\\\xb9\\\\x00\\\\x00\\\\x96\\\\xbc\\\\x00\\\\x80\\\\x1b\\\\xbd\\\\x00 <=\\\\x00 p\\\\xbc\\\\x00@\\\\xf2<\\\\x00\\\\x80\\\\xb1\\\\xbc\\\\x00\\\\x80b=\\\\x00`\\\\xc2\\\\xbc\\\\x00\\\\xa0\\\\xa8<\\\\x00\\\\xa0\\\\xfb\\\\xbc\\\\x00 \\\\x94<\\\\x00\\\\x80\\\\xe4;\\\\x00`\\\\x0e\\\\xbd\\\\x00@\\\\xd5<\\\\x00\\\\x00(=\\\\x00\\\\xc0\\\\xde<\\\\x00\\\\x80\\\\x0f=\\\\x00\\\\x00\\\\x8a\\\\xbc\\\\x00\\\\xa0\\\\xb2\\\\xbd\\\\x00\\\\x80\\\\xce\\\\xbb\\\\x00@\\\\x8b\\\\xbc'\",\n          \"b'\\\\'\\\\x00\\\\x00\\\\xe0\\\\x8f<\\\\x00\\\\xa0J<\\\\x00\\\\x80k\\\\xbd\\\\x00@\\\\x95\\\\xbc\\\\x00\\\\x003=\\\\x00 \\\\x11\\\\xbd\\\\x00@E=\\\\x00` \\\\xbc\\\\x00\\\\x80\\\\xbe;\\\\x00\\\\xc0[;\\\\x00\\\\x80#=\\\\x00 W<\\\\x00@\\\\x17\\\\xbd\\\\x00`A\\\\xbd\\\\x00 \\\\x85;\\\\x00\\\\xc0\\\\x14\\\\xbb\\\\x00`\\\\xf1<\\\\x00\\\\xc0\\\\xf3\\\\xbc\\\\x00@\\\\x83:\\\\x00\\\\xe0\\\\x9c\\\\xbc\\\\x00\\\\xe0\\\\xca\\\\xbc\\\\x00`m\\\\xbb\\\\x00\\\\x00&=\\\\x00`\\\\xc5<\\\\x00\\\\x00\\\\x08\\\\xbd\\\\x00\\\\xa0\\\\x13<\\\\x00\\\\xc0\\\\xd3\\\\xbb\\\\x00\\\\x00\\\\xa4<\\\\x00 j\\\\xbd\\\\x00\\\\xe00\\\\xbd\\\\x00\\\\xc0\\\\x05\\\\xbc\\\\x00\\\\x80\\\\x1b=\\\\x00\\\\x80\\\\x10=\\\\x00\\\\x80\\\\x86=\\\\x00`\\\\xcd\\\\xbd\\\\x00 .\\\\xbd\\\\x00\\\\x00\\\\x10\\\\xbd\\\\x00\\\\xe0\\\\x1a=\\\\x00\\\\x00\\\\n\\\\xbd\\\\x00\\\\xe0\\\\xc6<\\\\x00\\\\x00R\\\\xbc\\\\x00\\\\xc0\\\\xbc<\\\\x00`\\\\xd1=\\\\x00 \\\\x8d\\\\xbd\\\\x00`V<\\\\x00\\\\xe0\\\\xb0<\\\\x00@\\\\xa7\\\\xbc\\\\x00`\\\\xba\\\\xbc\\\\x00 \\\\x02=\\\\x00@\\\\xf0\\\\xbc\\\\x00\\\\xc0\\\\xea<\\\\x00`\\\\xae\\\\xbc\\\\x00`\\\\x10=\\\\x00`N\\\\xbc\\\\x00 \\\\xf9\\\\xbc\\\\x00\\\\xa0\\\\x9b<\\\\x00`\\\\x1d=\\\\x00\\\\xe0\\\\x01\\\\xbd\\\\x00\\\\x00*=\\\\x00`1=\\\\x00\\\\xe0I\\\\xbc\\\\x00`W\\\\xbc\\\\x00\\\\x00\\\\xfe;\\\\x00\\\\xe0\\\\x89\\\\xbd\\\\x00 \\\\x98\\\\xbc\\\\x00\\\\xa0 \\\\xbd\\\\x00\\\\xe0.\\\\xbd\\\\x00 t<\\\\x00\\\\x80\\\\xde\\\\xbc\\\\x00\\\\xc0\\\\xf2\\\\xbb\\\\x00\\\\x80}=\\\\x00\\\\x80\\\\xfe\\\\xbb\\\\x00 \\\\x96<\\\\x00\\\\x00x\\\\xbd\\\\x00 \\\\x84\\\\xbc\\\\x00\\\\x80\\\\x0b=\\\\x00\\\\xe0(\\\\xbc\\\\x00\\\\xa0H\\\\xbb\\\\x00\\\\xe0\\\\x08<\\\\x00`\\\\xb7\\\\xbc\\\\x00 L\\\\xbc\\\\x00 C\\\\xbd\\\\x00\\\\xc0\\\\x87<\\\\x00\\\\x00\\\\xef:\\\\x00 \\\\x19\\\\xbc\\\\x00\\\\xc0\\\\x94<\\\\x00\\\\xa0\\\\x9e\\\\xbc\\\\x00  <\\\\x00 W\\\\xbc\\\\x00\\\\xe0\\\\x0f\\\\xbd\\\\x00 \\\\xd4\\\\xbc\\\\x00\\\\xc0g=\\\\x00@\\\\x03\\\\xbd\\\\x00 \\\\xdf\\\\xbc\\\\x00\\\\xe0+\\\\xbd\\\\x00\\\\xa0\\\\x80\\\\xbc\\\\x00 \\\\xf1\\\\xbc\\\\x00`/\\\\xbd\\\\x00\\\\x00\\\\x10<\\\\x00`\\\\xaf<\\\\x00 \\\\x14<\\\\x00`$\\\\xbd\\\\x00\\\\xe0\\\\x0c=\\\\x00@i\\\\xbc\\\\x00\\\\x80\\\\x03\\\\xbd\\\\x00\\\\x80\\\\xb0=\\\\x00 (\\\\xbc\\\\x00\\\\xc0\\\\xc2<\\\\x00`\\\\x90\\\\xbc\\\\x00@d<\\\\x00\\\\x00\\\\xec<\\\\x00\\\\xa0\\\\xb5\\\\xbd\\\\x00\\\\x00\\\\xdd;\\\\x00@*\\\\xbd\\\\x00\\\\xe0\\\\xd8\\\\xbc\\\\x00\\\\xa0&=\\\\x00\\\\x00\\\\xba<\\\\x00\\\\x80\\\\x94\\\\xbc\\\\x00 \\\\x04=\\\\x00`\\\\xcd\\\\xbc\\\\x00`\\\\xc9<\\\\x00 <=\\\\x00\\\\xa07\\\\xbd\\\\x00\\\\xc08\\\\xbb\\\\x00\\\\xe0\\\\x98\\\\xbb\\\\x00\\\\xc0\\\\xac\\\\xbb\\\\x00\\\\xa0\\\\x8b;\\\\x00\\\\xa0\\\\xba;\\\\x00`\\\\xf3\\\\xbd\\\\x00`J=\\\\x00\\\\xe0e\\\\xbc\\\\x00\\\\xe0 <\\\\x00 \\\\x85=\\\\x00\\\\xa0U=\\\\x00\\\\xa0?<\\\\x00\\\\xe0\\\\xf3\\\\xbc\\\\x00\\\\xc0.=\\\\x00@\\\\xb9<\\\\x00@\\\\xea\\\\xbb\\\\x00@6;\\\\x00\\\\x00\\\\xd7<\\\\x00\\\\x00\\\\x90\\\\xbc\\\\x00@\\\\xf7\\\\xbb\\\\x00\\\\x00\\\\x04\\\\xbb\\\\x00\\\\xa0\\\\x18\\\\xbd\\\\x00\\\\x00\\\\x06=\\\\x00@\\\\xef<\\\\x00\\\\xc0\\\\x03\\\\xbc\\\\x00\\\\x80\\\\x1d\\\\xbd\\\\x00\\\\x80@\\\\xbd\\\\x00\\\\xa0\\\\xf2\\\\xbb\\\\x00\\\\x00\\\\x94\\\\xbb\\\\x00\\\\xc0\\\\x85=\\\\x00 \\\\xd7\\\\xbc\\\\x00\\\\x80\\\\x8e\\\\xbd\\\\x00`\\\\x05\\\\xbd\\\\x00@\\\"\\\\xbb\\\\x00\\\\xc04\\\\xbd\\\\x00\\\\x80\\\\xf6\\\\xbc\\\\x00\\\\xc0c\\\\xbd\\\\x00`\\\\x84<\\\\x00\\\\xc0\\\\x85\\\\xbc\\\\x00\\\\xc0\\\\x07\\\\xbd\\\\x00@\\\\xaa<\\\\x00 ]\\\\xbc\\\\x00`\\\\x80<\\\\x00\\\\xa0\\\\xe2:\\\\x00 \\\\x0c<\\\\x00\\\\xa0\\\\n<\\\\x00`F;\\\\x00\\\\xe0\\\\xc4\\\\xbb\\\\x00@:<\\\\x00\\\\x80N\\\\xba\\\\x00\\\\xe0M;\\\\x00 \\\\xf5\\\\xb9\\\\x00\\\\xe0\\\\xef;\\\\x00`\\\\xa6\\\\xbc\\\\x00\\\\xa0\\\\x18<\\\\x00@\\\\x18<\\\\x00\\\\xa0\\\\x11=\\\\x00\\\\xa0\\\\x9c\\\\xbb\\\\x00\\\\x805\\\\xbd\\\\x00 \\\\xb0<\\\\x00\\\\xa0\\\\xc2;\\\\x00 \\\\xf0<\\\\x00@\\\\x1a\\\\xbd\\\\x00\\\\x00\\\\x16\\\\xbb\\\\x00\\\\xa0p\\\\xbd\\\\x00\\\\x80\\\\xdc\\\\xbc\\\\x00\\\\xc0&\\\\xbc\\\\x00\\\\xc0\\\\xdd<\\\\x00@y=\\\\x00\\\\x80\\\\xf1;\\\\x00\\\\xc0\\\\x12<\\\\x00\\\\x80\\\\x0b\\\\xbd\\\\x00\\\\x80I\\\\xbd\\\\x00@49\\\\x00@\\\\xed:\\\\x00\\\\x80\\\\xaf\\\\xbc\\\\x00\\\\x80Z=\\\\x00\\\\x001=\\\\x00@\\\\x9f\\\\xbc\\\\x00\\\\xe0f<\\\\x00`\\\\x0c\\\\xbd\\\\x00\\\\xa0\\\\xa5\\\\xbd\\\\x00\\\\x80y\\\\xbb\\\\x00\\\\xc0\\\\xf5\\\\xbc\\\\x00\\\\x00\\\\xdf<\\\\x00@B=\\\\x00 \\\\xdf<\\\\x00`\\\\t\\\\xbd\\\\x00 V\\\\xbc\\\\x00\\\\x00\\\\n=\\\\x00\\\\x80\\\\x98\\\\xbd\\\\x00\\\\xe0\\\\xee\\\\xbc\\\\x00 \\\\x1d=\\\\x00\\\\xc0\\\\xf4\\\\xbb\\\\x00\\\\x80-<\\\\x00\\\\x00\\\\x10\\\\xbc\\\\x00\\\\xa0\\\\x9d<\\\\x00\\\\x00t\\\\xbc\\\\x00\\\\x00\\\\x08\\\\xbc\\\\x00\\\\x00\\\\x9d\\\\xbc\\\\x00\\\\x00\\\\xcd:\\\\x00\\\\xe0\\\\xe3;\\\\x00\\\\xe0\\\\x0b\\\\xbd\\\\x00@\\\\xc8\\\\xbb\\\\x00`\\\\x08\\\\xbd\\\\x00\\\\xc0\\\\x99;\\\\x00 H\\\\xbc\\\\x00@\\\\x14<\\\\x00\\\\xe0\\\\x0f=\\\\x00\\\\x000\\\\xbc\\\\x00@\\\\xa8<\\\\x00\\\\xa0 \\\\xbb\\\\x00 I<\\\\x00\\\\x80B<\\\\x00\\\\xe00\\\\xbd\\\\x00@\\\\xc9<\\\\x00\\\\x80\\\\xa1<\\\\x00\\\\xc0\\\\x86<\\\\x00\\\\x00l\\\\xbd\\\\x00 \\\\xb4\\\\xbc\\\\x00`E<\\\\x00\\\\xe0n<\\\\x00\\\\xe0,=\\\\x00\\\\xa07=\\\\x00\\\\xe0\\\\x0c\\\\xbc\\\\x00\\\\xe0F\\\\xbc\\\\x00\\\\x80\\\\x19<\\\\x00@f\\\\xbc\\\\x00@8\\\\xbc\\\\x00\\\\x00T<\\\\x00\\\\x80\\\\xed<\\\\x00`\\\\xe8\\\\xbb\\\\x00\\\\xc0\\\\x80\\\\xba\\\\x00 \\\\xef<\\\\x00 \\\\xb9<\\\\x00`\\\\x8e\\\\xbd\\\\x00\\\\x003=\\\\x00\\\\xe0\\\\x1a<\\\\x00 \\\\x97=\\\\x00`\\\\x9b\\\\xbc\\\\x00\\\\xc0\\\\xc4<\\\\x00\\\\x00\\\\xe9\\\\xbb\\\\x00\\\\xc0\\\\xf3\\\\xbc\\\\x00@\\\\xa6\\\\xbb\\\\x00\\\\xa0\\\\x17;\\\\x00\\\\x00\\\\xe3\\\\xb7\\\\x00 \\\\xa7\\\\xbc\\\\x00\\\\x80\\\\xa4<\\\\x00@\\\\xd7;\\\\x00\\\\xc0\\\\xaf9\\\\x00\\\\xc0\\\\x17=\\\\x00\\\\x00\\\\x19<\\\\x00\\\\x80)\\\\xb8\\\\x00\\\\xc0L\\\\xbd\\\\x00\\\\xc03\\\\xbb\\\\x00\\\\xc0M;\\\\x00\\\\xe0\\\\xcc;\\\\x00\\\\x80\\\\x85;\\\\x00\\\\xa04\\\\xbb\\\\x00@\\\\x92\\\\xbc\\\\x00\\\\x80\\\\xe4\\\\xbb\\\\x00\\\\x80E=\\\\x00\\\\x00n\\\\xba\\\\x00\\\\x80\\\\xa0\\\\xbc\\\\x00\\\\xa0\\\\x19<\\\\x00\\\\xe0\\\\xa9\\\\xbc\\\\x00\\\\x80.=\\\\x00@N=\\\\x00\\\\xa00\\\\xba\\\\x00 \\\\x8e\\\\xbc\\\\x00`\\\\xce:\\\\x00@\\\\x12\\\\xbc\\\\x00\\\\x80\\\\x07\\\\xbc\\\\x00 \\\\xdc\\\\xbc\\\\x00@\\\\x17\\\\xbd\\\\x00`*=\\\\x00@s\\\\xbd\\\\x00\\\\xe0\\\\x8e\\\\xbc\\\\x00\\\\xe0\\\\x1e=\\\\x00`\\\\xd4\\\\xbc\\\\x00\\\\xa0\\\\xd7\\\\xbc\\\\x00\\\\xc0|\\\\xba\\\\x00\\\\xe0!=\\\\x00@\\\\t<\\\\x00`u<\\\\x00\\\\xe03<\\\\x00\\\\x005\\\\xbd\\\\x00\\\\xa03;\\\\x00@&\\\\xbc\\\\x00\\\\xa04<\\\\x00@)=\\\\x00 \\\\x93<\\\\x00\\\\xc0\\\\x04\\\\xbc\\\\x00`\\\\x0f=\\\\x00 C=\\\\x00 N=\\\\x00\\\\xc0/;\\\\x00\\\\xa0\\\\xa6\\\\xba\\\\x00\\\\x00x<\\\\x00\\\\x80\\\\xfa<\\\\x00\\\\x00i\\\\xbc\\\\x00\\\\xe0\\\\x1a=\\\\x00`B\\\\xbd\\\\x00\\\\xc0 \\\\xbd\\\\x00\\\\xe0\\\\x01<\\\\x00\\\\xa0\\\\xa5<\\\\x00\\\\x80`\\\\xbc\\\\x00\\\\x00\\\\x8b\\\\xbb\\\\x00@\\\\xe3\\\\xbc\\\\x00 \\\\x12\\\\xbd\\\\x00 \\\\x13\\\\xbc\\\\x00 \\\\xb2;\\\\x00 @\\\\xbc\\\\x00\\\\x80h<\\\\x00@\\\\x9f=\\\\x00`\\\\xe8;\\\\x00@\\\\xf2\\\\xbc\\\\x00@}<\\\\x00\\\\xc0\\\\x94\\\\xbc\\\\x00\\\\x80\\\\xb5;\\\\x00\\\\x006=\\\\x00`\\\\xbd\\\\xbb\\\\x00\\\\xa0\\\\xd4\\\\xbc\\\\x00\\\\x00F<\\\\x00\\\\xa0\\\\xea;\\\\x00\\\\x00r=\\\\x00\\\\xe0Y\\\\xbb\\\\x00\\\\xe0\\\\x97\\\\xbb\\\\x00\\\\xa0c\\\\xbc\\\\x00 \\\\xd1\\\\xbb\\\\x00\\\\xe0\\\\x00\\\\xbb\\\\x00@\\\\x1a=\\\\x00\\\\xc01\\\\xbd\\\\x00@!\\\\xbc\\\\x00\\\\xc0\\\\x84=\\\\x00`\\\\\\\\=\\\\x00\\\\x00\\\\x93;\\\\x00\\\\xa0\\\\xf0;\\\\x00 w\\\\xbc\\\\x00\\\\xa0\\\\x8e\\\\xbc\\\\x00\\\\xc0\\\\x04\\\\xb9\\\\x00\\\\xe0\\\\xbd<\\\\x00`\\\\xb3\\\\xbc\\\\x00\\\\x80[\\\\xbc\\\\x00`\\\\xee\\\\xbc\\\\x00\\\\xe0:=\\\\x00\\\\x80\\\\xce<\\\\x00`\\\\x06\\\\xbd\\\\x00\\\\x00y;\\\\x00\\\\x80\\\\x89;\\\\x00`\\\\x84<\\\\x00`s=\\\\x00`9\\\\xbc\\\\x00\\\\x80\\\\xf8\\\\xbc\\\\x00@?\\\\xbd\\\\x00\\\\x00e=\\\\x00\\\\x00\\\\x05\\\\xbc\\\\x00\\\\xa0\\\\xba\\\\xbc\\\\x00 L\\\\xbc\\\\x00 2=\\\\x00\\\\xe0\\\\x9e<\\\\x00\\\\x00W=\\\\x00\\\\xc0R<\\\\x00`{;\\\\x00\\\\x00M=\\\\x00\\\\xc0\\\\xb5;\\\\x00\\\\x80\\\\xc7\\\\xba\\\\x00\\\\xc0\\\\xfe\\\\xbc\\\\x00\\\\x80\\\\x93\\\\xba\\\\x00 (=\\\\x00`U\\\\xbd\\\\x00`&\\\\xbd\\\\x00\\\\x80\\\\xd1;\\\\x00\\\\xa0j\\\\xbc\\\\x00\\\\xc0\\\\\\\\\\\\xbc\\\\x00\\\\xc0\\\\x1b=\\\\x00\\\\xc0D\\\\xbc\\\\x00\\\\xc0?\\\\xbd\\\\x00`\\\\xdc<\\\\x00\\\\x00\\\\t<\\\\x00\\\\xc0I\\\\xbc\\\\x00\\\\xa0\\\\x17<\\\\x00 B\\\\xbd\\\\x00\\\\x00\\\\xc8\\\\xb9\\\\x00\\\\xa0\\\\xfd\\\\xbc\\\\x00@\\\\xf7<\\\\x00 \\\\'=\\\\x00@\\\\x849\\\\x00\\\\x80\\\\x07\\\\xbb\\\\x00\\\\xe0\\\\xf7\\\\xbc\\\\x00\\\\xa0\\\\xd0<\\\\x00@G\\\\xbd\\\\x00\\\\xe0\\\\x18=\\\\x00\\\\xa0X\\\\xbc\\\\x00@g\\\\xbb\\\\x00\\\\xa0\\\\xbc<\\\\x00\\\\xe0\\\\xdf\\\\xbc\\\\x00 \\\\xbb\\\\xbc\\\\x00\\\\xc0\\\\x0c=\\\\x00\\\\x80-\\\\xba\\\\x00\\\\x80\\\\xfa<\\\\x00\\\\xe0\\\\xb6\\\\xba\\\\x00@\\\\xce\\\\xbc\\\\x00`\\\\xf7;\\\\x00\\\\xc0O\\\\xbc\\\\x00\\\\xe0\\\\xb0<\\\\x00\\\\x80O=\\\\x00\\\\xc0\\\"\\\\xbc\\\\x00 ><\\\\x00\\\\x00w\\\\xba\\\\x00\\\\x00\\\\x17<\\\\x00\\\\xe0\\\\xb3<\\\\x00@{=\\\\x00@$\\\\xbd\\\\x00 \\\\x85\\\\xbc\\\\x00\\\\xa0\\\\x01\\\\xbd\\\\x00\\\\xa0\\\\xca\\\\xbc\\\\x00 \\\\xfd\\\\xbb\\\\x00`4\\\\xbc\\\\x00@\\\\x92=\\\\x00\\\\xc0G=\\\\x00\\\\x00N<\\\\x00\\\\xa0\\\\xdd<\\\\x00\\\\x80\\\\x04\\\\xbc\\\\x00`\\\\xd1<\\\\x00\\\\xa0\\\"=\\\\x00\\\\xa0\\\\x8c\\\\xbd\\\\x00`\\\\xc4\\\\xb9\\\\x00\\\\xe0\\\\xa5\\\\xbc\\\\x00 p=\\\\x00\\\\x80\\\\xba<\\\\x00\\\\xc0\\\\x86:\\\\x00\\\\x80\\\\xde=\\\\x00 /<\\\\x00\\\\x80\\\\xbe<\\\\x00\\\\xc0\\\\x19=\\\\x00\\\\x00\\\\xe7\\\\xbc\\\\x00\\\\xc0\\\\x9d<\\\\x00\\\\xa0M<\\\\x00\\\\xa0\\\\xdd\\\\xbd\\\\x00 \\\\x11\\\\xbb\\\\x00\\\\xe0\\\\xe7;\\\\x00@\\\\x82\\\\xbd\\\\x00\\\\x00\\\\x89=\\\\x00\\\\x00\\\\x94\\\\xbc\\\\x00 \\\\xc9:\\\\x00\\\\x80\\\\x92<\\\\x00\\\\xa0(\\\\xbd\\\\x00\\\\x80I=\\\\x00\\\\xe0\\\\x0e=\\\\x00\\\\x80\\\\x06=\\\\x00@\\\\xbd\\\\xbb\\\\x00\\\\x00\\\\x81=\\\\x00\\\\x80\\\\xba;\\\\x00\\\\x80\\\\x1e\\\\xbc\\\\x00`1\\\\xbd\\\\x00\\\\x00l;\\\\x00 \\\\xe0\\\\xbb\\\\x00@!<\\\\x00\\\\xa0{<\\\\x00`\\\\xeb\\\\xbb\\\\x00\\\\xe0/\\\\xbc\\\\x00\\\\xe0\\\\x96<\\\\x00\\\\xa0\\\\x02\\\\xbd\\\\x00\\\\xa0>\\\\xbc\\\\x00@\\\\xa7\\\\xbb\\\\x00\\\\x00\\\\x0c<\\\\x00\\\\xe0\\\\x8f<\\\\x00\\\\xe0O\\\\xbd\\\\x00 \\\\xc5<\\\\x00`U\\\\xbd\\\\x00 )\\\\xbd\\\\x00\\\\xa03<\\\\x00\\\\xe0s\\\\xbb\\\\x00\\\\xe0\\\\x7f<\\\\x00\\\\xe0\\\"\\\\xbb\\\\x00`}\\\\xbc\\\\x00\\\\xa0!\\\\xba\\\\x00`\\\\x1e\\\\xbc\\\\x00@\\\\x88\\\\xba\\\\x00\\\\x00\\\\xe9;\\\\x00\\\\xe0\\\\xc9\\\\xbc\\\\x00\\\\xc0=<\\\\x00\\\\x80\\\\x1d=\\\\x00\\\\xa0\\\\xb5\\\\xbc\\\\x00\\\\xe0+\\\\xbc\\\\x00`\\\\x02=\\\\x00\\\\xc0\\\\xce\\\\xbc\\\\x00`\\\\x13\\\\xbd\\\\x00`\\\\x8e<\\\\x00\\\\x00)<\\\\x00\\\\x00\\\\x1d\\\\xbc\\\\x00@\\\\x01=\\\\x00`\\\\'<\\\\x00\\\\xa0R;\\\\x00`\\\\xe0\\\\xba\\\\x00`V\\\\xbc\\\\x00`\\\\xa5\\\\xba\\\\x00`|;\\\\x00@|=\\\\x00\\\\xe0\\\\x01=\\\\x00\\\\xe0G\\\\xbd\\\\x00\\\\x00\\\\xb2\\\\xbc\\\\x00 \\\\x06=\\\\x00`\\\\xf3\\\\xbb\\\\x00\\\\xa0\\\\x10\\\\xbd\\\\x00\\\\x000\\\\xb5\\\\x00\\\\xe0\\\\xf5<\\\\x00\\\\xc0\\\\x01=\\\\x00\\\\x80+=\\\\x00\\\\xc0\\\\x08\\\\xbc\\\\x00@Z\\\\xbc\\\\x00``\\\\xbc\\\\x00\\\\x80\\\\xb4\\\\xbc\\\\x00 S<\\\\x00\\\\xc0\\\\x8e\\\\xbb\\\\x00`\\\\x89\\\\xbc\\\\x00 \\\\x12\\\\xbd\\\\x00`\\\\x9a\\\\xbc\\\\x00\\\\x80\\\\x0f=\\\\x00\\\\xa0\\\\xfb;\\\\x00\\\\xe01\\\\xbc\\\\x00`\\\\xae\\\\xbc\\\\x00\\\\xe0\\\\x0c\\\\xbd\\\\x00\\\\x00\\\\xb4\\\\xbc\\\\x00\\\\x80\\\\xf5\\\\xba\\\\x00\\\\xe0\\\\xef\\\\xbc\\\\x00\\\\x00E\\\\xbc\\\\x00\\\\xe0\\\\x95\\\\xbb\\\\x00 \\\\x0c\\\\xbc\\\\x00 9\\\\xbd\\\\x00\\\\xa0\\\\x8e\\\\xbd\\\\x00\\\\xc0/\\\\xbc\\\\x00`\\\\xaa\\\\xbc\\\\x00@\\\\x08=\\\\x00\\\\xe0\\\\t<\\\\x00\\\\xc0\\\\xf6\\\\xbc\\\\x00\\\\x80,;\\\\x00\\\\x80\\\\xa2<\\\\x00@\\\\xc7\\\\xbc\\\\x00\\\\xe0v\\\\xbc\\\\x00@\\\\x8f;\\\\x00\\\\x00\\\\xd6:\\\\x00 \\\\x97<\\\\x00@\\\\x8b\\\\xbc\\\\x00`i<\\\\x00@\\\\xda\\\\xbc\\\\x00\\\\x80,\\\\xbb\\\\x00\\\\x00/\\\\xbd\\\\x00@o<\\\\x00@7;\\\\x00\\\\x00\\\\x07\\\\xbd\\\\x00\\\\xa0i;\\\\x00\\\\x00?<\\\\x00\\\\x00@\\\\xbc\\\\x00`\\\\xea<\\\\x00`\\\\xd3:\\\\x00\\\\x00J\\\\xbd\\\\x00\\\\x007<\\\\x00\\\\x80\\\\x0f=\\\\x00\\\\xe0\\\\x8a\\\\xbc\\\\x00 L\\\\xbb\\\\x00\\\\xe0\\\\x88=\\\\x00`@\\\\xbd\\\\x00\\\\xe0\\\\xea<\\\\x00\\\\x00w<\\\\x00\\\\xe0P=\\\\x00\\\\x00\\\\xc9<\\\\x00\\\\x80 \\\\xbd\\\\x00\\\\xa0\\\\xad\\\\xbc\\\\x00\\\\xc0)\\\\xbd\\\\x00\\\\xc0\\\\xd3<\\\\x00\\\\xa0\\\\x1a<\\\\x00\\\\xe0\\\\x81<\\\\x00\\\\x80\\\\x8f\\\\xbb\\\\x00`8\\\\xbc\\\\x00\\\\xe0\\\\xab<\\\\x00`\\\\xa2\\\\xbc\\\\x00@g<\\\\x00 [;\\\\x00\\\\xa0e\\\\xbc\\\\x00`\\\\xae<\\\\x00\\\\xc0.=\\\\x00@7;\\\\x00 \\\\x87;\\\\x00\\\\xc0\\\\x0e\\\\xbd\\\\x00\\\\x00\\\\x9b=\\\\x00 \\\\x17\\\\xbc\\\\x00 \\\\xa2<\\\\x00`\\\\x8d<\\\\x00@\\\\x93\\\\xbd\\\\x00 \\\\x07=\\\\x00\\\\xc0\\\\xb3=\\\\x00`\\\\x86\\\\xbd\\\\x00\\\\x80\\\\x8b=\\\\x00\\\\x80k=\\\\x00\\\\x80\\\\x92\\\\xbc\\\\x00@\\\\x10=\\\\x00`\\\\xac<\\\\x00 `\\\\xbb\\\\x00\\\\x00_;\\\\x00`\\\\xf4:\\\\x00\\\\x80\\\\xfa\\\\xbc\\\\x00 \\\\xed<\\\\x00\\\\xa0\\\\x00\\\\xbb\\\\x00`\\\\x95\\\\xbc\\\\x00\\\\x00\\\\xfe<\\\\x00\\\\xe0\\\\xbc\\\\xbc\\\\x00\\\\xe0\\\\xb6<\\\\x00\\\\xa0\\\\xf9<\\\\x00\\\\x80\\\\xd7\\\\xbb\\\\x00 \\\"=\\\\x00`(\\\\xbb\\\\x00\\\\x80\\\\xfa\\\\xba\\\\x00 \\\\xba\\\\xbc\\\\x00`N\\\\xbd\\\\x00\\\\x00`=\\\\x00\\\\x00K<\\\\x00\\\\xc0\\\\x05\\\\xbd\\\\x00\\\\xa0\\\\x8e\\\\xbd\\\\x00\\\\xe0)<\\\\x00\\\\xe0\\\\xac:\\\\x00@\\\\xaa;\\\\x00\\\\x00\\\\x8f\\\\xbb\\\\x00`U\\\\xbc\\\\x00`\\\\xb4\\\\xbc\\\\x00\\\\x00\\\\x7f\\\\xbc\\\\x00\\\\xc0`<\\\\x00`\\\\xb4;\\\\x00 K;\\\\x00\\\\xa0\\\\x13\\\\xbc\\\\x00\\\\xe0\\\\xd6\\\\xbc\\\\x00\\\\x00x;\\\\x00 \\\\xcb\\\\xbc\\\\x00\\\\xe0+;\\\\x00@\\\\xb6\\\\xbc\\\\x00\\\\x00u\\\\xbc\\\\x00 \\\\x1d\\\\xbd\\\\x00\\\\x003<\\\\x00\\\\xe0+\\\\xbb\\\\x00@\\\\x05;\\\\x00\\\\x80\\\\xd5<\\\\x00\\\\xe0\\\\\\\\\\\\xba\\\\x00@O<\\\\x00\\\\xc0\\\\xe2;\\\\x00\\\\x80\\\\x12;\\\\x00@&\\\\xbb\\\\x00`e\\\\xbc\\\\x00 \\\\xf6\\\\xbc\\\\x00\\\\xa0\\\\x06=\\\\x00\\\\xe0\\\\xf3\\\\xbc\\\\x00\\\\xa0\\\\xd3\\\\xbc\\\\x00\\\\x80\\\\xf3<\\\\x00\\\\xc0K<\\\\x00 \\\\xf19\\\\x00\\\\x00\\\\xd1;\\\\x00\\\\x80x\\\\xbb\\\\x00\\\\xe0U\\\\xba\\\\x00\\\\x80]\\\\xbc\\\\x00\\\\xc0\\\\x82\\\\xba\\\\x00\\\\x00T=\\\\x00 %\\\\xbd\\\\x00 \\\\x9c=\\\\x00\\\\xa0\\\\xab;\\\\x00\\\\x00J\\\\xbd\\\\x00`q\\\\xbd\\\\x00@8\\\\xbd\\\\x00\\\\xe0\\\\xd6\\\\xbc\\\\x00`\\\\xab=\\\\x00\\\\x00\\\\xbb\\\\xbd\\\\x00\\\\xe0/=\\\\x00 \\\\xa6=\\\\x00\\\\x00\\\\xbb\\\\xbd\\\\x00\\\\xe0\\\\x04\\\\xbd\\\\x00\\\\x00k\\\\xbd\\\\x00\\\\x00\\\\x8d\\\\xbc\\\\x00`\\\\x05<\\\\x00\\\\xe0\\\\x04=\\\\x00 \\\\x8c\\\\xbd\\\\x00`\\\\x11;\\\\x00\\\\x80\\\\x9e\\\\xbd\\\\x00 \\\\'<\\\\x00\\\\x80\\\\xbb\\\\xbc\\\\x00\\\\xc0\\\\x80\\\\xbd\\\\x00\\\\xc0\\\\xda;\\\\x00\\\\xa04<\\\\x00\\\\x80\\\\x84;\\\\x00\\\\xe0\\\\x0c9\\\\x00\\\\x80*=\\\\x00@T\\\\xbd\\\\x00\\\\xc0\\\\x01\\\\xbd\\\\x00\\\\xa0\\\\x11\\\\xbd\\\\x00\\\\x80\\\\xbf\\\\xbb\\\\x00\\\\xe0\\\\x82<\\\\x00\\\\xc0\\\\xf1<\\\\x00`V<\\\\x00\\\\xa0\\\\xd5<\\\\x00`\\\\x96;\\\\x00`c<\\\\x00\\\\xe0T=\\\\x00\\\\xa0\\\\x1c\\\\xbd\\\\x00\\\\xa0\\\\xf2;\\\\x00``;\\\\x00\\\\xc0\\\\x82<\\\\x00\\\\x80\\\\xcf<\\\\x00\\\\x80\\\\x88\\\\xbc\\\\x00  \\\\xbd\\\\x00@\\\\x9e<\\\\x00\\\\xc0B\\\\xbc\\\\x00`\\\\xc5;\\\\x00`\\\\xcd\\\\xbb\\\\x00@\\\\x07\\\\xbd\\\\x00@@\\\\xbb\\\\x00\\\\xe0\\\\x1c=\\\\x00\\\\xa0\\\\xd2;\\\\x00\\\\xc0/<\\\\x00\\\\xe0\\\\xbf<\\\\x00\\\\xa0\\\\x05\\\\xbc\\\\x00\\\\x80B<\\\\x00@\\\\x9b<\\\\x00\\\\x80e<\\\\x00`6\\\\xbb\\\\x00\\\\xc0\\\\x8b=\\\\x00\\\\x80(<\\\\x00 \\\\xf7<\\\\x00@S\\\\xbc\\\\x00`\\\\xb6\\\\xbc\\\\x00\\\\xa0\\\\xa5\\\\xbb\\\\x00\\\\xe0\\\\xcb<\\\\x00`e\\\\xbd\\\\x00\\\\xa0\\\\x0f=\\\\x00\\\\xa0\\\\x0b=\\\\x00`\\\\x07=\\\\x00\\\\xa0\\\\x0e\\\\xbd\\\\x00\\\\xa01=\\\\x00@\\\\x97\\\\xbc\\\\x00\\\\x00\\\\xc1<\\\\x00\\\\x80\\\\xa9\\\\xbb\\\\x00 c<\\\\x00 \\\\x83\\\\xbc\\\\x00\\\\x00\\\\xe8\\\\xbc\\\\x00\\\\xc0-\\\\xbc\\\\x00\\\\xc0\\\\xf2\\\\xbb\\\\x00`\\\\xa9=\\\\x00\\\\xc00=\\\\x00 :\\\\xba\\\\x00`\\\\xac\\\\xbc\\\\x00\\\\x00f\\\\xbc\\\\x00\\\\x00\\\\xe0\\\\xbc\\\\x00@\\\\x87\\\\xbc\\\\x00`\\\\x08\\\\xbd\\\\x00@\\\\xc2=\\\\x00\\\\xe0\\\\xef<\\\\x00@D<\\\\x00\\\\xa0\\\\xcc\\\\xbc\\\\x00\\\\xc0\\\\x14\\\\xbc\\\\x00\\\\xa0\\\\x83\\\\xbc\\\\x00\\\\xc0M<\\\\x00\\\\xa0\\\\x08\\\\xbd\\\\x00\\\\xe0\\\\xae<\\\\x00\\\\x80Q<\\\\x00\\\\xa0i\\\\xbc\\\\x00@)=\\\\x00\\\\xe0\\\\xf3\\\\xbc\\\\x00\\\\x00;<\\\\x00`;\\\\xbd\\\\x00@\\\\\\\\\\\\xbd\\\\x00\\\\xc0\\\\xb7;\\\\x00 \\\\x14=\\\\x00\\\\xe0\\\\xa5<\\\\x00 \\\\x92<\\\\x00`\\\\x0e=\\\\x00`\\\\x9a<\\\\x00 \\\\xbf\\\\xbb\\\\x00\\\\xe0\\\\n<\\\\x00\\\\x80\\\\xa5<\\\\x00 \\\\xd1\\\\xbc\\\\x00\\\\x80-=\\\\x00@\\\\x88<\\\\x00\\\\xc0\\\\xa7\\\\xbc\\\\x00`\\\\xa8\\\\xbc\\\\x00\\\\x00\\\\x0b\\\\xbd\\\\x00\\\\xa08\\\\xbd\\\\x00 \\\\x9a=\\\\x00@\\\\xa3\\\\xbc\\\\x00\\\\xa0\\\\x87\\\\xbc\\\\x00`\\\\x8f<\\\\x00\\\\xc0\\\\x0e<\\\\x00\\\\xc0\\\\xb0\\\\xbc\\\\x00\\\\xe0\\\\xaf<\\\\x00\\\\x80\\\\xe6\\\\xbc\\\\x00\\\\xa0\\\\xea<\\\\x00\\\\xe0\\\\xbb;\\\\x00\\\\x000\\\\xbc\\\\x00\\\\xe0\\\\x1a\\\\xbc\\\\x00 -<\\\\x00\\\\x004\\\\xbd\\\\x00`}<\\\\x00\\\\x80\\\"=\\\\x00\\\\x80U\\\\xbb\\\\x00\\\\xc0#<\\\\x00\\\\xe0o\\\\xbd\\\\x00`/=\\\\x00`\\\\xf6<\\\\x00\\\\xa0\\\\x87\\\\xbd\\\\x00\\\\x00\\\\x91\\\\xbc\\\\x00\\\\x00\\\\x9f<\\\\x00@\\\\xa5<\\\\x00 \\\\x95\\\\xbb\\\\x00 \\\\xf8<\\\\x00\\\\xe0 \\\\xbb\\\\x00\\\\xa0\\\\xb3<\\\\x00\\\\xa0?=\\\\x00`\\\\xce<\\\\x00 \\\\x9e=\\\\x00\\\\xe0_\\\\xbd\\\\x00\\\\x00\\\\xc5<\\\\x00\\\\x80u=\\\\x00\\\\x003\\\\xbd\\\\x00\\\\xc0\\\\x01=\\\\x00`\\\\x19=\\\\x00`\\\\xb0\\\\xbc\\\\x00\\\\xe0Q\\\\xbd\\\\x00`5\\\\xbc\\\\x00\\\\xc0*:\\\\x00\\\\xa0u\\\\xbd\\\\x00\\\\xa0\\\\xe8<\\\\x00\\\\x00\\\\x95<\\\\x00 \\\\xee\\\\xbb\\\\x00@\\\\x1f=\\\\x00\\\\xa0\\\\xbd\\\\xb9\\\\x00\\\\x00\\\\xc7;\\\\x00\\\\xe0\\\\xa8\\\\xbc\\\\x00 \\\\t=\\\\x00`\\\\x00\\\\xbd\\\\x00`<\\\\xbd\\\\x00\\\\x80K\\\\xbd\\\\x00\\\\x80\\\\xb5\\\\xbc\\\\x00\\\\xe0\\\\xb9<\\\\x00\\\\x80\\\\x0c=\\\\x00\\\\x80W<\\\\x00\\\\x00\\\\xff\\\\xbc\\\\x00 .=\\\\x00`\\\\x92\\\\xbc\\\\x00\\\\xa0\\\\x93\\\\xbb\\\\x00@(=\\\\x00\\\\xe0\\\\x17\\\\xbb\\\\x00`\\\\x1c<\\\\x00 B=\\\\x00\\\\x00\\\\x8f\\\\xbb\\\\x00 \\\\x0e=\\\\x00 p\\\\xbc\\\\x00 \\\\x13=\\\\x00`B<\\\\x00\\\\xa0\\\\x91<\\\\x00\\\\xc0\\\\x1d=\\\\x00\\\\xe0G\\\\xbc\\\\x00`\\\\xa6\\\\xbb\\\\x00\\\\xe0\\\\xa0\\\\xbc\\\\x00\\\\x80.=\\\\x00\\\\xa0+;\\\\x00\\\\xa00<\\\\x00 v\\\\xbd\\\\x00`\\\\xc6<\\\\x00 \\\\x92<\\\\x00\\\\x80\\\\xe9\\\\xbb\\\\x00\\\\xe0\\\\xcd\\\\xbb\\\\x00\\\\xe0A<\\\\x00`J\\\\xbc\\\\x00 #\\\\xbc\\\\x00\\\\x00o<\\\\x00 5\\\\xbd\\\\x00\\\\xc0\\\\xc1:\\\\x00\\\\x00\\\\xa9<\\\\x00 \\\\x15\\\\xba\\\\x00\\\\xa0\\\\x92<\\\\x00 \\\\xc0\\\\xbd\\\\x00\\\\xe0z=\\\\x00\\\\xe0\\\\xee;\\\\x00@\\\\xe5<\\\\x00@\\\\x1a\\\\xbd\\\\x00\\\\x00Q<\\\\x00`\\\\xa0\\\\xbc\\\\x00\\\\x80\\\\xa3\\\\xbc\\\\x00\\\\xa0\\\"\\\\xbd\\\\x00\\\\x80W\\\\xbd\\\\x00@&\\\\xbd\\\\x00\\\\xe0\\\\x05=\\\\x00@\\\\xc8\\\\xbc\\\\x00`\\\\x97\\\\xbc\\\\x00\\\\x80\\\\xfb;\\\\x00@\\\\x84<\\\\x00@\\\\xff\\\\xbc\\\\x00@\\\\x11\\\\xbd\\\\x00\\\\xa0\\\\x1c\\\\xbd\\\\x00\\\\xa0\\\\xad;\\\\x00\\\\x00\\\\x1b\\\\xbd\\\\x00 \\\\xb2\\\\xbc\\\\x00\\\\x00\\\\x82\\\\xbc\\\\x00@\\\\xb1\\\\xbc\\\\x00@\\\\xde<\\\\x00 [=\\\\x00\\\\xc0\\\"=\\\\x00`\\\\xc0\\\\xbc\\\\x00@\\\\xb7\\\\xbd\\\\x00 \\\\xa5\\\\xbc\\\\x00\\\\x00\\\\x94\\\\xbc\\\\x00\\\\xc0\\\\xc7\\\\xbc\\\\x00\\\\xc0:\\\\xbd\\\\x00\\\\x00\\\\xa2\\\\xbb\\\\x00\\\\xe0\\\\x87=\\\\x00\\\\xa0\\\\xa3<\\\\x00\\\\xc0\\\\x14\\\\xbc\\\\x00 \\\\x11\\\\xbd\\\\x00\\\\xa0\\\\n\\\\xbc\\\\x00@\\\\x80<\\\\x00`\\\\xd7\\\\xbc\\\\x00 \\\\xa1\\\\xbc\\\\x00\\\\xa0\\\\xb3\\\\xbc\\\\x00@\\\\x95\\\\xbc\\\\x00\\\\xc0\\\"=\\\\x00\\\\xc0\\\\x9c\\\\xba\\\\x00\\\\x00\\\\xc7<\\\\x00\\\\x80I;\\\\x00\\\\x00\\\\x06\\\\xbc\\\\x00\\\\x00\\\\x0c=\\\\x00`4=\\\\x00\\\\xc0m=\\\\x00 \\\\xcf\\\\xbc\\\\x00 H\\\\xbd\\\\x00\\\\xa0\\\\xf1<\\\\x00\\\\xa0\\\\xb2;\\\\x00`5=\\\\x00\\\\xc0\\\\x90;\\\\x00\\\\xa0\\\\xdc<\\\\x00\\\\xa0p<\\\\x00@\\\\xbe\\\\xbc\\\\x00\\\\x00\\\\x97;\\\\x00@$;\\\\x00@\\\\\\\\\\\\xbc\\\\x00\\\\xe0\\\\xe4\\\\xbc\\\\x00\\\\xe0\\\\x1f=\\\\x00\\\\xa0\\\\x8d\\\\xbb\\\\x00@\\\\xe3;\\\\x00\\\\xc0\\\\xc7;\\\\x00`\\\\xde\\\\xbb\\\\x00\\\\xe06\\\\xbd\\\\x00\\\\xe0-=\\\\x00`f\\\\xbd\\\\x00`\\\\xdc\\\\xbc\\\\x00\\\\xc01\\\\xbd\\\\x00\\\\x00\\\\xc9\\\\xbc\\\\x00\\\\x80}\\\\xbc\\\\x00 \\\\xd4<\\\\x00`\\\\xb7\\\\xbc\\\\x00`c<\\\\x00\\\\x80\\\\xf3\\\\xbb\\\\x00\\\\xc0\\\\xc9\\\\xbc\\\\x00\\\\xa0^<\\\\x00@/\\\\xbc\\\\x00\\\\xc0\\\\xa9<\\\\x00\\\\xe0N=\\\\x00\\\\x80\\\\x8b;\\\\x00\\\\x80\\\\xd1\\\\xbc\\\\x00\\\\xa0j<\\\\x00\\\\xc0\\\\xc4\\\\xbc\\\\x00 \\\\xd1\\\\xbc\\\\x00`\\\\x04<\\\\x00`\\\\x10\\\\xbb\\\\x00\\\\x00W\\\\xbd\\\\x00\\\\xa0N<\\\\x00@3\\\\xbd\\\\x00\\\\xa0\\\\xaa\\\\xbb\\\\x00 D\\\\xbc\\\\x00@\\\\x17=\\\\x00\\\\xc02\\\\xbc\\\\x00\\\\xe0\\\\xf8<\\\\x00\\\\xa0\\\\xca;\\\\x00\\\\xa0=<\\\\x00\\\\xc0\\\\xac\\\\xbb\\\\x00\\\\xa0\\\\r\\\\xbb\\\\x00`\\\\xad\\\\xbc\\\\x00`\\\\xa0=\\\\x00\\\\xc0\\\\x0f<\\\\x00@:=\\\\x00\\\\xa0\\\\x7f\\\\xbc\\\\x00\\\\xe0,\\\\xbd\\\\x00\\\\xa0X\\\\xbd\\\\x00\\\\xa05=\\\\x00\\\\x00\\\\xb8\\\\xbc\\\\x00\\\\xc0j\\\\xbc\\\\x00\\\\x00F\\\\xbc\\\\x00\\\\x00u\\\\xbb\\\\x00\\\\xa0\\\\x1e=\\\\x00@\\\\xaa<\\\\x00\\\\x80O=\\\\x00\\\\xa0\\\\x1e=\\\\x00\\\\xa0\\\\xad\\\\xbc\\\\x00\\\\xe0K<\\\\x00\\\\x80H\\\\xbc\\\\x00\\\\x00N\\\\xbc'\",\n          \"b'\\\\'\\\\x00\\\\x00\\\\x00\\\\xaa;\\\\x00\\\\xe0\\\\'\\\\xbd\\\\x00`<<\\\\x00`I\\\\xbd\\\\x00 D\\\\xbd\\\\x00\\\\x00\\\\xd9<\\\\x00`,\\\\xbd\\\\x00@\\\\xd2;\\\\x00\\\\xe0\\\\xe2;\\\\x00 \\\\xf8;\\\\x00\\\\xa0\\\\xd3;\\\\x00\\\\xc0@<\\\\x00\\\\x80\\\\x1b\\\\xbd\\\\x00\\\\xa0\\\\xfa\\\\xbc\\\\x00\\\\xe0\\\\xae\\\\xbb\\\\x00@D\\\\xbb\\\\x00@\\\\xba<\\\\x00@\\\\xe6<\\\\x00\\\\xe0d<\\\\x00`j\\\\xbc\\\\x00`\\\\xa6\\\\xbb\\\\x00\\\\xa0\\\\xb1;\\\\x00@\\\\x9c\\\\xbc\\\\x00\\\\x00\\\\xdd<\\\\x00\\\\xc0\\\\x1f<\\\\x00 \\\\x1f\\\\xbd\\\\x00\\\\x80\\\\x00<\\\\x00\\\\xc0\\\\xd1\\\\xba\\\\x00\\\\xa0\\\\x1a;\\\\x00@\\\\xf4\\\\xbb\\\\x00\\\\x00\\\\'<\\\\x00 ~<\\\\x00\\\\x00\\\\xeb<\\\\x00\\\\xa0\\\\x8c\\\\xbc\\\\x00\\\\xc0(;\\\\x00`\\\\x1a=\\\\x00 \\\\x8b;\\\\x00\\\\xe0 ;\\\\x00\\\\x80\\\\xb3;\\\\x00\\\\x00n<\\\\x00@\\\\x93=\\\\x00`$\\\\xbd\\\\x00\\\\x80\\\\x12>\\\\x00\\\\xc0\\\\x19\\\\xbd\\\\x00\\\\xe0\\\\x86=\\\\x00\\\\xa0\\\\x87<\\\\x00@4=\\\\x00\\\\x80[\\\\xbd\\\\x00 \\\\x07=\\\\x00\\\\x00\\\\x86\\\\xbb\\\\x00 \\\\x8a\\\\xbc\\\\x00 O\\\\xbd\\\\x00\\\\x80a\\\\xbc\\\\x00\\\\xc0\\\\xd1\\\\xbc\\\\x00`&\\\\xbd\\\\x00\\\\xa0\\\\xed\\\\xbc\\\\x00 \\\\xab\\\\xbd\\\\x00@k=\\\\x00\\\\x80\\\\xd1<\\\\x00`\\\\xd5=\\\\x00\\\\x006<\\\\x00\\\\xc0\\\\x14\\\\xbb\\\\x00\\\\xa0\\\\x1b\\\\xbd\\\\x00\\\\x00\\\\xc6\\\\xbd\\\\x00`\\\\x9e\\\\xbc\\\\x00@\\\\xd2\\\\xbb\\\\x00\\\\x80\\\\xec\\\\xbb\\\\x00\\\\xc01\\\\xbb\\\\x00`\\\\xa8<\\\\x00 \\\\xc6\\\\xbc\\\\x00\\\\xe0\\\\x9b\\\\xbb\\\\x00@\\\\x9d\\\\xbb\\\\x00 \\\\xb9:\\\\x00\\\\xe0!\\\\xbd\\\\x00@\\\\xd7\\\\xbc\\\\x00\\\\x80[\\\\xbc\\\\x00@\\\\x96\\\\xbc\\\\x00\\\\x00\\\\x14\\\\xbd\\\\x00\\\\xa0\\\\xad<\\\\x00\\\\xa0^\\\\xbc\\\\x00\\\\x80\\\\x7f<\\\\x00\\\\xc01<\\\\x00\\\\xa0\\\\xd4\\\\xbc\\\\x00`_\\\\xbc\\\\x00`7\\\\xbc\\\\x00\\\\xe0\\\\xd5;\\\\x00\\\\x00\\\\x19\\\\xbc\\\\x00\\\\xa0\\\\x8b\\\\xbc\\\\x00\\\\x00\\\\x9c:\\\\x00\\\\x00\\\\xb6\\\\xbc\\\\x00\\\\x00\\\\xb5\\\\xbc\\\\x00\\\\xa06\\\\xbd\\\\x00@\\\\x83\\\\xbc\\\\x00\\\\x80\\\\xe0<\\\\x00\\\\xa0\\\\xaa:\\\\x00`\\\\xce\\\\xbc\\\\x00\\\\xc0\\\\x7f;\\\\x00\\\\xe0\\\\x1e\\\\xbd\\\\x00\\\\xc0\\\\xbd<\\\\x00`l<\\\\x00\\\\xa0\\\\\\\\=\\\\x00\\\\x00\\\\x83\\\\xbd\\\\x00\\\\x808=\\\\x00\\\\x00l\\\\xbc\\\\x00 \\\\xaa\\\\xbb\\\\x00`\\\\x89=\\\\x00\\\\xc0\\\\x15\\\\xbb\\\\x00@\\\\xa4\\\\xbc\\\\x00 \\\\x8f\\\\xbc\\\\x00\\\\x00\\\\xc4;\\\\x00\\\\xa0\\\\x17;\\\\x00\\\\x80\\\\x16\\\\xbd\\\\x00 7<\\\\x00\\\\xa0@\\\\xbd\\\\x00`\\\\xd5;\\\\x00`H<\\\\x00\\\\xe0\\\\xcf\\\\xbc\\\\x00@(=\\\\x00`\\\\x8c<\\\\x00\\\\xa0R\\\\xbc\\\\x00\\\\xa0\\\\x15\\\\xbd\\\\x00\\\\x802\\\\xbc\\\\x00\\\\xa0\\\\xaf;\\\\x00\\\\xe0\\\\x9d8\\\\x00\\\\xc0\\\\x90<\\\\x00 ^<\\\\x00@M;\\\\x00\\\\x80\\\\xb9\\\\xbb\\\\x00`\\\\x04\\\\xbd\\\\x00\\\\xe08<\\\\x00`\\\\t\\\\xbd\\\\x00\\\\x00\\\\xee<\\\\x00@\\\\x0e=\\\\x00@\\\\x98<\\\\x00\\\\xe0 \\\\xbc\\\\x00\\\\x80\\\\\\\\\\\\xbc\\\\x00\\\\xc0\\\\x18=\\\\x00`V\\\\xbd\\\\x00\\\\x80q\\\\xbc\\\\x00\\\\xc0\\\\xd6;\\\\x00\\\\xe0\\\\xe7<\\\\x00\\\\xe0X\\\\xba\\\\x00\\\\xa0l\\\\xbb\\\\x00@\\\\xb5\\\\xbc\\\\x00\\\\x00\\\\x0b=\\\\x00\\\\xe0\\\\xac\\\\xbc\\\\x00@k<\\\\x00 \\\\xd6<\\\\x00`I<\\\\x00@\\\\x1a=\\\\x00\\\\xe0;\\\\xbc\\\\x00\\\\x00E=\\\\x00\\\\x00\\\\x95=\\\\x00\\\\x00\\\\x1e\\\\xbd\\\\x00\\\\x00\\\\xe0\\\\xbd\\\\x00\\\\xe05\\\\xbd\\\\x00 \\\\x15\\\\xbd\\\\x00\\\\xe0\\\\x01\\\\xbd\\\\x00@\\\\xf4\\\\xbc\\\\x00\\\\x00b\\\\xbd\\\\x00`\\\\xad<\\\\x00\\\\xc0\\\\xb6\\\\xbb\\\\x00\\\\x00\\\\x8e<\\\\x00\\\\x80p<\\\\x00`\\\\xf9;\\\\x00 \\\\x9a\\\\xbb\\\\x00\\\\xc0t\\\\xbc\\\\x00\\\\x80w\\\\xbb\\\\x00@7<\\\\x00\\\\x80\\\\xd2\\\\xbc\\\\x00\\\\xa0u\\\\xbd\\\\x00\\\\xa0\\\\xcb<\\\\x00\\\\xe0\\\\xf4<\\\\x00\\\\x80\\\\x12\\\\xbd\\\\x00 \\\\x05\\\\xbc\\\\x00\\\\xc0m\\\\xba\\\\x00 \\\\xfa\\\\xbc\\\\x00@\\\\xa0<\\\\x00@\\\\x99\\\\xbb\\\\x00 &=\\\\x00\\\\x00-=\\\\x00\\\\xe0\\\\xe6\\\\xbc\\\\x00 \\\\x16\\\\xbd\\\\x00\\\\x80O=\\\\x00\\\\xc0G\\\\xbd\\\\x00 \\\\xd4\\\\xbb\\\\x00\\\\xc0\\\\x16<\\\\x00\\\\x00)=\\\\x00\\\\xa0E=\\\\x00\\\\xe0&;\\\\x00\\\\xa06=\\\\x00 \\\\xc2\\\\xbc\\\\x00\\\\x00y\\\\xbc\\\\x00 \\\\x92<\\\\x00\\\\xc0\\\\xb2;\\\\x00\\\\xe0\\\\xe5\\\\xbc\\\\x00@\\\\xad\\\\xba\\\\x00\\\\x80z;\\\\x00\\\\x00\\\\x8e\\\\xbb\\\\x00\\\\xc0\\\\xbf\\\\xbc\\\\x00\\\\xa0f\\\\xbd\\\\x00\\\\x00$;\\\\x00@\\\\xbd<\\\\x00@\\\\x18=\\\\x00\\\\xe0e=\\\\x00\\\\x80j\\\\xbc\\\\x00\\\\xc0K<\\\\x00@\\\\xcc;\\\\x00\\\\x80\\\\x8f=\\\\x00 \\\\xa0<\\\\x00\\\\x80\\\\xef\\\\xbc\\\\x00\\\\xa0\\\\xaa\\\\xbc\\\\x00\\\\xa0\\\\xbf<\\\\x00\\\\xe0\\\\xcf\\\\xbb\\\\x00\\\\xa0\\\\x03\\\\xbd\\\\x00@E\\\\xbc\\\\x00\\\\xc0\\\\x13\\\\xbd\\\\x00\\\\xa0\\\\xab;\\\\x00\\\\xe0<\\\\xbd\\\\x00@u=\\\\x00\\\\xe0\\\\xc8\\\\xbc\\\\x00\\\\xe0\\\\x19\\\\xbd\\\\x00\\\\xc0>\\\\xbd\\\\x00 \\\\xba<\\\\x00 \\\\xcb<\\\\x00\\\\x00\\\\xd2\\\\xbc\\\\x00`\\\\t\\\\xbc\\\\x00\\\\xc0\\\\xf8\\\\xbc\\\\x00\\\\x80\\\\xcc<\\\\x00\\\\x00d;\\\\x00`\\\\x87\\\\xbc\\\\x00\\\\xa0\\\\xd2<\\\\x00\\\\xc0\\\\x02\\\\xbd\\\\x00\\\\x00\\\\xb3\\\\xbc\\\\x00 R\\\\xbc\\\\x00`\\\\x93<\\\\x00\\\\x80\\\\xd0<\\\\x00\\\\xe0\\\\xda\\\\xbb\\\\x00\\\\xa0B<\\\\x00\\\\x80\\\\x82<\\\\x00\\\\xa0Q=\\\\x00@\\\\xa7:\\\\x00\\\\xc0r\\\\xbc\\\\x00\\\\xe0+\\\\xbd\\\\x00\\\\xe0Y=\\\\x00\\\\xe0\\\\x8c<\\\\x00 \\\\x01=\\\\x00\\\\xc0a\\\\xbd\\\\x00\\\\x80\\\\xdd\\\\xbb\\\\x00\\\\x80\\\\xcd<\\\\x00\\\\xe0W;\\\\x00\\\\x00\\\\x809\\\\x00\\\\xe0\\\\xd6<\\\\x00\\\\xa0\\\\x02\\\\xba\\\\x00\\\\xc0\\\\x95<\\\\x00\\\\xc0\\\\xd8<\\\\x00`K<\\\\x00 T<\\\\x00`\\\\x9a\\\\xbb\\\\x00\\\\xa0U<\\\\x00\\\\x00\\\\xfd\\\\xba\\\\x00\\\\xa0\\\\xb2=\\\\x00 m<\\\\x00\\\\x80\\\\x12=\\\\x00\\\\xa0P<\\\\x00\\\\xa0\\\\x84\\\\xbc\\\\x00\\\\xa0*=\\\\x00\\\\x80\\\\\\\\=\\\\x00\\\\xa0\\\\xf7<\\\\x00@6\\\\xbd\\\\x00\\\\xc0v\\\\xbc\\\\x00`\\\\x12<\\\\x00`=\\\\xbc\\\\x00\\\\x00?\\\\xbb\\\\x00\\\\x00\\\\xa3\\\\xbc\\\\x00\\\\xc0\\\\x16\\\\xbd\\\\x00`T:\\\\x00\\\\xc0(\\\\xb9\\\\x00\\\\xa0\\\\xfe\\\\xbc\\\\x00\\\\xa0\\\\x1f\\\\xbd\\\\x00 \\\\xf8\\\\xbb\\\\x00 z<\\\\x00@\\\\t<\\\\x00 u\\\\xbb\\\\x00`\\\\x99<\\\\x00\\\\x80\\\\xdf\\\\xbc\\\\x00\\\\xa0\\\\xb7;\\\\x00\\\\xa0\\\\x8a\\\\xbc\\\\x00`\\\\xa0\\\\xbd\\\\x00\\\\x00\\\\xa2\\\\xbc\\\\x00 \\\\xdf<\\\\x00\\\\xe0\\\\x10\\\\xbc\\\\x00 b\\\\xbd\\\\x00\\\\xa0\\\\x1c\\\\xbb\\\\x00`\\\\xa8\\\\xbc\\\\x00`G\\\\xbc\\\\x00 \\\\xa4<\\\\x00\\\\xa0a<\\\\x00@\\\\xc8<\\\\x00\\\\x00\\\\xfa\\\\xbc\\\\x00\\\\xe0)\\\\xbc\\\\x00`\\\\x13=\\\\x00`\\\\xb9\\\\xbc\\\\x00`\\\\x9b;\\\\x00`\\\\xc7;\\\\x00\\\\xa0}<\\\\x00\\\\xc0\\\\x07=\\\\x00\\\\xc0\\\\xd5;\\\\x00 l<\\\\x00`\\\\xdf\\\\xbc\\\\x00 \\\\xb1:\\\\x00\\\\x00:<\\\\x00\\\\x00\\\\xcd;\\\\x00\\\\x00\\\\x03<\\\\x00`\\\\x01\\\\xbd\\\\x00`\\\\xc3\\\\xbb\\\\x00\\\\x80\\\\x98\\\\xbc\\\\x00\\\\xc0\\\\x02;\\\\x00\\\\xc0\\\\xc9<\\\\x00 \\\\x84=\\\\x00 \\\\xdd\\\\xbd\\\\x00@\\\\x17=\\\\x00\\\\xe0\\\\xa1\\\\xbc\\\\x00`\\\\x17=\\\\x00@\\\\'=\\\\x00`\\\\x92<\\\\x00\\\\xc0\\\\x9e<\\\\x00\\\\x00S<\\\\x00\\\\xe0\\\\x82=\\\\x00 \\\\xc7\\\\xbc\\\\x00@\\\\xb9\\\\xbc\\\\x00\\\\xa0t\\\\xbc\\\\x00\\\\xe0l\\\\xbd\\\\x00\\\\x80S\\\\xbd\\\\x00\\\\x80\\\\xbc;\\\\x00\\\\x80\\\\xd6\\\\xb9\\\\x00 \\\\x0f;\\\\x00\\\\x00\\\\xe8<\\\\x00\\\\xe0D\\\\xbc\\\\x00\\\\x00{\\\\xbd\\\\x00\\\\x00\\\\xab\\\\xbb\\\\x00\\\\x80f\\\\xbc\\\\x00\\\\xc0\\\\x90\\\\xbb\\\\x00\\\\xa0\\\\xed<\\\\x00\\\\xe0r\\\\xbc\\\\x00 3=\\\\x00\\\\x80\\\\x0f\\\\xbd\\\\x00\\\\x80\\\\xb0<\\\\x00@)\\\\xbd\\\\x00\\\\xc06\\\\xbc\\\\x00`&\\\\xbc\\\\x00\\\\xc0*\\\\xbd\\\\x00\\\\xc0\\\\x9e\\\\xbc\\\\x00 S<\\\\x00\\\\xa0\\\\xf1<\\\\x00\\\\xe0\\\\x8c<\\\\x00\\\\xa0\\\\xe0\\\\xbb\\\\x00 \\\\t=\\\\x00\\\\x00\\\\xf8<\\\\x00\\\\xc0H\\\\xbc\\\\x00\\\\xa0q=\\\\x00\\\\x00\\\\xbb<\\\\x00 \\\\xfd<\\\\x00@\\\\xc4\\\\xbc\\\\x00 \\\\x8f\\\\xbd\\\\x00\\\\xc0\\\\xeb\\\\xbc\\\\x00\\\\xe0&=\\\\x00@\\\\xfe\\\\xbb\\\\x00\\\\xc0\\\\xa0=\\\\x00\\\\xa02=\\\\x00 \\\\x1b<\\\\x00\\\\x00\\\\x99<\\\\x00\\\\xe0\\\\x0c=\\\\x00\\\\xc0\\\\xe3<\\\\x00\\\\xa0;=\\\\x00@\\\\x8e\\\\xbd\\\\x00\\\\xc0\\\\x8f;\\\\x00\\\\xc0\\\\xba\\\\xbc\\\\x00\\\\xe0\\\\r<\\\\x00`\\\\x9c\\\\xb9\\\\x00\\\\xc0m;\\\\x00\\\\x00:\\\\xbc\\\\x00\\\\xe0\\\\xa7<\\\\x00@\\\\xf1\\\\xbc\\\\x00\\\\xa0\\\\x05\\\\xbc\\\\x00\\\\x80\\\\x14=\\\\x00\\\\xa0\\\\x10=\\\\x00`c=\\\\x00\\\\xc0I:\\\\x00\\\\xa0&\\\\xbd\\\\x00\\\\xe0\\\\x90\\\\xbc\\\\x00\\\\xc0e=\\\\x00 D=\\\\x00\\\\x80\\\\xda\\\\xbc\\\\x00@\\\\x8d\\\\xbc\\\\x00@\\\\xc6\\\\xbb\\\\x00\\\\x80\\\\x07\\\\xbc\\\\x00\\\\x80\\\\xb8\\\\xbc\\\\x00\\\\xc0-<\\\\x00\\\\xa08\\\\xbc\\\\x00\\\\xc0\\\\xb6<\\\\x00`\\\\xad<\\\\x00\\\\xc0\\\\xfc;\\\\x00 \\\\xc7\\\\xbb\\\\x00\\\\x003\\\\xbc\\\\x00\\\\x80\\\\x86\\\\xbc\\\\x00\\\\x00\\\\x8b<\\\\x00\\\\xc0\\\\x9d;\\\\x00\\\\xe0\\\\xd9<\\\\x00\\\\x80\\\\x90=\\\\x00@X\\\\xbc\\\\x00\\\\xc0\\\\xf0\\\\xbb\\\\x00\\\\xa0+:\\\\x00 \\\\x03\\\\xbc\\\\x00\\\\xa0\\\\xb4\\\\xbc\\\\x00 \\\\x1b=\\\\x00\\\\x80P\\\\xbd\\\\x00\\\\xc0k\\\\xbb\\\\x00\\\\xc0\\\\x9f\\\\xbc\\\\x00\\\\x00C=\\\\x00\\\\xc0\\\\xef;\\\\x00\\\\xc0\\\\x15<\\\\x00`\\\\x82\\\\xbc\\\\x00\\\\xa0\\\\x8c<\\\\x00 \\\\xd1<\\\\x00\\\\xe0>\\\\xbc\\\\x00\\\\x80\\\\x01<\\\\x00\\\\xc0\\\\xbc\\\\xbc\\\\x00\\\\xc0U=\\\\x00\\\\x80T=\\\\x00\\\\x80G;\\\\x00`\\\\x03<\\\\x00\\\\xc0\\\\x07;\\\\x00\\\\x00\\\\x05\\\\xbb\\\\x00\\\\xa0\\\\xe2\\\\xbc\\\\x00\\\\x80\\\\xa2;\\\\x00\\\\x00\\\\x16\\\\xbd\\\\x00\\\\x00\\\\x06\\\\xbc\\\\x00`\\\\xfb\\\\xbc\\\\x00@\\\\xd8\\\\xbc\\\\x00\\\\x80]\\\\xbc\\\\x00\\\\xe04;\\\\x00 <=\\\\x00\\\\x80\\\\xc4<\\\\x00\\\\xe0\\\\xa7\\\\xbb\\\\x00\\\\xa0\\\\xd3<\\\\x00\\\\xa0\\\\x88;\\\\x00`m\\\\xbb\\\\x00\\\\x80K<\\\\x00\\\\xa0\\\\xf2<\\\\x00\\\\xe0\\\\xa1\\\\xbc\\\\x00@\\\\r\\\\xbb\\\\x00@\\\\x00\\\\xbc\\\\x00\\\\x80M<\\\\x00\\\\xe0\\\\x03\\\\xbd\\\\x00\\\\xc0C<\\\\x00`;\\\\xbd\\\\x00`\\\\x98;\\\\x00@\\\\x85=\\\\x00\\\\x00 \\\\xbd\\\\x00 \\\\x9e\\\\xbd\\\\x00\\\\x00\\\\x11\\\\xbc\\\\x00\\\\xa0\\\\xd7\\\\xbb\\\\x00\\\\xc0\\\\xf2\\\\xbc\\\\x00\\\\x00\\\\x91\\\\xbc\\\\x00\\\\x00\\\\xf9:\\\\x00\\\\x00\\\\x19\\\\xba\\\\x00`\\\\x87<\\\\x00\\\\xc0\\\\xa9\\\\xbc\\\\x00 C\\\\xb9\\\\x00 \\\\xb4;\\\\x00 \\\\xe4:\\\\x00\\\\xe0\\\\xc6<\\\\x00`\\\\xeb\\\\xbc\\\\x00\\\\x00\\\\x9b<\\\\x00@9\\\\xbd\\\\x00@\\\\xc8<\\\\x00\\\\xa0g\\\\xbc\\\\x00`\\\\xd0<\\\\x00@#\\\\xbd\\\\x00 \\\\xe7\\\\xbc\\\\x00\\\\xc0\\\\xe6<\\\\x00 \\\\xaf;\\\\x00\\\\xa0F;\\\\x00`\\\\x9d\\\\xbc\\\\x00\\\\xa0t<\\\\x00\\\\xc0\\\\xd8\\\\xbc\\\\x00\\\\x802\\\\xbd\\\\x00 \\\\x83;\\\\x00@\\\\x85\\\\xbc\\\\x00\\\\x00\\\\xff\\\\xbc\\\\x00\\\\x00\\\\x84\\\\xbc\\\\x00`\\\\x12<\\\\x00@\\\\xf4\\\\xbb\\\\x00\\\\xa0\\\\x8c\\\\xbc\\\\x00\\\\x80\\\\xd6:\\\\x00\\\\x00V\\\\xbc\\\\x00@q=\\\\x00@\\\";\\\\x00\\\\x00\\\\x16\\\\xbd\\\\x00`\\\\xda:\\\\x00\\\\xc0\\\\xc6\\\\xba\\\\x00\\\\xa0\\\\x93<\\\\x00@\\\\x05<\\\\x00\\\\xa0\\\\x89:\\\\x00\\\\x80s=\\\\x00\\\\xe0\\\\x97<\\\\x00\\\\xa0\\\\xb8\\\\xbc\\\\x00@\\\\xa6\\\\xbb\\\\x00\\\\xa0\\\\xbe\\\\xbc\\\\x00\\\\xe0\\\\x18\\\\xbc\\\\x00\\\\xc0\\\\x8e\\\\xbd\\\\x00@\\\\xe4<\\\\x00`\\\\x15\\\\xbd\\\\x00\\\\x80s<\\\\x00\\\\x80\\\\xf8\\\\xbb\\\\x00 \\\\x8c=\\\\x00\\\\x80\\\\x93\\\\xbd\\\\x00\\\\xc0p=\\\\x00\\\\xc0\\\\xa1<\\\\x00`\\\\xfc<\\\\x00@\\\\xc4<\\\\x00\\\\x00#=\\\\x00\\\\xc0\\\\xcc<\\\\x00\\\\xe06\\\\xbd\\\\x00\\\\x80\\\\x9c\\\\xba\\\\x00@j<\\\\x00\\\\xc0\\\\x1d\\\\xbd\\\\x00\\\\xe0\\\\x14:\\\\x00@d\\\\xbc\\\\x00\\\\x80\\\\x05\\\\xbc\\\\x00\\\\xe0\\\\x9f\\\\xbc\\\\x00 \\\\n\\\\xbc\\\\x00\\\\xc0\\\\xa1<\\\\x00\\\\x00\\\\x01=\\\\x00\\\\x00\\\\x10=\\\\x00`|\\\\xbc\\\\x00\\\\xe0\\\\xde<\\\\x00\\\\xc0\\\"<\\\\x00\\\\xc0\\\\x10\\\\xbd\\\\x00 \\\\x8c\\\\xbc\\\\x00\\\\xc0\\\\xdf\\\\xbc\\\\x00\\\\x80\\\\xc6;\\\\x00\\\\xe0\\\\xe3\\\\xbc\\\\x00`\\\\x14\\\\xbc\\\\x00\\\\xa0\\\\x92\\\\xbc\\\\x00\\\\x80\\\\x17<\\\\x00\\\\xc0\\\\x92\\\\xbc\\\\x00\\\\xc0b\\\\xbc\\\\x00\\\\x80l\\\\xbd\\\\x00\\\\xe0\\\\x92<\\\\x00\\\\x80\\\\'=\\\\x00@\\\\x1a<\\\\x00\\\\x80%\\\\xbc\\\\x00\\\\xe0\\\\xf1\\\\xbc\\\\x00\\\\x80\\\\xbd<\\\\x00`\\\\x02<\\\\x00\\\\xa0\\\\x05\\\\xbd\\\\x00\\\\x00o\\\\xbc\\\\x00\\\\xa0d=\\\\x00 \\\\xa0<\\\\x00\\\\x00d=\\\\x00\\\\xa0\\\\x7f\\\\xbc\\\\x00 E\\\\xbd\\\\x00@\\\\x80=\\\\x00@t<\\\\x00`2<\\\\x00\\\\x00K\\\\xbd\\\\x00\\\\xe0U\\\\xbc\\\\x00\\\\x80y\\\\xbc\\\\x00\\\\xe0\\\\x18\\\\xbd\\\\x00\\\\xc0\\\\xe5\\\\xbc\\\\x00\\\\xc0\\\\x19\\\\xbd\\\\x00\\\\xc0\\\\x0c\\\\xbd\\\\x00`9;\\\\x00\\\\xc0\\\\xcf;\\\\x00\\\\xa0w\\\\xbc\\\\x00`:\\\\xbc\\\\x00\\\\xc06=\\\\x00 \\\\x85=\\\\x00\\\\xc0\\\\xdd;\\\\x00`\\\\x0c<\\\\x00@A\\\\xbd\\\\x00`\\\\xa3\\\\xbd\\\\x00\\\\x00\\\\x81\\\\xbd\\\\x00\\\\x80-<\\\\x00\\\\xc0M=\\\\x00 \\\\x91\\\\xbc\\\\x00`\\\\x8e\\\\xbc\\\\x00`[;\\\\x00 y=\\\\x00`\\\\x96\\\\xbc\\\\x00\\\\xc0\\\\xc0\\\\xbc\\\\x00\\\\xa0\\\\xd3<\\\\x00`\\\\xd4<\\\\x00\\\\x80_<\\\\x00\\\\x00\\\\x18<\\\\x00\\\\x00\\\\x1a\\\\xbd\\\\x00@>=\\\\x00\\\\x00f:\\\\x00`r\\\\xbc\\\\x00\\\\xe0\\\\xe3\\\\xba\\\\x00@#<\\\\x00\\\\x00\\\\xd8\\\\xbc\\\\x00@\\\\xc1<\\\\x00\\\\x80\\\\xd4;\\\\x00\\\\xa0\\\\x97;\\\\x00\\\\xc0|\\\\xbc\\\\x00\\\\xe0\\\\xf5\\\\xbc\\\\x00 \\\\xab<\\\\x00\\\\xe0\\\\xdd<\\\\x00\\\\x80\\\\xe3<\\\\x00\\\\x80\\\\x1d<\\\\x00@\\\\xbb\\\\xbc\\\\x00 \\\\xa6<\\\\x00\\\\xc07;\\\\x00\\\\x00q\\\\xbc\\\\x00\\\\x00\\\\x05;\\\\x00\\\\xe0w\\\\xbb\\\\x00\\\\x00\\\\xd4\\\\xbc\\\\x00`\\\\x07=\\\\x00\\\\xc0%\\\\xbc\\\\x00`\\\\xa2<\\\\x00\\\\x80\\\\x18=\\\\x00`\\\\xf5\\\\xbc\\\\x00 \\\\x12=\\\\x00\\\\xc0J=\\\\x00\\\\xa0d=\\\\x00`V\\\\xbc\\\\x00\\\\xc0\\\\xb2<\\\\x00\\\\x80\\\\x18=\\\\x00\\\\xc0\\\\x01\\\\xbc\\\\x00 \\\\xaf\\\\xbc\\\\x00\\\\xa0\\\\x9a\\\\xbd\\\\x00\\\\xc0\\\\xb4;\\\\x00\\\\xc0a=\\\\x00\\\\xa0\\\\x9f<\\\\x00\\\\x00\\\\x9c<\\\\x00\\\\x00\\\\xbd\\\\xbb\\\\x00@\\\\x86\\\\xbc\\\\x00`O\\\\xbc\\\\x00\\\\x00C<\\\\x00\\\\xc0A\\\\xbd\\\\x00\\\\xc0\\\\n=\\\\x00 \\\\xbc\\\\xbb\\\\x00@\\\\xf3\\\\xbb\\\\x00 \\\\x80;\\\\x00\\\\x00\\\\n\\\\xbd\\\\x00\\\\x80\\\\n\\\\xbd\\\\x00\\\\xc0\\\\x0c\\\\xbc\\\\x00@\\\\xa6<\\\\x00\\\\xa0><\\\\x00 n<\\\\x00`\\\\xcc\\\\xbb\\\\x00\\\\xa0\\\\x89\\\\xbc\\\\x00\\\\xa0\\\\x98\\\\xbc\\\\x00@\\\\xcc8\\\\x00\\\\xa0<<\\\\x00\\\\xe0\\\\x01<\\\\x00\\\\xe0O\\\\xbd\\\\x00\\\\x00F\\\\xbd\\\\x00\\\\xa0\\\\x12\\\\xbc\\\\x00@\\\\xc1\\\\xbb\\\\x00\\\\xe0\\\\xb8\\\\xbc\\\\x00`\\\\t\\\\xbd\\\\x00\\\\x00]\\\\xbc\\\\x00\\\\x80B<\\\\x00\\\\xa0\\\\xc6<\\\\x00\\\\x00\\\\xe6\\\\xbc\\\\x00\\\\x00\\\\xba<\\\\x00\\\\x80\\\\xee\\\\xbc\\\\x00\\\\xc0\\\\x17=\\\\x00\\\\xa0\\\\x0b\\\\xbd\\\\x00@@\\\\xbd\\\\x00`@<\\\\x00@\\\\x91=\\\\x00\\\\x00\\\\x99<\\\\x00 /=\\\\x00\\\\xe0Y=\\\\x00\\\\x80u\\\\xbd\\\\x00\\\\xe0\\\\xb3;\\\\x00\\\\x80\\\\x98:\\\\x00\\\\x00\\\\x999\\\\x00\\\\x80\\\\xf3<\\\\x00`J\\\\xbd\\\\x00\\\\xe0\\\\n=\\\\x00\\\\x80-\\\\xbd\\\\x00\\\\xe0\\\\x80\\\\xbc\\\\x00\\\\x80=:\\\\x00\\\\xe0(\\\\xbd\\\\x00\\\\xa0\\\\xc6<\\\\x00`u=\\\\x00`\\\\xd0\\\\xbc\\\\x00@\\\\x99<\\\\x00\\\\xe0$=\\\\x00\\\\xa0\\\\xd5;\\\\x00`(\\\\xbd\\\\x00\\\\xe0\\\\x92\\\\xbd\\\\x00`.\\\\xbd\\\\x00\\\\x00\\\\xc1<\\\\x00\\\\x80 =\\\\x00`|\\\\xbd\\\\x00\\\\xc0\\\\xa5<\\\\x00 \\\\x9e\\\\xbd\\\\x00 \\\\x99\\\\xbb\\\\x00\\\\xa0Z9\\\\x00\\\\x00\\\\xb7;\\\\x00@\\\\x10=\\\\x00\\\\xe0\\\\xa8<\\\\x00@\\\\xf0\\\\xba\\\\x00`&=\\\\x00\\\\xe0\\\\xd1<\\\\x00\\\\xe0}\\\\xbd\\\\x00`t\\\\xbc\\\\x00\\\\xe0\\\\xbc9\\\\x00\\\\x00>\\\\xbb\\\\x00@J;\\\\x00\\\\xc0Q<\\\\x00\\\\xa0\\\\xf6;\\\\x00\\\\xa0\\\\x9f9\\\\x00\\\\xc0\\\\x9c\\\\xbb\\\\x00@\\\\xe2<\\\\x00\\\\xe03=\\\\x00\\\\xe0(\\\\xbb\\\\x00\\\\xc0\\\\xdb<\\\\x00@c<\\\\x00@\\\\x14\\\\xbd\\\\x00\\\\xc0\\\\xc3\\\\xba\\\\x00\\\\xa0\\\\\\\\;\\\\x00\\\\xc0`\\\\xbc\\\\x00@z<\\\\x00@0;\\\\x00\\\\x00\\\\xc7\\\\xbc\\\\x00`\\\\xd2<\\\\x00 \\\\xca;\\\\x00`\\\\x98=\\\\x00\\\\xe0g;\\\\x00\\\\x00\\\\x88\\\\xbc\\\\x00\\\\xc0\\\\xf1\\\\xbc\\\\x00@\\\\x94\\\\xbb\\\\x00\\\\xc0g\\\\xba\\\\x00 \\\\xdf;\\\\x00 \\\\xa0<\\\\x00\\\\xe0\\\\xe8;\\\\x00\\\\xe0\\\\x01\\\\xbc\\\\x00 C=\\\\x00@\\\\x87<\\\\x00`\\\\x13=\\\\x00@\\\\xc4\\\\xbb\\\\x00\\\\xc0\\\\x1a:\\\\x00\\\\x00\\\\x97\\\\xbb\\\\x00 \\\\x02\\\\xba\\\\x00\\\\x00\\\\xd1\\\\xbc\\\\x00\\\\x803\\\\xbd\\\\x00\\\\x00,<\\\\x00@\\\\x8e\\\\xbd\\\\x00@\\\\x1f\\\\xbd\\\\x00`\\\\x03=\\\\x00\\\\x00\\\\xf19\\\\x00@:<\\\\x00`1\\\\xbd\\\\x00\\\\xe0\\\\xef;\\\\x00\\\\xc0\\\\x19\\\\xbc\\\\x00\\\\xa0\\\\xf4\\\\xbc\\\\x00@N=\\\\x00\\\\xa0\\\\xed\\\\xba\\\\x00\\\\xe0\\\\x17=\\\\x00\\\\xc0j=\\\\x00\\\\xe0\\\\xaa;\\\\x00\\\\xe0R\\\\xbc\\\\x00`\\\\xc1\\\\xbc\\\\x00\\\\x80\\\\x16\\\\xbd\\\\x00\\\\xa0G\\\\xbc\\\\x00\\\\xe0\\\\xc3\\\\xbc\\\\x00@\\\\xbc=\\\\x00 \\\\xf7<\\\\x00\\\\x00S\\\\xbd\\\\x00\\\\x80]=\\\\x00\\\\x80!<\\\\x00 \\\\x96=\\\\x00\\\\xe0\\\\x93;\\\\x00\\\\xe0\\\\x89=\\\\x00`\\\\x1d\\\\xbd\\\\x00\\\\xc0\\\\xf7\\\\xbc\\\\x00\\\\xa0\\\\xe9\\\\xbc\\\\x00`)=\\\\x00@\\\\xb3;\\\\x00`\\\\x18=\\\\x00\\\\x80o\\\\xbd\\\\x00\\\\xe0\\\\x99\\\\xbc\\\\x00\\\\xa0\\\\xb6;\\\\x00@<=\\\\x00\\\\x00v<\\\\x00\\\\x003=\\\\x00\\\\xa0\\\\x94\\\\xbc\\\\x00\\\\x80\\\\x1c\\\\xbd\\\\x00\\\\x80\\\\x13=\\\\x00\\\\xa0\\\\xb7<\\\\x00 \\\\xff<\\\\x00\\\\xc0\\\\n\\\\xbd\\\\x00\\\\xe0\\\\x8a\\\\xbc\\\\x00@t<\\\\x00 \\\\x9e\\\\xbc\\\\x00`\\\\xc7<\\\\x00\\\\xc0\\\\x91;\\\\x00\\\\xa0\\\\xa9\\\\xbc\\\\x00@\\\\x05=\\\\x00\\\\x00\\\\xf6<\\\\x00\\\\xe0\\\"=\\\\x00\\\\xa0.\\\\xbb\\\\x00\\\\xe0\\\\xed<\\\\x00\\\\xe0\\\\xf8\\\\xba\\\\x00\\\\x00\\\\x1e\\\\xbc\\\\x00\\\\xe0\\\\xc8<\\\\x00@\\\\x0f=\\\\x00\\\\xe0\\\\x8c=\\\\x00\\\\x007\\\\xbd\\\\x00\\\\x008\\\\xbd\\\\x00\\\\xc0z<\\\\x00@\\\\x9c=\\\\x00@\\\\x05\\\\xbb\\\\x00\\\\xc0\\\\x9e<\\\\x00\\\\xa0\\\\xc7<\\\\x00\\\\x00\\\\x88<\\\\x00\\\\xc0_\\\\xbc\\\\x00\\\\xc0\\\\x05;\\\\x00\\\\xc0>=\\\\x00\\\\x80\\\\x0f\\\\xbd\\\\x00\\\\x80\\\\xc0\\\\xbc\\\\x00 \\\\x9d\\\\xbc\\\\x00\\\\xc0\\\\xe4<\\\\x00\\\\xe0\\\\x92\\\\xbc\\\\x00\\\\x805<\\\\x00\\\\xc02<\\\\x00\\\\x80\\\\x96<\\\\x00\\\\x00)=\\\\x00\\\\xa0\\\\x93\\\\xbc\\\\x00\\\\x00\\\\x1a=\\\\x00\\\\xa0\\\\x1c\\\\xbd\\\\x00\\\\x80\\\\x92<\\\\x00\\\\xe0\\\\x17=\\\\x00\\\\xc0L<\\\\x00@\\\\xc0<\\\\x00\\\\xc0\\\\xae<\\\\x00\\\\xe0\\\\xb9;\\\\x00\\\\x00~\\\\xbc\\\\x00`\\\\n=\\\\x00\\\\xe0\\\\xf3\\\\xbb\\\\x00`\\\\xfd;\\\\x00\\\\xe0\\\\x10=\\\\x00`d=\\\\x00\\\\x00\\\\x14\\\\xbd\\\\x00\\\\x00)<\\\\x00 \\\\xf7;\\\\x00@\\\\x17<\\\\x00\\\\xa0\\\\xcd\\\\xbc\\\\x00\\\\x00\\\\x8e\\\\xbc\\\\x00\\\\xc0&\\\\xbd\\\\x00\\\\xa0\\\\x07\\\\xbc\\\\x00 f=\\\\x00\\\\x00N<\\\\x00\\\\xa0R\\\\xbc\\\\x00@\\\\x14\\\\xbd\\\\x00\\\\xa0\\\\xdb<\\\\x00\\\\xe0\\\\xea\\\\xbc\\\\x00\\\\xa0\\\\xbd=\\\\x00\\\\xc0\\\\x84\\\\xbc\\\\x00@\\\\x16\\\\xbd\\\\x00@\\\\x97=\\\\x00\\\\x80\\\\xd4\\\\xbc\\\\x00\\\\xa0\\\\xf9<\\\\x00\\\\xc0\\\\xb1=\\\\x00\\\\x80\\\\x18\\\\xbc\\\\x00 \\\\x1f\\\\xbd\\\\x00@\\\\xb8\\\\xbc\\\\x00`\\\\xfc\\\\xba\\\\x00\\\\x00\\\\x8b\\\\xbb\\\\x00`\\\\xb2\\\\xbc\\\\x00\\\\x00d;\\\\x00\\\\xa0^\\\\xbc\\\\x00 N9\\\\x00@\\\\xa8;\\\\x00\\\\xe0\\\\xc1<\\\\x00\\\\x80\\\\xb5\\\\xbb\\\\x00\\\\xe0\\\\xca;\\\\x00\\\\xa0\\\\xda\\\\xbc\\\\x00\\\\x00\\\\t<\\\\x00@\\\\xea<\\\\x00`\\\\n=\\\\x00\\\\x80\\\\x88<\\\\x00\\\\xa0\\\\x88<\\\\x00 q\\\\xbd\\\\x00\\\\xa0\\\\x1b\\\\xbc\\\\x00\\\\x00\\\\x16\\\\xbc\\\\x00\\\\xa0\\\\xa4\\\\xbc\\\\x00\\\\xa0\\\\n=\\\\x00\\\\x00\\\\xa3\\\\xbc\\\\x00@\\\\xc8<\\\\x00 \\\\xdf\\\\xbb\\\\x00@^\\\\xbc\\\\x00\\\\xa0\\\\xf6\\\\xbb\\\\x00\\\\xe0Z\\\\xbc\\\\x00\\\\x00\\\\xdc<\\\\x00\\\\xe0\\\\x81\\\\xbb\\\\x00@a;\\\\x00\\\\xa0,\\\\xbc\\\\x00`^=\\\\x00\\\\xa0&\\\\xbd\\\\x00 H\\\\xbd\\\\x00\\\\xe0I\\\\xbd\\\\x00\\\\xc0\\\\xc4<\\\\x00\\\\xe0\\\\xb8\\\\xbd\\\\x00\\\\x00c\\\\xbd\\\\x00\\\\x00\\\\xaf\\\\xbd\\\\x00\\\\x80\\\\xf8<\\\\x00@\\\\xf0<\\\\x00 \\\\x07\\\\xbd\\\\x00\\\\xa0S\\\\xba\\\\x00\\\\x00\\\\xa8\\\\xbb\\\\x00\\\\x80\\\\xa2=\\\\x00\\\\xa0\\\\xc2\\\\xbc\\\\x00 \\\\xb5<\\\\x00\\\\xa0\\\\xea\\\\xbc\\\\x00 \\\\xe0\\\\xbb\\\\x00`\\\\xec\\\\xbc\\\\x00`\\\\xea;\\\\x00@\\\\x96\\\\xbd\\\\x00\\\\xc0\\\\xd0\\\\xbc\\\\x00\\\\x80\\\\xda<\\\\x00\\\\x00\\\\xcf\\\\xbb\\\\x00 \\\\x1b<\\\\x00\\\\x80\\\\x8d\\\\xbc\\\\x00\\\\xa0\\\\xd1\\\\xbc\\\\x00\\\\xc0\\\\xcd<\\\\x00\\\\xe0\\\\xdb<\\\\x00\\\\x00\\\\x83\\\\xbc\\\\x00 \\\\xed\\\\xbc\\\\x00\\\\x80X=\\\\x00\\\\xc0\\\\\\\\\\\\xbc\\\\x00 \\\\xd3\\\\xbb\\\\x00\\\\xa0R\\\\xbb\\\\x00@\\\\xc8\\\\xbc\\\\x00\\\\x006=\\\\x00\\\\xa0\\\\xba<\\\\x00`\\\\xd8\\\\xbc\\\\x00@\\\\xaa<\\\\x00\\\\x00\\\\x19<\\\\x00\\\\xc0t\\\\xbc\\\\x00 \\\\xb5<\\\\x00`\\\\x07=\\\\x00\\\\xa0\\\\x1d=\\\\x00\\\\x009\\\\xbd\\\\x00`W\\\\xbd\\\\x00`\\\\xed<\\\\x00\\\\xe0\\\\x88:\\\\x00\\\\x80\\\\xe9<\\\\x00@\\\\xaf<\\\\x00\\\\x00@=\\\\x00\\\\xa0T=\\\\x00\\\\xa0\\\\x9e\\\\xbc\\\\x00\\\\x00\\\\x04\\\\xbd\\\\x00\\\\xa0\\\\x00\\\\xbd\\\\x00\\\\x80\\\\x19;\\\\x00\\\\xc0\\\\x83\\\\xbc\\\\x00\\\\xc0U=\\\\x00 \\\\xbd<\\\\x00`%\\\\xbc\\\\x00@$\\\\xbd\\\\x00\\\\x00\\\\xdc<\\\\x00`\\\\xd1\\\\xbb\\\\x00\\\\xa0?\\\\xbd\\\\x00 \\\\xf3<\\\\x00\\\\x00\\\\x07\\\\xbb\\\\x00\\\\x80\\\\xc5<\\\\x00\\\\x00\\\\xe6<\\\\x00\\\\xe0\\\\x13\\\\xbd\\\\x00\\\\xc0\\\\xe8<\\\\x00\\\\x00-\\\\xbc\\\\x00\\\\xe0;<\\\\x00 O<\\\\x00\\\\xa0\\\\xdf\\\\xbc\\\\x00\\\\x80l=\\\\x00\\\\xa0\\\\xc8;\\\\x00\\\\x00\\\\xd2\\\\xbc\\\\x00\\\\x80\\\\x17<\\\\x00\\\\xa0\\\\x16=\\\\x00 \\\\xb7\\\\xbc\\\\x00 &<\\\\x00@\\\\x9b\\\\xbb\\\\x00\\\\x80\\\\xe9:\\\\x00 _<\\\\x00`G;\\\\x00 \\\\xe2:\\\\x00`\\\\x95\\\\xbc\\\\x00@D<\\\\x00\\\\x807=\\\\x00`\\\\x1f\\\\xba\\\\x00`\\\\xa5\\\\xbc\\\\x00\\\\x00\\\\xb0\\\\xbc\\\\x00@\\\\xf4\\\\xbb\\\\x00`\\\\r:\\\\x00\\\\x80\\\\x89:\\\\x00\\\\xe0\\\\x9a\\\\xbc\\\\x00\\\\xa0\\\\xc8\\\\xbc\\\\x00\\\\xe0#\\\\xbd\\\\x00\\\\xc0\\\\xc4=\\\\x00\\\\xa0\\\\xb8:\\\\x00\\\\xa0\\\\xe9=\\\\x00@\\\\xa9\\\\xbc\\\\x00\\\\x80\\\\xc0\\\\xbb\\\\x00`3\\\\xbc\\\\x00@\\\\x85<\\\\x00\\\\x00\\\\x12\\\\xbb\\\\x00 R;\\\\x00\\\\xe0 =\\\\x00@@\\\\xbd\\\\x00 \\\\x13=\\\\x00\\\\x00\\\\x05=\\\\x00 E=\\\\x00\\\\x00\\\\xb1<\\\\x00\\\\xc0\\\\xb6\\\\xbb\\\\x00\\\\x00\\\\x99=\\\\x00\\\\x80J<\\\\x00\\\\x00\\\\xe3\\\\xbb'\"\n        ],\n        \"semantic_type\": \"\",\n        \"description\": \"\"\n      }\n    }\n  ]\n}"
            }
          },
          "metadata": {},
          "execution_count": 64
        }
      ]
    },
    {
      "cell_type": "markdown",
      "source": [
        "# **Step 4: Ingest float32, bsonfloat32 and bsonint8 into separate collections**\n",
        "\n",
        "\n"
      ],
      "metadata": {
        "id": "ndgMubRgLDnz"
      }
    },
    {
      "cell_type": "code",
      "source": [
        "MONGO_URI = getpass.getpass(\"Enter MongoDB URI: \")\n",
        "os.environ[\"MONGO_URI\"] = MONGO_URI"
      ],
      "metadata": {
        "colab": {
          "base_uri": "https://localhost:8080/"
        },
        "id": "nh2Klv_JLTIZ",
        "outputId": "6f3edc69-0c48-4be3-de72-cef5f0f44858"
      },
      "execution_count": 9,
      "outputs": [
        {
          "name": "stdout",
          "output_type": "stream",
          "text": [
            "Enter MongoDB URI: ··········\n"
          ]
        }
      ]
    },
    {
      "cell_type": "code",
      "source": [
        "import pymongo\n",
        "\n",
        "def get_mongo_client(mongo_uri):\n",
        "  \"\"\"Establish and validate connection to the MongoDB.\"\"\"\n",
        "\n",
        "  client = pymongo.MongoClient(mongo_uri, appname=\"devrel.showcase.quantized_cohere.python\")\n",
        "\n",
        "  # Validate the connection\n",
        "  ping_result = client.admin.command('ping')\n",
        "  if ping_result.get('ok') == 1.0:\n",
        "    # Connection successful\n",
        "    print(\"Connection to MongoDB successful\")\n",
        "    return client\n",
        "  else:\n",
        "    print(\"Connection to MongoDB failed\")\n",
        "  return None\n",
        "\n",
        "if not MONGO_URI:\n",
        "  print(\"MONGO_URI not set in environment variables\")"
      ],
      "metadata": {
        "id": "zMgWkc3MLLy6"
      },
      "execution_count": 65,
      "outputs": []
    },
    {
      "cell_type": "code",
      "source": [
        "# Function to insert documents into a collection\n",
        "def insert_documents(collection, documents):\n",
        "  try:\n",
        "    result = collection.insert_many(documents)\n",
        "    print(f\"Inserted {len(result.inserted_ids)} documents into {collection.name}\")\n",
        "  except Exception as e:\n",
        "    print(f\"Error inserting documents into {collection.name}: {str(e)}\")"
      ],
      "metadata": {
        "id": "WJyZlncSMTVf"
      },
      "execution_count": 66,
      "outputs": []
    },
    {
      "cell_type": "code",
      "source": [
        "mongo_client = get_mongo_client(MONGO_URI)\n",
        "\n",
        "db = mongo_client[\"quantized_vector_experiment_\"+ DATASET]\n",
        "\n",
        "# Create collections\n",
        "float32_collection = db[\"float32_embeddings\"]\n",
        "bsonfloat32_collection = db[\"bson_float32_embeddings\"]\n",
        "bsonint8_collection = db[\"bson_int8_embeddings\"]"
      ],
      "metadata": {
        "colab": {
          "base_uri": "https://localhost:8080/"
        },
        "id": "ulJHWHBfLYtd",
        "outputId": "18123ead-e76b-4c2e-d9df-78aec7c9c861"
      },
      "execution_count": 116,
      "outputs": [
        {
          "output_type": "stream",
          "name": "stdout",
          "text": [
            "Connection to MongoDB successful\n"
          ]
        }
      ]
    },
    {
      "cell_type": "code",
      "source": [
        "# Clean the collections of previous data before inserting new data\n",
        "float32_collection.delete_many({})\n",
        "bsonfloat32_collection.delete_many({})\n",
        "bsonint8_collection.delete_many({})"
      ],
      "metadata": {
        "colab": {
          "base_uri": "https://localhost:8080/"
        },
        "id": "SGLrqDkAiYPW",
        "outputId": "f1934f8d-65ad-4812-e518-63173ef4dc47"
      },
      "execution_count": 89,
      "outputs": [
        {
          "output_type": "execute_result",
          "data": {
            "text/plain": [
              "DeleteResult({'n': 10366, 'electionId': ObjectId('7fffffff0000000000000033'), 'opTime': {'ts': Timestamp(1727642864, 1867), 't': 51}, 'ok': 1.0, '$clusterTime': {'clusterTime': Timestamp(1727642864, 1867), 'signature': {'hash': b\"\\xa7'$-\\x1dj\\xc4\\x86=0\\xf46)\\t>\\x010.\\xa7\\xa7\", 'keyId': 7353740577831124994}}, 'operationTime': Timestamp(1727642864, 1867)}, acknowledged=True)"
            ]
          },
          "metadata": {},
          "execution_count": 89
        }
      ]
    },
    {
      "cell_type": "code",
      "source": [
        "# Prepare documents for each collection\n",
        "float32_docs = []\n",
        "bsonfloat32_docs = []\n",
        "bsonint8_docs = []\n",
        "\n",
        "# Iterate through the DataFrame and prepare documents\n",
        "for index, row in tqdm(corpus_df.iterrows(), total=len(corpus_df), desc=\"Preparing documents\"):\n",
        "  base_doc = {\n",
        "      \"_id\": str(index),\n",
        "      \"title\": row[\"title\"],\n",
        "      \"text\": row[\"text\"]\n",
        "  }\n",
        "\n",
        "  float32_doc = base_doc.copy()\n",
        "  float32_doc[\"embedding\"] = row[\"float32_embedding\"]\n",
        "  float32_docs.append(float32_doc)\n",
        "\n",
        "  bsonfloat32_doc = base_doc.copy()\n",
        "  bsonfloat32_doc[\"embedding\"] = row[\"bson_float32_embedding\"]\n",
        "  bsonfloat32_docs.append(bsonfloat32_doc)\n",
        "\n",
        "  bsonint8_doc = base_doc.copy()\n",
        "  bsonint8_doc[\"embedding\"] = row[\"bson_int8_embedding\"]\n",
        "  bsonint8_docs.append(bsonint8_doc)\n",
        "\n",
        "# Insert documents into respective collections\n",
        "print(\"Inserting documents into collections...\")\n",
        "insert_documents(float32_collection, float32_docs)\n",
        "insert_documents(bsonfloat32_collection, bsonfloat32_docs)\n",
        "insert_documents(bsonint8_collection, bsonint8_docs)\n",
        "\n",
        "print(\"Data ingestion complete.\")"
      ],
      "metadata": {
        "colab": {
          "base_uri": "https://localhost:8080/"
        },
        "id": "TKhSl7B9MN_8",
        "outputId": "c1c7d933-4a8c-4879-86f9-0a2e13a7dbc2"
      },
      "execution_count": 90,
      "outputs": [
        {
          "output_type": "stream",
          "name": "stderr",
          "text": [
            "Preparing documents: 100%|██████████| 5183/5183 [00:00<00:00, 12963.83it/s]\n"
          ]
        },
        {
          "output_type": "stream",
          "name": "stdout",
          "text": [
            "Inserting documents into collections...\n",
            "Inserted 5183 documents into float32_embeddings\n",
            "Inserted 5183 documents into bson_float32_embeddings\n",
            "Inserted 5183 documents into bson_int8_embeddings\n",
            "Data ingestion complete.\n"
          ]
        }
      ]
    },
    {
      "cell_type": "markdown",
      "source": [
        "# **Step 5: Create vector indicies for all collections**"
      ],
      "metadata": {
        "id": "tQJQMr90MkNJ"
      }
    },
    {
      "cell_type": "code",
      "source": [
        "# Programmatically create vector search index for both colelctions\n",
        "import time\n",
        "from pymongo.operations import SearchIndexModel\n",
        "\n",
        "def setup_vector_search_index(collection, index_definition, index_name=\"vector_index\"):\n",
        "  \"\"\"\n",
        "  Setup a vector search index for a MongoDB collection and wait for 30 seconds.\n",
        "\n",
        "  Args:\n",
        "  collection: MongoDB collection object\n",
        "  index_definition: Dictionary containing the index definition\n",
        "  index_name: Name of the index (default: \"vector_index\")\n",
        "  \"\"\"\n",
        "  new_vector_search_index_model = SearchIndexModel(\n",
        "      definition=index_definition,\n",
        "      name=index_name,\n",
        "      type=\"vectorSearch\"\n",
        "  )\n",
        "\n",
        "  # Create the new index\n",
        "  try:\n",
        "    result = collection.create_search_index(model=new_vector_search_index_model)\n",
        "    print(f\"Creating index '{index_name}'...\")\n",
        "\n",
        "    # Sleep for 30 seconds\n",
        "    print(f\"Waiting for 30 seconds to allow index '{index_name}' to be created...\")\n",
        "    time.sleep(30)\n",
        "\n",
        "    print(f\"30-second wait completed for index '{index_name}'.\")\n",
        "    return result\n",
        "\n",
        "  except Exception as e:\n",
        "    print(f\"Error creating new vector search index '{index_name}': {str(e)}\")\n",
        "    return None"
      ],
      "metadata": {
        "id": "GM__KTVqMl_N"
      },
      "execution_count": null,
      "outputs": []
    },
    {
      "cell_type": "code",
      "source": [
        "def create_vector_index_definition(dimensions):\n",
        "  return {\n",
        "    \"fields\": [\n",
        "        {\n",
        "            \"type\": \"vector\",\n",
        "            \"path\": \"embedding\",\n",
        "            \"numDimensions\": dimensions,\n",
        "            \"similarity\": \"cosine\"\n",
        "        }\n",
        "    ]\n",
        "  }"
      ],
      "metadata": {
        "id": "aL0km35lNCMV"
      },
      "execution_count": null,
      "outputs": []
    },
    {
      "cell_type": "code",
      "source": [
        "DIMENSIONS = 1024\n",
        "\n",
        "float32_index_definition = create_vector_index_definition(dimensions=DIMENSIONS)\n",
        "bsonfloat32_index_definition = create_vector_index_definition(dimensions=DIMENSIONS)\n",
        "bsonint8_index_definition = create_vector_index_definition(dimensions=DIMENSIONS)"
      ],
      "metadata": {
        "id": "sEMtiE2INPCX"
      },
      "execution_count": null,
      "outputs": []
    },
    {
      "cell_type": "code",
      "source": [
        "setup_vector_search_index(float32_collection, float32_index_definition, \"vector_index\")\n",
        "setup_vector_search_index(bsonfloat32_collection, bsonfloat32_index_definition, \"vector_index\")\n",
        "setup_vector_search_index(bsonint8_collection, bsonint8_index_definition, \"vector_index\")"
      ],
      "metadata": {
        "colab": {
          "base_uri": "https://localhost:8080/",
          "height": 191
        },
        "id": "lEBplq9KNJm8",
        "outputId": "5748ca94-256b-4505-e764-aa1311655596"
      },
      "execution_count": null,
      "outputs": [
        {
          "output_type": "stream",
          "name": "stdout",
          "text": [
            "Creating index 'vector_index'...\n",
            "Waiting for 30 seconds to allow index 'vector_index' to be created...\n",
            "30-second wait completed for index 'vector_index'.\n",
            "Creating index 'vector_index'...\n",
            "Waiting for 30 seconds to allow index 'vector_index' to be created...\n",
            "30-second wait completed for index 'vector_index'.\n",
            "Creating index 'vector_index'...\n",
            "Waiting for 30 seconds to allow index 'vector_index' to be created...\n",
            "30-second wait completed for index 'vector_index'.\n"
          ]
        },
        {
          "output_type": "execute_result",
          "data": {
            "text/plain": [
              "'vector_index'"
            ],
            "application/vnd.google.colaboratory.intrinsic+json": {
              "type": "string"
            }
          },
          "metadata": {},
          "execution_count": 66
        }
      ]
    },
    {
      "cell_type": "markdown",
      "source": [
        "# **Step 6: Create generic vector search function**"
      ],
      "metadata": {
        "id": "_pQsFFOfU_0k"
      }
    },
    {
      "cell_type": "code",
      "source": [
        "from pymongo.collection import Collection\n",
        "\n",
        "def vector_search(user_query, collection: Collection, quantized=False, collection_type=\"float32\", vector_index=\"vector_index\"):\n",
        "    \"\"\"\n",
        "    Perform a vector search in the MongoDB collection based on the user query.\n",
        "\n",
        "    Args:\n",
        "    user_query (str): The user's query string.\n",
        "    collection (MongoCollection): The MongoDB collection to search.\n",
        "    quantized (bool): Whether the collection uses quantized vectors.\n",
        "    collection_type (str): The type of collection (\"float32\", \"bsonfloat32\", or \"bsonint8\").\n",
        "    vector_index (str): The name of the vector index to use.\n",
        "\n",
        "    Returns:\n",
        "    tuple: A tuple containing (list of matching documents, query execution time in milliseconds).\n",
        "    \"\"\"\n",
        "\n",
        "    embedding_attribute_path_in_collection = \"embedding\"\n",
        "    query_embedding = None\n",
        "\n",
        "    # Generate embedding for the user query\n",
        "    query_embedding = get_cohere_embeddings([user_query])\n",
        "\n",
        "    if query_embedding is None:\n",
        "        return \"Invalid query or embedding generation failed.\", 0\n",
        "\n",
        "    if quantized:\n",
        "        query_embedding = query_embedding[1][0]\n",
        "        if collection_type == \"bsonint8\":\n",
        "          query_embedding = generate_bson_vector(query_embedding, BinaryVectorDtype.INT8)\n",
        "        else:  # bsonfloat32\n",
        "          query_embedding = generate_bson_vector(query_embedding, BinaryVectorDtype.FLOAT32)\n",
        "    else:\n",
        "        query_embedding = query_embedding[0][0]\n",
        "        if collection_type == \"bsonfloat32\":\n",
        "          query_embedding = generate_bson_vector(query_embedding, BinaryVectorDtype.FLOAT32)\n",
        "\n",
        "    # Define the vector search pipeline\n",
        "    vector_search_stage = {\n",
        "        \"$vectorSearch\": {\n",
        "            \"index\": vector_index,\n",
        "            \"queryVector\": query_embedding,\n",
        "            \"path\": embedding_attribute_path_in_collection,\n",
        "            \"numCandidates\": 150,  # Number of candidate matches to consider\n",
        "            \"limit\": 5  # Return top 5 matches\n",
        "        }\n",
        "    }\n",
        "\n",
        "    project_stage = {\n",
        "        \"$project\": {\n",
        "            \"_id\": 0,  # Exclude the _id field\n",
        "            \"title\": 1,  # Include the title field\n",
        "            \"similarityScore\": {\n",
        "                \"$meta\": \"vectorSearchScore\"  # Include the search score\n",
        "            }\n",
        "        }\n",
        "    }\n",
        "\n",
        "    pipeline = [vector_search_stage, project_stage]\n",
        "\n",
        "    # Execute the explain command\n",
        "    explain_result = collection.database.command(\n",
        "        'explain',\n",
        "        {\n",
        "            'aggregate': collection.name,\n",
        "            'pipeline': pipeline,\n",
        "            'cursor': {}\n",
        "        },\n",
        "        verbosity='executionStats'\n",
        "    )\n",
        "\n",
        "    # Extract the execution time\n",
        "    vector_search_explain = explain_result['stages'][0]['$vectorSearch']\n",
        "    execution_time_ms = vector_search_explain['explain']['query']['stats']['context']['millisElapsed']\n",
        "\n",
        "    # Execute the actual query\n",
        "    results = list(collection.aggregate(pipeline))\n",
        "\n",
        "    return results, execution_time_ms"
      ],
      "metadata": {
        "id": "ZSyMEFPuVHln"
      },
      "execution_count": 91,
      "outputs": []
    },
    {
      "cell_type": "markdown",
      "source": [
        "# **Step 7: Comparison of collections generic vector search results**"
      ],
      "metadata": {
        "id": "GA-A1RPj_Z5W"
      }
    },
    {
      "cell_type": "code",
      "source": [
        "query = \"0-dimensional biomaterials show inductive properties\"\n",
        "float32_result, float32_time = vector_search(query, float32_collection, quantized=False, collection_type=\"float32\")\n",
        "bsonfloat32_result, bsonfloat32_time = vector_search(query, bsonfloat32_collection, quantized=False, collection_type=\"bsonfloat32\")\n",
        "bsonint8_result, bsonint8_time = vector_search(query, bsonint8_collection, quantized=True, collection_type=\"bsonint8\")"
      ],
      "metadata": {
        "id": "0ys8PLFD_ZQk"
      },
      "execution_count": 96,
      "outputs": []
    },
    {
      "cell_type": "code",
      "source": [
        "import pprint\n",
        "print(\"Float32 Vector Search Result:\")\n",
        "pprint.pprint(float32_result)\n",
        "print(\"----------------\")\n",
        "print()\n",
        "\n",
        "print(\"BSON Float32 Vector Search Result:\")\n",
        "pprint.pprint(bsonfloat32_result)\n",
        "print(\"----------------\")\n",
        "print()\n",
        "\n",
        "print(\"BSON Int8 Vector Search Result:\")\n",
        "pprint.pprint(bsonint8_result)\n",
        "print(\"----------------\")\n",
        "print()"
      ],
      "metadata": {
        "colab": {
          "base_uri": "https://localhost:8080/"
        },
        "id": "4UHmdEr6ALzd",
        "outputId": "c198925c-5ab1-4b2f-dcca-45f82ec8ef86"
      },
      "execution_count": 97,
      "outputs": [
        {
          "output_type": "stream",
          "name": "stdout",
          "text": [
            "Float32 Vector Search Result:\n",
            "[{'similarityScore': 0.6950235366821289,\n",
            "  'title': 'Mechanical regulation of cell function with geometrically '\n",
            "           'modulated elastomeric substrates'},\n",
            " {'similarityScore': 0.6885790824890137,\n",
            "  'title': 'Nonlinear Elasticity in Biological Gels'},\n",
            " {'similarityScore': 0.6674723029136658,\n",
            "  'title': 'Inflammatory Reaction as Determinant of Foreign Body Reaction Is '\n",
            "           'an Early and Susceptible Event after Mesh Implantation'},\n",
            " {'similarityScore': 0.6613469123840332,\n",
            "  'title': 'Scaffold-based three-dimensional human fibroblast culture provides '\n",
            "           'a structural matrix that supports angiogenesis in infarcted heart '\n",
            "           'tissue.'},\n",
            " {'similarityScore': 0.6603913307189941,\n",
            "  'title': 'Forces in Tissue Morphogenesis and Patterning'}]\n",
            "----------------\n",
            "\n",
            "BSON Float32 Vector Search Result:\n",
            "[{'similarityScore': 0.6950235366821289,\n",
            "  'title': 'Mechanical regulation of cell function with geometrically '\n",
            "           'modulated elastomeric substrates'},\n",
            " {'similarityScore': 0.6885790824890137,\n",
            "  'title': 'Nonlinear Elasticity in Biological Gels'},\n",
            " {'similarityScore': 0.6674723029136658,\n",
            "  'title': 'Inflammatory Reaction as Determinant of Foreign Body Reaction Is '\n",
            "           'an Early and Susceptible Event after Mesh Implantation'},\n",
            " {'similarityScore': 0.6613469123840332,\n",
            "  'title': 'Scaffold-based three-dimensional human fibroblast culture provides '\n",
            "           'a structural matrix that supports angiogenesis in infarcted heart '\n",
            "           'tissue.'},\n",
            " {'similarityScore': 0.6603913307189941,\n",
            "  'title': 'Forces in Tissue Morphogenesis and Patterning'}]\n",
            "----------------\n",
            "\n",
            "BSON Int8 Vector Search Result:\n",
            "[{'similarityScore': 0.6947944164276123,\n",
            "  'title': 'Mechanical regulation of cell function with geometrically '\n",
            "           'modulated elastomeric substrates'},\n",
            " {'similarityScore': 0.6891517639160156,\n",
            "  'title': 'Nonlinear Elasticity in Biological Gels'},\n",
            " {'similarityScore': 0.6680400371551514,\n",
            "  'title': 'Inflammatory Reaction as Determinant of Foreign Body Reaction Is '\n",
            "           'an Early and Susceptible Event after Mesh Implantation'},\n",
            " {'similarityScore': 0.6613667607307434,\n",
            "  'title': 'Scaffold-based three-dimensional human fibroblast culture provides '\n",
            "           'a structural matrix that supports angiogenesis in infarcted heart '\n",
            "           'tissue.'},\n",
            " {'similarityScore': 0.6589280366897583,\n",
            "  'title': 'Forces in Tissue Morphogenesis and Patterning'}]\n",
            "----------------\n",
            "\n"
          ]
        }
      ]
    },
    {
      "cell_type": "markdown",
      "source": [
        "Based on the provided vector search results for Float32, BSON Float32, and BSON Int8 encodings, we can conclude:\n",
        "\n",
        "1. Consistency across encodings: All three encoding methods (Float32, BSON Float32, and BSON Int8) returned the same top 5 documents in the same order, indicating a high level of consistency in search results regardless of the encoding method used.\n",
        "2. Similarity in scores: The similarity scores for each document are remarkably close across all three encoding methods, with only minor variations in the BSON Int8 results.\n",
        "3. Precision preservation: The BSON Float32 results are identical to the standard Float32 results, suggesting that BSON encoding of float32 values preserves full precision.\n",
        "4. Minimal impact of quantization: The BSON Int8 (quantized) results show only slight differences in similarity scores compared to the float32 versions. The largest difference is in the fifth result, with a score of 0.6589 vs 0.6604, a difference of only about 0.22%.\n",
        "5. Ranking stability: Despite the minor differences in similarity scores for the BSON Int8 encoding, the ranking of results remains unchanged, indicating that the quantization process maintains the relative similarities between documents.\n",
        "\n",
        "These results demonstrate that both BSON encoding and quantization to int8 maintain high fidelity in vector search operations.\n",
        "\n",
        "The consistency in results across all three methods suggests that developers can confidently use BSON encoding and even int8 quantization to significantly reduce storage requirements (as seen in later analysis) without compromising the quality of vector search results in their AI applications."
      ],
      "metadata": {
        "id": "CgSxo2JMJk-L"
      }
    },
    {
      "cell_type": "code",
      "source": [
        "print(f\"Float32 search time: {float32_time} milliseconds\")\n",
        "print(f\"BSON Float32 search time: {bsonfloat32_time} milliseconds\")\n",
        "print(f\"BSON Int8 search time: {bsonint8_time} milliseconds\")"
      ],
      "metadata": {
        "colab": {
          "base_uri": "https://localhost:8080/"
        },
        "id": "Vl5sLblQD3yb",
        "outputId": "236112b6-998f-49e5-e6e0-b60fff8b5d19"
      },
      "execution_count": 98,
      "outputs": [
        {
          "output_type": "stream",
          "name": "stdout",
          "text": [
            "Float32 search time: 16.684341 milliseconds\n",
            "BSON Float32 search time: 12.182835 milliseconds\n",
            "BSON Int8 search time: 0.030998 milliseconds\n"
          ]
        }
      ]
    },
    {
      "cell_type": "code",
      "source": [
        "def get_collection_size_info(collection):\n",
        "    \"\"\"\n",
        "    Get detailed size information of a MongoDB collection.\n",
        "\n",
        "    Args:\n",
        "    collection (pymongo.collection.Collection): The MongoDB collection object\n",
        "\n",
        "    Returns:\n",
        "    dict: A dictionary containing various size metrics of the collection\n",
        "    \"\"\"\n",
        "    # Get the database from the collection\n",
        "    db = collection.database\n",
        "\n",
        "    # Run the collStats command\n",
        "    stats = db.command(\"collStats\", collection.name)\n",
        "\n",
        "    # Extract relevant size information\n",
        "    size_info = {\n",
        "        \"total_size_mb\": stats[\"totalSize\"] / (1024 * 1024),\n",
        "        \"storage_size_mb\": stats[\"storageSize\"] / (1024 * 1024),\n",
        "        \"index_size_mb\": stats[\"totalIndexSize\"] / (1024 * 1024),\n",
        "        \"document_size_mb\": stats[\"size\"] / (1024 * 1024),\n",
        "        \"avg_document_size_bytes\": stats[\"avgObjSize\"],\n",
        "        \"num_documents\": stats[\"count\"]\n",
        "    }\n",
        "\n",
        "    return size_info"
      ],
      "metadata": {
        "id": "QEQ3blQPJBgi"
      },
      "execution_count": 99,
      "outputs": []
    },
    {
      "cell_type": "code",
      "source": [
        "collections = {\n",
        "    \"float32\": float32_collection,\n",
        "    \"bsonfloat32\": bsonfloat32_collection,\n",
        "    \"bsonint8\": bsonint8_collection\n",
        "}\n",
        "\n",
        "for name, collection in collections.items():\n",
        "    size_info = get_collection_size_info(collection)\n",
        "    print(f\"\\nSize information for {name} collection:\")\n",
        "    print(f\"Total Size: {size_info['total_size_mb']:.2f} MB\")\n",
        "    print(f\"Storage Size: {size_info['storage_size_mb']:.2f} MB\")\n",
        "    print(f\"Index Size: {size_info['index_size_mb']:.2f} MB\")\n",
        "    print(f\"Document Size: {size_info['document_size_mb']:.2f} MB\")\n",
        "    print(f\"Average Document Size: {size_info['avg_document_size_bytes']:.2f} bytes\")\n",
        "    print(f\"Number of Documents: {size_info['num_documents']}\")\n"
      ],
      "metadata": {
        "colab": {
          "base_uri": "https://localhost:8080/"
        },
        "id": "OVlv17b7JD1u",
        "outputId": "90d8af2f-84ee-478d-d5ed-daddd9b48508"
      },
      "execution_count": 100,
      "outputs": [
        {
          "output_type": "stream",
          "name": "stdout",
          "text": [
            "\n",
            "Size information for float32 collection:\n",
            "Total Size: 221.22 MB\n",
            "Storage Size: 220.55 MB\n",
            "Index Size: 0.67 MB\n",
            "Document Size: 73.09 MB\n",
            "Average Document Size: 14787.00 bytes\n",
            "Number of Documents: 5183\n",
            "\n",
            "Size information for bsonfloat32 collection:\n",
            "Total Size: 136.86 MB\n",
            "Storage Size: 136.18 MB\n",
            "Index Size: 0.68 MB\n",
            "Document Size: 27.97 MB\n",
            "Average Document Size: 5659.00 bytes\n",
            "Number of Documents: 5183\n",
            "\n",
            "Size information for bsonint8 collection:\n",
            "Total Size: 53.31 MB\n",
            "Storage Size: 52.65 MB\n",
            "Index Size: 0.66 MB\n",
            "Document Size: 12.79 MB\n",
            "Average Document Size: 2587.00 bytes\n",
            "Number of Documents: 5183\n"
          ]
        }
      ]
    },
    {
      "cell_type": "markdown",
      "source": [
        "Based on the results from the above operation, we can conclue the following in regards to memory utilization of various embeddings types\n",
        "\n",
        "**The use of BSON encoding and quantization significantly reduces storage requirements for vector embeddings in MongoDB collections while maintaining the same number of documents**. The float32 collection requires the most storage, followed by the BSON-encoded float32 collection, with the BSON-encoded int8 (quantized) collection being the most storage-efficient.\n",
        "\n",
        "Specifically:\n",
        "\n",
        "1. The BSON float32 encoding reduces the total size by approximately 38% compared to the standard float32 collection (136.86 MB vs 221.22 MB).\n",
        "2. The BSON int8 (quantized) encoding further reduces the total size by about 76% compared to the standard float32 collection, and by 61% compared to the BSON float32 collection (53.31 MB vs 221.22 MB and 136.86 MB respectively).\n",
        "3. The average document size follows a similar pattern, with BSON int8 documents being about 82% smaller than standard float32 documents (2587 bytes vs 14787 bytes).\n",
        "\n",
        "These results demonstrate that BSON encoding, particularly when combined with quantization to int8, offers substantial space savings for storing vector embeddings in MongoDB. This can lead to improved query performance and reduced storage costs, especially for large-scale AI applications dealing with numerous vector embeddings."
      ],
      "metadata": {
        "id": "Toqk3GcpI6O-"
      }
    },
    {
      "cell_type": "markdown",
      "source": [
        "# **Step 8: Evaluation on key metrics on BEIR for each collection**"
      ],
      "metadata": {
        "id": "zFc42Et4KxdM"
      }
    },
    {
      "cell_type": "code",
      "source": [
        "metric_names = [\"NDCG\", \"MAP\", \"Recall\", \"Precision\"]"
      ],
      "metadata": {
        "id": "kIWU7Y1eT2dc"
      },
      "execution_count": 101,
      "outputs": []
    },
    {
      "cell_type": "code",
      "source": [
        "# Redefinig the vector search function to remove the explain operation\n",
        "\n",
        "def vector_search(user_query, collection: Collection, quantized=False, collection_type=\"float32\", vector_index=\"vector_index\"):\n",
        "    \"\"\"\n",
        "    Perform a vector search in the MongoDB collection based on the user query.\n",
        "\n",
        "    Args:\n",
        "    user_query (str): The user's query string.\n",
        "    collection (MongoCollection): The MongoDB collection to search.\n",
        "    quantized (bool): Whether the collection uses quantized vectors.\n",
        "    collection_type (str): The type of collection (\"float32\", \"bsonfloat32\", or \"bsonint8\").\n",
        "    vector_index (str): The name of the vector index to use.\n",
        "\n",
        "    Returns:\n",
        "    tuple: A tuple containing (list of matching documents, query execution time in milliseconds).\n",
        "    \"\"\"\n",
        "\n",
        "    embedding_attribute_path_in_collection = \"embedding\"\n",
        "    query_embedding = None\n",
        "\n",
        "    # Generate embedding for the user query\n",
        "    query_embedding = get_cohere_embeddings([user_query])\n",
        "\n",
        "    if query_embedding is None:\n",
        "        return \"Invalid query or embedding generation failed.\", 0\n",
        "\n",
        "    if quantized:\n",
        "        query_embedding = query_embedding[1][0]\n",
        "        if collection_type == \"bsonint8\":\n",
        "          query_embedding = generate_bson_vector(query_embedding, BinaryVectorDtype.INT8)\n",
        "        else:  # bsonfloat32\n",
        "          query_embedding = generate_bson_vector(query_embedding, BinaryVectorDtype.FLOAT32)\n",
        "    else:\n",
        "        query_embedding = query_embedding[0][0]\n",
        "        if collection_type == \"bsonfloat32\":\n",
        "          query_embedding = generate_bson_vector(query_embedding, BinaryVectorDtype.FLOAT32)\n",
        "\n",
        "    # Define the vector search pipeline\n",
        "    vector_search_stage = {\n",
        "        \"$vectorSearch\": {\n",
        "            \"index\": vector_index,\n",
        "            \"queryVector\": query_embedding,\n",
        "            \"path\": embedding_attribute_path_in_collection,\n",
        "            \"numCandidates\": 150,  # Number of candidate matches to consider\n",
        "            \"limit\": 5  # Return top 5 matches\n",
        "        }\n",
        "    }\n",
        "\n",
        "    project_stage = {\n",
        "        \"$project\": {\n",
        "            \"_id\": 1,  # Exclude the _id field\n",
        "            \"title\": 1,  # Include the title field\n",
        "            \"similarityScore\": {\n",
        "                \"$meta\": \"vectorSearchScore\"  # Include the search score\n",
        "            }\n",
        "        }\n",
        "    }\n",
        "\n",
        "    pipeline = [vector_search_stage, project_stage]\n",
        "\n",
        "    # Execute the actual query\n",
        "    results = list(collection.aggregate(pipeline))\n",
        "\n",
        "    return results"
      ],
      "metadata": {
        "id": "W2KsXmXWMBD2"
      },
      "execution_count": 127,
      "outputs": []
    },
    {
      "cell_type": "code",
      "source": [
        "query = \"0-dimensional biomaterials show inductive properties\"\n",
        "float32_result = vector_search(query, float32_collection, quantized=False, collection_type=\"float32\")\n",
        "bsonfloat32_result = vector_search(query, bsonfloat32_collection, quantized=False, collection_type=\"bsonfloat32\")\n",
        "bsonint8_result = vector_search(query, bsonint8_collection, quantized=True, collection_type=\"bsonint8\")"
      ],
      "metadata": {
        "id": "LV5ot7Tf2Sq-"
      },
      "execution_count": 128,
      "outputs": []
    },
    {
      "cell_type": "code",
      "source": [
        "import pprint\n",
        "print(\"Float32 Vector Search Result:\")\n",
        "pprint.pprint(float32_result)\n",
        "print(\"----------------\")\n",
        "print()\n",
        "\n",
        "print(\"BSON Float32 Vector Search Result:\")\n",
        "pprint.pprint(bsonfloat32_result)\n",
        "print(\"----------------\")\n",
        "print()\n",
        "\n",
        "print(\"BSON Int8 Vector Search Result:\")\n",
        "pprint.pprint(bsonint8_result)\n",
        "print(\"----------------\")\n",
        "print()"
      ],
      "metadata": {
        "colab": {
          "base_uri": "https://localhost:8080/"
        },
        "id": "l6UHl5gP2Uiz",
        "outputId": "1e97e77b-7ea1-454e-e90a-bc232635f301"
      },
      "execution_count": 129,
      "outputs": [
        {
          "output_type": "stream",
          "name": "stdout",
          "text": [
            "Float32 Vector Search Result:\n",
            "[{'_id': '17388232',\n",
            "  'similarityScore': 0.6950235366821289,\n",
            "  'title': 'Mechanical regulation of cell function with geometrically '\n",
            "           'modulated elastomeric substrates'},\n",
            " {'_id': '4346436',\n",
            "  'similarityScore': 0.6885790824890137,\n",
            "  'title': 'Nonlinear Elasticity in Biological Gels'},\n",
            " {'_id': '14082855',\n",
            "  'similarityScore': 0.6674723029136658,\n",
            "  'title': 'Inflammatory Reaction as Determinant of Foreign Body Reaction Is '\n",
            "           'an Early and Susceptible Event after Mesh Implantation'},\n",
            " {'_id': '8290953',\n",
            "  'similarityScore': 0.6613469123840332,\n",
            "  'title': 'Scaffold-based three-dimensional human fibroblast culture provides '\n",
            "           'a structural matrix that supports angiogenesis in infarcted heart '\n",
            "           'tissue.'},\n",
            " {'_id': '1922901',\n",
            "  'similarityScore': 0.6603913307189941,\n",
            "  'title': 'Forces in Tissue Morphogenesis and Patterning'}]\n",
            "----------------\n",
            "\n",
            "BSON Float32 Vector Search Result:\n",
            "[{'_id': '17388232',\n",
            "  'similarityScore': 0.6950235366821289,\n",
            "  'title': 'Mechanical regulation of cell function with geometrically '\n",
            "           'modulated elastomeric substrates'},\n",
            " {'_id': '4346436',\n",
            "  'similarityScore': 0.6885790824890137,\n",
            "  'title': 'Nonlinear Elasticity in Biological Gels'},\n",
            " {'_id': '14082855',\n",
            "  'similarityScore': 0.6674723029136658,\n",
            "  'title': 'Inflammatory Reaction as Determinant of Foreign Body Reaction Is '\n",
            "           'an Early and Susceptible Event after Mesh Implantation'},\n",
            " {'_id': '8290953',\n",
            "  'similarityScore': 0.6613469123840332,\n",
            "  'title': 'Scaffold-based three-dimensional human fibroblast culture provides '\n",
            "           'a structural matrix that supports angiogenesis in infarcted heart '\n",
            "           'tissue.'},\n",
            " {'_id': '1922901',\n",
            "  'similarityScore': 0.6603913307189941,\n",
            "  'title': 'Forces in Tissue Morphogenesis and Patterning'}]\n",
            "----------------\n",
            "\n",
            "BSON Int8 Vector Search Result:\n",
            "[{'_id': '17388232',\n",
            "  'similarityScore': 0.6947944164276123,\n",
            "  'title': 'Mechanical regulation of cell function with geometrically '\n",
            "           'modulated elastomeric substrates'},\n",
            " {'_id': '4346436',\n",
            "  'similarityScore': 0.6891517639160156,\n",
            "  'title': 'Nonlinear Elasticity in Biological Gels'},\n",
            " {'_id': '14082855',\n",
            "  'similarityScore': 0.6680400371551514,\n",
            "  'title': 'Inflammatory Reaction as Determinant of Foreign Body Reaction Is '\n",
            "           'an Early and Susceptible Event after Mesh Implantation'},\n",
            " {'_id': '8290953',\n",
            "  'similarityScore': 0.6613667607307434,\n",
            "  'title': 'Scaffold-based three-dimensional human fibroblast culture provides '\n",
            "           'a structural matrix that supports angiogenesis in infarcted heart '\n",
            "           'tissue.'},\n",
            " {'_id': '1922901',\n",
            "  'similarityScore': 0.6589280366897583,\n",
            "  'title': 'Forces in Tissue Morphogenesis and Patterning'}]\n",
            "----------------\n",
            "\n"
          ]
        }
      ]
    },
    {
      "cell_type": "code",
      "source": [
        "import time\n",
        "from typing import Dict\n",
        "from pymongo.collection import Collection\n",
        "from beir.retrieval.search.base import BaseSearch\n",
        "from beir.retrieval.evaluation import EvaluateRetrieval\n",
        "\n",
        "class MongoDBVectorSearch(BaseSearch):\n",
        "  def __init__(self, collection: Collection, vector_index: str, collection_type: str = \"float32\", quantized: bool = False):\n",
        "    self.collection = collection\n",
        "    self.vector_index = vector_index\n",
        "    self.collection_type = collection_type\n",
        "    self.quantized = quantized\n",
        "\n",
        "  def search(self,\n",
        "              corpus: Dict[str, Dict[str, str]],\n",
        "              queries: Dict[str, str],\n",
        "              top_k: int,\n",
        "              score_function: str = \"dot\",\n",
        "              **kwargs) -> Dict[str, Dict[str, float]]:\n",
        "      results = {}\n",
        "      for query_id, query_text in queries.items():\n",
        "        search_results = vector_search(\n",
        "            user_query=query_text,\n",
        "            collection=self.collection,\n",
        "            quantized=self.quantized,\n",
        "            collection_type=self.collection_type,\n",
        "            vector_index=self.vector_index\n",
        "        )\n",
        "\n",
        "        # Convert to the format expected by BEIR\n",
        "        results[query_id] = {str(doc.get('_id')): doc['similarityScore'] for i, doc in enumerate(search_results)}\n",
        "\n",
        "      return results"
      ],
      "metadata": {
        "id": "jzs2ZAh0K29u"
      },
      "execution_count": 134,
      "outputs": []
    },
    {
      "cell_type": "markdown",
      "source": [
        "Let's evaluate Float32 vector embeddings"
      ],
      "metadata": {
        "id": "8t8wgM_xHmyd"
      }
    },
    {
      "cell_type": "code",
      "source": [
        "float32_search_model = MongoDBVectorSearch(float32_collection, \"vector_index\", \"float32\", False)\n",
        "# bsonint8_searcher = MongoDBVectorSearch(bsonint8_collection, \"vector_index\", \"bsonint8\", True)"
      ],
      "metadata": {
        "id": "g2omJtgHKw3D"
      },
      "execution_count": 135,
      "outputs": []
    },
    {
      "cell_type": "code",
      "source": [
        "float32_retriever = EvaluateRetrieval(float32_search_model)"
      ],
      "metadata": {
        "id": "yxuso3YVTxYb"
      },
      "execution_count": 136,
      "outputs": []
    },
    {
      "cell_type": "code",
      "source": [
        "float32_search_results = float32_retriever.retrieve(corpus, queries)"
      ],
      "metadata": {
        "id": "gKLJqV7rT9xc"
      },
      "execution_count": 137,
      "outputs": []
    },
    {
      "cell_type": "code",
      "source": [
        "print(\"Sample of retrieved results:\")\n",
        "for query_id, doc_scores in list(float32_search_results.items())[:5]:\n",
        "  print(f\"Query ID: {query_id}\")\n",
        "  print(f\"Query text: {queries[query_id]}\")\n",
        "  print(\"Top 3 retrieved documents:\")\n",
        "  for doc_id, score in list(doc_scores.items())[:3]:\n",
        "      print(f\"  Doc ID: {doc_id}, Score: {score}\")\n",
        "  print()"
      ],
      "metadata": {
        "colab": {
          "base_uri": "https://localhost:8080/"
        },
        "id": "N9XCxsJmUDH-",
        "outputId": "def6846f-8853-45e1-a97d-a87d3aa8c726"
      },
      "execution_count": 138,
      "outputs": [
        {
          "output_type": "stream",
          "name": "stdout",
          "text": [
            "Sample of retrieved results:\n",
            "Query ID: 1\n",
            "Query text: 0-dimensional biomaterials show inductive properties.\n",
            "Top 3 retrieved documents:\n",
            "  Doc ID: 17388232, Score: 0.6993089914321899\n",
            "  Doc ID: 4346436, Score: 0.6975740790367126\n",
            "  Doc ID: 1922901, Score: 0.6674870848655701\n",
            "\n",
            "Query ID: 3\n",
            "Query text: 1,000 genomes project enables mapping of genetic sequence variation consisting of rare variants with larger penetrance effects than common variants.\n",
            "Top 3 retrieved documents:\n",
            "  Doc ID: 19058822, Score: 0.8058915138244629\n",
            "  Doc ID: 2739854, Score: 0.7782564163208008\n",
            "  Doc ID: 14717500, Score: 0.7675504684448242\n",
            "\n",
            "Query ID: 5\n",
            "Query text: 1/2000 in UK have abnormal PrP positivity.\n",
            "Top 3 retrieved documents:\n",
            "  Doc ID: 13734012, Score: 0.7203654050827026\n",
            "  Doc ID: 23531592, Score: 0.6829813122749329\n",
            "  Doc ID: 5850219, Score: 0.6786690950393677\n",
            "\n",
            "Query ID: 13\n",
            "Query text: 5% of perinatal mortality is due to low birth weight.\n",
            "Top 3 retrieved documents:\n",
            "  Doc ID: 1263446, Score: 0.7334267497062683\n",
            "  Doc ID: 4791384, Score: 0.7181892395019531\n",
            "  Doc ID: 26611834, Score: 0.7133195996284485\n",
            "\n",
            "Query ID: 36\n",
            "Query text: A deficiency of vitamin B12 increases blood levels of homocysteine.\n",
            "Top 3 retrieved documents:\n",
            "  Doc ID: 18557974, Score: 0.8081403970718384\n",
            "  Doc ID: 3215494, Score: 0.7896957397460938\n",
            "  Doc ID: 11705328, Score: 0.7879230976104736\n",
            "\n"
          ]
        }
      ]
    },
    {
      "cell_type": "code",
      "source": [
        "ndcg, _map, recall, precision = float32_retriever.evaluate(qrels, float32_search_results, float32_retriever.k_values)"
      ],
      "metadata": {
        "id": "b414MIw2Yqtf"
      },
      "execution_count": 139,
      "outputs": []
    },
    {
      "cell_type": "code",
      "source": [
        "float32_search_metric_dicts = [ndcg, _map, recall, precision]\n",
        "\n",
        "for name, metric_dict in zip(metric_names, float32_search_metric_dicts):\n",
        "    print(f\"\\n{name}:\")\n",
        "    for k, score in metric_dict.items():\n",
        "        print(f\"  {k}: {score:.4f}\")"
      ],
      "metadata": {
        "colab": {
          "base_uri": "https://localhost:8080/"
        },
        "id": "U0kndhAhLnG5",
        "outputId": "a2a72c04-dded-481a-a025-a3490254cff6"
      },
      "execution_count": 140,
      "outputs": [
        {
          "output_type": "stream",
          "name": "stdout",
          "text": [
            "\n",
            "NDCG:\n",
            "  NDCG@1: 0.5967\n",
            "  NDCG@3: 0.6556\n",
            "  NDCG@5: 0.6781\n",
            "  NDCG@10: 0.6781\n",
            "  NDCG@100: 0.6781\n",
            "  NDCG@1000: 0.6781\n",
            "\n",
            "MAP:\n",
            "  MAP@1: 0.5649\n",
            "  MAP@3: 0.6301\n",
            "  MAP@5: 0.6458\n",
            "  MAP@10: 0.6458\n",
            "  MAP@100: 0.6458\n",
            "  MAP@1000: 0.6458\n",
            "\n",
            "Recall:\n",
            "  Recall@1: 0.5649\n",
            "  Recall@3: 0.6964\n",
            "  Recall@5: 0.7551\n",
            "  Recall@10: 0.7551\n",
            "  Recall@100: 0.7551\n",
            "  Recall@1000: 0.7551\n",
            "\n",
            "Precision:\n",
            "  P@1: 0.5967\n",
            "  P@3: 0.2556\n",
            "  P@5: 0.1687\n",
            "  P@10: 0.0843\n",
            "  P@100: 0.0084\n",
            "  P@1000: 0.0008\n"
          ]
        }
      ]
    },
    {
      "cell_type": "markdown",
      "source": [
        "Let's evaluate Float32(BSON) vector embeddings"
      ],
      "metadata": {
        "id": "Iu_g0srZHtGK"
      }
    },
    {
      "cell_type": "code",
      "source": [
        "bsonfloat32_search_model = MongoDBVectorSearch(bsonfloat32_collection, \"vector_index\", \"bsonfloat32\", True)"
      ],
      "metadata": {
        "id": "y4KR52orHGM4"
      },
      "execution_count": 141,
      "outputs": []
    },
    {
      "cell_type": "code",
      "source": [
        "bsonfloat32_retriever = EvaluateRetrieval(bsonfloat32_search_model)"
      ],
      "metadata": {
        "id": "PmQ4wUELHJPR"
      },
      "execution_count": 142,
      "outputs": []
    },
    {
      "cell_type": "code",
      "source": [
        "bsonfloat32_search_results = bsonfloat32_retriever.retrieve(corpus, queries)"
      ],
      "metadata": {
        "id": "JHfFkcZQHJTU"
      },
      "execution_count": 143,
      "outputs": []
    },
    {
      "cell_type": "code",
      "source": [
        "print(\"Sample of retrieved results:\")\n",
        "for query_id, doc_scores in list(bsonfloat32_search_results.items())[:5]:\n",
        "  print(f\"Query ID: {query_id}\")\n",
        "  print(f\"Query text: {queries[query_id]}\")\n",
        "  print(\"Top 3 retrieved documents:\")\n",
        "  for doc_id, score in list(doc_scores.items())[:3]:\n",
        "      print(f\"  Doc ID: {doc_id}, Score: {score}\")\n",
        "  print()"
      ],
      "metadata": {
        "colab": {
          "base_uri": "https://localhost:8080/"
        },
        "id": "EjU0zIzhHJWs",
        "outputId": "12c00b4e-3427-425d-9b60-1f6d7dab276d"
      },
      "execution_count": 144,
      "outputs": [
        {
          "output_type": "stream",
          "name": "stdout",
          "text": [
            "Sample of retrieved results:\n",
            "Query ID: 1\n",
            "Query text: 0-dimensional biomaterials show inductive properties.\n",
            "Top 3 retrieved documents:\n",
            "  Doc ID: 17388232, Score: 0.6993553638458252\n",
            "  Doc ID: 4346436, Score: 0.6978418827056885\n",
            "  Doc ID: 1922901, Score: 0.6676774024963379\n",
            "\n",
            "Query ID: 3\n",
            "Query text: 1,000 genomes project enables mapping of genetic sequence variation consisting of rare variants with larger penetrance effects than common variants.\n",
            "Top 3 retrieved documents:\n",
            "  Doc ID: 19058822, Score: 0.8050355315208435\n",
            "  Doc ID: 2739854, Score: 0.7785025835037231\n",
            "  Doc ID: 14717500, Score: 0.7682878971099854\n",
            "\n",
            "Query ID: 5\n",
            "Query text: 1/2000 in UK have abnormal PrP positivity.\n",
            "Top 3 retrieved documents:\n",
            "  Doc ID: 13734012, Score: 0.7210093140602112\n",
            "  Doc ID: 23531592, Score: 0.6826974749565125\n",
            "  Doc ID: 5850219, Score: 0.6789515018463135\n",
            "\n",
            "Query ID: 13\n",
            "Query text: 5% of perinatal mortality is due to low birth weight.\n",
            "Top 3 retrieved documents:\n",
            "  Doc ID: 1263446, Score: 0.7330269813537598\n",
            "  Doc ID: 4791384, Score: 0.718242883682251\n",
            "  Doc ID: 26611834, Score: 0.7134110331535339\n",
            "\n",
            "Query ID: 36\n",
            "Query text: A deficiency of vitamin B12 increases blood levels of homocysteine.\n",
            "Top 3 retrieved documents:\n",
            "  Doc ID: 18557974, Score: 0.8084380626678467\n",
            "  Doc ID: 3215494, Score: 0.7901670336723328\n",
            "  Doc ID: 11705328, Score: 0.7884390354156494\n",
            "\n"
          ]
        }
      ]
    },
    {
      "cell_type": "code",
      "source": [
        "ndcg, _map, recall, precision = bsonfloat32_retriever.evaluate(qrels, bsonfloat32_search_results, bsonfloat32_retriever.k_values)"
      ],
      "metadata": {
        "id": "IUQtlO8lHJau"
      },
      "execution_count": 145,
      "outputs": []
    },
    {
      "cell_type": "code",
      "source": [
        "bsonfloat32_search_metric_dicts = [ndcg, _map, recall, precision]\n",
        "\n",
        "for name, metric_dict in zip(metric_names, bsonfloat32_search_metric_dicts):\n",
        "    print(f\"\\n{name}:\")\n",
        "    for k, score in metric_dict.items():\n",
        "        print(f\"  {k}: {score:.4f}\")"
      ],
      "metadata": {
        "colab": {
          "base_uri": "https://localhost:8080/"
        },
        "id": "hlP5DESlHJbc",
        "outputId": "6573b5be-c919-4548-a9e7-f4646d9e7747"
      },
      "execution_count": 146,
      "outputs": [
        {
          "output_type": "stream",
          "name": "stdout",
          "text": [
            "\n",
            "NDCG:\n",
            "  NDCG@1: 0.6000\n",
            "  NDCG@3: 0.6573\n",
            "  NDCG@5: 0.6804\n",
            "  NDCG@10: 0.6804\n",
            "  NDCG@100: 0.6804\n",
            "  NDCG@1000: 0.6804\n",
            "\n",
            "MAP:\n",
            "  MAP@1: 0.5683\n",
            "  MAP@3: 0.6323\n",
            "  MAP@5: 0.6487\n",
            "  MAP@10: 0.6487\n",
            "  MAP@100: 0.6487\n",
            "  MAP@1000: 0.6487\n",
            "\n",
            "Recall:\n",
            "  Recall@1: 0.5683\n",
            "  Recall@3: 0.6964\n",
            "  Recall@5: 0.7562\n",
            "  Recall@10: 0.7562\n",
            "  Recall@100: 0.7562\n",
            "  Recall@1000: 0.7562\n",
            "\n",
            "Precision:\n",
            "  P@1: 0.6000\n",
            "  P@3: 0.2556\n",
            "  P@5: 0.1693\n",
            "  P@10: 0.0847\n",
            "  P@100: 0.0085\n",
            "  P@1000: 0.0008\n"
          ]
        }
      ]
    },
    {
      "cell_type": "markdown",
      "source": [
        "Let's evaluate Int8(BSON) vector embeddings"
      ],
      "metadata": {
        "id": "wh_CokOAHwZo"
      }
    },
    {
      "cell_type": "code",
      "source": [
        "bsonint8_search_model = MongoDBVectorSearch(bsonint8_collection, \"vector_index\", \"bsonint8\", True)"
      ],
      "metadata": {
        "id": "Tb5qXe-YHiZx"
      },
      "execution_count": 148,
      "outputs": []
    },
    {
      "cell_type": "code",
      "source": [
        "bsonint8_retriever = EvaluateRetrieval(bsonint8_search_model)"
      ],
      "metadata": {
        "id": "5rHEmkkZHigs"
      },
      "execution_count": 149,
      "outputs": []
    },
    {
      "cell_type": "code",
      "source": [
        "bsonint8_search_results = bsonint8_retriever.retrieve(corpus, queries)"
      ],
      "metadata": {
        "id": "ms0lZUwRHiiM"
      },
      "execution_count": 150,
      "outputs": []
    },
    {
      "cell_type": "code",
      "source": [
        "print(\"Sample of retrieved results:\")\n",
        "for query_id, doc_scores in list(bsonint8_search_results.items())[:5]:\n",
        "  print(f\"Query ID: {query_id}\")\n",
        "  print(f\"Query text: {queries[query_id]}\")\n",
        "  print(\"Top 3 retrieved documents:\")\n",
        "  for doc_id, score in list(doc_scores.items())[:3]:\n",
        "      print(f\"  Doc ID: {doc_id}, Score: {score}\")\n",
        "  print()"
      ],
      "metadata": {
        "colab": {
          "base_uri": "https://localhost:8080/"
        },
        "id": "7bKWw17YHilR",
        "outputId": "7adc42cd-e7a0-418b-9007-36f4ffe76079"
      },
      "execution_count": 151,
      "outputs": [
        {
          "output_type": "stream",
          "name": "stdout",
          "text": [
            "Sample of retrieved results:\n",
            "Query ID: 1\n",
            "Query text: 0-dimensional biomaterials show inductive properties.\n",
            "Top 3 retrieved documents:\n",
            "  Doc ID: 17388232, Score: 0.6991255283355713\n",
            "  Doc ID: 4346436, Score: 0.6984505653381348\n",
            "  Doc ID: 1922901, Score: 0.6661576628684998\n",
            "\n",
            "Query ID: 3\n",
            "Query text: 1,000 genomes project enables mapping of genetic sequence variation consisting of rare variants with larger penetrance effects than common variants.\n",
            "Top 3 retrieved documents:\n",
            "  Doc ID: 19058822, Score: 0.8047915697097778\n",
            "  Doc ID: 2739854, Score: 0.7789502143859863\n",
            "  Doc ID: 14717500, Score: 0.768173098564148\n",
            "\n",
            "Query ID: 5\n",
            "Query text: 1/2000 in UK have abnormal PrP positivity.\n",
            "Top 3 retrieved documents:\n",
            "  Doc ID: 13734012, Score: 0.721397876739502\n",
            "  Doc ID: 23531592, Score: 0.6823171973228455\n",
            "  Doc ID: 5850219, Score: 0.6804669499397278\n",
            "\n",
            "Query ID: 13\n",
            "Query text: 5% of perinatal mortality is due to low birth weight.\n",
            "Top 3 retrieved documents:\n",
            "  Doc ID: 1263446, Score: 0.7327826023101807\n",
            "  Doc ID: 4791384, Score: 0.7189810276031494\n",
            "  Doc ID: 26611834, Score: 0.7132070064544678\n",
            "\n",
            "Query ID: 36\n",
            "Query text: A deficiency of vitamin B12 increases blood levels of homocysteine.\n",
            "Top 3 retrieved documents:\n",
            "  Doc ID: 18557974, Score: 0.8082408905029297\n",
            "  Doc ID: 3215494, Score: 0.7897244691848755\n",
            "  Doc ID: 11705328, Score: 0.7882398962974548\n",
            "\n"
          ]
        }
      ]
    },
    {
      "cell_type": "code",
      "source": [
        "ndcg, _map, recall, precision = bsonint8_retriever.evaluate(qrels, bsonint8_search_results, bsonint8_retriever.k_values)"
      ],
      "metadata": {
        "id": "613svzEGHinC"
      },
      "execution_count": 152,
      "outputs": []
    },
    {
      "cell_type": "code",
      "source": [
        "bsonint8_search_metric_dicts = [ndcg, _map, recall, precision]\n",
        "\n",
        "for name, metric_dict in zip(metric_names, bsonint8_search_metric_dicts):\n",
        "    print(f\"\\n{name}:\")\n",
        "    for k, score in metric_dict.items():\n",
        "        print(f\"  {k}: {score:.4f}\")"
      ],
      "metadata": {
        "colab": {
          "base_uri": "https://localhost:8080/"
        },
        "id": "-JUyrZ98Hiq1",
        "outputId": "0804b590-7901-4cee-8b39-5e03f44a2915"
      },
      "execution_count": 153,
      "outputs": [
        {
          "output_type": "stream",
          "name": "stdout",
          "text": [
            "\n",
            "NDCG:\n",
            "  NDCG@1: 0.6000\n",
            "  NDCG@3: 0.6552\n",
            "  NDCG@5: 0.6780\n",
            "  NDCG@10: 0.6780\n",
            "  NDCG@100: 0.6780\n",
            "  NDCG@1000: 0.6780\n",
            "\n",
            "MAP:\n",
            "  MAP@1: 0.5683\n",
            "  MAP@3: 0.6307\n",
            "  MAP@5: 0.6467\n",
            "  MAP@10: 0.6467\n",
            "  MAP@100: 0.6467\n",
            "  MAP@1000: 0.6467\n",
            "\n",
            "Recall:\n",
            "  Recall@1: 0.5683\n",
            "  Recall@3: 0.6931\n",
            "  Recall@5: 0.7517\n",
            "  Recall@10: 0.7517\n",
            "  Recall@100: 0.7517\n",
            "  Recall@1000: 0.7517\n",
            "\n",
            "Precision:\n",
            "  P@1: 0.6000\n",
            "  P@3: 0.2544\n",
            "  P@5: 0.1680\n",
            "  P@10: 0.0840\n",
            "  P@100: 0.0084\n",
            "  P@1000: 0.0008\n"
          ]
        }
      ]
    },
    {
      "cell_type": "markdown",
      "source": [
        "# **Step 9: Compare and Visualize Results**"
      ],
      "metadata": {
        "id": "B4neUeP1IRtg"
      }
    },
    {
      "cell_type": "code",
      "source": [
        "import matplotlib.pyplot as plt\n",
        "import numpy as np\n",
        "\n",
        "def plot_search_method_comparison(metric_dicts_list):\n",
        "    fig, axes = plt.subplots(2, 2, figsize=(20, 16))\n",
        "    fig.suptitle('Comparison of Vector Search Methods', fontsize=16)\n",
        "\n",
        "    search_methods = ['Float32', 'BSON Float32', 'BSON Int8']\n",
        "    colors = ['#1f77b4', '#ff7f0e', '#2ca02c']  # Blue, Orange, Green\n",
        "    metric_names = ['NDCG', 'MAP', 'Recall', 'Precision']\n",
        "\n",
        "    for idx, (metric_name, ax) in enumerate(zip(metric_names, axes.flatten())):\n",
        "        all_keys = set()\n",
        "        for method_metrics in metric_dicts_list:\n",
        "            all_keys.update(method_metrics[idx].keys())\n",
        "\n",
        "        x = np.arange(len(all_keys))\n",
        "        width = 0.25\n",
        "\n",
        "        for i, method_metrics in enumerate(metric_dicts_list):\n",
        "            values = [method_metrics[idx].get(k, 0) for k in sorted(all_keys)]\n",
        "            ax.bar(x + i*width, values, width, label=search_methods[i], color=colors[i])\n",
        "\n",
        "        ax.set_ylabel('Score')\n",
        "        ax.set_title(metric_name)\n",
        "        ax.set_xticks(x + width)\n",
        "        ax.set_xticklabels(sorted(all_keys), rotation=45, ha='right')\n",
        "        ax.legend()\n",
        "        ax.grid(True, axis='y', linestyle='--', alpha=0.7)\n",
        "\n",
        "    plt.tight_layout()\n",
        "    plt.show()"
      ],
      "metadata": {
        "id": "U7zpGVp-Hits"
      },
      "execution_count": 158,
      "outputs": []
    },
    {
      "cell_type": "code",
      "source": [
        "plot_search_method_comparison([\n",
        "    float32_search_metric_dicts,\n",
        "    bsonfloat32_search_metric_dicts,\n",
        "    bsonint8_search_metric_dicts\n",
        "])"
      ],
      "metadata": {
        "colab": {
          "base_uri": "https://localhost:8080/",
          "height": 1000
        },
        "id": "dsTNYRSWIh7v",
        "outputId": "f840c7fb-72f9-48f2-9a8e-05109a1c8b4b"
      },
      "execution_count": 159,
      "outputs": [
        {
          "output_type": "display_data",
          "data": {
            "text/plain": [
              "<Figure size 2000x1600 with 4 Axes>"
            ],
            "image/png": "[encoded data removed]"
          },
          "metadata": {}
        }
      ]
    },
    {
      "cell_type": "code",
      "source": [
        "\n",
        "# 10. Visualisation of perforomance\n",
        "# 11. Conclusion"
      ],
      "metadata": {
        "id": "YgKP-uZ-2IGZ"
      },
      "execution_count": null,
      "outputs": []
    }
  ]
}