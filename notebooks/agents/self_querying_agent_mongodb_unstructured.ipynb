{
 "cells": [
  {
   "cell_type": "markdown",
   "id": "7b5591f1-294a-43f9-b35c-dc2da08e4752",
   "metadata": {},
   "source": [
    "[![Open In Colab](https://colab.research.google.com/assets/colab-badge.svg)](https://colab.research.google.com/github/mongodb-developer/GenAI-Showcase/blob/main/notebooks/agents/self_querying_agent_mongodb_unstructured.ipynb)\n",
    "\n",
    "[![View Article](https://img.shields.io/badge/View%20Article-blue)](https://www.mongodb.com/developer/products/atlas/advanced-rag-metadata-filtering/?utm_campaign=devrel&utm_source=cross-post&utm_medium=organic_social&utm_content=https%3A%2F%2Fgithub.com%2Fmongodb-developer%2FGenAI-Showcase&utm_term=apoorva.joshi)"
   ]
  },
  {
   "cell_type": "markdown",
   "id": "c4c7721c-1081-4fa3-95ff-fb7310f401c4",
   "metadata": {},
   "source": [
    "# Advanced RAG: Metadata Extraction and Self-Querying Retrieval\n",
    "\n",
    "This notebook shows how to incorporate metadata filtering and self-querying retrieval into a RAG application using Unstructured, MongoDB and LangGraph."
   ]
  },
  {
   "cell_type": "markdown",
   "id": "5f2b23c6-f6e3-4f17-a57b-e0314497520c",
   "metadata": {},
   "source": [
    "## Step 1: Install required libraries\n",
    "\n",
    "- **langgraph**: Python package to build controllable agents\n",
    "<p>\n",
    "- **langchain-mongodb**: Python package to use MongoDB Atlas with LangChain\n",
    "<p>\n",
    "- **langchain-openai**: Python package to use OpenAI models in LangChain"
   ]
  },
  {
   "cell_type": "code",
   "execution_count": 79,
   "id": "c5ef97bc-6bc1-4652-b632-afc61a6eaefd",
   "metadata": {},
   "outputs": [
    {
     "name": "stdout",
     "output_type": "stream",
     "text": [
      "\n",
      "\u001b[1m[\u001b[0m\u001b[34;49mnotice\u001b[0m\u001b[1;39;49m]\u001b[0m\u001b[39;49m A new release of pip is available: \u001b[0m\u001b[31;49m23.2.1\u001b[0m\u001b[39;49m -> \u001b[0m\u001b[32;49m24.2\u001b[0m\n",
      "\u001b[1m[\u001b[0m\u001b[34;49mnotice\u001b[0m\u001b[1;39;49m]\u001b[0m\u001b[39;49m To update, run: \u001b[0m\u001b[32;49mpip install --upgrade pip\u001b[0m\n"
     ]
    }
   ],
   "source": [
    "! pip install -qU langgraph langchain-mongodb langchain-openai"
   ]
  },
  {
   "cell_type": "markdown",
   "id": "af8bfe45-a2b2-4308-99fb-cd46b7e32245",
   "metadata": {},
   "source": [
    "## Step 2: Install required libraries\n",
    "\n",
    "- Set the MongoDB connection string. Follow the steps [here](https://www.mongodb.com/docs/manual/reference/connection-string/) to get the connection string from the Atlas UI.\n",
    "\n",
    "- Set the OpenAI API key. Steps to obtain an API key as [here](https://help.openai.com/en/articles/4936850-where-do-i-find-my-openai-api-key)"
   ]
  },
  {
   "cell_type": "code",
   "execution_count": 10,
   "id": "f0b0a2c8-9942-4359-b5d1-dfbc7eda3bfc",
   "metadata": {},
   "outputs": [],
   "source": [
    "import os\n",
    "import getpass"
   ]
  },
  {
   "cell_type": "code",
   "execution_count": 51,
   "id": "627f6149-6e78-4b9a-b50f-1982b123f14d",
   "metadata": {},
   "outputs": [
    {
     "name": "stdin",
     "output_type": "stream",
     "text": [
      "Enter your OpenAI API Key: ········\n"
     ]
    }
   ],
   "source": [
    "os.environ[\"OPENAI_API_KEY\"] = getpass.getpass(\"Enter your OpenAI API Key:\")"
   ]
  },
  {
   "cell_type": "code",
   "execution_count": 94,
   "id": "715948a0-a468-4d0a-aa23-a89cce5bb808",
   "metadata": {},
   "outputs": [
    {
     "name": "stdin",
     "output_type": "stream",
     "text": [
      "Enter your MongoDB connection string: ········\n"
     ]
    }
   ],
   "source": [
    "MONGODB_URI = getpass.getpass(\"Enter your MongoDB connection string:\")"
   ]
  },
  {
   "cell_type": "code",
   "execution_count": 47,
   "id": "9081f2a0-71ad-4075-9c5f-6b03c0e7bc3f",
   "metadata": {},
   "outputs": [],
   "source": [
    "os.environ[\"LANGCHAIN_TRACING_V2\"] = \"true\"\n",
    "os.environ[\"LANGCHAIN_API_KEY\"] = getpass.getpass(\"Enter your Langsmith API Key:\")"
   ]
  },
  {
   "cell_type": "markdown",
   "id": "6cc77685-5008-4286-b4e5-d52ebb8e9a58",
   "metadata": {},
   "source": [
    "## Step 3: Instantiate the LLM"
   ]
  },
  {
   "cell_type": "code",
   "execution_count": null,
   "id": "78448ecd-2430-432b-8060-e70f4f6c9265",
   "metadata": {},
   "outputs": [],
   "source": [
    "from langchain_openai import ChatOpenAI\n",
    "from langchain_fireworks import ChatFireworks"
   ]
  },
  {
   "cell_type": "code",
   "execution_count": 57,
   "id": "5d8d7cac-a5ed-4679-a657-a29783033252",
   "metadata": {},
   "outputs": [],
   "source": [
    "llm = ChatOpenAI(model=\"gpt-4o-2024-05-13\", temperature=0)"
   ]
  },
  {
   "cell_type": "markdown",
   "id": "75a87a5a-f7a7-450a-9ace-4455cdf360de",
   "metadata": {},
   "source": [
    "## Step 4: Define Graph State"
   ]
  },
  {
   "cell_type": "code",
   "execution_count": 197,
   "id": "b0649333-9146-432a-bb78-86c015f99e75",
   "metadata": {},
   "outputs": [],
   "source": [
    "from typing_extensions import TypedDict\n",
    "from typing import Any, List, Dict"
   ]
  },
  {
   "cell_type": "code",
   "execution_count": 198,
   "id": "84a34c1a-0453-4f38-affe-3d6ab464ae28",
   "metadata": {},
   "outputs": [],
   "source": [
    "class GraphState(TypedDict):\n",
    "    \"\"\"\n",
    "    Represents the state of our graph.\n",
    "\n",
    "    Attributes:\n",
    "        question: User query\n",
    "        metadata: Metadata dictionary\n",
    "        filter: MQL filter definition\n",
    "        documents: List of documents\n",
    "        generation: LLM generation\n",
    "    \"\"\"\n",
    "\n",
    "    question: str\n",
    "    metadata: Dict[str, List]\n",
    "    filter: Dict[str, Any]\n",
    "    documents: List[str]\n",
    "    generation: str"
   ]
  },
  {
   "cell_type": "markdown",
   "id": "2517f7ec-d225-440d-af3d-9b832ea79070",
   "metadata": {},
   "source": [
    "## Step 5: Define Graph Nodes "
   ]
  },
  {
   "cell_type": "code",
   "execution_count": 193,
   "id": "8ed861cb-75d4-4a6e-807d-1aa86d36af01",
   "metadata": {},
   "outputs": [],
   "source": [
    "from langchain_core.pydantic_v1 import BaseModel, Field\n",
    "from langchain_core.prompts import PromptTemplate\n",
    "from datetime import datetime"
   ]
  },
  {
   "cell_type": "markdown",
   "id": "3b5a787c-9ef3-40cb-af5f-8e283198ceb2",
   "metadata": {},
   "source": [
    "### Metadata Extractor"
   ]
  },
  {
   "cell_type": "code",
   "execution_count": 117,
   "id": "86e216d6-a694-4646-84b4-c692661ae707",
   "metadata": {},
   "outputs": [],
   "source": [
    "companies = [\"AT&T INC.\",\n",
    " \"American International Group, Inc.\",\n",
    " \"Apple Inc.\",\n",
    " \"BERKSHIRE HATHAWAY INC.\",\n",
    " \"Bank of America Corporation\",\n",
    " \"CENCORA, INC.\",\n",
    " \"CVS HEALTH CORPORATION\",\n",
    " \"Cardinal Health, Inc.\",\n",
    " \"Chevron Corporation\",\n",
    " \"Citigroup Inc.\",\n",
    " \"Costco Wholesale Corporation\",\n",
    " \"Exxon Mobil Corporation\",\n",
    " \"Ford Motor Company\",\n",
    " \"GENERAL ELECTRIC COMPANY\",\n",
    " \"GENERAL MOTORS COMPANY\",\n",
    " \"HP Inc.\",\n",
    " \"INTERNATIONAL BUSINESS MACHINES CORPORATION\",\n",
    " \"JPMorgan Chase & Co.\",\n",
    " \"MICROSOFT CORPORATION\",\n",
    " \"MIDLAND COMPANY\",\n",
    " \"McKESSON CORPORATION\",\n",
    " \"THE BOEING COMPANY\",\n",
    " \"THE HOME DEPOT, INC.\",\n",
    " \"THE KROGER CO.\",\n",
    " \"The Goldman Sachs Group, Inc.\",\n",
    " \"UnitedHealth Group Incorporated\",\n",
    " \"VALERO ENERGY CORPORATION\",\n",
    " \"Verizon Communications Inc.\",\n",
    " \"WALMART INC.\",\n",
    " \"WELLS FARGO & COMPANY\"]"
   ]
  },
  {
   "cell_type": "code",
   "execution_count": 269,
   "id": "fe9f6bc6-a8d0-42ea-ac99-db0f66a1ee54",
   "metadata": {},
   "outputs": [],
   "source": [
    "class Metadata(BaseModel):\n",
    "    \"\"\"Metadata to use for pre-filtering.\"\"\"\n",
    "    company: List[str] = Field(description=f\"List of company names, eg: Google, Adobe etc. Match the names to companies on this list: {companies}\")\n",
    "    year: List[int] = Field(description=\"List containing start year and end year. For phrases like 'in the past X years/last year', extract the start year by subtracting X from the current year. The current year is {datetime.now().year}\")"
   ]
  },
  {
   "cell_type": "code",
   "execution_count": 237,
   "id": "8486d9af-2965-4183-b868-0929c66e4c73",
   "metadata": {},
   "outputs": [],
   "source": [
    "def extract_metadata(state):\n",
    "    \"\"\"\n",
    "    Extract metadata from natural language query.\n",
    "\n",
    "    Args:\n",
    "        state (dict): The current graph state\n",
    "\n",
    "    Returns:\n",
    "        state (dict): New key added to state i.e. metadata containing the metadata extracted from the user query.\n",
    "    \"\"\"\n",
    "    print(\"---EXTRACT METADATA---\")\n",
    "    question = state[\"question\"]\n",
    "    template = \"\"\"Extract the specified metadata from the following query:\\n\\n{question}\"\"\"\n",
    "    prompt = PromptTemplate(\n",
    "        template=template,\n",
    "        input_variables=[\"question\"]\n",
    "    )\n",
    "    chain = prompt | llm.with_structured_output(Metadata)\n",
    "    result = chain.invoke({\"question\": question})\n",
    "    metadata = {\"metadata.custom_metadata.company\": result.company, \"metadata.custom_metadata.year\": result.year}\n",
    "    return {\"metadata\": metadata, \"question\": question}"
   ]
  },
  {
   "cell_type": "markdown",
   "id": "f3afc63b-0858-4fb1-8b45-f6dda04d88eb",
   "metadata": {},
   "source": [
    "### MQL Filter Generator"
   ]
  },
  {
   "cell_type": "code",
   "execution_count": null,
   "id": "5c090df1-00db-4b9c-8cc5-58410a7bd328",
   "metadata": {},
   "outputs": [],
   "source": [
    "class Filter(BaseModel):\n",
    "    \"\"\"MongoDB filter definition.\"\"\"\n",
    "    filter: [Dict] = Field(description=\"The generated filter definition\")"
   ]
  },
  {
   "cell_type": "code",
   "execution_count": null,
   "id": "0d21d7e1-564b-4d0a-955f-868d06b95b5b",
   "metadata": {},
   "outputs": [],
   "source": [
    "def generate_mql_filter(state):\n",
    "    \"\"\"\n",
    "    Generate MongoDB Query Language (MQL) filter definition.\n",
    "\n",
    "    Args:\n",
    "        state (dict): The current graph state\n",
    "\n",
    "    Returns:\n",
    "        state (dict): New key added to state i.e. the MQL filter.\n",
    "    \"\"\"\n",
    "    print(\"---GENERATE FILTER DEFINITION---\")\n",
    "    metadata = state[\"metadata\"]\n",
    "    question = state[\"question\"]\n",
    "    template = \"\"\"Generate a MongoDB filter definition from the user question and metadata extracted from it. Follow the guidelines below:\n",
    "    - Respond in JSON with the filter assigned to a `filter` key.\n",
    "    - The metadata field `metadata.custom_metadata.company` contains the list of companies found in the user query\n",
    "    - The metadata field `metadata.custom_metadata.year` contains the years found in the user query\n",
    "    - If any of the metadata fields is None, DO NOT include it in the filter.\n",
    "    - If both the metadata fields are None, return an empty dictionary {{}}\n",
    "    - The filter should only contain the fields `metadata.custom_metadata.company` and `metadata.custom_metadata.year`\n",
    "    - The filter can only contain the following MQL match expressions:\n",
    "        - $gt: Greater than\n",
    "        - $lt: Lesser than\n",
    "        - $gte: Greater than or equal to\n",
    "        - $lte: Less than or equal to\n",
    "        - $eq: Equal to\n",
    "        - $ne: Not equal to\n",
    "        - $in: Specified field value equals any value in the specified array\n",
    "        - $nin: Specified field value is not present in the specified array\n",
    "        - $nor: Logical NOR operation\n",
    "        - $and: Logical AND operation\n",
    "        - $or: Logical OR operation \n",
    "    - If the question has phrases such as \"in the past X years\", create a date range filter using expressions such as $gt, $lt, $lte and $gte\n",
    "    - If the questions mentions a single company, use the $eq expression\n",
    "    - If the question mentions multiple companies, use the $in expression \n",
    "    - To combine date range and company filters, use the $and operator\\n\\nQuestion: {question}\\n\\nMetadata: {metadata}\n",
    "    \"\"\"\n",
    "    prompt = PromptTemplate(\n",
    "        template=template,\n",
    "        input_variables=[\"question\", \"metadata\"]\n",
    "    )\n",
    "    chain = prompt | llm.with_structured_output(Filter, method=\"json_mode\")\n",
    "    result = chain.invoke({\"question\": question, \"metadata\": metadata})\n",
    "    return result.filter"
   ]
  }
 ],
 "metadata": {
  "kernelspec": {
   "display_name": "Python 3 (ipykernel)",
   "language": "python",
   "name": "python3"
  },
  "language_info": {
   "codemirror_mode": {
    "name": "ipython",
    "version": 3
   },
   "file_extension": ".py",
   "mimetype": "text/x-python",
   "name": "python",
   "nbconvert_exporter": "python",
   "pygments_lexer": "ipython3",
   "version": "3.12.1"
  }
 },
 "nbformat": 4,
 "nbformat_minor": 5
}
