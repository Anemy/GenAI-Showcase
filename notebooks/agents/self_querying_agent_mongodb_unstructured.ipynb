{
 "cells": [
  {
   "cell_type": "markdown",
   "id": "7b5591f1-294a-43f9-b35c-dc2da08e4752",
   "metadata": {},
   "source": [
    "[![Open In Colab](https://colab.research.google.com/assets/colab-badge.svg)](https://colab.research.google.com/github/mongodb-developer/GenAI-Showcase/blob/main/notebooks/agents/self_querying_agent_mongodb_unstructured.ipynb)\n",
    "\n",
    "[![View Article](https://img.shields.io/badge/View%20Article-blue)](https://www.mongodb.com/developer/products/atlas/advanced-rag-metadata-filtering/?utm_campaign=devrel&utm_source=cross-post&utm_medium=organic_social&utm_content=https%3A%2F%2Fgithub.com%2Fmongodb-developer%2FGenAI-Showcase&utm_term=apoorva.joshi)"
   ]
  },
  {
   "cell_type": "markdown",
   "id": "c4c7721c-1081-4fa3-95ff-fb7310f401c4",
   "metadata": {},
   "source": [
    "# Advanced RAG: Metadata Extraction and Self-Querying Retrieval\n",
    "\n",
    "This notebook shows how to incorporate metadata filtering and self-querying retrieval into a RAG application using Unstructured, MongoDB and LangGraph."
   ]
  },
  {
   "cell_type": "markdown",
   "id": "5f2b23c6-f6e3-4f17-a57b-e0314497520c",
   "metadata": {},
   "source": [
    "## Step 1: Install required libraries\n",
    "\n",
    "- **langgraph**: Python package to build controllable agents\n",
    "<p>\n",
    "- **openai**: Python package to interact with OpenAI APIs\n",
    "<p>\n",
    "- **pymongo**: Python package to interact with MongoDB databases and collections\n",
    "<p>\n",
    "- **sentence-transformers**: Python package to interact with open-source embedding models"
   ]
  },
  {
   "cell_type": "code",
   "execution_count": 328,
   "id": "c5ef97bc-6bc1-4652-b632-afc61a6eaefd",
   "metadata": {},
   "outputs": [
    {
     "name": "stdout",
     "output_type": "stream",
     "text": [
      "\n",
      "\u001b[1m[\u001b[0m\u001b[34;49mnotice\u001b[0m\u001b[1;39;49m]\u001b[0m\u001b[39;49m A new release of pip is available: \u001b[0m\u001b[31;49m23.2.1\u001b[0m\u001b[39;49m -> \u001b[0m\u001b[32;49m24.2\u001b[0m\n",
      "\u001b[1m[\u001b[0m\u001b[34;49mnotice\u001b[0m\u001b[1;39;49m]\u001b[0m\u001b[39;49m To update, run: \u001b[0m\u001b[32;49mpip install --upgrade pip\u001b[0m\n"
     ]
    }
   ],
   "source": [
    "! pip install -qU langgraph openai pymongo sentence-transformers"
   ]
  },
  {
   "cell_type": "code",
   "execution_count": 315,
   "id": "9934fdb0-815a-45c2-b65a-fcf25f54cf35",
   "metadata": {},
   "outputs": [],
   "source": [
    "import warnings\n",
    "\n",
    "warnings.filterwarnings(\"ignore\", category=UserWarning)"
   ]
  },
  {
   "cell_type": "markdown",
   "id": "af8bfe45-a2b2-4308-99fb-cd46b7e32245",
   "metadata": {},
   "source": [
    "## Step 2: Setup prerequisites\n",
    "\n",
    "- Set the MongoDB connection string. Follow the steps [here](https://www.mongodb.com/docs/manual/reference/connection-string/) to get the connection string from the Atlas UI.\n",
    "\n",
    "- Set the OpenAI API key. Steps to obtain an API key as [here](https://help.openai.com/en/articles/4936850-where-do-i-find-my-openai-api-key)"
   ]
  },
  {
   "cell_type": "code",
   "execution_count": 38,
   "id": "f0b0a2c8-9942-4359-b5d1-dfbc7eda3bfc",
   "metadata": {},
   "outputs": [],
   "source": [
    "import os\n",
    "import getpass\n",
    "from openai import OpenAI\n",
    "from pymongo import MongoClient"
   ]
  },
  {
   "cell_type": "code",
   "execution_count": 39,
   "id": "627f6149-6e78-4b9a-b50f-1982b123f14d",
   "metadata": {},
   "outputs": [
    {
     "name": "stdin",
     "output_type": "stream",
     "text": [
      "Enter your OpenAI API Key: ········\n"
     ]
    }
   ],
   "source": [
    "os.environ[\"OPENAI_API_KEY\"] = getpass.getpass(\"Enter your OpenAI API Key:\")\n",
    "openai_client = OpenAI()"
   ]
  },
  {
   "cell_type": "code",
   "execution_count": 41,
   "id": "715948a0-a468-4d0a-aa23-a89cce5bb808",
   "metadata": {},
   "outputs": [
    {
     "name": "stdin",
     "output_type": "stream",
     "text": [
      "Enter your MongoDB connection string: ········\n"
     ]
    }
   ],
   "source": [
    "MONGODB_URI = getpass.getpass(\"Enter your MongoDB connection string:\")\n",
    "mongodb_client = MongoClient(MONGODB_URI, appname=\"devrel.content.selfquery_mongodb_unstructured\")"
   ]
  },
  {
   "cell_type": "code",
   "execution_count": 5,
   "id": "9081f2a0-71ad-4075-9c5f-6b03c0e7bc3f",
   "metadata": {},
   "outputs": [
    {
     "name": "stdin",
     "output_type": "stream",
     "text": [
      "Enter your Langsmith API Key: ········\n"
     ]
    }
   ],
   "source": [
    "os.environ[\"LANGCHAIN_TRACING_V2\"] = \"true\"\n",
    "os.environ[\"LANGCHAIN_API_KEY\"] = getpass.getpass(\"Enter your Langsmith API Key:\")"
   ]
  },
  {
   "cell_type": "markdown",
   "id": "6cc77685-5008-4286-b4e5-d52ebb8e9a58",
   "metadata": {},
   "source": [
    "## Step 3: Instantiate the LLM"
   ]
  },
  {
   "cell_type": "code",
   "execution_count": 71,
   "id": "37651885-a9c4-434b-a2c0-598ae2abe5b8",
   "metadata": {},
   "outputs": [],
   "source": [
    "llm = \"gpt-4o-2024-08-06\""
   ]
  },
  {
   "cell_type": "markdown",
   "id": "75a87a5a-f7a7-450a-9ace-4455cdf360de",
   "metadata": {},
   "source": [
    "## Step 4: Define agent graph state"
   ]
  },
  {
   "cell_type": "code",
   "execution_count": 8,
   "id": "b0649333-9146-432a-bb78-86c015f99e75",
   "metadata": {},
   "outputs": [],
   "source": [
    "from typing_extensions import TypedDict\n",
    "from typing import Any, List, Dict"
   ]
  },
  {
   "cell_type": "code",
   "execution_count": 365,
   "id": "84a34c1a-0453-4f38-affe-3d6ab464ae28",
   "metadata": {},
   "outputs": [],
   "source": [
    "class GraphState(TypedDict):\n",
    "    \"\"\"\n",
    "    Represents the state of our graph.\n",
    "\n",
    "    Attributes:\n",
    "        question: User query\n",
    "        metadata: Metadata dictionary\n",
    "        filter: MQL filter definition\n",
    "        documents: List of documents\n",
    "        generation: LLM generation\n",
    "    \"\"\"\n",
    "\n",
    "    question: str\n",
    "    metadata: Dict[str, List]\n",
    "    filter: Dict[str, Any]\n",
    "    context: List[str]\n",
    "    generation: str"
   ]
  },
  {
   "cell_type": "markdown",
   "id": "2517f7ec-d225-440d-af3d-9b832ea79070",
   "metadata": {},
   "source": [
    "## Step 5: Define agent graph nodes "
   ]
  },
  {
   "cell_type": "markdown",
   "id": "3b5a787c-9ef3-40cb-af5f-8e283198ceb2",
   "metadata": {},
   "source": [
    "### Metadata Extractor"
   ]
  },
  {
   "cell_type": "code",
   "execution_count": null,
   "id": "5ea58ec7-b361-4e02-b0f6-8c800585958d",
   "metadata": {},
   "outputs": [],
   "source": [
    "from pydantic import BaseModel\n",
    "from datetime import datetime"
   ]
  },
  {
   "cell_type": "code",
   "execution_count": 11,
   "id": "86e216d6-a694-4646-84b4-c692661ae707",
   "metadata": {},
   "outputs": [],
   "source": [
    "companies = [\"AT&T INC.\",\n",
    " \"American International Group, Inc.\",\n",
    " \"Apple Inc.\",\n",
    " \"BERKSHIRE HATHAWAY INC.\",\n",
    " \"Bank of America Corporation\",\n",
    " \"CENCORA, INC.\",\n",
    " \"CVS HEALTH CORPORATION\",\n",
    " \"Cardinal Health, Inc.\",\n",
    " \"Chevron Corporation\",\n",
    " \"Citigroup Inc.\",\n",
    " \"Costco Wholesale Corporation\",\n",
    " \"Exxon Mobil Corporation\",\n",
    " \"Ford Motor Company\",\n",
    " \"GENERAL ELECTRIC COMPANY\",\n",
    " \"GENERAL MOTORS COMPANY\",\n",
    " \"HP Inc.\",\n",
    " \"INTERNATIONAL BUSINESS MACHINES CORPORATION\",\n",
    " \"JPMorgan Chase & Co.\",\n",
    " \"MICROSOFT CORPORATION\",\n",
    " \"MIDLAND COMPANY\",\n",
    " \"McKESSON CORPORATION\",\n",
    " \"THE BOEING COMPANY\",\n",
    " \"THE HOME DEPOT, INC.\",\n",
    " \"THE KROGER CO.\",\n",
    " \"The Goldman Sachs Group, Inc.\",\n",
    " \"UnitedHealth Group Incorporated\",\n",
    " \"VALERO ENERGY CORPORATION\",\n",
    " \"Verizon Communications Inc.\",\n",
    " \"WALMART INC.\",\n",
    " \"WELLS FARGO & COMPANY\"]"
   ]
  },
  {
   "cell_type": "code",
   "execution_count": 306,
   "id": "fe9f6bc6-a8d0-42ea-ac99-db0f66a1ee54",
   "metadata": {},
   "outputs": [],
   "source": [
    "class Metadata(BaseModel):\n",
    "    \"\"\"Metadata to use for pre-filtering.\"\"\"\n",
    "    company: list[str] = Field(description=\"List of company names\")\n",
    "    year: list[str] = Field(description=\"List containing start year and end year\")"
   ]
  },
  {
   "cell_type": "code",
   "execution_count": 307,
   "id": "ed053062-98cc-4af2-a3ea-f6180ff68f01",
   "metadata": {},
   "outputs": [],
   "source": [
    "def extract_metadata(state):\n",
    "    \"\"\"\n",
    "    Extract metadata from natural language query.\n",
    "\n",
    "    Args:\n",
    "        state (dict): The current graph state\n",
    "\n",
    "    Returns:\n",
    "        state (dict): New key added to state i.e. metadata containing the metadata extracted from the user query.\n",
    "    \"\"\"\n",
    "    print(\"---EXTRACTING METADATA---\")\n",
    "    question = state[\"question\"]\n",
    "    system = f\"\"\"Extract the specified metadata from the user question:\n",
    "    - company: List of company names, eg: Google, Adobe etc. Match the names to companies on this list: {companies}\n",
    "    - year: List of [start year, end year]. Guidelines for extracting dates:\n",
    "        - If a single date is found, only include that.\n",
    "        - For phrases like 'in the past X years/last year', extract the start year by subtracting X from the current year. The current year is {datetime.now().year}.\n",
    "        - If more than two dates are found, only include the smallest and the largest year.\"\"\"\n",
    "    completion = openai_client.beta.chat.completions.parse(\n",
    "    model=llm,\n",
    "    messages=[\n",
    "        {\"role\": \"system\", \"content\": system},\n",
    "        {\"role\": \"user\", \"content\": question},\n",
    "        ],\n",
    "        response_format=Metadata,\n",
    "    )\n",
    "    result = completion.choices[0].message.parsed\n",
    "    print(result)\n",
    "    metadata = {\"metadata.custom_metadata.company\": result.company, \"metadata.custom_metadata.year\": result.year}\n",
    "    return {\"metadata\": metadata}"
   ]
  },
  {
   "cell_type": "markdown",
   "id": "f3afc63b-0858-4fb1-8b45-f6dda04d88eb",
   "metadata": {},
   "source": [
    "### MQL Filter Generator"
   ]
  },
  {
   "cell_type": "code",
   "execution_count": 265,
   "id": "49cbe8d5-c188-4c3a-8a9b-52f445d19a15",
   "metadata": {},
   "outputs": [],
   "source": [
    "import json"
   ]
  },
  {
   "cell_type": "code",
   "execution_count": 441,
   "id": "05f38366-3760-4a2a-92c5-2fe7f21af25e",
   "metadata": {},
   "outputs": [],
   "source": [
    "def generate_mql_filter(state):\n",
    "    \"\"\"\n",
    "    Generate MongoDB Query Language (MQL) filter definition.\n",
    "\n",
    "    Args:\n",
    "        state (dict): The current graph state\n",
    "\n",
    "    Returns:\n",
    "        state (dict): New key added to state i.e. filter containing the MQL filter.\n",
    "    \"\"\"\n",
    "    print(\"---GENERATING FILTER DEFINITION---\")\n",
    "    metadata = state[\"metadata\"]\n",
    "    system = \"\"\"Generate a MongoDB filter definition from the provided fields. Follow the guidelines below:\n",
    "    - Respond in JSON with the filter assigned to a `filter` key.\n",
    "    - The field `metadata.custom_metadata.company` is a list of companies.\n",
    "    - The field `metadata.custom_metadata.year` is a list of one or more years.\n",
    "    - If any of the provided fields are empty lists, DO NOT include them in the filter.\n",
    "    - If both the metadata fields are empty lists, return an empty dictionary {{}}.\n",
    "    - The filter should only contain the fields `metadata.custom_metadata.company` and `metadata.custom_metadata.year`\n",
    "    - The filter can only contain the following MQL match expressions:\n",
    "        - $gt: Greater than\n",
    "        - $lt: Lesser than\n",
    "        - $gte: Greater than or equal to\n",
    "        - $lte: Less than or equal to\n",
    "        - $eq: Equal to\n",
    "        - $ne: Not equal to\n",
    "        - $in: Specified field value equals any value in the specified array\n",
    "        - $nin: Specified field value is not present in the specified array\n",
    "        - $nor: Logical NOR operation\n",
    "        - $and: Logical AND operation\n",
    "        - $or: Logical OR operation \n",
    "    - If the `metadata.custom_metadata.year` field has multiple dates, create a date range filter using expressions such as $gt, $lt, $lte and $gte\n",
    "    - If the `metadata.custom_metadata.company` field contains a single company, use the $eq expression\n",
    "    - If the `metadata.custom_metadata.company` field contains multiple companies, use the $in expression \n",
    "    - To combine date range and company filters, use the $and operator\n",
    "    \"\"\"\n",
    "    completion = openai_client.chat.completions.create(\n",
    "        model=llm,\n",
    "        messages=[\n",
    "            {\"role\": \"system\", \"content\": system},\n",
    "            {\"role\": \"user\", \"content\": f\"Fields: {metadata}\"},\n",
    "            ],\n",
    "        response_format={\"type\": \"json_object\"},\n",
    "    )\n",
    "    result = json.loads(completion.choices[0].message.content)\n",
    "    return {\"filter\": result.get(\"filter\", {})}"
   ]
  },
  {
   "cell_type": "markdown",
   "id": "9499b980-66c6-4809-8eb0-560b40a1a8e5",
   "metadata": {},
   "source": [
    "### MongoDB Atlas Vector Search\n",
    "\n",
    "To perform vector search, first [create a vector search index](https://www.mongodb.com/docs/atlas/atlas-vector-search/vector-search-type/) with the following index definition:\n",
    "\n",
    "```\n",
    "{\n",
    "  \"fields\": [\n",
    "    {\n",
    "      \"type\": \"vector\",\n",
    "      \"path\": \"embeddings\",\n",
    "      \"numDimensions\": 768,\n",
    "      \"similarity\": \"cosine\"\n",
    "    },\n",
    "    {\n",
    "      \"type\": \"filter\",\n",
    "      \"path\": \"metadata.custom_metadata.company\"\n",
    "    },\n",
    "    {\n",
    "      \"type\": \"filter\",\n",
    "      \"path\": \"metadata.custom_metadata.year\"\n",
    "    }\n",
    "  ]\n",
    "}\n",
    "```"
   ]
  },
  {
   "cell_type": "code",
   "execution_count": 418,
   "id": "f20f438e-3095-4360-86a9-00917b9c4065",
   "metadata": {},
   "outputs": [],
   "source": [
    "from sentence_transformers import SentenceTransformer"
   ]
  },
  {
   "cell_type": "code",
   "execution_count": 419,
   "id": "b74c1cb3-624b-46f3-a59f-45c5afd0e27c",
   "metadata": {},
   "outputs": [
    {
     "name": "stderr",
     "output_type": "stream",
     "text": [
      "/Users/apoorva.joshi/.pyenv/versions/3.12.1/lib/python3.12/site-packages/huggingface_hub/file_download.py:1132: FutureWarning: `resume_download` is deprecated and will be removed in version 1.0.0. Downloads always resume when possible. If you want to force a new download, use `force_download=True`.\n",
      "  warnings.warn(\n"
     ]
    }
   ],
   "source": [
    "embedding_model = SentenceTransformer(\"BAAI/bge-base-en-v1.5\")"
   ]
  },
  {
   "cell_type": "code",
   "execution_count": 498,
   "id": "2e79e78d-ed5d-43c6-943b-e3cb76419d6a",
   "metadata": {},
   "outputs": [],
   "source": [
    "collection = mongodb_client[\"unstructured\"][\"kb_test\"]"
   ]
  },
  {
   "cell_type": "code",
   "execution_count": 499,
   "id": "640acfe9-a5f2-4415-83c9-94ea26aa39ba",
   "metadata": {},
   "outputs": [],
   "source": [
    "def vector_search(state):\n",
    "    \"\"\"\n",
    "    Get relevant information using MongoDB Atlas Vector Search\n",
    "\n",
    "    Args:\n",
    "        state (dict): The current graph state\n",
    "\n",
    "    Returns:\n",
    "        state (dict): New key added to state i.e. documents.\n",
    "    \"\"\"\n",
    "    print(\"---PERFORMING VECTOR SEARCH---\")\n",
    "    question = state[\"question\"]\n",
    "    filter = state[\"filter\"]\n",
    "    query_embedding = embedding_model.encode(question).tolist()\n",
    "    pipeline = [\n",
    "        {\n",
    "            \"$vectorSearch\": {\n",
    "                \"index\": \"vector_index\",\n",
    "                \"path\": \"embeddings\",\n",
    "                \"queryVector\": query_embedding,\n",
    "                \"numCandidates\": 150,\n",
    "                \"limit\": 5,\n",
    "                \"filter\": filter\n",
    "            }\n",
    "        },\n",
    "        {\n",
    "            \"$project\": {\n",
    "                \"_id\": 0,\n",
    "                \"text\": 1,\n",
    "                \"score\": {\"$meta\": \"vectorSearchScore\"},\n",
    "            }\n",
    "        },\n",
    "    ]\n",
    "\n",
    "    # Execute the aggregation `pipeline` and store the results in `results`\n",
    "    results = collection.aggregate(pipeline)\n",
    "    context = \"\\n\\n\".join([doc.get(\"text\") for doc in results])\n",
    "    return {\"context\": context}"
   ]
  },
  {
   "cell_type": "markdown",
   "id": "4a14c4d6-d247-4df0-9614-0044eb21db75",
   "metadata": {},
   "source": [
    "### Answer Generator"
   ]
  },
  {
   "cell_type": "code",
   "execution_count": 519,
   "id": "72545066-6fc4-4dd5-afe0-6943a3d2d6fe",
   "metadata": {},
   "outputs": [],
   "source": [
    "def generate_answer(state):\n",
    "    \"\"\"\n",
    "    Generate the final answer to the user query\n",
    "\n",
    "    Args:\n",
    "        state (dict): The current graph state\n",
    "\n",
    "    Returns:\n",
    "        state (dict): New key added to state i.e. generation.\n",
    "    \"\"\"\n",
    "    print(\"---GENERATING THE ANSWER---\")\n",
    "    question = state[\"question\"]\n",
    "    context = state[\"context\"]\n",
    "    system = f\"Answer the question based only on the following context. If the context is empty, say I DON'T KNOW\"\n",
    "    completion = openai_client.chat.completions.create(\n",
    "        model=llm,\n",
    "        messages=[\n",
    "            {\"role\": \"system\", \"content\": system},\n",
    "            {\"role\": \"user\", \"content\": f\"Context:\\n{context}\\n\\nQuestion:{question}\"}\n",
    "        ]\n",
    "    )\n",
    "    answer = completion.choices[0].message.content\n",
    "    return {\"generation\": answer}"
   ]
  },
  {
   "cell_type": "markdown",
   "id": "07515990-5630-4465-9b6e-bd5738bb8f34",
   "metadata": {},
   "source": [
    "## Step 6: Define conditional edges\n",
    "\n",
    "TO-DO"
   ]
  },
  {
   "cell_type": "markdown",
   "id": "33459f68-7cdf-450f-a855-55c32c711415",
   "metadata": {},
   "source": [
    "## Step 7: Build the agent graph/flow"
   ]
  },
  {
   "cell_type": "code",
   "execution_count": 520,
   "id": "d1c9da05-48f7-4de6-81a0-7b64be0cf9c5",
   "metadata": {},
   "outputs": [],
   "source": [
    "from langgraph.graph import END, StateGraph, START\n",
    "from IPython.display import Image, display\n",
    "from pprint import pprint"
   ]
  },
  {
   "cell_type": "code",
   "execution_count": 521,
   "id": "fcf217d8-d78f-46bf-bda5-4824d08bdc89",
   "metadata": {},
   "outputs": [],
   "source": [
    "workflow = StateGraph(GraphState)"
   ]
  },
  {
   "cell_type": "code",
   "execution_count": 522,
   "id": "7ede18de-7423-40ae-8ec9-698d963dd4d1",
   "metadata": {},
   "outputs": [],
   "source": [
    "# Add nodes\n",
    "workflow.add_node(\"extract_metadata\", extract_metadata)\n",
    "workflow.add_node(\"generate_mql_filter\", generate_mql_filter)\n",
    "workflow.add_node(\"vector_search\", vector_search)\n",
    "workflow.add_node(\"generate_answer\", generate_answer)\n",
    "\n",
    "# Add edges\n",
    "workflow.add_edge(START, \"extract_metadata\")\n",
    "workflow.add_edge(\"extract_metadata\", \"generate_mql_filter\")\n",
    "workflow.add_edge(\"generate_mql_filter\", \"vector_search\")\n",
    "workflow.add_edge(\"vector_search\", \"generate_answer\")\n",
    "workflow.add_edge(\"generate_answer\", END)\n",
    "\n",
    "# Compile the graph\n",
    "app = workflow.compile()"
   ]
  },
  {
   "cell_type": "code",
   "execution_count": 523,
   "id": "3e50d421-1059-45d1-be8e-a80fd2a106ce",
   "metadata": {},
   "outputs": [
    {
     "data": {
      "image/jpeg": "[encoded data removed]",
      "text/plain": [
       "<IPython.core.display.Image object>"
      ]
     },
     "metadata": {},
     "output_type": "display_data"
    }
   ],
   "source": [
    "try:\n",
    "    display(Image(app.get_graph().draw_mermaid_png()))\n",
    "except Exception:\n",
    "    # This requires some extra dependencies and is optional\n",
    "    pass"
   ]
  },
  {
   "cell_type": "code",
   "execution_count": 525,
   "id": "98c50e78-7de4-4f9c-be64-98ce29437016",
   "metadata": {},
   "outputs": [
    {
     "name": "stdout",
     "output_type": "stream",
     "text": [
      "---EXTRACT METADATA---\n",
      "company=[] year=[]\n",
      "'Node extract_metadata:'\n",
      "{'metadata': {'metadata.custom_metadata.company': [], 'metadata.custom_metadata.year': []}}\n",
      "'-----'\n",
      "---GENERATE FILTER DEFINITION---\n",
      "'Node generate_mql_filter:'\n",
      "{'filter': {}}\n",
      "'-----'\n",
      "'Node vector_search:'\n",
      "{'context': '\\n\\n\\n\\nOur forward-looking statements may also include statements of our strategies, plans and objectives for our operations, including areas of future focus in our operations, and the assumptions underlying any of the forward-looking statements we make. The forward-looking statements we make can typically be identified by the use therein of words and phrases such as \"aim,\" \"anticipate,\" \"believe,\" \"could be,\" \"could increase,\" \"could occur,\" \"could result,\" \"continue,\" \"estimate,\" \"expansion,\" \"expect,\" \"expectation,\" \"expected to be,\" \"focus,\" \"forecast,\" \"goal,\" \"grow,\" \"guidance,\" \"intend,\" \"invest,\" \"is expected,\" \"may continue,\" \"may fluctuate,\" \"may grow,\" \"may impact,\" \"may result,\" \"objective,\" \"plan,\" \"priority,\" \"project,\" \"strategy,\" \"to be,\" \"we\\'ll,\" \"we will,\" \"will add,\" \"will allow,\" \"will be,\" \"will benefit,\" \"will change,\" \"will come in at,\" \"will continue,\" \"will decrease,\" \"will grow,\" \"will have,\" \"will impact,\" \"will include,\" \"will increase,\" \"will open,\" \"will remain,\" \"will result,\" \"will stay,\" \"will strengthen,\" \"would be,\" \"would decrease\" and \"would increase,\" variations of such words or phrases, other phrases commencing with the word \"will\" or similar words and phrases denoting anticipated or expected occurrences or results.\\n\\nThe forward-looking statements that we make or that are made by others on our behalf are based on our knowledge of our business and our operating environment and assumptions that we believe to be or will believe to be reasonable when such forward-looking statements were or are made. As a consequence of the factors described above, the other risks, uncertainties and factors we disclose below and in the other reports as mentioned above, other risks not known to us at this time, changes in facts, assumptions not being realized or other circumstances, our actual results may differ materially from those discussed in or implied or contemplated by our forward-looking statements. Consequently, this cautionary statement qualifies all forward-looking statements we make or that are made on our behalf, including those made herein and incorporated by reference herein. We cannot assure you that the results or developments expected or anticipated by us will be realized or, even if substantially realized, that those results or developments will result in the expected consequences for us or affect us, our business, our operations or our operating results in the manner or to the extent we expect. We caution readers not to place undue reliance on such forward-looking statements, which speak only as of their dates. We undertake no obligation to revise or update any of the forward-looking statements to reflect subsequent events or circumstances except to the extent required by applicable law.\\n\\n5\\n\\nIf we do not timely identify or effectively respond to consumer trends or preferences, it could negatively affect our relationship with our customers, demand for the products and services we sell, our market share and the growth of our business.\\n\\nIt is difficult to predict consistently and successfully the products and services our customers will demand and changes in their shopping patterns. The success of our business depends in part on how accurately we predict consumer demand, availability of merchandise, the related impact on the demand for existing products and services and the competitive environment. Price transparency, assortment of products, customer experience, convenience, ease and the speed and cost of shipping are of primary importance to customers and continue to increase in importance, particularly as a result of digital tools and social media available to consumers and the choices available to consumers for purchasing products. Our failure to adequately or effectively respond to changing consumer tastes, preferences (including those related to ESG issues) and shopping patterns, or any other failure on our part to timely identify or effectively respond to changing consumer tastes, preferences and shopping patterns could negatively affect our reputation and relationship with our customers, the demand for the products we sell or services we offer, our market share and the growth of our business.'}\n",
      "'-----'\n",
      "'Node generate_answer:'\n",
      "{'generation': \"I DON'T KNOW\"}\n",
      "'-----'\n"
     ]
    }
   ],
   "source": [
    "# Run\n",
    "inputs = {\n",
    "    \"question\": \"Hey what's my name?\"\n",
    "}\n",
    "for output in app.stream(inputs):\n",
    "    for key, value in output.items():\n",
    "        # Node\n",
    "        pprint(f\"Node {key}:\")\n",
    "        print(value)\n",
    "        # Optional: print full state at each node\n",
    "        # pprint.pprint(value[\"keys\"], indent=2, width=80, depth=None)\n",
    "    pprint(\"-----\")"
   ]
  }
 ],
 "metadata": {
  "kernelspec": {
   "display_name": "Python 3 (ipykernel)",
   "language": "python",
   "name": "python3"
  },
  "language_info": {
   "codemirror_mode": {
    "name": "ipython",
    "version": 3
   },
   "file_extension": ".py",
   "mimetype": "text/x-python",
   "name": "python",
   "nbconvert_exporter": "python",
   "pygments_lexer": "ipython3",
   "version": "3.12.1"
  }
 },
 "nbformat": 4,
 "nbformat_minor": 5
}
