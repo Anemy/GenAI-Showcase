{
 "cells": [
  {
   "cell_type": "markdown",
   "id": "7b5591f1-294a-43f9-b35c-dc2da08e4752",
   "metadata": {},
   "source": [
    "[![Open In Colab](https://colab.research.google.com/assets/colab-badge.svg)](https://colab.research.google.com/github/mongodb-developer/GenAI-Showcase/blob/main/notebooks/agents/self_querying_agent_mongodb_unstructured.ipynb)\n",
    "\n",
    "[![View Article](https://img.shields.io/badge/View%20Article-blue)](https://www.mongodb.com/developer/products/atlas/advanced-rag-metadata-filtering/?utm_campaign=devrel&utm_source=cross-post&utm_medium=organic_social&utm_content=https%3A%2F%2Fgithub.com%2Fmongodb-developer%2FGenAI-Showcase&utm_term=apoorva.joshi)"
   ]
  },
  {
   "cell_type": "markdown",
   "id": "c4c7721c-1081-4fa3-95ff-fb7310f401c4",
   "metadata": {},
   "source": [
    "# Advanced RAG: Metadata Extraction and Self-Querying Retrieval\n",
    "\n",
    "This notebook shows how to incorporate metadata filtering and self-querying retrieval into a RAG application using Unstructured, MongoDB and LangGraph."
   ]
  },
  {
   "cell_type": "markdown",
   "id": "5f2b23c6-f6e3-4f17-a57b-e0314497520c",
   "metadata": {},
   "source": [
    "## Step 1: Install required libraries\n",
    "\n",
    "- **langgraph**: Python package to build controllable agents\n",
    "<p>\n",
    "- **langchain-mongodb**: Python package to use MongoDB Atlas with LangChain\n",
    "<p>\n",
    "- **langchain-openai**: Python package to use OpenAI models in LangChain"
   ]
  },
  {
   "cell_type": "code",
   "execution_count": 37,
   "id": "c5ef97bc-6bc1-4652-b632-afc61a6eaefd",
   "metadata": {},
   "outputs": [
    {
     "name": "stdout",
     "output_type": "stream",
     "text": [
      "\n",
      "\u001b[1m[\u001b[0m\u001b[34;49mnotice\u001b[0m\u001b[1;39;49m]\u001b[0m\u001b[39;49m A new release of pip is available: \u001b[0m\u001b[31;49m23.2.1\u001b[0m\u001b[39;49m -> \u001b[0m\u001b[32;49m24.2\u001b[0m\n",
      "\u001b[1m[\u001b[0m\u001b[34;49mnotice\u001b[0m\u001b[1;39;49m]\u001b[0m\u001b[39;49m To update, run: \u001b[0m\u001b[32;49mpip install --upgrade pip\u001b[0m\n"
     ]
    }
   ],
   "source": [
    "! pip install -qU langgraph openai pymongo"
   ]
  },
  {
   "cell_type": "code",
   "execution_count": 315,
   "id": "9934fdb0-815a-45c2-b65a-fcf25f54cf35",
   "metadata": {},
   "outputs": [],
   "source": [
    "import warnings\n",
    "\n",
    "warnings.filterwarnings(\"ignore\", category=UserWarning)"
   ]
  },
  {
   "cell_type": "markdown",
   "id": "af8bfe45-a2b2-4308-99fb-cd46b7e32245",
   "metadata": {},
   "source": [
    "## Step 2: Install required libraries\n",
    "\n",
    "- Set the MongoDB connection string. Follow the steps [here](https://www.mongodb.com/docs/manual/reference/connection-string/) to get the connection string from the Atlas UI.\n",
    "\n",
    "- Set the OpenAI API key. Steps to obtain an API key as [here](https://help.openai.com/en/articles/4936850-where-do-i-find-my-openai-api-key)"
   ]
  },
  {
   "cell_type": "code",
   "execution_count": 38,
   "id": "f0b0a2c8-9942-4359-b5d1-dfbc7eda3bfc",
   "metadata": {},
   "outputs": [],
   "source": [
    "import os\n",
    "import getpass\n",
    "from openai import OpenAI\n",
    "from pymongo import MongoClient"
   ]
  },
  {
   "cell_type": "code",
   "execution_count": 39,
   "id": "627f6149-6e78-4b9a-b50f-1982b123f14d",
   "metadata": {},
   "outputs": [
    {
     "name": "stdin",
     "output_type": "stream",
     "text": [
      "Enter your OpenAI API Key: ········\n"
     ]
    }
   ],
   "source": [
    "os.environ[\"OPENAI_API_KEY\"] = getpass.getpass(\"Enter your OpenAI API Key:\")\n",
    "openai_client = OpenAI()"
   ]
  },
  {
   "cell_type": "code",
   "execution_count": 41,
   "id": "715948a0-a468-4d0a-aa23-a89cce5bb808",
   "metadata": {},
   "outputs": [
    {
     "name": "stdin",
     "output_type": "stream",
     "text": [
      "Enter your MongoDB connection string: ········\n"
     ]
    }
   ],
   "source": [
    "MONGODB_URI = getpass.getpass(\"Enter your MongoDB connection string:\")\n",
    "mongo_client = MongoClient(MONGODB_URI, appname=\"devrel.content.selfquery_mongodb_unstructured\")"
   ]
  },
  {
   "cell_type": "code",
   "execution_count": 5,
   "id": "9081f2a0-71ad-4075-9c5f-6b03c0e7bc3f",
   "metadata": {},
   "outputs": [
    {
     "name": "stdin",
     "output_type": "stream",
     "text": [
      "Enter your Langsmith API Key: ········\n"
     ]
    }
   ],
   "source": [
    "os.environ[\"LANGCHAIN_TRACING_V2\"] = \"true\"\n",
    "os.environ[\"LANGCHAIN_API_KEY\"] = getpass.getpass(\"Enter your Langsmith API Key:\")"
   ]
  },
  {
   "cell_type": "markdown",
   "id": "6cc77685-5008-4286-b4e5-d52ebb8e9a58",
   "metadata": {},
   "source": [
    "## Step 3: Instantiate the LLM"
   ]
  },
  {
   "cell_type": "code",
   "execution_count": 71,
   "id": "37651885-a9c4-434b-a2c0-598ae2abe5b8",
   "metadata": {},
   "outputs": [],
   "source": [
    "llm = \"gpt-4o-2024-08-06\""
   ]
  },
  {
   "cell_type": "markdown",
   "id": "75a87a5a-f7a7-450a-9ace-4455cdf360de",
   "metadata": {},
   "source": [
    "## Step 4: Define Graph State"
   ]
  },
  {
   "cell_type": "code",
   "execution_count": 8,
   "id": "b0649333-9146-432a-bb78-86c015f99e75",
   "metadata": {},
   "outputs": [],
   "source": [
    "from typing_extensions import TypedDict\n",
    "from typing import Any, List, Dict"
   ]
  },
  {
   "cell_type": "code",
   "execution_count": 9,
   "id": "84a34c1a-0453-4f38-affe-3d6ab464ae28",
   "metadata": {},
   "outputs": [],
   "source": [
    "class GraphState(TypedDict):\n",
    "    \"\"\"\n",
    "    Represents the state of our graph.\n",
    "\n",
    "    Attributes:\n",
    "        question: User query\n",
    "        metadata: Metadata dictionary\n",
    "        filter: MQL filter definition\n",
    "        documents: List of documents\n",
    "        generation: LLM generation\n",
    "    \"\"\"\n",
    "\n",
    "    question: str\n",
    "    metadata: Dict[str, List]\n",
    "    filter: Dict[str, Any]\n",
    "    documents: List[str]\n",
    "    generation: str"
   ]
  },
  {
   "cell_type": "markdown",
   "id": "2517f7ec-d225-440d-af3d-9b832ea79070",
   "metadata": {},
   "source": [
    "## Step 5: Define Graph Nodes "
   ]
  },
  {
   "cell_type": "code",
   "execution_count": 284,
   "id": "8ed861cb-75d4-4a6e-807d-1aa86d36af01",
   "metadata": {},
   "outputs": [],
   "source": [
    "from pydantic import BaseModel\n",
    "from datetime import datetime\n",
    "from typing import Optional"
   ]
  },
  {
   "cell_type": "markdown",
   "id": "3b5a787c-9ef3-40cb-af5f-8e283198ceb2",
   "metadata": {},
   "source": [
    "### Metadata Extractor"
   ]
  },
  {
   "cell_type": "code",
   "execution_count": 11,
   "id": "86e216d6-a694-4646-84b4-c692661ae707",
   "metadata": {},
   "outputs": [],
   "source": [
    "companies = [\"AT&T INC.\",\n",
    " \"American International Group, Inc.\",\n",
    " \"Apple Inc.\",\n",
    " \"BERKSHIRE HATHAWAY INC.\",\n",
    " \"Bank of America Corporation\",\n",
    " \"CENCORA, INC.\",\n",
    " \"CVS HEALTH CORPORATION\",\n",
    " \"Cardinal Health, Inc.\",\n",
    " \"Chevron Corporation\",\n",
    " \"Citigroup Inc.\",\n",
    " \"Costco Wholesale Corporation\",\n",
    " \"Exxon Mobil Corporation\",\n",
    " \"Ford Motor Company\",\n",
    " \"GENERAL ELECTRIC COMPANY\",\n",
    " \"GENERAL MOTORS COMPANY\",\n",
    " \"HP Inc.\",\n",
    " \"INTERNATIONAL BUSINESS MACHINES CORPORATION\",\n",
    " \"JPMorgan Chase & Co.\",\n",
    " \"MICROSOFT CORPORATION\",\n",
    " \"MIDLAND COMPANY\",\n",
    " \"McKESSON CORPORATION\",\n",
    " \"THE BOEING COMPANY\",\n",
    " \"THE HOME DEPOT, INC.\",\n",
    " \"THE KROGER CO.\",\n",
    " \"The Goldman Sachs Group, Inc.\",\n",
    " \"UnitedHealth Group Incorporated\",\n",
    " \"VALERO ENERGY CORPORATION\",\n",
    " \"Verizon Communications Inc.\",\n",
    " \"WALMART INC.\",\n",
    " \"WELLS FARGO & COMPANY\"]"
   ]
  },
  {
   "cell_type": "code",
   "execution_count": 306,
   "id": "fe9f6bc6-a8d0-42ea-ac99-db0f66a1ee54",
   "metadata": {},
   "outputs": [],
   "source": [
    "class Metadata(BaseModel):\n",
    "    \"\"\"Metadata to use for pre-filtering.\"\"\"\n",
    "    company: list[str] = Field(description=\"List of company names\")\n",
    "    year: list[str] = Field(description=\"List containing start year and end year\")"
   ]
  },
  {
   "cell_type": "code",
   "execution_count": 307,
   "id": "ed053062-98cc-4af2-a3ea-f6180ff68f01",
   "metadata": {},
   "outputs": [],
   "source": [
    "def extract_metadata(state):\n",
    "    \"\"\"\n",
    "    Extract metadata from natural language query.\n",
    "\n",
    "    Args:\n",
    "        state (dict): The current graph state\n",
    "\n",
    "    Returns:\n",
    "        state (dict): New key added to state i.e. metadata containing the metadata extracted from the user query.\n",
    "    \"\"\"\n",
    "    print(\"---EXTRACT METADATA---\")\n",
    "    question = state[\"question\"]\n",
    "    system = f\"\"\"Extract the specified metadata from the user question:\n",
    "    - company: List of company names, eg: Google, Adobe etc. Match the names to companies on this list: {companies}\n",
    "    - year: List of [start year, end year]. Guidelines for extracting dates:\n",
    "        - If a single date is found, only include that.\n",
    "        - For phrases like 'in the past X years/last year', extract the start year by subtracting X from the current year. The current year is {datetime.now().year}.\n",
    "        - If more than two dates are found, only include the smallest and the largest year.\"\"\"\n",
    "    completion = openai_client.beta.chat.completions.parse(\n",
    "    model=llm,\n",
    "    messages=[\n",
    "        {\"role\": \"system\", \"content\": system},\n",
    "        {\"role\": \"user\", \"content\": question},\n",
    "        ],\n",
    "        response_format=Metadata,\n",
    "    )\n",
    "    result = completion.choices[0].message.parsed\n",
    "    print(result)\n",
    "    metadata = {\"metadata.custom_metadata.company\": result.company, \"metadata.custom_metadata.year\": result.year}\n",
    "    return {\"metadata\": metadata}"
   ]
  },
  {
   "cell_type": "markdown",
   "id": "f3afc63b-0858-4fb1-8b45-f6dda04d88eb",
   "metadata": {},
   "source": [
    "### MQL Filter Generator"
   ]
  },
  {
   "cell_type": "code",
   "execution_count": 265,
   "id": "49cbe8d5-c188-4c3a-8a9b-52f445d19a15",
   "metadata": {},
   "outputs": [],
   "source": [
    "import json"
   ]
  },
  {
   "cell_type": "code",
   "execution_count": 323,
   "id": "05f38366-3760-4a2a-92c5-2fe7f21af25e",
   "metadata": {},
   "outputs": [],
   "source": [
    "def generate_mql_filter(state):\n",
    "    \"\"\"\n",
    "    Generate MongoDB Query Language (MQL) filter definition.\n",
    "\n",
    "    Args:\n",
    "        state (dict): The current graph state\n",
    "\n",
    "    Returns:\n",
    "        state (dict): New key added to state i.e. filter containing the MQL filter.\n",
    "    \"\"\"\n",
    "    print(\"---GENERATE FILTER DEFINITION---\")\n",
    "    metadata = state[\"metadata\"]\n",
    "    system = \"\"\"Generate a MongoDB filter definition from the provided fields. Follow the guidelines below:\n",
    "    - Respond in JSON with the filter assigned to a `filter` key.\n",
    "    - The field `metadata.custom_metadata.company` is a list of companies.\n",
    "    - The field `metadata.custom_metadata.year` contains one or more years.\n",
    "    - If any of the provided fields are empty lists, DO NOT include them in the filter.\n",
    "    - If both the metadata fields are empty lists, return an empty dictionary {{}}.\n",
    "    - The filter should only contain the fields `metadata.custom_metadata.company` and `metadata.custom_metadata.year`\n",
    "    - The filter can only contain the following MQL match expressions:\n",
    "        - $gt: Greater than\n",
    "        - $lt: Lesser than\n",
    "        - $gte: Greater than or equal to\n",
    "        - $lte: Less than or equal to\n",
    "        - $eq: Equal to\n",
    "        - $ne: Not equal to\n",
    "        - $in: Specified field value equals any value in the specified array\n",
    "        - $nin: Specified field value is not present in the specified array\n",
    "        - $nor: Logical NOR operation\n",
    "        - $and: Logical AND operation\n",
    "        - $or: Logical OR operation \n",
    "    - If the `metadata.custom_metadata.year` field has multiple dates, create a date range filter using expressions such as $gt, $lt, $lte and $gte\n",
    "    - If the `metadata.custom_metadata.company` field contains a single company, use the $eq expression\n",
    "    - If the `metadata.custom_metadata.company` field contains multiple companies, use the $in expression \n",
    "    - To combine date range and company filters, use the $and operator\\n\\nQuestion: {question}\\n\\nMetadata: {metadata}\n",
    "    \"\"\"\n",
    "    completion = openai_client.chat.completions.create(\n",
    "        model=llm,\n",
    "        messages=[\n",
    "            {\"role\": \"system\", \"content\": system},\n",
    "            {\"role\": \"user\", \"content\": f\"Fields: {metadata}\"},\n",
    "            ],\n",
    "        response_format={\"type\": \"json_object\"},\n",
    "    )\n",
    "    result = json.loads(completion.choices[0].message.content)\n",
    "    return {\"filter\": result.get(\"filter\", {})}"
   ]
  },
  {
   "cell_type": "markdown",
   "id": "33459f68-7cdf-450f-a855-55c32c711415",
   "metadata": {},
   "source": [
    "## Step 6: Build Graph"
   ]
  },
  {
   "cell_type": "code",
   "execution_count": 318,
   "id": "d1c9da05-48f7-4de6-81a0-7b64be0cf9c5",
   "metadata": {},
   "outputs": [],
   "source": [
    "from langgraph.graph import END, StateGraph, START"
   ]
  },
  {
   "cell_type": "code",
   "execution_count": 324,
   "id": "fcf217d8-d78f-46bf-bda5-4824d08bdc89",
   "metadata": {},
   "outputs": [],
   "source": [
    "workflow = StateGraph(GraphState)"
   ]
  },
  {
   "cell_type": "code",
   "execution_count": 325,
   "id": "7ede18de-7423-40ae-8ec9-698d963dd4d1",
   "metadata": {},
   "outputs": [],
   "source": [
    "# Add nodes\n",
    "workflow.add_node(\"extract_metadata\", extract_metadata)\n",
    "workflow.add_node(\"generate_mql_filter\", generate_mql_filter)\n",
    "\n",
    "# Add edges\n",
    "workflow.add_edge(START, \"extract_metadata\")\n",
    "workflow.add_edge(\"extract_metadata\", \"generate_mql_filter\")\n",
    "workflow.add_edge(\"generate_mql_filter\", END)\n",
    "\n",
    "# Compile the graph\n",
    "app = workflow.compile()"
   ]
  },
  {
   "cell_type": "code",
   "execution_count": 326,
   "id": "3e50d421-1059-45d1-be8e-a80fd2a106ce",
   "metadata": {},
   "outputs": [
    {
     "data": {
      "image/jpeg": "[encoded data removed]",
      "text/plain": [
       "<IPython.core.display.Image object>"
      ]
     },
     "metadata": {},
     "output_type": "display_data"
    }
   ],
   "source": [
    "from IPython.display import Image, display\n",
    "\n",
    "try:\n",
    "    display(Image(app.get_graph().draw_mermaid_png()))\n",
    "except Exception:\n",
    "    # This requires some extra dependencies and is optional\n",
    "    pass"
   ]
  },
  {
   "cell_type": "code",
   "execution_count": 327,
   "id": "98c50e78-7de4-4f9c-be64-98ce29437016",
   "metadata": {},
   "outputs": [
    {
     "name": "stdout",
     "output_type": "stream",
     "text": [
      "---EXTRACT METADATA---\n",
      "company=['INTERNATIONAL BUSINESS MACHINES CORPORATION', 'WALMART INC.'] year=[]\n",
      "\"Node 'extract_metadata':\"\n",
      "'\\n---\\n'\n",
      "---GENERATE FILTER DEFINITION---\n",
      "\"Node 'generate_mql_filter':\"\n",
      "'\\n---\\n'\n",
      "{'metadata.custom_metadata.company': {'$in': ['INTERNATIONAL BUSINESS MACHINES '\n",
      "                                              'CORPORATION',\n",
      "                                              'WALMART INC.']}}\n"
     ]
    }
   ],
   "source": [
    "from pprint import pprint\n",
    "\n",
    "# Run\n",
    "inputs = {\n",
    "    \"question\": \"Provide an earnings summary for Walmart and IBM.\"\n",
    "}\n",
    "for output in app.stream(inputs):\n",
    "    for key, value in output.items():\n",
    "        # Node\n",
    "        pprint(f\"Node '{key}':\")\n",
    "        # Optional: print full state at each node\n",
    "        # pprint.pprint(value[\"keys\"], indent=2, width=80, depth=None)\n",
    "    pprint(\"\\n---\\n\")\n",
    "\n",
    "# Final generation\n",
    "pprint(value[\"filter\"])"
   ]
  }
 ],
 "metadata": {
  "kernelspec": {
   "display_name": "Python 3 (ipykernel)",
   "language": "python",
   "name": "python3"
  },
  "language_info": {
   "codemirror_mode": {
    "name": "ipython",
    "version": 3
   },
   "file_extension": ".py",
   "mimetype": "text/x-python",
   "name": "python",
   "nbconvert_exporter": "python",
   "pygments_lexer": "ipython3",
   "version": "3.12.1"
  }
 },
 "nbformat": 4,
 "nbformat_minor": 5
}
