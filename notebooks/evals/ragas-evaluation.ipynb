{
 "cells": [
  {
   "cell_type": "markdown",
   "id": "1ae07b50",
   "metadata": {},
   "source": [
    "[![Open In Colab](https://colab.research.google.com/assets/colab-badge.svg)](https://colab.research.google.com/github/mongodb-developer/GenAI-Showcase/blob/main/notebooks/evals/ragas-evaluation.ipynb)\n"
   ]
  },
  {
   "cell_type": "markdown",
   "id": "705420ac",
   "metadata": {},
   "source": [
    "# RAG Series Part 2: How to evaluate your RAG application\n",
    "\n",
    "This notebook shows how to evaluate a RAG application using the [RAGAS](https://docs.ragas.io/en/stable/index.html) framework.\n"
   ]
  },
  {
   "cell_type": "markdown",
   "id": "c666fbf2",
   "metadata": {},
   "source": [
    "## Step 1: Install required libraries\n",
    "\n",
    "- **datasets**: Python library to get access to datasets available on Hugging Face Hub\n",
    "<p>\n",
    "- **ragas**: Python library for the RAGAS framework\n",
    "<p>\n",
    "- **langchain**: Python library to develop LLM applications using LangChain\n",
    "<p>\n",
    "- **langchain-mongodb**: Python package to use MongoDB Atlas vector Search with LangChain\n",
    "<p>\n",
    "- **langchain-openai**: Python package to use OpenAI models in LangChain\n",
    "<p>\n",
    "- **pymongo**: Python driver to interacting with MongoDB\n",
    "<p>\n",
    "- **pandas**: Python library for data analysis, exploration and manipulation\n",
    "<p>\n",
    "- **tdqm**: Python module to show a progress meter for loops\n",
    "<p>\n",
    "- **matplotlib, seaborn**: Python libraries for data visualization\n"
   ]
  },
  {
   "cell_type": "code",
   "execution_count": 1,
   "id": "f973db17",
   "metadata": {},
   "outputs": [
    {
     "name": "stdout",
     "output_type": "stream",
     "text": [
      "\n",
      "\u001b[1m[\u001b[0m\u001b[34;49mnotice\u001b[0m\u001b[1;39;49m]\u001b[0m\u001b[39;49m A new release of pip is available: \u001b[0m\u001b[31;49m23.2.1\u001b[0m\u001b[39;49m -> \u001b[0m\u001b[32;49m24.0\u001b[0m\n",
      "\u001b[1m[\u001b[0m\u001b[34;49mnotice\u001b[0m\u001b[1;39;49m]\u001b[0m\u001b[39;49m To update, run: \u001b[0m\u001b[32;49mpip install --upgrade pip\u001b[0m\n"
     ]
    }
   ],
   "source": [
    "! pip install -qU datasets ragas langchain langchain-mongodb langchain-openai \\\n",
    "pymongo pandas tqdm matplotlib seaborn"
   ]
  },
  {
   "cell_type": "markdown",
   "id": "9e2e9a15",
   "metadata": {},
   "source": [
    "## Step 2: Setup pre-requisites\n"
   ]
  },
  {
   "cell_type": "markdown",
   "id": "5f98e464",
   "metadata": {},
   "source": [
    "- Set the MongoDB connection string. Follow the steps [here](https://www.mongodb.com/docs/manual/reference/connection-string/) to get the connection string from the Atlas UI.\n",
    "\n",
    "- Set the OpenAI API key. Steps to obtain an API key as [here](https://help.openai.com/en/articles/4936850-where-do-i-find-my-openai-api-key)\n"
   ]
  },
  {
   "cell_type": "code",
   "execution_count": 2,
   "id": "5740a5cd",
   "metadata": {},
   "outputs": [],
   "source": [
    "import os\n",
    "import getpass\n",
    "from openai import OpenAI"
   ]
  },
  {
   "cell_type": "code",
   "execution_count": 3,
   "id": "e5c0c3bf",
   "metadata": {},
   "outputs": [
    {
     "name": "stdout",
     "output_type": "stream",
     "text": [
      "Enter your OpenAI API Key:········\n"
     ]
    }
   ],
   "source": [
    "os.environ[\"OPENAI_API_KEY\"] = getpass.getpass(\"Enter your OpenAI API Key:\")\n",
    "openai_client = OpenAI()"
   ]
  },
  {
   "cell_type": "code",
   "execution_count": 4,
   "id": "195b4d1c",
   "metadata": {},
   "outputs": [
    {
     "name": "stdout",
     "output_type": "stream",
     "text": [
      "Enter your MongoDB connection string:········\n"
     ]
    }
   ],
   "source": [
    "MONGODB_URI = getpass.getpass(\"Enter your MongoDB connection string:\")"
   ]
  },
  {
   "cell_type": "markdown",
   "id": "44deb05f",
   "metadata": {},
   "source": [
    "## Step 3: Download the Hugging Face dataset\n"
   ]
  },
  {
   "cell_type": "code",
   "execution_count": 5,
   "id": "88f1cb10",
   "metadata": {},
   "outputs": [],
   "source": [
    "from datasets import load_dataset\n",
    "import pandas as pd"
   ]
  },
  {
   "cell_type": "code",
   "execution_count": 6,
   "id": "180f3174",
   "metadata": {},
   "outputs": [],
   "source": [
    "data = load_dataset(\"explodinggradients/ragas-wikiqa\", split=\"train\")\n",
    "df = pd.DataFrame(data)"
   ]
  },
  {
   "cell_type": "code",
   "execution_count": 92,
   "id": "7c8a4c61",
   "metadata": {},
   "outputs": [
    {
     "data": {
      "text/html": [
       "<div>\n",
       "<style scoped>\n",
       "    .dataframe tbody tr th:only-of-type {\n",
       "        vertical-align: middle;\n",
       "    }\n",
       "\n",
       "    .dataframe tbody tr th {\n",
       "        vertical-align: top;\n",
       "    }\n",
       "\n",
       "    .dataframe thead th {\n",
       "        text-align: right;\n",
       "    }\n",
       "</style>\n",
       "<table border=\"1\" class=\"dataframe\">\n",
       "  <thead>\n",
       "    <tr style=\"text-align: right;\">\n",
       "      <th></th>\n",
       "      <th>question</th>\n",
       "      <th>correct_answer</th>\n",
       "      <th>incorrect_answer</th>\n",
       "      <th>question_id</th>\n",
       "      <th>generated_with_rag</th>\n",
       "      <th>context</th>\n",
       "      <th>generated_without_rag</th>\n",
       "      <th>chunks</th>\n",
       "    </tr>\n",
       "  </thead>\n",
       "  <tbody>\n",
       "    <tr>\n",
       "      <th>0</th>\n",
       "      <td>HOW AFRICAN AMERICANS WERE IMMIGRATED TO THE US</td>\n",
       "      <td>As such, African immigrants are to be distingu...</td>\n",
       "      <td>From the Immigration and Nationality Act of 19...</td>\n",
       "      <td>Q0</td>\n",
       "      <td>\\nAfrican Americans were immigrated to the Uni...</td>\n",
       "      <td>[African immigration to the United States refe...</td>\n",
       "      <td>African Americans were immigrated to the US in...</td>\n",
       "      <td>[African immigration to the United States refe...</td>\n",
       "    </tr>\n",
       "  </tbody>\n",
       "</table>\n",
       "</div>"
      ],
      "text/plain": [
       "                                          question  \\\n",
       "0  HOW AFRICAN AMERICANS WERE IMMIGRATED TO THE US   \n",
       "\n",
       "                                      correct_answer  \\\n",
       "0  As such, African immigrants are to be distingu...   \n",
       "\n",
       "                                    incorrect_answer question_id  \\\n",
       "0  From the Immigration and Nationality Act of 19...          Q0   \n",
       "\n",
       "                                  generated_with_rag  \\\n",
       "0  \\nAfrican Americans were immigrated to the Uni...   \n",
       "\n",
       "                                             context  \\\n",
       "0  [African immigration to the United States refe...   \n",
       "\n",
       "                               generated_without_rag  \\\n",
       "0  African Americans were immigrated to the US in...   \n",
       "\n",
       "                                              chunks  \n",
       "0  [African immigration to the United States refe...  "
      ]
     },
     "execution_count": 92,
     "metadata": {},
     "output_type": "execute_result"
    }
   ],
   "source": [
    "df.head(1)"
   ]
  },
  {
   "cell_type": "code",
   "execution_count": 8,
   "id": "7e2228b7",
   "metadata": {},
   "outputs": [
    {
     "data": {
      "text/plain": [
       "232"
      ]
     },
     "execution_count": 8,
     "metadata": {},
     "output_type": "execute_result"
    }
   ],
   "source": [
    "len(df)"
   ]
  },
  {
   "cell_type": "markdown",
   "id": "8abfa781",
   "metadata": {},
   "source": [
    "## Step 4: Create reference document chunks\n"
   ]
  },
  {
   "cell_type": "code",
   "execution_count": 66,
   "id": "fc218dab",
   "metadata": {},
   "outputs": [],
   "source": [
    "from langchain.text_splitter import RecursiveCharacterTextSplitter"
   ]
  },
  {
   "cell_type": "code",
   "execution_count": 67,
   "id": "ceed4f01",
   "metadata": {},
   "outputs": [],
   "source": [
    "# Split text by tokens using the tiktoken tokenizer\n",
    "text_splitter = RecursiveCharacterTextSplitter.from_tiktoken_encoder(\n",
    "    encoding_name=\"cl100k_base\", keep_separator=False, chunk_size=200, chunk_overlap=30\n",
    ")"
   ]
  },
  {
   "cell_type": "code",
   "execution_count": 68,
   "id": "417f79e6",
   "metadata": {},
   "outputs": [],
   "source": [
    "def split_texts(texts):\n",
    "    chunked_texts = []\n",
    "    for text in texts:\n",
    "        chunks = text_splitter.create_documents([text])\n",
    "        chunked_texts.extend([chunk.page_content for chunk in chunks])\n",
    "    return chunked_texts"
   ]
  },
  {
   "cell_type": "code",
   "execution_count": 69,
   "id": "b3116297",
   "metadata": {},
   "outputs": [],
   "source": [
    "# Split the context field into chunks\n",
    "df[\"chunks\"] = df[\"context\"].apply(lambda x: split_texts(x))"
   ]
  },
  {
   "cell_type": "code",
   "execution_count": 70,
   "id": "bc620e35",
   "metadata": {},
   "outputs": [],
   "source": [
    "all_chunks = df[\"chunks\"].tolist()\n",
    "docs = []\n",
    "for chunk in all_chunks:\n",
    "    docs.extend(chunk)"
   ]
  },
  {
   "cell_type": "code",
   "execution_count": 71,
   "id": "9c1b9b66",
   "metadata": {},
   "outputs": [
    {
     "data": {
      "text/plain": [
       "3795"
      ]
     },
     "execution_count": 71,
     "metadata": {},
     "output_type": "execute_result"
    }
   ],
   "source": [
    "len(docs)"
   ]
  },
  {
   "cell_type": "code",
   "execution_count": 72,
   "id": "19fed721",
   "metadata": {},
   "outputs": [
    {
     "data": {
      "text/plain": [
       "'Figgis had problems because permits were not issued for some street scenes. This caused him to film some scenes on the Las Vegas strip in one take to avoid the police, which Figgis said benefited production and the authenticity of the acting, remarking \"I\\'ve always hated the convention of shooting on a street, and then having to stop the traffic, and then having to tell the actors, \\'Well, there\\'s meant to be traffic here, so you\\'re going to have to shout.\\' And they\\'re shouting, but it\\'s quiet and they feel really stupid, because it\\'s unnatural. You put them up against a couple of trucks, with it all happening around them, and their voices become great\". Filming took place over 28 days.'"
      ]
     },
     "execution_count": 72,
     "metadata": {},
     "output_type": "execute_result"
    }
   ],
   "source": [
    "docs[100]"
   ]
  },
  {
   "cell_type": "markdown",
   "id": "116fd2b3",
   "metadata": {},
   "source": [
    "## Step 5: Create embeddings and ingest them into MongoDB\n"
   ]
  },
  {
   "cell_type": "code",
   "execution_count": 9,
   "id": "bd6128ba",
   "metadata": {},
   "outputs": [],
   "source": [
    "from typing import List\n",
    "from pymongo import MongoClient\n",
    "from tqdm.auto import tqdm"
   ]
  },
  {
   "cell_type": "code",
   "execution_count": 94,
   "id": "3810090d",
   "metadata": {},
   "outputs": [],
   "source": [
    "def get_embeddings(\n",
    "    docs: List[str], model: str = \"text-embedding-3-large\"\n",
    ") -> List[List[float]]:\n",
    "    \"\"\"\n",
    "    Generate embeddings using the OpenAI API.\n",
    "\n",
    "    Args:\n",
    "        docs (List[str]): List of texts to embed\n",
    "        model (str, optional): Model name. Defaults to \"text-embedding-3-large\".\n",
    "\n",
    "    Returns:\n",
    "        List[float]: Array of embeddings\n",
    "    \"\"\"\n",
    "    # replace newlines, which can negatively affect performance.\n",
    "    docs = [doc.replace(\"\\n\", \" \") for doc in docs]\n",
    "    response = openai_client.embeddings.create(input=docs, model=model)\n",
    "    response = [r.embedding for r in response.data]\n",
    "    return response"
   ]
  },
  {
   "cell_type": "code",
   "execution_count": 10,
   "id": "8f1a433a",
   "metadata": {},
   "outputs": [],
   "source": [
    "client = MongoClient(MONGODB_URI)\n",
    "DB_NAME = \"ragas_evals\"\n",
    "db = client[DB_NAME]"
   ]
  },
  {
   "cell_type": "code",
   "execution_count": 11,
   "id": "284c00dd",
   "metadata": {},
   "outputs": [],
   "source": [
    "batch_size = 128"
   ]
  },
  {
   "cell_type": "code",
   "execution_count": 12,
   "id": "ccbce870",
   "metadata": {},
   "outputs": [],
   "source": [
    "EVAL_EMBEDDING_MODELS = [\"text-embedding-ada-002\", \"text-embedding-3-small\"]"
   ]
  },
  {
   "cell_type": "code",
   "execution_count": 95,
   "id": "b604a706",
   "metadata": {},
   "outputs": [
    {
     "name": "stdout",
     "output_type": "stream",
     "text": [
      "Getting embeddings for the text-embedding-ada-002 model\n"
     ]
    },
    {
     "data": {
      "application/vnd.jupyter.widget-view+json": {
       "model_id": "764a9c94f0ec474993553e320f717c7f",
       "version_major": 2,
       "version_minor": 0
      },
      "text/plain": [
       "  0%|          | 0/30 [00:00<?, ?it/s]"
      ]
     },
     "metadata": {},
     "output_type": "display_data"
    },
    {
     "name": "stdout",
     "output_type": "stream",
     "text": [
      "Finished getting embeddings for the text-embedding-ada-002 model\n",
      "Inserting embeddings for the text-embedding-ada-002 model\n",
      "Finished inserting embeddings for the text-embedding-ada-002 model\n",
      "Getting embeddings for the text-embedding-3-small model\n"
     ]
    },
    {
     "data": {
      "application/vnd.jupyter.widget-view+json": {
       "model_id": "59db2256429b4f4bb90025d02a67971c",
       "version_major": 2,
       "version_minor": 0
      },
      "text/plain": [
       "  0%|          | 0/30 [00:00<?, ?it/s]"
      ]
     },
     "metadata": {},
     "output_type": "display_data"
    },
    {
     "name": "stdout",
     "output_type": "stream",
     "text": [
      "Finished getting embeddings for the text-embedding-3-small model\n",
      "Inserting embeddings for the text-embedding-3-small model\n",
      "Finished inserting embeddings for the text-embedding-3-small model\n"
     ]
    }
   ],
   "source": [
    "for model in EVAL_EMBEDDING_MODELS:\n",
    "    embedded_docs = []\n",
    "    print(f\"Getting embeddings for the {model} model\")\n",
    "    for i in tqdm(range(0, len(docs), batch_size)):\n",
    "        end = min(len(docs), i + batch_size)\n",
    "        batch = docs[i:end]\n",
    "        # Generate embeddings for current batch\n",
    "        batch_embeddings = get_embeddings(batch, model)\n",
    "        # Creating the documents to ingest into MongoDB for current batch\n",
    "        batch_embedded_docs = [\n",
    "            {\"text\": batch[i], \"embedding\": batch_embeddings[i]}\n",
    "            for i in range(len(batch))\n",
    "        ]\n",
    "        embedded_docs.extend(batch_embedded_docs)\n",
    "    print(f\"Finished getting embeddings for the {model} model\")\n",
    "\n",
    "    # Bulk insert documents into a MongoDB collection\n",
    "    print(f\"Inserting embeddings for the {model} model\")\n",
    "    collection = db[model]\n",
    "    collection.delete_many({})\n",
    "    collection.insert_many(embedded_docs)\n",
    "    print(f\"Finished inserting embeddings for the {model} model\")"
   ]
  },
  {
   "cell_type": "markdown",
   "id": "3a038b19",
   "metadata": {},
   "source": [
    "## Step 6: Compare embeddings for the retriever\n"
   ]
  },
  {
   "cell_type": "code",
   "execution_count": 13,
   "id": "ad8c421f",
   "metadata": {},
   "outputs": [],
   "source": [
    "from langchain_openai import OpenAIEmbeddings\n",
    "from langchain_mongodb import MongoDBAtlasVectorSearch\n",
    "from langchain_core.vectorstores import VectorStoreRetriever\n",
    "from datasets import Dataset\n",
    "from ragas import evaluate, RunConfig\n",
    "from ragas.metrics import context_precision, context_recall\n",
    "import nest_asyncio\n",
    "\n",
    "# Allow nested use of asyncio (used by RAGAS)\n",
    "nest_asyncio.apply()"
   ]
  },
  {
   "cell_type": "code",
   "execution_count": 14,
   "id": "6fbdb607",
   "metadata": {},
   "outputs": [],
   "source": [
    "def get_retriever(model: str, k: int) -> VectorStoreRetriever:\n",
    "    \"\"\"\n",
    "    Given an embedding model and top k, get a vector store retriever object\n",
    "\n",
    "    Args:\n",
    "        model (str): Embedding model to use\n",
    "        k (int): Number of results to retrieve\n",
    "\n",
    "    Returns:\n",
    "        VectorStoreRetriever: A vector store retriever object\n",
    "    \"\"\"\n",
    "    embeddings = OpenAIEmbeddings(model=model)\n",
    "\n",
    "    vector_store = MongoDBAtlasVectorSearch.from_connection_string(\n",
    "        connection_string=MONGODB_URI,\n",
    "        namespace=f\"{DB_NAME}.{model}\",\n",
    "        embedding=embeddings,\n",
    "        index_name=\"vector_index\",\n",
    "        text_key=\"text\",\n",
    "    )\n",
    "\n",
    "    retriever = vector_store.as_retriever(\n",
    "        search_type=\"similarity\", search_kwargs={\"k\": k}\n",
    "    )\n",
    "    return retriever"
   ]
  },
  {
   "cell_type": "code",
   "execution_count": 15,
   "id": "2733c6c5",
   "metadata": {},
   "outputs": [],
   "source": [
    "QUESTIONS = df[\"question\"].to_list()\n",
    "GROUND_TRUTH = df[\"correct_answer\"].tolist()"
   ]
  },
  {
   "cell_type": "code",
   "execution_count": 16,
   "id": "64d1f50a",
   "metadata": {},
   "outputs": [
    {
     "data": {
      "application/vnd.jupyter.widget-view+json": {
       "model_id": "7d65366529ee4acdbd9bc7bf25fa814d",
       "version_major": 2,
       "version_minor": 0
      },
      "text/plain": [
       "  0%|          | 0/232 [00:00<?, ?it/s]"
      ]
     },
     "metadata": {},
     "output_type": "display_data"
    },
    {
     "data": {
      "application/vnd.jupyter.widget-view+json": {
       "model_id": "0f273ca2508e417fae382f5abdaf38c3",
       "version_major": 2,
       "version_minor": 0
      },
      "text/plain": [
       "Evaluating:   0%|          | 0/464 [00:00<?, ?it/s]"
      ]
     },
     "metadata": {},
     "output_type": "display_data"
    },
    {
     "name": "stderr",
     "output_type": "stream",
     "text": [
      "Failed to parse output. Returning None.\n"
     ]
    },
    {
     "name": "stdout",
     "output_type": "stream",
     "text": [
      "Result for the text-embedding-ada-002 model: {'context_precision': 0.9267, 'context_recall': 0.8423}\n"
     ]
    },
    {
     "data": {
      "application/vnd.jupyter.widget-view+json": {
       "model_id": "82971625064746b1b3effe54868cc5c3",
       "version_major": 2,
       "version_minor": 0
      },
      "text/plain": [
       "  0%|          | 0/232 [00:00<?, ?it/s]"
      ]
     },
     "metadata": {},
     "output_type": "display_data"
    },
    {
     "data": {
      "application/vnd.jupyter.widget-view+json": {
       "model_id": "6cbe45cf420e4f11992cfb93161a9a22",
       "version_major": 2,
       "version_minor": 0
      },
      "text/plain": [
       "Evaluating:   0%|          | 0/464 [00:00<?, ?it/s]"
      ]
     },
     "metadata": {},
     "output_type": "display_data"
    },
    {
     "name": "stdout",
     "output_type": "stream",
     "text": [
      "Result for the text-embedding-3-small model: {'context_precision': 0.9116, 'context_recall': 0.8806}\n"
     ]
    }
   ],
   "source": [
    "for model in EVAL_EMBEDDING_MODELS:\n",
    "    data = {\"question\": [], \"ground_truth\": [], \"contexts\": []}\n",
    "    data[\"question\"] = QUESTIONS\n",
    "    data[\"ground_truth\"] = GROUND_TRUTH\n",
    "\n",
    "    retriever = get_retriever(model, 2)\n",
    "    # Getting relevant documents for the evaluation dataset\n",
    "    for i in tqdm(range(0, len(QUESTIONS))):\n",
    "        data[\"contexts\"].append(\n",
    "            [doc.page_content for doc in retriever.get_relevant_documents(QUESTIONS[i])]\n",
    "        )\n",
    "    # RAGAS expects a Dataset object\n",
    "    dataset = Dataset.from_dict(data)\n",
    "    # RAGAS runtime settings to avoid hitting OpenAI rate limits\n",
    "    run_config = RunConfig(max_workers=4, max_wait=180)\n",
    "    result = evaluate(\n",
    "        dataset=dataset,\n",
    "        metrics=[context_precision, context_recall],\n",
    "        run_config=run_config,\n",
    "        raise_exceptions=False,\n",
    "    )\n",
    "    print(f\"Result for the {model} model: {result}\")"
   ]
  },
  {
   "cell_type": "markdown",
   "id": "a01417f5",
   "metadata": {},
   "source": [
    "## Step 7: Compare completion models for the generator\n"
   ]
  },
  {
   "cell_type": "code",
   "execution_count": 18,
   "id": "7920a58f",
   "metadata": {},
   "outputs": [],
   "source": [
    "from langchain_openai import ChatOpenAI\n",
    "from langchain_anthropic import ChatAnthropic\n",
    "from langchain_core.prompts import ChatPromptTemplate\n",
    "from langchain_core.runnables import RunnablePassthrough\n",
    "from langchain_core.runnables.base import RunnableSequence\n",
    "from langchain_core.output_parsers import StrOutputParser\n",
    "from ragas.metrics import faithfulness, answer_relevancy"
   ]
  },
  {
   "cell_type": "code",
   "execution_count": 46,
   "id": "44221aa4",
   "metadata": {},
   "outputs": [],
   "source": [
    "def get_rag_chain(retriever: VectorStoreRetriever, model: str) -> RunnableSequence:\n",
    "    \"\"\"\n",
    "    Create a basic RAG chain\n",
    "\n",
    "    Args:\n",
    "        retriever (VectorStoreRetriever): Vector store retriever object\n",
    "        model (str): Chat completion model to use\n",
    "\n",
    "    Returns:\n",
    "        RunnableSequence: A RAG chain\n",
    "    \"\"\"\n",
    "    # Generate context using the retriever, and pass the user question through\n",
    "    retrieve = {\n",
    "        \"context\": retriever\n",
    "        | (lambda docs: \"\\n\\n\".join([d.page_content for d in docs])),\n",
    "        \"question\": RunnablePassthrough(),\n",
    "    }\n",
    "    template = \"\"\"Answer the question based only on the following context: \\\n",
    "    {context}\n",
    "\n",
    "    Question: {question}\n",
    "    \"\"\"\n",
    "    # Defining the chat prompt\n",
    "    prompt = ChatPromptTemplate.from_template(template)\n",
    "    # Defining the model to be used for chat completion\n",
    "    llm = ChatOpenAI(temperature=0, model=model)\n",
    "    # Parse output as a string\n",
    "    parse_output = StrOutputParser()\n",
    "\n",
    "    # Naive RAG chain\n",
    "    rag_chain = retrieve | prompt | llm | parse_output\n",
    "    return rag_chain"
   ]
  },
  {
   "cell_type": "code",
   "execution_count": null,
   "id": "81b685ba",
   "metadata": {},
   "outputs": [
    {
     "data": {
      "application/vnd.jupyter.widget-view+json": {
       "model_id": "c12fb08f0763463e976227cd480d24bc",
       "version_major": 2,
       "version_minor": 0
      },
      "text/plain": [
       "  0%|          | 0/232 [00:00<?, ?it/s]"
      ]
     },
     "metadata": {},
     "output_type": "display_data"
    },
    {
     "data": {
      "application/vnd.jupyter.widget-view+json": {
       "model_id": "09a0b9df043d4804afbc11b6df93994e",
       "version_major": 2,
       "version_minor": 0
      },
      "text/plain": [
       "Evaluating:   0%|          | 0/464 [00:00<?, ?it/s]"
      ]
     },
     "metadata": {},
     "output_type": "display_data"
    },
    {
     "name": "stderr",
     "output_type": "stream",
     "text": [
      "No statements were generated from the answer.\n",
      "No statements were generated from the answer.\n"
     ]
    },
    {
     "name": "stdout",
     "output_type": "stream",
     "text": [
      "Result for the gpt-3.5-turbo-1106 model: {'faithfulness': 0.9578, 'answer_relevancy': 0.9162}\n"
     ]
    },
    {
     "data": {
      "application/vnd.jupyter.widget-view+json": {
       "model_id": "9d52362520374ba0bfac3603e68e9f13",
       "version_major": 2,
       "version_minor": 0
      },
      "text/plain": [
       "  0%|          | 0/232 [00:00<?, ?it/s]"
      ]
     },
     "metadata": {},
     "output_type": "display_data"
    },
    {
     "data": {
      "application/vnd.jupyter.widget-view+json": {
       "model_id": "b4aab79f952743daa45891d91e624ddc",
       "version_major": 2,
       "version_minor": 0
      },
      "text/plain": [
       "Evaluating:   0%|          | 0/464 [00:00<?, ?it/s]"
      ]
     },
     "metadata": {},
     "output_type": "display_data"
    },
    {
     "name": "stderr",
     "output_type": "stream",
     "text": [
      "No statements were generated from the answer.\n",
      "No statements were generated from the answer.\n",
      "No statements were generated from the answer.\n",
      "No statements were generated from the answer.\n"
     ]
    },
    {
     "name": "stdout",
     "output_type": "stream",
     "text": [
      "Result for the gpt-3.5-turbo model: {'faithfulness': 0.9721, 'answer_relevancy': 0.9131}\n"
     ]
    }
   ],
   "source": [
    "for model in [\"gpt-3.5-turbo-1106\", \"gpt-3.5-turbo\"]:\n",
    "    data = {\"question\": [], \"ground_truth\": [], \"contexts\": [], \"answer\": []}\n",
    "    data[\"question\"] = QUESTIONS\n",
    "    data[\"ground_truth\"] = GROUND_TRUTH\n",
    "    # Using the best embedding model from the retriever evaluation\n",
    "    retriever = get_retriever(\"text-embedding-3-small\", 2)\n",
    "    rag_chain = get_rag_chain(retriever, model)\n",
    "    for i in tqdm(range(0, len(QUESTIONS))):\n",
    "        question = QUESTIONS[i]\n",
    "        data[\"answer\"].append(rag_chain.invoke(question))\n",
    "        data[\"contexts\"].append(\n",
    "            [doc.page_content for doc in retriever.get_relevant_documents(question)]\n",
    "        )\n",
    "    # RAGAS expects a Dataset object\n",
    "    dataset = Dataset.from_dict(data)\n",
    "    # RAGAS runtime settings to avoid hitting OpenAI rate limits\n",
    "    run_config = RunConfig(max_workers=4, max_wait=180)\n",
    "    result = evaluate(\n",
    "        dataset=dataset,\n",
    "        metrics=[faithfulness, answer_relevancy],\n",
    "        run_config=run_config,\n",
    "        raise_exceptions=False,\n",
    "    )\n",
    "    print(f\"Result for the {model} model: {result}\")"
   ]
  },
  {
   "cell_type": "markdown",
   "id": "fa0987b0",
   "metadata": {},
   "source": [
    "## Step 8: Measure overall performance of the RAG system\n"
   ]
  },
  {
   "cell_type": "code",
   "execution_count": 44,
   "id": "d2634bef",
   "metadata": {},
   "outputs": [],
   "source": [
    "from ragas.metrics import answer_similarity, answer_correctness"
   ]
  },
  {
   "cell_type": "code",
   "execution_count": 63,
   "id": "2df51425",
   "metadata": {},
   "outputs": [
    {
     "data": {
      "application/vnd.jupyter.widget-view+json": {
       "model_id": "a0bc14b0a63b4a7b8f1772ad33a174c5",
       "version_major": 2,
       "version_minor": 0
      },
      "text/plain": [
       "  0%|          | 0/232 [00:00<?, ?it/s]"
      ]
     },
     "metadata": {},
     "output_type": "display_data"
    },
    {
     "data": {
      "application/vnd.jupyter.widget-view+json": {
       "model_id": "3feabe25aea94f10acb2790740a9db3d",
       "version_major": 2,
       "version_minor": 0
      },
      "text/plain": [
       "Evaluating:   0%|          | 0/464 [00:00<?, ?it/s]"
      ]
     },
     "metadata": {},
     "output_type": "display_data"
    },
    {
     "name": "stdout",
     "output_type": "stream",
     "text": [
      "Overall metrics: {'answer_similarity': 0.8886, 'answer_correctness': 0.5992}\n"
     ]
    }
   ],
   "source": [
    "data = {\"question\": [], \"ground_truth\": [], \"answer\": []}\n",
    "data[\"question\"] = QUESTIONS\n",
    "data[\"ground_truth\"] = GROUND_TRUTH\n",
    "# Using the best embedding model from the retriever evaluation\n",
    "retriever = get_retriever(\"text-embedding-3-small\", 2)\n",
    "# Using the best completion model from the generator evaluation\n",
    "rag_chain = get_rag_chain(retriever, \"gpt-3.5-turbo\")\n",
    "for i in tqdm(range(0, len(QUESTIONS))):\n",
    "    question = QUESTIONS[i]\n",
    "    data[\"answer\"].append(rag_chain.invoke(question))\n",
    "\n",
    "dataset = Dataset.from_dict(data)\n",
    "run_config = RunConfig(max_workers=4, max_wait=180)\n",
    "result = evaluate(\n",
    "    dataset=dataset,\n",
    "    metrics=[answer_similarity, answer_correctness],\n",
    "    run_config=run_config,\n",
    "    raise_exceptions=False,\n",
    ")\n",
    "print(f\"Overall metrics: {result}\")"
   ]
  },
  {
   "cell_type": "code",
   "execution_count": 64,
   "id": "693d6962",
   "metadata": {},
   "outputs": [],
   "source": [
    "result_df = result.to_pandas()"
   ]
  },
  {
   "cell_type": "code",
   "execution_count": 65,
   "id": "fc41aaf4",
   "metadata": {},
   "outputs": [
    {
     "data": {
      "text/html": [
       "<div>\n",
       "<style scoped>\n",
       "    .dataframe tbody tr th:only-of-type {\n",
       "        vertical-align: middle;\n",
       "    }\n",
       "\n",
       "    .dataframe tbody tr th {\n",
       "        vertical-align: top;\n",
       "    }\n",
       "\n",
       "    .dataframe thead th {\n",
       "        text-align: right;\n",
       "    }\n",
       "</style>\n",
       "<table border=\"1\" class=\"dataframe\">\n",
       "  <thead>\n",
       "    <tr style=\"text-align: right;\">\n",
       "      <th></th>\n",
       "      <th>question</th>\n",
       "      <th>ground_truth</th>\n",
       "      <th>answer</th>\n",
       "      <th>answer_similarity</th>\n",
       "      <th>answer_correctness</th>\n",
       "    </tr>\n",
       "  </thead>\n",
       "  <tbody>\n",
       "    <tr>\n",
       "      <th>0</th>\n",
       "      <td>HOW AFRICAN AMERICANS WERE IMMIGRATED TO THE US</td>\n",
       "      <td>As such, African immigrants are to be distingu...</td>\n",
       "      <td>African Americans were involuntarily brought f...</td>\n",
       "      <td>0.908136</td>\n",
       "      <td>0.602034</td>\n",
       "    </tr>\n",
       "    <tr>\n",
       "      <th>1</th>\n",
       "      <td>what are points on a mortgage</td>\n",
       "      <td>Points, sometimes also called a \"discount poin...</td>\n",
       "      <td>Points on a mortgage are a form of pre-paid in...</td>\n",
       "      <td>0.914100</td>\n",
       "      <td>0.528527</td>\n",
       "    </tr>\n",
       "    <tr>\n",
       "      <th>2</th>\n",
       "      <td>how does interlibrary loan work</td>\n",
       "      <td>The user makes a request with their local libr...</td>\n",
       "      <td>Interlibrary loan works by allowing patrons of...</td>\n",
       "      <td>0.885344</td>\n",
       "      <td>0.864202</td>\n",
       "    </tr>\n",
       "    <tr>\n",
       "      <th>3</th>\n",
       "      <td>WHAT IS A FY QUARTER</td>\n",
       "      <td>A fiscal year (or financial year, or sometimes...</td>\n",
       "      <td>A FY quarter refers to a quarter within a fina...</td>\n",
       "      <td>0.872399</td>\n",
       "      <td>0.718098</td>\n",
       "    </tr>\n",
       "    <tr>\n",
       "      <th>4</th>\n",
       "      <td>who wrote a rose is a rose is a rose</td>\n",
       "      <td>The sentence \"Rose is a rose is a rose is a ro...</td>\n",
       "      <td>Gertrude Stein</td>\n",
       "      <td>0.868273</td>\n",
       "      <td>0.592068</td>\n",
       "    </tr>\n",
       "  </tbody>\n",
       "</table>\n",
       "</div>"
      ],
      "text/plain": [
       "                                          question  \\\n",
       "0  HOW AFRICAN AMERICANS WERE IMMIGRATED TO THE US   \n",
       "1                    what are points on a mortgage   \n",
       "2                  how does interlibrary loan work   \n",
       "3                             WHAT IS A FY QUARTER   \n",
       "4             who wrote a rose is a rose is a rose   \n",
       "\n",
       "                                        ground_truth  \\\n",
       "0  As such, African immigrants are to be distingu...   \n",
       "1  Points, sometimes also called a \"discount poin...   \n",
       "2  The user makes a request with their local libr...   \n",
       "3  A fiscal year (or financial year, or sometimes...   \n",
       "4  The sentence \"Rose is a rose is a rose is a ro...   \n",
       "\n",
       "                                              answer  answer_similarity  \\\n",
       "0  African Americans were involuntarily brought f...           0.908136   \n",
       "1  Points on a mortgage are a form of pre-paid in...           0.914100   \n",
       "2  Interlibrary loan works by allowing patrons of...           0.885344   \n",
       "3  A FY quarter refers to a quarter within a fina...           0.872399   \n",
       "4                                     Gertrude Stein           0.868273   \n",
       "\n",
       "   answer_correctness  \n",
       "0            0.602034  \n",
       "1            0.528527  \n",
       "2            0.864202  \n",
       "3            0.718098  \n",
       "4            0.592068  "
      ]
     },
     "execution_count": 65,
     "metadata": {},
     "output_type": "execute_result"
    }
   ],
   "source": [
    "result_df.head(5)"
   ]
  },
  {
   "cell_type": "code",
   "execution_count": 90,
   "id": "9ad440d0",
   "metadata": {},
   "outputs": [
    {
     "data": {
      "image/png": "[encoded data removed]",
      "text/plain": [
       "<Figure size 1000x800 with 2 Axes>"
      ]
     },
     "metadata": {},
     "output_type": "display_data"
    }
   ],
   "source": [
    "import seaborn as sns\n",
    "import matplotlib.pyplot as plt\n",
    "\n",
    "plt.figure(figsize=(10, 8))\n",
    "sns.heatmap(\n",
    "    result_df[1:10].set_index(\"question\")[[\"answer_similarity\", \"answer_correctness\"]],\n",
    "    annot=True,\n",
    "    cmap=\"flare\",\n",
    ")\n",
    "plt.show()"
   ]
  }
 ],
 "metadata": {
  "kernelspec": {
   "display_name": "Python 3",
   "language": "python",
   "name": "python3"
  },
  "language_info": {
   "codemirror_mode": {
    "name": "ipython",
    "version": 3
   },
   "file_extension": ".py",
   "mimetype": "text/x-python",
   "name": "python",
   "nbconvert_exporter": "python",
   "pygments_lexer": "ipython3",
   "version": "3.12.1"
  }
 },
 "nbformat": 4,
 "nbformat_minor": 5
}
