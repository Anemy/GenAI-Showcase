{
 "cells": [
  {
   "cell_type": "markdown",
   "id": "ff0f0aaa-ece2-4ff4-b3eb-d6d2e9db58b1",
   "metadata": {},
   "source": [
    "## Step 1: Install required libraries"
   ]
  },
  {
   "cell_type": "code",
   "execution_count": 1,
   "id": "73ee11f3-297b-42f0-817c-7f299a3ee53c",
   "metadata": {},
   "outputs": [
    {
     "name": "stdout",
     "output_type": "stream",
     "text": [
      "\n",
      "\u001b[1m[\u001b[0m\u001b[34;49mnotice\u001b[0m\u001b[1;39;49m]\u001b[0m\u001b[39;49m A new release of pip is available: \u001b[0m\u001b[31;49m23.2.1\u001b[0m\u001b[39;49m -> \u001b[0m\u001b[32;49m24.2\u001b[0m\n",
      "\u001b[1m[\u001b[0m\u001b[34;49mnotice\u001b[0m\u001b[1;39;49m]\u001b[0m\u001b[39;49m To update, run: \u001b[0m\u001b[32;49mpip install --upgrade pip\u001b[0m\n"
     ]
    }
   ],
   "source": [
    "!pip install -qU datasets llama-index llama-index-llms-openai llama-index-vector-stores-mongodb pymongo arize-phoenix \"openai>=1\" \"openinference-instrumentation-llama-index>=2.0.0\""
   ]
  },
  {
   "cell_type": "markdown",
   "id": "b30f2d74-30de-4099-a253-f0c5e889887c",
   "metadata": {},
   "source": [
    "## Step 2: Setup prerequisities"
   ]
  },
  {
   "cell_type": "code",
   "execution_count": 2,
   "id": "efeb36d8-eb02-45e2-9817-687ec479b288",
   "metadata": {},
   "outputs": [],
   "source": [
    "import os\n",
    "import getpass\n",
    "from pymongo import MongoClient"
   ]
  },
  {
   "cell_type": "code",
   "execution_count": 3,
   "id": "88c09698-fada-461c-82db-66fc4befaa5e",
   "metadata": {},
   "outputs": [
    {
     "name": "stdin",
     "output_type": "stream",
     "text": [
      "Enter your OpenAI API key:  ········\n"
     ]
    }
   ],
   "source": [
    "os.environ[\"OPENAI_API_KEY\"] = getpass.getpass(\"Enter your OpenAI API key: \")"
   ]
  },
  {
   "cell_type": "code",
   "execution_count": 4,
   "id": "d81142de-b074-4f5a-8827-5788ea1a0a15",
   "metadata": {},
   "outputs": [
    {
     "name": "stdin",
     "output_type": "stream",
     "text": [
      "Enter your Phoenix API key:  ········\n"
     ]
    }
   ],
   "source": [
    "os.environ[\"PHOENIX_API_KEY\"] = getpass.getpass(\"Enter your Phoenix API key: \")"
   ]
  },
  {
   "cell_type": "code",
   "execution_count": 5,
   "id": "feb2ede9-c095-440b-bd5b-da45783a3bf7",
   "metadata": {},
   "outputs": [
    {
     "name": "stdin",
     "output_type": "stream",
     "text": [
      "Enter your MongoDB URI:  ········\n"
     ]
    }
   ],
   "source": [
    "MONGODB_URI = getpass.getpass(\"Enter your MongoDB URI: \")\n",
    "mongodb_client = MongoClient(\n",
    "    MONGODB_URI, appname=\"devrel.content.retrieval_strategies_llamaindex\"\n",
    ")"
   ]
  },
  {
   "cell_type": "markdown",
   "id": "fde9acb9-49a2-48a2-a5d8-3eb16e052995",
   "metadata": {},
   "source": [
    "## Step 3: Setup tracing"
   ]
  },
  {
   "cell_type": "code",
   "execution_count": 6,
   "id": "fbcc83f9-ffbd-42cc-a179-dac994de1959",
   "metadata": {},
   "outputs": [],
   "source": [
    "from openinference.instrumentation.llama_index import LlamaIndexInstrumentor\n",
    "from phoenix.otel import register\n",
    "import phoenix as px"
   ]
  },
  {
   "cell_type": "code",
   "execution_count": 7,
   "id": "6c46f4ff-fab3-475c-a550-965ee411246c",
   "metadata": {},
   "outputs": [
    {
     "name": "stdout",
     "output_type": "stream",
     "text": [
      "🔭 OpenTelemetry Tracing Details 🔭\n",
      "|  Phoenix Project: default\n",
      "|  Span Processor: SimpleSpanProcessor\n",
      "|  Collector Endpoint: https://app.phoenix.arize.com/v1/traces\n",
      "|  Transport: HTTP\n",
      "|  Transport Headers: {'api_key': '****', 'authorization': '****'}\n",
      "|  \n",
      "|  Using a default SpanProcessor. `add_span_processor` will overwrite this default.\n",
      "|  \n",
      "|  `register` has set this TracerProvider as the global OpenTelemetry default.\n",
      "|  To disable this behavior, call `register` with `set_global_tracer_provider=False`.\n",
      "\n"
     ]
    },
    {
     "name": "stderr",
     "output_type": "stream",
     "text": [
      "/Users/apoorva.joshi/.pyenv/versions/3.12.1/lib/python3.12/site-packages/phoenix/utilities/client.py:25: UserWarning: The Phoenix server has an unknown version and may have compatibility issues.\n",
      "  warnings.warn(\n"
     ]
    }
   ],
   "source": [
    "os.environ[\"PHOENIX_CLIENT_HEADERS\"] = f\"api_key={os.environ['PHOENIX_API_KEY']}\"\n",
    "os.environ[\"PHOENIX_COLLECTOR_ENDPOINT\"] = \"https://app.phoenix.arize.com\"\n",
    "tracer_provider = register()\n",
    "LlamaIndexInstrumentor().instrument(tracer_provider=tracer_provider, skip_dep_check=True)\n",
    "px_client = px.Client()"
   ]
  },
  {
   "cell_type": "markdown",
   "id": "da8f5142-67bd-49dc-b202-96043a29394a",
   "metadata": {},
   "source": [
    "## Step 4: Load the dataset"
   ]
  },
  {
   "cell_type": "code",
   "execution_count": 8,
   "id": "45346c07-8e91-4df6-b546-8701d82dd47b",
   "metadata": {},
   "outputs": [],
   "source": [
    "from datasets import load_dataset\n",
    "import pandas as pd\n",
    "from llama_index.core import Document"
   ]
  },
  {
   "cell_type": "code",
   "execution_count": 9,
   "id": "67c714f0-9034-4980-bb42-390e5961c274",
   "metadata": {},
   "outputs": [],
   "source": [
    "data = load_dataset(\"BeIR/scifact-generated-queries\", split=\"train\", streaming=True)\n",
    "data_head = data.take(1000)\n",
    "df = pd.DataFrame(data_head)"
   ]
  },
  {
   "cell_type": "code",
   "execution_count": 10,
   "id": "40207a34-732f-479a-896b-df0715268e75",
   "metadata": {},
   "outputs": [
    {
     "data": {
      "text/html": [
       "<div>\n",
       "<style scoped>\n",
       "    .dataframe tbody tr th:only-of-type {\n",
       "        vertical-align: middle;\n",
       "    }\n",
       "\n",
       "    .dataframe tbody tr th {\n",
       "        vertical-align: top;\n",
       "    }\n",
       "\n",
       "    .dataframe thead th {\n",
       "        text-align: right;\n",
       "    }\n",
       "</style>\n",
       "<table border=\"1\" class=\"dataframe\">\n",
       "  <thead>\n",
       "    <tr style=\"text-align: right;\">\n",
       "      <th></th>\n",
       "      <th>_id</th>\n",
       "      <th>title</th>\n",
       "      <th>text</th>\n",
       "      <th>query</th>\n",
       "    </tr>\n",
       "  </thead>\n",
       "  <tbody>\n",
       "    <tr>\n",
       "      <th>0</th>\n",
       "      <td>4983</td>\n",
       "      <td>Microstructural development of human newborn c...</td>\n",
       "      <td>Alterations of the architecture of cerebral wh...</td>\n",
       "      <td>what is the diffusion coefficient of cerebral ...</td>\n",
       "    </tr>\n",
       "    <tr>\n",
       "      <th>1</th>\n",
       "      <td>4983</td>\n",
       "      <td>Microstructural development of human newborn c...</td>\n",
       "      <td>Alterations of the architecture of cerebral wh...</td>\n",
       "      <td>what is diffusion tensor</td>\n",
       "    </tr>\n",
       "    <tr>\n",
       "      <th>2</th>\n",
       "      <td>4983</td>\n",
       "      <td>Microstructural development of human newborn c...</td>\n",
       "      <td>Alterations of the architecture of cerebral wh...</td>\n",
       "      <td>what is the diffusion coefficient of the cereb...</td>\n",
       "    </tr>\n",
       "    <tr>\n",
       "      <th>3</th>\n",
       "      <td>5836</td>\n",
       "      <td>Induction of myelodysplasia by myeloid-derived...</td>\n",
       "      <td>Myelodysplastic syndromes (MDS) are age-depend...</td>\n",
       "      <td>which type of hematopoiesis is characterized b...</td>\n",
       "    </tr>\n",
       "    <tr>\n",
       "      <th>4</th>\n",
       "      <td>5836</td>\n",
       "      <td>Induction of myelodysplasia by myeloid-derived...</td>\n",
       "      <td>Myelodysplastic syndromes (MDS) are age-depend...</td>\n",
       "      <td>which cell types have hematopoiesis</td>\n",
       "    </tr>\n",
       "  </tbody>\n",
       "</table>\n",
       "</div>"
      ],
      "text/plain": [
       "    _id                                              title  \\\n",
       "0  4983  Microstructural development of human newborn c...   \n",
       "1  4983  Microstructural development of human newborn c...   \n",
       "2  4983  Microstructural development of human newborn c...   \n",
       "3  5836  Induction of myelodysplasia by myeloid-derived...   \n",
       "4  5836  Induction of myelodysplasia by myeloid-derived...   \n",
       "\n",
       "                                                text  \\\n",
       "0  Alterations of the architecture of cerebral wh...   \n",
       "1  Alterations of the architecture of cerebral wh...   \n",
       "2  Alterations of the architecture of cerebral wh...   \n",
       "3  Myelodysplastic syndromes (MDS) are age-depend...   \n",
       "4  Myelodysplastic syndromes (MDS) are age-depend...   \n",
       "\n",
       "                                               query  \n",
       "0  what is the diffusion coefficient of cerebral ...  \n",
       "1                           what is diffusion tensor  \n",
       "2  what is the diffusion coefficient of the cereb...  \n",
       "3  which type of hematopoiesis is characterized b...  \n",
       "4                which cell types have hematopoiesis  "
      ]
     },
     "execution_count": 10,
     "metadata": {},
     "output_type": "execute_result"
    }
   ],
   "source": [
    "df.head()"
   ]
  },
  {
   "cell_type": "code",
   "execution_count": 11,
   "id": "67a97d07-1c49-4d57-a9d2-c4b7d3794cfd",
   "metadata": {},
   "outputs": [
    {
     "data": {
      "text/plain": [
       "1000"
      ]
     },
     "execution_count": 11,
     "metadata": {},
     "output_type": "execute_result"
    }
   ],
   "source": [
    "len(df)"
   ]
  },
  {
   "cell_type": "code",
   "execution_count": 12,
   "id": "8188d791-9bbc-4a03-a22a-1022f20a57f3",
   "metadata": {},
   "outputs": [],
   "source": [
    "queries = df[\"query\"].tolist()"
   ]
  },
  {
   "cell_type": "code",
   "execution_count": 13,
   "id": "d9b37edf-adc8-46dc-977a-44d1c072bbfd",
   "metadata": {},
   "outputs": [],
   "source": [
    "df.drop(columns=[\"_id\", \"query\"], inplace=True)"
   ]
  },
  {
   "cell_type": "code",
   "execution_count": 53,
   "id": "a022053a-500b-4c14-ac9c-66af6e1706f0",
   "metadata": {},
   "outputs": [],
   "source": [
    "df.drop_duplicates(inplace=True)"
   ]
  },
  {
   "cell_type": "code",
   "execution_count": 62,
   "id": "2663d5ec-67a6-4430-978a-3b7610e27545",
   "metadata": {},
   "outputs": [],
   "source": [
    "documents = [Document(text=row[\"text\"], metadata={\"title\": row[\"title\"]}) for _, row in df.iterrows()]"
   ]
  },
  {
   "cell_type": "code",
   "execution_count": 63,
   "id": "e9139376-1eac-416e-bad8-1ea09473eb0b",
   "metadata": {},
   "outputs": [
    {
     "data": {
      "text/plain": [
       "337"
      ]
     },
     "execution_count": 63,
     "metadata": {},
     "output_type": "execute_result"
    }
   ],
   "source": [
    "len(documents)"
   ]
  },
  {
   "cell_type": "markdown",
   "id": "81784c4f-4a5c-49cf-8a62-76a6f84bafba",
   "metadata": {},
   "source": [
    "## Step 5: Create MongoDB Atlas Vector Store"
   ]
  },
  {
   "cell_type": "code",
   "execution_count": 64,
   "id": "4caece92-04d6-4041-9322-70dff14ae983",
   "metadata": {},
   "outputs": [],
   "source": [
    "from llama_index.llms.openai import OpenAI\n",
    "from llama_index.embeddings.openai import OpenAIEmbedding\n",
    "from llama_index.vector_stores.mongodb import MongoDBAtlasVectorSearch\n",
    "from llama_index.core.settings import Settings\n",
    "from llama_index.core import VectorStoreIndex, StorageContext\n",
    "from pymongo.operations import SearchIndexModel"
   ]
  },
  {
   "cell_type": "code",
   "execution_count": 65,
   "id": "43e7515b-dffc-4c2a-9932-d474e4f35692",
   "metadata": {},
   "outputs": [],
   "source": [
    "Settings.llm = OpenAI()\n",
    "Settings.embed_model = OpenAIEmbedding(model=\"text-embedding-3-small\")\n",
    "Settings.chunk_size = 200\n",
    "Settings.chunk_overlap = 30"
   ]
  },
  {
   "cell_type": "code",
   "execution_count": 66,
   "id": "94a1a27a-3cad-4280-9b3a-82b2976c257f",
   "metadata": {},
   "outputs": [],
   "source": [
    "VS_INDEX_NAME = \"vector_index\"\n",
    "FTS_INDEX_NAME = \"fts_index\"\n",
    "DB_NAME = \"llamaindex\"\n",
    "COLLECTION_NAME = \"retrieval_comp\"\n",
    "collection = mongodb_client[DB_NAME][COLLECTION_NAME]\n",
    "collection.drop()"
   ]
  },
  {
   "cell_type": "code",
   "execution_count": 67,
   "id": "24312248-4822-4dc6-a44d-c20ac3d26724",
   "metadata": {},
   "outputs": [
    {
     "data": {
      "application/vnd.jupyter.widget-view+json": {
       "model_id": "e4990120d87842b8a872ae5f1b93db97",
       "version_major": 2,
       "version_minor": 0
      },
      "text/plain": [
       "Parsing nodes:   0%|          | 0/337 [00:00<?, ?it/s]"
      ]
     },
     "metadata": {},
     "output_type": "display_data"
    },
    {
     "data": {
      "application/vnd.jupyter.widget-view+json": {
       "model_id": "7a3a7f00e33743cfa118710af544d541",
       "version_major": 2,
       "version_minor": 0
      },
      "text/plain": [
       "Generating embeddings:   0%|          | 0/807 [00:00<?, ?it/s]"
      ]
     },
     "metadata": {},
     "output_type": "display_data"
    }
   ],
   "source": [
    "vector_store = MongoDBAtlasVectorSearch(\n",
    "    mongodb_client,\n",
    "    db_name = DB_NAME,\n",
    "    collection_name = COLLECTION_NAME,\n",
    "    vector_index_name = VS_INDEX_NAME,\n",
    "    fulltext_index_name = FTS_INDEX_NAME\n",
    ")\n",
    "vector_store_context = StorageContext.from_defaults(vector_store=vector_store)\n",
    "vector_store_index = VectorStoreIndex.from_documents(\n",
    "   documents, storage_context=vector_store_context, show_progress=True\n",
    ")"
   ]
  },
  {
   "cell_type": "code",
   "execution_count": 68,
   "id": "c2795840-125d-43a6-b738-ce04d1f8459e",
   "metadata": {},
   "outputs": [],
   "source": [
    "vs_model = SearchIndexModel(\n",
    "    definition={\n",
    "        \"fields\": [\n",
    "            {\n",
    "                \"type\": \"vector\",\n",
    "                \"path\": \"embedding\",\n",
    "                \"numDimensions\": 1536,\n",
    "                \"similarity\": \"cosine\",\n",
    "            }\n",
    "        ]\n",
    "    },\n",
    "    name=VS_INDEX_NAME,\n",
    "    type=\"vectorSearch\"\n",
    ")"
   ]
  },
  {
   "cell_type": "code",
   "execution_count": 69,
   "id": "c9cc6acd-62dd-4581-b839-920a2f31f241",
   "metadata": {},
   "outputs": [],
   "source": [
    "fts_model = SearchIndexModel(\n",
    "    definition={\n",
    "        \"mappings\": {\n",
    "            \"dynamic\": False,\n",
    "            \"fields\": {\n",
    "                \"text\": {\"type\": \"string\"}\n",
    "            }\n",
    "        }\n",
    "    },\n",
    "    name=FTS_INDEX_NAME,\n",
    "    type=\"search\"\n",
    ")"
   ]
  },
  {
   "cell_type": "code",
   "execution_count": 70,
   "id": "82bc60b8-4d5a-4138-9167-26844231f8e7",
   "metadata": {},
   "outputs": [
    {
     "data": {
      "text/plain": [
       "['vector_index', 'fts_index']"
      ]
     },
     "execution_count": 70,
     "metadata": {},
     "output_type": "execute_result"
    }
   ],
   "source": [
    "collection.create_search_indexes(models=[vs_model, fts_model])"
   ]
  },
  {
   "cell_type": "code",
   "execution_count": 71,
   "id": "8ea2bf16-8925-4497-a278-e1c3a36606c9",
   "metadata": {},
   "outputs": [],
   "source": [
    "query_engine = vector_store_index.as_query_engine(similarity_top_k=5)"
   ]
  },
  {
   "cell_type": "code",
   "execution_count": 72,
   "id": "81443bd8-6ec4-483a-ae80-9497397e52f4",
   "metadata": {},
   "outputs": [],
   "source": [
    "response = query_engine.query(queries[0])"
   ]
  },
  {
   "cell_type": "code",
   "execution_count": 73,
   "id": "68a7feaa-745f-45cb-ba3a-ff6e85185280",
   "metadata": {},
   "outputs": [
    {
     "data": {
      "text/plain": [
       "[NodeWithScore(node=TextNode(id_='a6964f73-0ada-4411-a425-fc8de915b7c4', embedding=None, metadata={'title': 'Microstructural development of human newborn cerebral white matter assessed in vivo by diffusion tensor magnetic resonance imaging.'}, excluded_embed_metadata_keys=[], excluded_llm_metadata_keys=[], relationships={<NodeRelationship.SOURCE: '1'>: RelatedNodeInfo(node_id='058bf794-5bc9-48f4-a9f3-08baa0061356', node_type=<ObjectType.DOCUMENT: '4'>, metadata={'title': 'Microstructural development of human newborn cerebral white matter assessed in vivo by diffusion tensor magnetic resonance imaging.'}, hash='ebcda3465172f2db2cd9c2b170681f76aefecfa8308088030e5c1db9d72e5a25'), <NodeRelationship.PREVIOUS: '2'>: RelatedNodeInfo(node_id='6be52a55-ca6b-434a-9ba9-afd596c1d56d', node_type=<ObjectType.TEXT: '1'>, metadata={'title': 'Microstructural development of human newborn cerebral white matter assessed in vivo by diffusion tensor magnetic resonance imaging.'}, hash='0b2596c57747d8bfa4d97357ca68d335f85ac6d586dccfab2f86ce82a883dcf4'), <NodeRelationship.NEXT: '3'>: RelatedNodeInfo(node_id='572f63df-aee5-4505-ac45-be98c1c7332f', node_type=<ObjectType.TEXT: '1'>, metadata={}, hash='a3ada128db65bff247d9ad9e125adc926f7010fb6c7a461e42c5be929ad736b6')}, text='In the posterior limb of the internal capsule, the mean apparent diffusion coefficients at both times were similar (1.2 versus 1.1 microm2/ms). Relative anisotropy was higher the closer birth was to term with greater absolute values in the internal capsule than in the central white matter.', mimetype='text/plain', start_char_idx=781, end_char_idx=1071, text_template='{metadata_str}\\n\\n{content}', metadata_template='{key}: {value}', metadata_seperator='\\n'), score=0.8233431577682495),\n",
       " NodeWithScore(node=TextNode(id_='6be52a55-ca6b-434a-9ba9-afd596c1d56d', embedding=None, metadata={'title': 'Microstructural development of human newborn cerebral white matter assessed in vivo by diffusion tensor magnetic resonance imaging.'}, excluded_embed_metadata_keys=[], excluded_llm_metadata_keys=[], relationships={<NodeRelationship.SOURCE: '1'>: RelatedNodeInfo(node_id='058bf794-5bc9-48f4-a9f3-08baa0061356', node_type=<ObjectType.DOCUMENT: '4'>, metadata={'title': 'Microstructural development of human newborn cerebral white matter assessed in vivo by diffusion tensor magnetic resonance imaging.'}, hash='ebcda3465172f2db2cd9c2b170681f76aefecfa8308088030e5c1db9d72e5a25'), <NodeRelationship.NEXT: '3'>: RelatedNodeInfo(node_id='a6964f73-0ada-4411-a425-fc8de915b7c4', node_type=<ObjectType.TEXT: '1'>, metadata={}, hash='0ecec8d06fecfe079251041729b7ae5b2660859d149bdf910a18be2cf97fcc8b')}, text='Alterations of the architecture of cerebral white matter in the developing human brain can affect cortical development and result in functional disabilities. A line scan diffusion-weighted magnetic resonance imaging (MRI) sequence with diffusion tensor analysis was applied to measure the apparent diffusion coefficient, to calculate relative anisotropy, and to delineate three-dimensional fiber architecture in cerebral white matter in preterm (n = 17) and full-term infants (n = 7). To assess effects of prematurity on cerebral white matter development, early gestation preterm infants (n = 10) were studied a second time at term. In the central white matter the mean apparent diffusion coefficient at 28 wk was high, 1.8 microm2/ms, and decreased toward term to 1.2 microm2/ms.', mimetype='text/plain', start_char_idx=0, end_char_idx=780, text_template='{metadata_str}\\n\\n{content}', metadata_template='{key}: {value}', metadata_seperator='\\n'), score=0.8033807277679443),\n",
       " NodeWithScore(node=TextNode(id_='572f63df-aee5-4505-ac45-be98c1c7332f', embedding=None, metadata={'title': 'Microstructural development of human newborn cerebral white matter assessed in vivo by diffusion tensor magnetic resonance imaging.'}, excluded_embed_metadata_keys=[], excluded_llm_metadata_keys=[], relationships={<NodeRelationship.SOURCE: '1'>: RelatedNodeInfo(node_id='058bf794-5bc9-48f4-a9f3-08baa0061356', node_type=<ObjectType.DOCUMENT: '4'>, metadata={'title': 'Microstructural development of human newborn cerebral white matter assessed in vivo by diffusion tensor magnetic resonance imaging.'}, hash='ebcda3465172f2db2cd9c2b170681f76aefecfa8308088030e5c1db9d72e5a25'), <NodeRelationship.PREVIOUS: '2'>: RelatedNodeInfo(node_id='a6964f73-0ada-4411-a425-fc8de915b7c4', node_type=<ObjectType.TEXT: '1'>, metadata={'title': 'Microstructural development of human newborn cerebral white matter assessed in vivo by diffusion tensor magnetic resonance imaging.'}, hash='5ec68e048e70508ca522f45cec0b6c8f81e923dafbb8463663ea1a332e82914b'), <NodeRelationship.NEXT: '3'>: RelatedNodeInfo(node_id='a0b97e2a-a4c2-44b3-8404-2c5d769dee42', node_type=<ObjectType.TEXT: '1'>, metadata={}, hash='84d35d0ea6afad4de8116411980c12a224f6bd763ce5da4a7506a1f57200f359')}, text='Relative anisotropy was higher the closer birth was to term with greater absolute values in the internal capsule than in the central white matter. Preterm infants at term showed higher mean diffusion coefficients in the central white matter (1.4 +/- 0.24 versus 1.15 +/- 0.09 microm2/ms, p = 0.016) and lower relative anisotropy in both areas compared with full-term infants (white matter, 10.9 +/- 0.6 versus 22.9 +/- 3.0%, p = 0.001; internal capsule, 24.0 +/- 4.44 versus 33.1 +/- 0.6% p = 0.006).', mimetype='text/plain', start_char_idx=925, end_char_idx=1425, text_template='{metadata_str}\\n\\n{content}', metadata_template='{key}: {value}', metadata_seperator='\\n'), score=0.7998383045196533),\n",
       " NodeWithScore(node=TextNode(id_='a0b97e2a-a4c2-44b3-8404-2c5d769dee42', embedding=None, metadata={'title': 'Microstructural development of human newborn cerebral white matter assessed in vivo by diffusion tensor magnetic resonance imaging.'}, excluded_embed_metadata_keys=[], excluded_llm_metadata_keys=[], relationships={<NodeRelationship.SOURCE: '1'>: RelatedNodeInfo(node_id='058bf794-5bc9-48f4-a9f3-08baa0061356', node_type=<ObjectType.DOCUMENT: '4'>, metadata={'title': 'Microstructural development of human newborn cerebral white matter assessed in vivo by diffusion tensor magnetic resonance imaging.'}, hash='ebcda3465172f2db2cd9c2b170681f76aefecfa8308088030e5c1db9d72e5a25'), <NodeRelationship.PREVIOUS: '2'>: RelatedNodeInfo(node_id='572f63df-aee5-4505-ac45-be98c1c7332f', node_type=<ObjectType.TEXT: '1'>, metadata={'title': 'Microstructural development of human newborn cerebral white matter assessed in vivo by diffusion tensor magnetic resonance imaging.'}, hash='fa846a62b3482169e936675055a9087e1810df35925c983122fc92b6aeea5d75')}, text='Nonmyelinated fibers in the corpus callosum were visible by diffusion tensor MRI as early as 28 wk; full-term and preterm infants at term showed marked differences in white matter fiber organization. The data indicate that quantitative assessment of water diffusion by diffusion tensor MRI provides insight into microstructural development in cerebral white matter in living infants.', mimetype='text/plain', start_char_idx=1426, end_char_idx=1809, text_template='{metadata_str}\\n\\n{content}', metadata_template='{key}: {value}', metadata_seperator='\\n'), score=0.7882698774337769),\n",
       " NodeWithScore(node=TextNode(id_='c038e771-a707-4fff-8bd6-3e1bcfa181dc', embedding=None, metadata={'title': 'Alterations of white matter integrity in adults with major depressive disorder: a magnetic resonance imaging study.'}, excluded_embed_metadata_keys=[], excluded_llm_metadata_keys=[], relationships={<NodeRelationship.SOURCE: '1'>: RelatedNodeInfo(node_id='5c2901e4-9e5e-4919-9d81-ae8caa7d8b9e', node_type=<ObjectType.DOCUMENT: '4'>, metadata={'title': 'Alterations of white matter integrity in adults with major depressive disorder: a magnetic resonance imaging study.'}, hash='2772bb1d4dbcac1e00dff640719153a291ff5e3e4dc387f231ac2f0bcf802273'), <NodeRelationship.PREVIOUS: '2'>: RelatedNodeInfo(node_id='4187928a-00c2-4d24-9ca4-f1670a9954c0', node_type=<ObjectType.TEXT: '1'>, metadata={'title': 'Alterations of white matter integrity in adults with major depressive disorder: a magnetic resonance imaging study.'}, hash='a577b0756d794bffcb344dda01f865b380fcd8dcc23b698262cb33ab740e4292')}, text='Diffusion tensor imaging measures in the left anterior limb of the internal capsule were negatively related to the severity of depressive symptoms, even after we controlled for age and sex. CONCLUSION Our findings provide new evidence of microstructural changes of white matter in non-late-onset adult depression. Our results complement those observed in late-life depression and support the hypothesis that the disruption of cortical- subcortical circuit integrity may be involved in the etiology of major depressive disorder.', mimetype='text/plain', start_char_idx=920, end_char_idx=1447, text_template='{metadata_str}\\n\\n{content}', metadata_template='{key}: {value}', metadata_seperator='\\n'), score=0.7430353164672852)]"
      ]
     },
     "execution_count": 73,
     "metadata": {},
     "output_type": "execute_result"
    }
   ],
   "source": [
    "response.source_nodes"
   ]
  },
  {
   "cell_type": "code",
   "execution_count": 74,
   "id": "260a9ba4-9a57-43c4-b87b-bb54a8428bf0",
   "metadata": {},
   "outputs": [
    {
     "name": "stderr",
     "output_type": "stream",
     "text": [
      "/Users/apoorva.joshi/.pyenv/versions/3.12.1/lib/python3.12/site-packages/phoenix/utilities/client.py:25: UserWarning: The Phoenix server has an unknown version and may have compatibility issues.\n",
      "  warnings.warn(\n",
      "/Users/apoorva.joshi/.pyenv/versions/3.12.1/lib/python3.12/site-packages/phoenix/utilities/client.py:45: UserWarning: The Phoenix server (4.32.0) and client (4.35.1) versions are mismatched and may have compatibility issues.\n",
      "  warnings.warn(\n"
     ]
    }
   ],
   "source": [
    "from phoenix.session.evaluation import get_retrieved_documents\n",
    "retrieved_documents = get_retrieved_documents(px.Client())"
   ]
  },
  {
   "cell_type": "code",
   "execution_count": 75,
   "id": "498b4e66-35e7-44ff-8adb-794f975f0d82",
   "metadata": {},
   "outputs": [
    {
     "data": {
      "text/html": [
       "<div>\n",
       "<style scoped>\n",
       "    .dataframe tbody tr th:only-of-type {\n",
       "        vertical-align: middle;\n",
       "    }\n",
       "\n",
       "    .dataframe tbody tr th {\n",
       "        vertical-align: top;\n",
       "    }\n",
       "\n",
       "    .dataframe thead th {\n",
       "        text-align: right;\n",
       "    }\n",
       "</style>\n",
       "<table border=\"1\" class=\"dataframe\">\n",
       "  <thead>\n",
       "    <tr style=\"text-align: right;\">\n",
       "      <th></th>\n",
       "      <th></th>\n",
       "      <th>context.trace_id</th>\n",
       "      <th>input</th>\n",
       "      <th>reference</th>\n",
       "      <th>document_score</th>\n",
       "    </tr>\n",
       "    <tr>\n",
       "      <th>context.span_id</th>\n",
       "      <th>document_position</th>\n",
       "      <th></th>\n",
       "      <th></th>\n",
       "      <th></th>\n",
       "      <th></th>\n",
       "    </tr>\n",
       "  </thead>\n",
       "  <tbody>\n",
       "    <tr>\n",
       "      <th rowspan=\"2\" valign=\"top\">a2db003b1ae09acc</th>\n",
       "      <th>0</th>\n",
       "      <td>13490c026a0fdf2bc055f86cb0816ddf</td>\n",
       "      <td>which type of methylation occurs in peripheral...</td>\n",
       "      <td>DNA methylation plays an important role in bio...</td>\n",
       "      <td>0.863293</td>\n",
       "    </tr>\n",
       "    <tr>\n",
       "      <th>1</th>\n",
       "      <td>13490c026a0fdf2bc055f86cb0816ddf</td>\n",
       "      <td>which type of methylation occurs in peripheral...</td>\n",
       "      <td>Analysis of the PBMC methylome revealed a rich...</td>\n",
       "      <td>0.831969</td>\n",
       "    </tr>\n",
       "    <tr>\n",
       "      <th>72fc58a2ff8f89b1</th>\n",
       "      <th>0</th>\n",
       "      <td>241e3c912ba46af4c035fdba190d7814</td>\n",
       "      <td>which type of methylation occurs in peripheral...</td>\n",
       "      <td>DNA methylation plays an important role in bio...</td>\n",
       "      <td>0.863293</td>\n",
       "    </tr>\n",
       "    <tr>\n",
       "      <th>1daf632ac908b09c</th>\n",
       "      <th>0</th>\n",
       "      <td>1760b4c81d0adec54d2dd918e89b2871</td>\n",
       "      <td>which of the following transcription sites con...</td>\n",
       "      <td>The human Golli-MBP gene contains two transcri...</td>\n",
       "      <td>0.823784</td>\n",
       "    </tr>\n",
       "    <tr>\n",
       "      <th rowspan=\"4\" valign=\"top\">84c3b3b5c7de0178</th>\n",
       "      <th>0</th>\n",
       "      <td>f8c314f52c90ab603946600c21327231</td>\n",
       "      <td>which of the following transcription sites con...</td>\n",
       "      <td>The human Golli-MBP gene contains two transcri...</td>\n",
       "      <td>0.823784</td>\n",
       "    </tr>\n",
       "    <tr>\n",
       "      <th>1</th>\n",
       "      <td>f8c314f52c90ab603946600c21327231</td>\n",
       "      <td>which of the following transcription sites con...</td>\n",
       "      <td>Two human Golli (for gene expressed in the oli...</td>\n",
       "      <td>0.812735</td>\n",
       "    </tr>\n",
       "    <tr>\n",
       "      <th>2</th>\n",
       "      <td>f8c314f52c90ab603946600c21327231</td>\n",
       "      <td>which of the following transcription sites con...</td>\n",
       "      <td>These findings clearly link the expression of ...</td>\n",
       "      <td>0.810222</td>\n",
       "    </tr>\n",
       "    <tr>\n",
       "      <th>3</th>\n",
       "      <td>f8c314f52c90ab603946600c21327231</td>\n",
       "      <td>which of the following transcription sites con...</td>\n",
       "      <td>ID elements are short interspersed elements (S...</td>\n",
       "      <td>0.740433</td>\n",
       "    </tr>\n",
       "    <tr>\n",
       "      <th rowspan=\"4\" valign=\"top\">2bd7e38207508be9</th>\n",
       "      <th>0</th>\n",
       "      <td>a41bbcd7f047bf1c16773f67cb6d5383</td>\n",
       "      <td>which type of methylation occurs in peripheral...</td>\n",
       "      <td>DNA methylation plays an important role in bio...</td>\n",
       "      <td>0.863293</td>\n",
       "    </tr>\n",
       "    <tr>\n",
       "      <th>1</th>\n",
       "      <td>a41bbcd7f047bf1c16773f67cb6d5383</td>\n",
       "      <td>which type of methylation occurs in peripheral...</td>\n",
       "      <td>Analysis of the PBMC methylome revealed a rich...</td>\n",
       "      <td>0.831969</td>\n",
       "    </tr>\n",
       "    <tr>\n",
       "      <th>2</th>\n",
       "      <td>a41bbcd7f047bf1c16773f67cb6d5383</td>\n",
       "      <td>which type of methylation occurs in peripheral...</td>\n",
       "      <td>These data demonstrate that ASM is a recurrent...</td>\n",
       "      <td>0.816135</td>\n",
       "    </tr>\n",
       "    <tr>\n",
       "      <th>3</th>\n",
       "      <td>a41bbcd7f047bf1c16773f67cb6d5383</td>\n",
       "      <td>which type of methylation occurs in peripheral...</td>\n",
       "      <td>There were no differences in percent positive ...</td>\n",
       "      <td>0.755398</td>\n",
       "    </tr>\n",
       "    <tr>\n",
       "      <th rowspan=\"2\" valign=\"top\">28cb7c9d0310bf60</th>\n",
       "      <th>0</th>\n",
       "      <td>69333742293fc44b351bb4e7d4ddf7d0</td>\n",
       "      <td>which type of methylation occurs in peripheral...</td>\n",
       "      <td>DNA methylation plays an important role in bio...</td>\n",
       "      <td>0.863293</td>\n",
       "    </tr>\n",
       "    <tr>\n",
       "      <th>1</th>\n",
       "      <td>69333742293fc44b351bb4e7d4ddf7d0</td>\n",
       "      <td>which type of methylation occurs in peripheral...</td>\n",
       "      <td>Analysis of the PBMC methylome revealed a rich...</td>\n",
       "      <td>0.831969</td>\n",
       "    </tr>\n",
       "  </tbody>\n",
       "</table>\n",
       "</div>"
      ],
      "text/plain": [
       "                                                    context.trace_id  \\\n",
       "context.span_id  document_position                                     \n",
       "a2db003b1ae09acc 0                  13490c026a0fdf2bc055f86cb0816ddf   \n",
       "                 1                  13490c026a0fdf2bc055f86cb0816ddf   \n",
       "72fc58a2ff8f89b1 0                  241e3c912ba46af4c035fdba190d7814   \n",
       "1daf632ac908b09c 0                  1760b4c81d0adec54d2dd918e89b2871   \n",
       "84c3b3b5c7de0178 0                  f8c314f52c90ab603946600c21327231   \n",
       "                 1                  f8c314f52c90ab603946600c21327231   \n",
       "                 2                  f8c314f52c90ab603946600c21327231   \n",
       "                 3                  f8c314f52c90ab603946600c21327231   \n",
       "2bd7e38207508be9 0                  a41bbcd7f047bf1c16773f67cb6d5383   \n",
       "                 1                  a41bbcd7f047bf1c16773f67cb6d5383   \n",
       "                 2                  a41bbcd7f047bf1c16773f67cb6d5383   \n",
       "                 3                  a41bbcd7f047bf1c16773f67cb6d5383   \n",
       "28cb7c9d0310bf60 0                  69333742293fc44b351bb4e7d4ddf7d0   \n",
       "                 1                  69333742293fc44b351bb4e7d4ddf7d0   \n",
       "\n",
       "                                                                                input  \\\n",
       "context.span_id  document_position                                                      \n",
       "a2db003b1ae09acc 0                  which type of methylation occurs in peripheral...   \n",
       "                 1                  which type of methylation occurs in peripheral...   \n",
       "72fc58a2ff8f89b1 0                  which type of methylation occurs in peripheral...   \n",
       "1daf632ac908b09c 0                  which of the following transcription sites con...   \n",
       "84c3b3b5c7de0178 0                  which of the following transcription sites con...   \n",
       "                 1                  which of the following transcription sites con...   \n",
       "                 2                  which of the following transcription sites con...   \n",
       "                 3                  which of the following transcription sites con...   \n",
       "2bd7e38207508be9 0                  which type of methylation occurs in peripheral...   \n",
       "                 1                  which type of methylation occurs in peripheral...   \n",
       "                 2                  which type of methylation occurs in peripheral...   \n",
       "                 3                  which type of methylation occurs in peripheral...   \n",
       "28cb7c9d0310bf60 0                  which type of methylation occurs in peripheral...   \n",
       "                 1                  which type of methylation occurs in peripheral...   \n",
       "\n",
       "                                                                            reference  \\\n",
       "context.span_id  document_position                                                      \n",
       "a2db003b1ae09acc 0                  DNA methylation plays an important role in bio...   \n",
       "                 1                  Analysis of the PBMC methylome revealed a rich...   \n",
       "72fc58a2ff8f89b1 0                  DNA methylation plays an important role in bio...   \n",
       "1daf632ac908b09c 0                  The human Golli-MBP gene contains two transcri...   \n",
       "84c3b3b5c7de0178 0                  The human Golli-MBP gene contains two transcri...   \n",
       "                 1                  Two human Golli (for gene expressed in the oli...   \n",
       "                 2                  These findings clearly link the expression of ...   \n",
       "                 3                  ID elements are short interspersed elements (S...   \n",
       "2bd7e38207508be9 0                  DNA methylation plays an important role in bio...   \n",
       "                 1                  Analysis of the PBMC methylome revealed a rich...   \n",
       "                 2                  These data demonstrate that ASM is a recurrent...   \n",
       "                 3                  There were no differences in percent positive ...   \n",
       "28cb7c9d0310bf60 0                  DNA methylation plays an important role in bio...   \n",
       "                 1                  Analysis of the PBMC methylome revealed a rich...   \n",
       "\n",
       "                                    document_score  \n",
       "context.span_id  document_position                  \n",
       "a2db003b1ae09acc 0                        0.863293  \n",
       "                 1                        0.831969  \n",
       "72fc58a2ff8f89b1 0                        0.863293  \n",
       "1daf632ac908b09c 0                        0.823784  \n",
       "84c3b3b5c7de0178 0                        0.823784  \n",
       "                 1                        0.812735  \n",
       "                 2                        0.810222  \n",
       "                 3                        0.740433  \n",
       "2bd7e38207508be9 0                        0.863293  \n",
       "                 1                        0.831969  \n",
       "                 2                        0.816135  \n",
       "                 3                        0.755398  \n",
       "28cb7c9d0310bf60 0                        0.863293  \n",
       "                 1                        0.831969  "
      ]
     },
     "execution_count": 75,
     "metadata": {},
     "output_type": "execute_result"
    }
   ],
   "source": [
    "retrieved_documents"
   ]
  }
 ],
 "metadata": {
  "kernelspec": {
   "display_name": "Python 3 (ipykernel)",
   "language": "python",
   "name": "python3"
  },
  "language_info": {
   "codemirror_mode": {
    "name": "ipython",
    "version": 3
   },
   "file_extension": ".py",
   "mimetype": "text/x-python",
   "name": "python",
   "nbconvert_exporter": "python",
   "pygments_lexer": "ipython3",
   "version": "3.12.1"
  }
 },
 "nbformat": 4,
 "nbformat_minor": 5
}
