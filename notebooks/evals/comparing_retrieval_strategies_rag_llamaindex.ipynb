{
 "cells": [
  {
   "cell_type": "markdown",
   "id": "ff0f0aaa-ece2-4ff4-b3eb-d6d2e9db58b1",
   "metadata": {},
   "source": [
    "## Step 1: Install required libraries"
   ]
  },
  {
   "cell_type": "code",
   "execution_count": 1,
   "id": "73ee11f3-297b-42f0-817c-7f299a3ee53c",
   "metadata": {},
   "outputs": [
    {
     "name": "stdout",
     "output_type": "stream",
     "text": [
      "\n",
      "\u001b[1m[\u001b[0m\u001b[34;49mnotice\u001b[0m\u001b[1;39;49m]\u001b[0m\u001b[39;49m A new release of pip is available: \u001b[0m\u001b[31;49m23.2.1\u001b[0m\u001b[39;49m -> \u001b[0m\u001b[32;49m24.2\u001b[0m\n",
      "\u001b[1m[\u001b[0m\u001b[34;49mnotice\u001b[0m\u001b[1;39;49m]\u001b[0m\u001b[39;49m To update, run: \u001b[0m\u001b[32;49mpip install --upgrade pip\u001b[0m\n"
     ]
    }
   ],
   "source": [
    "!pip install -qU datasets llama-index llama-index-llms-openai llama-index-vector-stores-mongodb pymongo arize-phoenix \"openai>=1\" \"openinference-instrumentation-llama-index>=2.0.0\""
   ]
  },
  {
   "cell_type": "markdown",
   "id": "b30f2d74-30de-4099-a253-f0c5e889887c",
   "metadata": {},
   "source": [
    "## Step 2: Setup prerequisities"
   ]
  },
  {
   "cell_type": "code",
   "execution_count": 2,
   "id": "efeb36d8-eb02-45e2-9817-687ec479b288",
   "metadata": {},
   "outputs": [],
   "source": [
    "import os\n",
    "import getpass\n",
    "from pymongo import MongoClient"
   ]
  },
  {
   "cell_type": "code",
   "execution_count": 3,
   "id": "88c09698-fada-461c-82db-66fc4befaa5e",
   "metadata": {},
   "outputs": [
    {
     "name": "stdin",
     "output_type": "stream",
     "text": [
      "Enter your OpenAI API key:  ········\n"
     ]
    }
   ],
   "source": [
    "os.environ[\"OPENAI_API_KEY\"] = getpass.getpass(\"Enter your OpenAI API key: \")"
   ]
  },
  {
   "cell_type": "code",
   "execution_count": 4,
   "id": "d81142de-b074-4f5a-8827-5788ea1a0a15",
   "metadata": {},
   "outputs": [
    {
     "name": "stdin",
     "output_type": "stream",
     "text": [
      "Enter your Phoenix API key:  ········\n"
     ]
    }
   ],
   "source": [
    "os.environ[\"PHOENIX_API_KEY\"] = getpass.getpass(\"Enter your Phoenix API key: \")"
   ]
  },
  {
   "cell_type": "code",
   "execution_count": 5,
   "id": "feb2ede9-c095-440b-bd5b-da45783a3bf7",
   "metadata": {},
   "outputs": [
    {
     "name": "stdin",
     "output_type": "stream",
     "text": [
      "Enter your MongoDB URI:  ········\n"
     ]
    }
   ],
   "source": [
    "MONGODB_URI = getpass.getpass(\"Enter your MongoDB URI: \")\n",
    "mongodb_client = MongoClient(\n",
    "    MONGODB_URI, appname=\"devrel.content.retrieval_strategies_llamaindex\"\n",
    ")"
   ]
  },
  {
   "cell_type": "markdown",
   "id": "fde9acb9-49a2-48a2-a5d8-3eb16e052995",
   "metadata": {},
   "source": [
    "## Step 3: Setup tracing"
   ]
  },
  {
   "cell_type": "code",
   "execution_count": 6,
   "id": "fbcc83f9-ffbd-42cc-a179-dac994de1959",
   "metadata": {},
   "outputs": [],
   "source": [
    "from openinference.instrumentation.llama_index import LlamaIndexInstrumentor\n",
    "from phoenix.otel import register\n",
    "import phoenix as px"
   ]
  },
  {
   "cell_type": "code",
   "execution_count": 7,
   "id": "6c46f4ff-fab3-475c-a550-965ee411246c",
   "metadata": {},
   "outputs": [
    {
     "name": "stdout",
     "output_type": "stream",
     "text": [
      "🔭 OpenTelemetry Tracing Details 🔭\n",
      "|  Phoenix Project: default\n",
      "|  Span Processor: SimpleSpanProcessor\n",
      "|  Collector Endpoint: https://app.phoenix.arize.com/v1/traces\n",
      "|  Transport: HTTP\n",
      "|  Transport Headers: {'api_key': '****', 'authorization': '****'}\n",
      "|  \n",
      "|  Using a default SpanProcessor. `add_span_processor` will overwrite this default.\n",
      "|  \n",
      "|  `register` has set this TracerProvider as the global OpenTelemetry default.\n",
      "|  To disable this behavior, call `register` with `set_global_tracer_provider=False`.\n",
      "\n"
     ]
    },
    {
     "name": "stderr",
     "output_type": "stream",
     "text": [
      "/Users/apoorva.joshi/.pyenv/versions/3.12.1/lib/python3.12/site-packages/phoenix/utilities/client.py:25: UserWarning: The Phoenix server has an unknown version and may have compatibility issues.\n",
      "  warnings.warn(\n"
     ]
    }
   ],
   "source": [
    "os.environ[\"PHOENIX_CLIENT_HEADERS\"] = f\"api_key={os.environ['PHOENIX_API_KEY']}\"\n",
    "os.environ[\"PHOENIX_COLLECTOR_ENDPOINT\"] = \"https://app.phoenix.arize.com\"\n",
    "tracer_provider = register()\n",
    "LlamaIndexInstrumentor().instrument(tracer_provider=tracer_provider, skip_dep_check=True)\n",
    "px_client = px.Client()"
   ]
  },
  {
   "cell_type": "markdown",
   "id": "da8f5142-67bd-49dc-b202-96043a29394a",
   "metadata": {},
   "source": [
    "## Step 4: Load the dataset"
   ]
  },
  {
   "cell_type": "code",
   "execution_count": 8,
   "id": "45346c07-8e91-4df6-b546-8701d82dd47b",
   "metadata": {},
   "outputs": [],
   "source": [
    "from datasets import load_dataset\n",
    "import pandas as pd\n",
    "from llama_index.core import Document"
   ]
  },
  {
   "cell_type": "code",
   "execution_count": 9,
   "id": "67c714f0-9034-4980-bb42-390e5961c274",
   "metadata": {},
   "outputs": [],
   "source": [
    "data = load_dataset(\"BeIR/scifact-generated-queries\", split=\"train\", streaming=True)\n",
    "data_head = data.take(1000)\n",
    "df = pd.DataFrame(data_head)"
   ]
  },
  {
   "cell_type": "code",
   "execution_count": 10,
   "id": "40207a34-732f-479a-896b-df0715268e75",
   "metadata": {},
   "outputs": [
    {
     "data": {
      "text/html": [
       "<div>\n",
       "<style scoped>\n",
       "    .dataframe tbody tr th:only-of-type {\n",
       "        vertical-align: middle;\n",
       "    }\n",
       "\n",
       "    .dataframe tbody tr th {\n",
       "        vertical-align: top;\n",
       "    }\n",
       "\n",
       "    .dataframe thead th {\n",
       "        text-align: right;\n",
       "    }\n",
       "</style>\n",
       "<table border=\"1\" class=\"dataframe\">\n",
       "  <thead>\n",
       "    <tr style=\"text-align: right;\">\n",
       "      <th></th>\n",
       "      <th>_id</th>\n",
       "      <th>title</th>\n",
       "      <th>text</th>\n",
       "      <th>query</th>\n",
       "    </tr>\n",
       "  </thead>\n",
       "  <tbody>\n",
       "    <tr>\n",
       "      <th>0</th>\n",
       "      <td>4983</td>\n",
       "      <td>Microstructural development of human newborn c...</td>\n",
       "      <td>Alterations of the architecture of cerebral wh...</td>\n",
       "      <td>what is the diffusion coefficient of cerebral ...</td>\n",
       "    </tr>\n",
       "    <tr>\n",
       "      <th>1</th>\n",
       "      <td>4983</td>\n",
       "      <td>Microstructural development of human newborn c...</td>\n",
       "      <td>Alterations of the architecture of cerebral wh...</td>\n",
       "      <td>what is diffusion tensor</td>\n",
       "    </tr>\n",
       "    <tr>\n",
       "      <th>2</th>\n",
       "      <td>4983</td>\n",
       "      <td>Microstructural development of human newborn c...</td>\n",
       "      <td>Alterations of the architecture of cerebral wh...</td>\n",
       "      <td>what is the diffusion coefficient of the cereb...</td>\n",
       "    </tr>\n",
       "    <tr>\n",
       "      <th>3</th>\n",
       "      <td>5836</td>\n",
       "      <td>Induction of myelodysplasia by myeloid-derived...</td>\n",
       "      <td>Myelodysplastic syndromes (MDS) are age-depend...</td>\n",
       "      <td>which type of hematopoiesis is characterized b...</td>\n",
       "    </tr>\n",
       "    <tr>\n",
       "      <th>4</th>\n",
       "      <td>5836</td>\n",
       "      <td>Induction of myelodysplasia by myeloid-derived...</td>\n",
       "      <td>Myelodysplastic syndromes (MDS) are age-depend...</td>\n",
       "      <td>which cell types have hematopoiesis</td>\n",
       "    </tr>\n",
       "  </tbody>\n",
       "</table>\n",
       "</div>"
      ],
      "text/plain": [
       "    _id                                              title  \\\n",
       "0  4983  Microstructural development of human newborn c...   \n",
       "1  4983  Microstructural development of human newborn c...   \n",
       "2  4983  Microstructural development of human newborn c...   \n",
       "3  5836  Induction of myelodysplasia by myeloid-derived...   \n",
       "4  5836  Induction of myelodysplasia by myeloid-derived...   \n",
       "\n",
       "                                                text  \\\n",
       "0  Alterations of the architecture of cerebral wh...   \n",
       "1  Alterations of the architecture of cerebral wh...   \n",
       "2  Alterations of the architecture of cerebral wh...   \n",
       "3  Myelodysplastic syndromes (MDS) are age-depend...   \n",
       "4  Myelodysplastic syndromes (MDS) are age-depend...   \n",
       "\n",
       "                                               query  \n",
       "0  what is the diffusion coefficient of cerebral ...  \n",
       "1                           what is diffusion tensor  \n",
       "2  what is the diffusion coefficient of the cereb...  \n",
       "3  which type of hematopoiesis is characterized b...  \n",
       "4                which cell types have hematopoiesis  "
      ]
     },
     "execution_count": 10,
     "metadata": {},
     "output_type": "execute_result"
    }
   ],
   "source": [
    "df.head()"
   ]
  },
  {
   "cell_type": "code",
   "execution_count": 11,
   "id": "67a97d07-1c49-4d57-a9d2-c4b7d3794cfd",
   "metadata": {},
   "outputs": [
    {
     "data": {
      "text/plain": [
       "1000"
      ]
     },
     "execution_count": 11,
     "metadata": {},
     "output_type": "execute_result"
    }
   ],
   "source": [
    "len(df)"
   ]
  },
  {
   "cell_type": "code",
   "execution_count": 12,
   "id": "8188d791-9bbc-4a03-a22a-1022f20a57f3",
   "metadata": {},
   "outputs": [],
   "source": [
    "queries = df[\"query\"].tolist()"
   ]
  },
  {
   "cell_type": "code",
   "execution_count": 13,
   "id": "d9b37edf-adc8-46dc-977a-44d1c072bbfd",
   "metadata": {},
   "outputs": [],
   "source": [
    "df.drop(columns=[\"_id\", \"query\"], inplace=True)"
   ]
  },
  {
   "cell_type": "code",
   "execution_count": 14,
   "id": "5d38c82f-17f7-4746-9803-14498c342f44",
   "metadata": {},
   "outputs": [],
   "source": [
    "documents = [Document(text=row[\"text\"], metadata={\"title\": row[\"title\"]}) for _, row in df.iterrows()]"
   ]
  },
  {
   "cell_type": "code",
   "execution_count": 15,
   "id": "9e161b69-5bb4-499f-8b20-3a7473647f1d",
   "metadata": {},
   "outputs": [
    {
     "data": {
      "text/plain": [
       "Document(id_='994b64ec-15cf-45c0-bd25-5ae69df5e630', embedding=None, metadata={'title': 'Microstructural development of human newborn cerebral white matter assessed in vivo by diffusion tensor magnetic resonance imaging.'}, excluded_embed_metadata_keys=[], excluded_llm_metadata_keys=[], relationships={}, text='Alterations of the architecture of cerebral white matter in the developing human brain can affect cortical development and result in functional disabilities. A line scan diffusion-weighted magnetic resonance imaging (MRI) sequence with diffusion tensor analysis was applied to measure the apparent diffusion coefficient, to calculate relative anisotropy, and to delineate three-dimensional fiber architecture in cerebral white matter in preterm (n = 17) and full-term infants (n = 7). To assess effects of prematurity on cerebral white matter development, early gestation preterm infants (n = 10) were studied a second time at term. In the central white matter the mean apparent diffusion coefficient at 28 wk was high, 1.8 microm2/ms, and decreased toward term to 1.2 microm2/ms. In the posterior limb of the internal capsule, the mean apparent diffusion coefficients at both times were similar (1.2 versus 1.1 microm2/ms). Relative anisotropy was higher the closer birth was to term with greater absolute values in the internal capsule than in the central white matter. Preterm infants at term showed higher mean diffusion coefficients in the central white matter (1.4 +/- 0.24 versus 1.15 +/- 0.09 microm2/ms, p = 0.016) and lower relative anisotropy in both areas compared with full-term infants (white matter, 10.9 +/- 0.6 versus 22.9 +/- 3.0%, p = 0.001; internal capsule, 24.0 +/- 4.44 versus 33.1 +/- 0.6% p = 0.006). Nonmyelinated fibers in the corpus callosum were visible by diffusion tensor MRI as early as 28 wk; full-term and preterm infants at term showed marked differences in white matter fiber organization. The data indicate that quantitative assessment of water diffusion by diffusion tensor MRI provides insight into microstructural development in cerebral white matter in living infants.', mimetype='text/plain', start_char_idx=None, end_char_idx=None, text_template='{metadata_str}\\n\\n{content}', metadata_template='{key}: {value}', metadata_seperator='\\n')"
      ]
     },
     "execution_count": 15,
     "metadata": {},
     "output_type": "execute_result"
    }
   ],
   "source": [
    "documents[0]"
   ]
  },
  {
   "cell_type": "markdown",
   "id": "81784c4f-4a5c-49cf-8a62-76a6f84bafba",
   "metadata": {},
   "source": [
    "## Step 5: Create MongoDB Atlas Vector Store"
   ]
  },
  {
   "cell_type": "code",
   "execution_count": 46,
   "id": "4caece92-04d6-4041-9322-70dff14ae983",
   "metadata": {},
   "outputs": [],
   "source": [
    "from llama_index.llms.openai import OpenAI\n",
    "from llama_index.embeddings.openai import OpenAIEmbedding\n",
    "from llama_index.vector_stores.mongodb import MongoDBAtlasVectorSearch\n",
    "from llama_index.core.settings import Settings\n",
    "from llama_index.core import VectorStoreIndex, StorageContext\n",
    "from pymongo.operations import SearchIndexModel"
   ]
  },
  {
   "cell_type": "code",
   "execution_count": 17,
   "id": "43e7515b-dffc-4c2a-9932-d474e4f35692",
   "metadata": {},
   "outputs": [],
   "source": [
    "Settings.llm = OpenAI()\n",
    "Settings.embed_model = OpenAIEmbedding(model=\"text-embedding-3-small\")\n",
    "Settings.chunk_size = 200\n",
    "Settings.chunk_overlap = 30"
   ]
  },
  {
   "cell_type": "code",
   "execution_count": 38,
   "id": "94a1a27a-3cad-4280-9b3a-82b2976c257f",
   "metadata": {},
   "outputs": [],
   "source": [
    "VS_INDEX_NAME = \"vector_index\"\n",
    "FTS_INDEX_NAME = \"fts_index\"\n",
    "DB_NAME = \"llamaindex\"\n",
    "COLLECTION_NAME = \"retrieval_comp\"\n",
    "collection = mongodb_client[DB_NAME][COLLECTION_NAME]"
   ]
  },
  {
   "cell_type": "code",
   "execution_count": 31,
   "id": "24312248-4822-4dc6-a44d-c20ac3d26724",
   "metadata": {},
   "outputs": [
    {
     "data": {
      "application/vnd.jupyter.widget-view+json": {
       "model_id": "23265f4225af401ea41bf088c3e86a15",
       "version_major": 2,
       "version_minor": 0
      },
      "text/plain": [
       "Parsing nodes:   0%|          | 0/1000 [00:00<?, ?it/s]"
      ]
     },
     "metadata": {},
     "output_type": "display_data"
    },
    {
     "data": {
      "application/vnd.jupyter.widget-view+json": {
       "model_id": "7f2c9c46e7d648958a783009c6ff30b6",
       "version_major": 2,
       "version_minor": 0
      },
      "text/plain": [
       "Generating embeddings:   0%|          | 0/2048 [00:00<?, ?it/s]"
      ]
     },
     "metadata": {},
     "output_type": "display_data"
    },
    {
     "data": {
      "application/vnd.jupyter.widget-view+json": {
       "model_id": "1646c4f709594b21af86431a2fbfcdf7",
       "version_major": 2,
       "version_minor": 0
      },
      "text/plain": [
       "Generating embeddings:   0%|          | 0/353 [00:00<?, ?it/s]"
      ]
     },
     "metadata": {},
     "output_type": "display_data"
    }
   ],
   "source": [
    "vector_store = MongoDBAtlasVectorSearch(\n",
    "    mongodb_client,\n",
    "    db_name = DB_NAME,\n",
    "    collection_name = COLLECTION_NAME,\n",
    "    vector_index_name = VS_INDEX_NAME,\n",
    "    fulltext_index_name = FTS_INDEX_NAME\n",
    ")\n",
    "vector_store_context = StorageContext.from_defaults(vector_store=vector_store)\n",
    "vector_store_index = VectorStoreIndex.from_documents(\n",
    "   documents, storage_context=vector_store_context, show_progress=True\n",
    ")"
   ]
  },
  {
   "cell_type": "code",
   "execution_count": 47,
   "id": "c2795840-125d-43a6-b738-ce04d1f8459e",
   "metadata": {},
   "outputs": [],
   "source": [
    "vs_model = SearchIndexModel(\n",
    "    definition={\n",
    "        \"fields\": [\n",
    "            {\n",
    "                \"type\": \"vector\",\n",
    "                \"path\": \"embedding\",\n",
    "                \"numDimensions\": 1536,\n",
    "                \"similarity\": \"cosine\",\n",
    "            }\n",
    "        ]\n",
    "    },\n",
    "    name=VS_INDEX_NAME,\n",
    "    type=\"vectorSearch\"\n",
    ")"
   ]
  },
  {
   "cell_type": "code",
   "execution_count": 61,
   "id": "c9cc6acd-62dd-4581-b839-920a2f31f241",
   "metadata": {},
   "outputs": [],
   "source": [
    "fts_model = SearchIndexModel(\n",
    "    definition={\n",
    "        \"mappings\": {\n",
    "            \"dynamic\": False,\n",
    "            \"fields\": {\n",
    "                \"text\": {\"type\": \"string\"}\n",
    "            }\n",
    "        }\n",
    "    },\n",
    "    name=FTS_INDEX_NAME,\n",
    "    type=\"search\"\n",
    ")"
   ]
  },
  {
   "cell_type": "code",
   "execution_count": 63,
   "id": "82bc60b8-4d5a-4138-9167-26844231f8e7",
   "metadata": {},
   "outputs": [
    {
     "data": {
      "text/plain": [
       "['vector_index', 'fts_index']"
      ]
     },
     "execution_count": 63,
     "metadata": {},
     "output_type": "execute_result"
    }
   ],
   "source": [
    "collection.create_search_indexes(models=[vs_model, fts_model])"
   ]
  },
  {
   "cell_type": "code",
   "execution_count": 102,
   "id": "8ea2bf16-8925-4497-a278-e1c3a36606c9",
   "metadata": {},
   "outputs": [],
   "source": [
    "query_engine = vector_store_index.as_query_engine(similarity_top_k=5)"
   ]
  },
  {
   "cell_type": "code",
   "execution_count": 105,
   "id": "81443bd8-6ec4-483a-ae80-9497397e52f4",
   "metadata": {},
   "outputs": [],
   "source": [
    "response = query_engine.query(queries[10])"
   ]
  },
  {
   "cell_type": "code",
   "execution_count": 106,
   "id": "68a7feaa-745f-45cb-ba3a-ff6e85185280",
   "metadata": {},
   "outputs": [
    {
     "data": {
      "text/plain": [
       "[NodeWithScore(node=TextNode(id_='12889f9e-c3e5-4f10-8f92-28829d875ff4', embedding=None, metadata={'title': 'The DNA Methylome of Human Peripheral Blood Mononuclear Cells'}, excluded_embed_metadata_keys=[], excluded_llm_metadata_keys=[], relationships={<NodeRelationship.SOURCE: '1'>: RelatedNodeInfo(node_id='b7b52032-97e9-4eab-9beb-8db754b04e97', node_type=<ObjectType.DOCUMENT: '4'>, metadata={'title': 'The DNA Methylome of Human Peripheral Blood Mononuclear Cells'}, hash='b8c3869580e3ad633922cecf4a10e93cfce1a5ff204391f19bf7bfae4c77571c'), <NodeRelationship.NEXT: '3'>: RelatedNodeInfo(node_id='16bcbf14-86d9-439e-bf2c-056b18948016', node_type=<ObjectType.TEXT: '1'>, metadata={}, hash='e7a73fd95e55cb2492f57035fb9bc1bfd6d7e051cefd363e8a24bc8790aac0b8')}, text='DNA methylation plays an important role in biological processes in human health and disease. Recent technological advances allow unbiased whole-genome DNA methylation (methylome) analysis to be carried out on human cells. Using whole-genome bisulfite sequencing at 24.7-fold coverage (12.3-fold per strand), we report a comprehensive (92.62%) methylome and analysis of the unique sequences in human peripheral blood mononuclear cells (PBMC) from the same Asian individual whose genome was deciphered in the YH project. PBMC constitute an important source for clinical blood tests world-wide. We found that 68.4% of CpG sites and <0.2% of non-CpG sites were methylated, demonstrating that non-CpG cytosine methylation is minor in human PBMC.', mimetype='text/plain', start_char_idx=0, end_char_idx=740, text_template='{metadata_str}\\n\\n{content}', metadata_template='{key}: {value}', metadata_seperator='\\n'), score=0.8631064891815186),\n",
       " NodeWithScore(node=TextNode(id_='16bcbf14-86d9-439e-bf2c-056b18948016', embedding=None, metadata={'title': 'The DNA Methylome of Human Peripheral Blood Mononuclear Cells'}, excluded_embed_metadata_keys=[], excluded_llm_metadata_keys=[], relationships={<NodeRelationship.SOURCE: '1'>: RelatedNodeInfo(node_id='b7b52032-97e9-4eab-9beb-8db754b04e97', node_type=<ObjectType.DOCUMENT: '4'>, metadata={'title': 'The DNA Methylome of Human Peripheral Blood Mononuclear Cells'}, hash='b8c3869580e3ad633922cecf4a10e93cfce1a5ff204391f19bf7bfae4c77571c'), <NodeRelationship.PREVIOUS: '2'>: RelatedNodeInfo(node_id='12889f9e-c3e5-4f10-8f92-28829d875ff4', node_type=<ObjectType.TEXT: '1'>, metadata={'title': 'The DNA Methylome of Human Peripheral Blood Mononuclear Cells'}, hash='588e2b980d5c19f7e4f6bb5a7bfa72654b54cd6ed85dc6b324fab3845852c984'), <NodeRelationship.NEXT: '3'>: RelatedNodeInfo(node_id='0bd94040-31ba-4333-a626-a4150a908a6f', node_type=<ObjectType.TEXT: '1'>, metadata={}, hash='835a5aab3ac5079089093e9b4c7621f90542f37c4fc4e97b974ec943a58cf740')}, text='Analysis of the PBMC methylome revealed a rich epigenomic landscape for 20 distinct genomic features, including regulatory, protein-coding, non-coding, RNA-coding, and repeat sequences. Integration of our methylome data with the YH genome sequence enabled a first comprehensive assessment of allele-specific methylation (ASM) between the two haploid methylomes of any individual and allowed the identification of 599 haploid differentially methylated regions (hDMRs) covering 287 genes. Of these, 76 genes had hDMRs within 2 kb of their transcriptional start sites of which >80% displayed allele-specific expression (ASE). These data demonstrate that ASM is a recurrent phenomenon and is highly correlated with ASE in human PBMCs.', mimetype='text/plain', start_char_idx=741, end_char_idx=1471, text_template='{metadata_str}\\n\\n{content}', metadata_template='{key}: {value}', metadata_seperator='\\n'), score=0.8319629430770874)]"
      ]
     },
     "execution_count": 106,
     "metadata": {},
     "output_type": "execute_result"
    }
   ],
   "source": [
    "response.source_nodes"
   ]
  },
  {
   "cell_type": "code",
   "execution_count": 93,
   "id": "498b4e66-35e7-44ff-8adb-794f975f0d82",
   "metadata": {},
   "outputs": [],
   "source": [
    "spans_df = px_client.get_spans_dataframe()"
   ]
  },
  {
   "cell_type": "code",
   "execution_count": null,
   "id": "97490472-9916-4d3b-a80e-ed53ac1a4932",
   "metadata": {},
   "outputs": [],
   "source": []
  }
 ],
 "metadata": {
  "kernelspec": {
   "display_name": "Python 3 (ipykernel)",
   "language": "python",
   "name": "python3"
  },
  "language_info": {
   "codemirror_mode": {
    "name": "ipython",
    "version": 3
   },
   "file_extension": ".py",
   "mimetype": "text/x-python",
   "name": "python",
   "nbconvert_exporter": "python",
   "pygments_lexer": "ipython3",
   "version": "3.12.1"
  }
 },
 "nbformat": 4,
 "nbformat_minor": 5
}
