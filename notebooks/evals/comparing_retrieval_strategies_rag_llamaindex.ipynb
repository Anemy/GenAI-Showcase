{
 "cells": [
  {
   "cell_type": "markdown",
   "id": "ff0f0aaa-ece2-4ff4-b3eb-d6d2e9db58b1",
   "metadata": {},
   "source": [
    "## Step 1: Install required libraries"
   ]
  },
  {
   "cell_type": "code",
   "execution_count": null,
   "id": "73ee11f3-297b-42f0-817c-7f299a3ee53c",
   "metadata": {},
   "outputs": [],
   "source": [
    "!pip install -qU datasets tqdm llama-index llama-index-llms-openai llama-index-vector-stores-mongodb pymongo arize-phoenix \"openai>=1\" \"openinference-instrumentation-llama-index>=2.0.0\""
   ]
  },
  {
   "cell_type": "markdown",
   "id": "b30f2d74-30de-4099-a253-f0c5e889887c",
   "metadata": {},
   "source": [
    "## Step 2: Setup prerequisities"
   ]
  },
  {
   "cell_type": "code",
   "execution_count": null,
   "id": "efeb36d8-eb02-45e2-9817-687ec479b288",
   "metadata": {},
   "outputs": [],
   "source": [
    "import os\n",
    "import getpass\n",
    "from pymongo import MongoClient"
   ]
  },
  {
   "cell_type": "code",
   "execution_count": null,
   "id": "88c09698-fada-461c-82db-66fc4befaa5e",
   "metadata": {},
   "outputs": [],
   "source": [
    "os.environ[\"OPENAI_API_KEY\"] = getpass.getpass(\"Enter your OpenAI API key: \")"
   ]
  },
  {
   "cell_type": "code",
   "execution_count": null,
   "id": "feb2ede9-c095-440b-bd5b-da45783a3bf7",
   "metadata": {},
   "outputs": [],
   "source": [
    "MONGODB_URI = getpass.getpass(\"Enter your MongoDB URI: \")\n",
    "mongodb_client = MongoClient(\n",
    "    MONGODB_URI, appname=\"devrel.content.retrieval_strategies_llamaindex\"\n",
    ")"
   ]
  },
  {
   "cell_type": "markdown",
   "id": "fde9acb9-49a2-48a2-a5d8-3eb16e052995",
   "metadata": {},
   "source": [
    "## Step 3: Setup tracing"
   ]
  },
  {
   "cell_type": "code",
   "execution_count": null,
   "id": "fbcc83f9-ffbd-42cc-a179-dac994de1959",
   "metadata": {},
   "outputs": [],
   "source": [
    "from openinference.instrumentation.llama_index import LlamaIndexInstrumentor\n",
    "from opentelemetry.exporter.otlp.proto.http.trace_exporter import OTLPSpanExporter\n",
    "from opentelemetry.sdk.trace import TracerProvider\n",
    "from opentelemetry.sdk.trace.export import SimpleSpanProcessor\n",
    "import phoenix as px\n",
    "import nest_asyncio\n",
    "\n",
    "nest_asyncio.apply()"
   ]
  },
  {
   "cell_type": "code",
   "execution_count": null,
   "id": "f6a1d92f-95d7-4244-88e8-1e518706ae34",
   "metadata": {},
   "outputs": [],
   "source": [
    "px.launch_app()"
   ]
  },
  {
   "cell_type": "code",
   "execution_count": null,
   "id": "6c46f4ff-fab3-475c-a550-965ee411246c",
   "metadata": {},
   "outputs": [],
   "source": [
    "endpoint = \"http://127.0.0.1:6006/v1/traces\"\n",
    "tracer_provider = TracerProvider()\n",
    "tracer_provider.add_span_processor(SimpleSpanProcessor(OTLPSpanExporter(endpoint)))\n",
    "LlamaIndexInstrumentor().instrument(tracer_provider=tracer_provider)"
   ]
  },
  {
   "cell_type": "markdown",
   "id": "da8f5142-67bd-49dc-b202-96043a29394a",
   "metadata": {},
   "source": [
    "## Step 4: Load dataset"
   ]
  },
  {
   "cell_type": "code",
   "execution_count": null,
   "id": "45346c07-8e91-4df6-b546-8701d82dd47b",
   "metadata": {},
   "outputs": [],
   "source": [
    "from datasets import load_dataset\n",
    "import pandas as pd\n",
    "from llama_index.core import Document"
   ]
  },
  {
   "cell_type": "code",
   "execution_count": null,
   "id": "49fdaf16-6738-4054-b405-2111b9697dfd",
   "metadata": {},
   "outputs": [],
   "source": [
    "data = load_dataset(\"BeIR/scifact-generated-queries\", split=\"train\", streaming=True)\n",
    "# Take top 1000 rows\n",
    "data_head = data.take(1000)\n",
    "df = pd.DataFrame(data_head)"
   ]
  },
  {
   "cell_type": "code",
   "execution_count": null,
   "id": "07780b99-d6d8-476b-8ff5-fcd61583b781",
   "metadata": {},
   "outputs": [],
   "source": [
    "# Extract the first 100 questions\n",
    "queries = df[\"query\"].tolist()[0:500]"
   ]
  },
  {
   "cell_type": "code",
   "execution_count": null,
   "id": "36d2e7b8-60c1-4e9a-a1c3-9fc02aafbb35",
   "metadata": {},
   "outputs": [],
   "source": [
    "df.drop(columns=[\"_id\", \"query\"], inplace=True)\n",
    "df.drop_duplicates(inplace=True)"
   ]
  },
  {
   "cell_type": "code",
   "execution_count": null,
   "id": "aca89e49-f10a-4b3c-bef8-5dce9c84b7c2",
   "metadata": {},
   "outputs": [],
   "source": [
    "documents = [Document(text=row[\"text\"]) for _, row in df.iterrows()]"
   ]
  },
  {
   "cell_type": "code",
   "execution_count": null,
   "id": "6e5ea8ec-59e4-4cbb-a45d-ec87336008d3",
   "metadata": {},
   "outputs": [],
   "source": [
    "documents[0]"
   ]
  },
  {
   "cell_type": "code",
   "execution_count": null,
   "id": "516df36b-4ae1-4276-a559-e9043b5658d5",
   "metadata": {},
   "outputs": [],
   "source": [
    "len(documents)"
   ]
  },
  {
   "cell_type": "markdown",
   "id": "81784c4f-4a5c-49cf-8a62-76a6f84bafba",
   "metadata": {},
   "source": [
    "## Step 5: Create MongoDB Atlas Vector Store"
   ]
  },
  {
   "cell_type": "code",
   "execution_count": null,
   "id": "4caece92-04d6-4041-9322-70dff14ae983",
   "metadata": {},
   "outputs": [],
   "source": [
    "from llama_index.embeddings.openai import OpenAIEmbedding\n",
    "from llama_index.vector_stores.mongodb import MongoDBAtlasVectorSearch\n",
    "from llama_index.core.settings import Settings\n",
    "from llama_index.core import VectorStoreIndex, StorageContext\n",
    "from pymongo.operations import SearchIndexModel"
   ]
  },
  {
   "cell_type": "code",
   "execution_count": null,
   "id": "6d4a0dfd-4aa9-43da-9468-6a7ffe9aa905",
   "metadata": {},
   "outputs": [],
   "source": [
    "Settings.embed_model = OpenAIEmbedding(model=\"text-embedding-3-small\")\n",
    "Settings.chunk_size = 200\n",
    "Settings.chunk_overlap = 30"
   ]
  },
  {
   "cell_type": "code",
   "execution_count": null,
   "id": "94a1a27a-3cad-4280-9b3a-82b2976c257f",
   "metadata": {},
   "outputs": [],
   "source": [
    "VS_INDEX_NAME = \"vector_index\"\n",
    "FTS_INDEX_NAME = \"fts_index\"\n",
    "DB_NAME = \"llamaindex\"\n",
    "COLLECTION_NAME = \"retrieval_comp\"\n",
    "collection = mongodb_client[DB_NAME][COLLECTION_NAME]\n",
    "# delete any existing documents from the collection\n",
    "collection.delete_many({})"
   ]
  },
  {
   "cell_type": "code",
   "execution_count": null,
   "id": "24312248-4822-4dc6-a44d-c20ac3d26724",
   "metadata": {},
   "outputs": [],
   "source": [
    "vector_store = MongoDBAtlasVectorSearch(\n",
    "    mongodb_client,\n",
    "    db_name = DB_NAME,\n",
    "    collection_name = COLLECTION_NAME,\n",
    "    vector_index_name = VS_INDEX_NAME,\n",
    "    fulltext_index_name = FTS_INDEX_NAME\n",
    ")\n",
    "vector_store_context = StorageContext.from_defaults(vector_store=vector_store)\n",
    "vector_store_index = VectorStoreIndex.from_documents(\n",
    "   documents, storage_context=vector_store_context, show_progress=True\n",
    ")"
   ]
  },
  {
   "cell_type": "markdown",
   "id": "ea2c08d6-ad8f-4c1f-89de-44be29120cf9",
   "metadata": {},
   "source": [
    "## Step 6: Create Atlas Search Indexes"
   ]
  },
  {
   "cell_type": "code",
   "execution_count": null,
   "id": "c2795840-125d-43a6-b738-ce04d1f8459e",
   "metadata": {},
   "outputs": [],
   "source": [
    "vs_model = SearchIndexModel(\n",
    "    definition={\n",
    "        \"fields\": [\n",
    "            {\n",
    "                \"type\": \"vector\",\n",
    "                \"path\": \"embedding\",\n",
    "                \"numDimensions\": 1536,\n",
    "                \"similarity\": \"cosine\",\n",
    "            }\n",
    "        ]\n",
    "    },\n",
    "    name=VS_INDEX_NAME,\n",
    "    type=\"vectorSearch\"\n",
    ")"
   ]
  },
  {
   "cell_type": "code",
   "execution_count": null,
   "id": "c9cc6acd-62dd-4581-b839-920a2f31f241",
   "metadata": {},
   "outputs": [],
   "source": [
    "fts_model = SearchIndexModel(\n",
    "    definition={\n",
    "        \"mappings\": {\n",
    "            \"dynamic\": False,\n",
    "            \"fields\": {\n",
    "                \"text\": {\"type\": \"string\"}\n",
    "            }\n",
    "        }\n",
    "    },\n",
    "    name=FTS_INDEX_NAME,\n",
    "    type=\"search\"\n",
    ")"
   ]
  },
  {
   "cell_type": "code",
   "execution_count": null,
   "id": "82bc60b8-4d5a-4138-9167-26844231f8e7",
   "metadata": {},
   "outputs": [],
   "source": [
    "collection.create_search_indexes(models=[vs_model, fts_model])"
   ]
  },
  {
   "cell_type": "markdown",
   "id": "cc9f9cac-c71e-4f99-9eb8-5129285d1c94",
   "metadata": {},
   "source": [
    "## Step 7: Evaluate retrieval strategies"
   ]
  },
  {
   "cell_type": "code",
   "execution_count": null,
   "id": "e0f41fbe-e6b9-436d-a720-b95d9ef30032",
   "metadata": {},
   "outputs": [],
   "source": [
    "import numpy as np\n",
    "from sklearn.metrics import ndcg_score\n",
    "from tqdm.auto import tqdm\n",
    "from phoenix.trace import using_project\n",
    "from phoenix.session.evaluation import get_retrieved_documents\n",
    "from phoenix.evals import OpenAIModel, RelevanceEvaluator, run_evals"
   ]
  },
  {
   "cell_type": "code",
   "execution_count": null,
   "id": "4a9ccced-4629-4572-b17c-afd1b6c77238",
   "metadata": {},
   "outputs": [],
   "source": [
    "MODES = [\"default\", \"text_search\", \"hybrid\"]\n",
    "TOP_K = 5\n",
    "RELEVANCE_EVALUATOR = RelevanceEvaluator(OpenAIModel(model=\"gpt-4o-2024-08-06\"))"
   ]
  },
  {
   "cell_type": "code",
   "execution_count": null,
   "id": "7319a09f-eb67-4841-a457-53f5365672f5",
   "metadata": {},
   "outputs": [],
   "source": [
    "def run_eval(retrieved_documents):\n",
    "    print(len(retrieved_documents))\n",
    "    evals_df = run_evals(\n",
    "        evaluators=[RELEVANCE_EVALUATOR],\n",
    "        dataframe=retrieved_documents,\n",
    "        provide_explanation=False,\n",
    "        concurrency=8,\n",
    "    )[0]\n",
    "    evals_df = pd.concat(\n",
    "        [evals_df.add_prefix(\"eval_\"), retrieved_documents[\"document_score\"]], axis=1\n",
    "    )\n",
    "    return evals_df\n",
    "    "
   ]
  },
  {
   "cell_type": "code",
   "execution_count": null,
   "id": "133bd1a3-7c8a-457d-bd25-228939cfb9e6",
   "metadata": {},
   "outputs": [],
   "source": [
    "def compute_ndcg(df: pd.DataFrame, k: int):\n",
    "    \"\"\"Compute NDCG@k in the presence of missing values\"\"\"\n",
    "    n = len(df)\n",
    "    eval_scores = np.zeros(n)\n",
    "    doc_scores = np.zeros(n)\n",
    "    eval_scores[: len(df)] = df.eval_score\n",
    "    doc_scores[: len(df)] = df.document_score\n",
    "    try:\n",
    "        return ndcg_score([eval_scores], [doc_scores], k=k)\n",
    "    except ValueError:\n",
    "        return np.nan"
   ]
  },
  {
   "cell_type": "code",
   "execution_count": null,
   "id": "fe4d9ca3-b4dc-43d7-81c6-335792191216",
   "metadata": {},
   "outputs": [],
   "source": [
    "overall_metrics = {}\n",
    "for mode in MODES:\n",
    "    query_engine = vector_store_index.as_query_engine(similarity_top_k=5, vector_store_query_mode=mode)\n",
    "    px.close_app(delete_data=True)\n",
    "    px.launch_app()\n",
    "    for query in tqdm(queries):\n",
    "        query_engine.query(query)\n",
    "    retrieved_documents = get_retrieved_documents(px.active_session())\n",
    "    evals_df = run_eval(retrieved_documents)\n",
    "    ndcg_at_2 = pd.DataFrame({\"ndcg_at_2\": evals_df.groupby(\"context.span_id\").apply(compute_ndcg, k=2)})\n",
    "    ndcg_at_5 = pd.DataFrame({\"ndcg_at_5\": evals_df.groupby(\"context.span_id\").apply(compute_ndcg, k=5)})\n",
    "    precision_at_2 = pd.DataFrame({\"precision_at_2\": evals_df.groupby(\"context.span_id\").apply(lambda x: x.eval_score[:2].sum(skipna=False) / 2)})\n",
    "    precision_at_5 = pd.DataFrame({\"precision_at_5\": evals_df.groupby(\"context.span_id\").apply(lambda x: x.eval_score[:5].sum(skipna=False) / 5)})\n",
    "    hit_rate_at_2 = pd.DataFrame({\"hit_rate_at_2\": evals_df.groupby(\"context.span_id\").apply(lambda x: 1 if x.eval_score[:2].sum(skipna=False) > 0 else 0)})\n",
    "    hit_rate_at_5 = pd.DataFrame({\"hit_rate_at_5\": evals_df.groupby(\"context.span_id\").apply(lambda x: 1 if x.eval_score[:5].sum(skipna=False) > 0 else 0)})\n",
    "    metrics_df = pd.concat(\n",
    "        [\n",
    "            ndcg_at_2,\n",
    "            ndcg_at_5,\n",
    "            precision_at_2,\n",
    "            precision_at_5,\n",
    "            hit_rate_at_2,\n",
    "            hit_rate_at_5\n",
    "        ],\n",
    "        axis=1,\n",
    "    )\n",
    "    mean_metrics = metrics_df.mean(numeric_only=True).to_dict()\n",
    "    print(f\"-----{mode}-----\")\n",
    "    print(mean_metrics)\n",
    "    for metric in mean_metrics:\n",
    "        if metric not in overall_metrics:\n",
    "            overall_metrics[metric] = [mean_metrics[metric]]\n",
    "        else:\n",
    "            overall_metrics[metric].append(mean_metrics[metric])"
   ]
  }
 ],
 "metadata": {
  "kernelspec": {
   "display_name": "Python 3 (ipykernel)",
   "language": "python",
   "name": "python3"
  },
  "language_info": {
   "codemirror_mode": {
    "name": "ipython",
    "version": 3
   },
   "file_extension": ".py",
   "mimetype": "text/x-python",
   "name": "python",
   "nbconvert_exporter": "python",
   "pygments_lexer": "ipython3",
   "version": "3.12.1"
  }
 },
 "nbformat": 4,
 "nbformat_minor": 5
}
