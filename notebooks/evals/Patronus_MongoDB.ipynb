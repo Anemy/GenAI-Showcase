# The Technical Guide on RAG Evaluation

## How to Query and Retrieve Results from Atlas Vector Store

To query and retrieve results from MongoDB Atlas vector store, follow these three steps:

### Set Up the Database on Atlas
First, you need to create an account on MongoDB Atlas. This involves signing in to your MongoDB Atlas account, creating a new cluster, and adding a database and collection. You can skip this step if you have already have your collection for vector search.

### Create an Atlas Index
You can create an index either via code or using the Atlas UI. Here’s an example of how to create an index using the Atlas UI:
1. Navigate to your collection.
2. Click on “Atlas search” and then “Create Index”.
3. Define the index fields and type. 

Alternatively, you can create an index programmatically. The following index definition indexes the vector embeddings field (`fieldToIndex`) for performing vector search.

