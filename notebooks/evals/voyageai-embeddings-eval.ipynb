{
 "cells": [
  {
   "cell_type": "markdown",
   "id": "39b4d49e-31a1-4093-9255-9cb8e6f96b0d",
   "metadata": {
    "tags": []
   },
   "source": [
    "# RAG Series Part 1: How to choose the right embedding model for your RAG application\n",
    "\n",
    "This notebook evaluates the [voyage-lite-02-instruct](https://docs.voyageai.com/embeddings/) model."
   ]
  },
  {
   "cell_type": "markdown",
   "id": "f3a115b9-68e5-44f7-9ea7-fff56bc9ee59",
   "metadata": {},
   "source": [
    "## Step 1: Install required libraries\n",
    "\n",
    "* **datasets**: Python library to get access to datasets available on Hugging Face Hub\n",
    "<p>\n",
    "* **voyageai**: Python library to interact with Voyage AI APIs\n",
    "<p>\n",
    "* **sentence-transformers**: Framework for working with text and image embeddings\n",
    "<p>\n",
    "* **numpy**: Python library that provides tools to perform mathematical operations on arrays\n",
    "<p>\n",
    "* **pandas**: Python library for data analysis, exploration and manipulation\n",
    "<p>\n",
    "* **tdqm**: Python module to show a progress meter for loops"
   ]
  },
  {
   "cell_type": "code",
   "execution_count": 2,
   "id": "a999fe13-3eee-4fd8-a9fd-0f2f37171ed3",
   "metadata": {
    "tags": []
   },
   "outputs": [],
   "source": [
    "! pip install -qU datasets sentence-transformers numpy pandas tqdm"
   ]
  },
  {
   "cell_type": "markdown",
   "id": "87bd8b3e-984b-4dff-bd7f-615e577a9ef8",
   "metadata": {},
   "source": [
    "## Step 2: Setup pre-requisites\n",
    "\n",
    "Set Voyage API key as environment variable, and initialize the Voyage AI client.\n",
    "\n",
    "Steps to obtain a Voyage AI API Key can be found [here](https://docs.voyageai.com/docs/api-key-and-installation)."
   ]
  },
  {
   "cell_type": "code",
   "execution_count": 3,
   "id": "f62e40d3-852c-4abf-9151-875a1d32e93e",
   "metadata": {},
   "outputs": [],
   "source": [
    "import os\n",
    "import getpass\n",
    "import voyageai"
   ]
  },
  {
   "cell_type": "code",
   "execution_count": 4,
   "id": "a8e8bcde-c242-4641-a7c8-5f69c60d021e",
   "metadata": {},
   "outputs": [
    {
     "name": "stdout",
     "output_type": "stream",
     "text": [
      "Voyage API Key:········\n"
     ]
    }
   ],
   "source": [
    "VOYAGE_API_KEY = getpass.getpass(\"Voyage API Key:\")\n",
    "voyage_client = voyageai.Client(api_key=VOYAGE_API_KEY)"
   ]
  },
  {
   "cell_type": "markdown",
   "id": "b5a99a68-a7d2-4657-8f05-ea75f19b6748",
   "metadata": {},
   "source": [
    "## Step 3: Download the evaluation dataset\n",
    "\n",
    "We will use MongoDB's [cosmopedia-wikihow-chunked](https://huggingface.co/datasets/MongoDB/cosmopedia-wikihow-chunked) dataset, which has chunked versions of WikiHow articles from the [Cosmopedia](https://huggingface.co/datasets/HuggingFaceTB/cosmopedia) dataset released by Hugging Face. The dataset is pretty large, so we will only grab the first 25k records for testing."
   ]
  },
  {
   "cell_type": "code",
   "execution_count": 5,
   "id": "7862e2db-fec8-4294-ad75-9753e69adc1a",
   "metadata": {},
   "outputs": [],
   "source": [
    "from datasets import load_dataset\n",
    "import pandas as pd\n",
    "\n",
    "# Use streaming=True to load the dataset without downloading it fully\n",
    "data = load_dataset(\"MongoDB/cosmopedia-wikihow-chunked\", split=\"train\", streaming=True)\n",
    "# Get first 25k records from the dataset\n",
    "data_head = data.take(25000)\n",
    "df = pd.DataFrame(data_head)\n",
    "\n",
    "# Use this if you want the full dataset\n",
    "# data = load_dataset(\"AIatMongoDB/cosmopedia-wikihow-chunked\", split=\"train\")\n",
    "# df = pd.DataFrame(data)"
   ]
  },
  {
   "cell_type": "markdown",
   "id": "70d329bc-cdb7-4651-bef0-8d2ae09d9e4b",
   "metadata": {},
   "source": [
    "## Step 4: Data analysis\n",
    "\n",
    "Make sure the length of the dataset is what we expect (25k), preview the data, drop Nones etc."
   ]
  },
  {
   "cell_type": "code",
   "execution_count": 6,
   "id": "39c0f32d-c6f7-4faa-92e1-fae25e9eb2ba",
   "metadata": {},
   "outputs": [
    {
     "data": {
      "text/plain": [
       "25000"
      ]
     },
     "execution_count": 6,
     "metadata": {},
     "output_type": "execute_result"
    }
   ],
   "source": [
    "# Ensuring length of dataset is what we expect i.e. 25k\n",
    "len(df)"
   ]
  },
  {
   "cell_type": "code",
   "execution_count": 7,
   "id": "6782ab49-3d9d-4f67-8b33-474f02b7e993",
   "metadata": {},
   "outputs": [
    {
     "data": {
      "text/html": [
       "<div>\n",
       "<style scoped>\n",
       "    .dataframe tbody tr th:only-of-type {\n",
       "        vertical-align: middle;\n",
       "    }\n",
       "\n",
       "    .dataframe tbody tr th {\n",
       "        vertical-align: top;\n",
       "    }\n",
       "\n",
       "    .dataframe thead th {\n",
       "        text-align: right;\n",
       "    }\n",
       "</style>\n",
       "<table border=\"1\" class=\"dataframe\">\n",
       "  <thead>\n",
       "    <tr style=\"text-align: right;\">\n",
       "      <th></th>\n",
       "      <th>doc_id</th>\n",
       "      <th>chunk_id</th>\n",
       "      <th>text_token_length</th>\n",
       "      <th>text</th>\n",
       "    </tr>\n",
       "  </thead>\n",
       "  <tbody>\n",
       "    <tr>\n",
       "      <th>0</th>\n",
       "      <td>0</td>\n",
       "      <td>0</td>\n",
       "      <td>180</td>\n",
       "      <td>Title: How to Create and Maintain a Compost Pi...</td>\n",
       "    </tr>\n",
       "    <tr>\n",
       "      <th>1</th>\n",
       "      <td>0</td>\n",
       "      <td>1</td>\n",
       "      <td>141</td>\n",
       "      <td>**Step 2: Gather Materials**\\nGather brown (ca...</td>\n",
       "    </tr>\n",
       "    <tr>\n",
       "      <th>2</th>\n",
       "      <td>0</td>\n",
       "      <td>2</td>\n",
       "      <td>182</td>\n",
       "      <td>_Key guideline:_ For every volume of green mat...</td>\n",
       "    </tr>\n",
       "    <tr>\n",
       "      <th>3</th>\n",
       "      <td>0</td>\n",
       "      <td>3</td>\n",
       "      <td>188</td>\n",
       "      <td>_Key tip:_ Chop large items like branches and ...</td>\n",
       "    </tr>\n",
       "    <tr>\n",
       "      <th>4</th>\n",
       "      <td>0</td>\n",
       "      <td>4</td>\n",
       "      <td>157</td>\n",
       "      <td>**Step 7: Maturation and Use**\\nAfter 3-4 mont...</td>\n",
       "    </tr>\n",
       "  </tbody>\n",
       "</table>\n",
       "</div>"
      ],
      "text/plain": [
       "   doc_id  chunk_id  text_token_length  \\\n",
       "0       0         0                180   \n",
       "1       0         1                141   \n",
       "2       0         2                182   \n",
       "3       0         3                188   \n",
       "4       0         4                157   \n",
       "\n",
       "                                                text  \n",
       "0  Title: How to Create and Maintain a Compost Pi...  \n",
       "1  **Step 2: Gather Materials**\\nGather brown (ca...  \n",
       "2  _Key guideline:_ For every volume of green mat...  \n",
       "3  _Key tip:_ Chop large items like branches and ...  \n",
       "4  **Step 7: Maturation and Use**\\nAfter 3-4 mont...  "
      ]
     },
     "execution_count": 7,
     "metadata": {},
     "output_type": "execute_result"
    }
   ],
   "source": [
    "# Previewing the contents of the data\n",
    "df.head()"
   ]
  },
  {
   "cell_type": "code",
   "execution_count": 8,
   "id": "04563eaf-bbd8-4969-9671-eb5312817402",
   "metadata": {},
   "outputs": [],
   "source": [
    "# Only keep records where the text field is not null\n",
    "df = df[df[\"text\"].notna()]"
   ]
  },
  {
   "cell_type": "code",
   "execution_count": 9,
   "id": "cd5a91c3-2f68-4157-a747-05bbc934d53a",
   "metadata": {},
   "outputs": [
    {
     "data": {
      "text/plain": [
       "4335"
      ]
     },
     "execution_count": 9,
     "metadata": {},
     "output_type": "execute_result"
    }
   ],
   "source": [
    "# Number of unique documents in the dataset\n",
    "df.doc_id.nunique()"
   ]
  },
  {
   "cell_type": "markdown",
   "id": "0400259f-65ca-4301-a245-7af0b746abf1",
   "metadata": {},
   "source": [
    "## Step 5: Creating embeddings\n",
    "\n",
    "Define the embedding function, and run a quick test."
   ]
  },
  {
   "cell_type": "code",
   "execution_count": 10,
   "id": "3d936743-f18b-410e-8397-c0acf9c61a5e",
   "metadata": {},
   "outputs": [],
   "source": [
    "from typing import List"
   ]
  },
  {
   "cell_type": "code",
   "execution_count": 11,
   "id": "bda20d74-7296-40df-ab19-ea63a5b47e6d",
   "metadata": {},
   "outputs": [],
   "source": [
    "def get_embeddings(docs: List[str], input_type: str, model:str=\"voyage-lite-02-instruct\") -> List[List[float]]:\n",
    "    \"\"\"\n",
    "    Get embeddings using the Voyage AI API.\n",
    "    \n",
    "    Args:\n",
    "        docs (List[str]): List of texts to embed\n",
    "        input_type (str): Type of input to embed. Can be \"document\" or \"query\".\n",
    "        model (str, optional): Model name. Defaults to \"voyage-lite-02-instruct\".\n",
    "\n",
    "    Returns:\n",
    "        List[List[float]]: Array of embedddings\n",
    "    \"\"\"\n",
    "    response = voyage_client.embed(docs, model=model, input_type=input_type)\n",
    "    return response.embeddings"
   ]
  },
  {
   "cell_type": "code",
   "execution_count": 12,
   "id": "0da5f1da-f4bd-4551-871e-350d44ed0d31",
   "metadata": {},
   "outputs": [],
   "source": [
    "# Generating a test embedding\n",
    "test_voyageai_embed = get_embeddings([df.iloc[0][\"text\"]], \"document\")"
   ]
  },
  {
   "cell_type": "code",
   "execution_count": 13,
   "id": "a3f8cd22-d3e7-45cb-abe1-4993208f1391",
   "metadata": {},
   "outputs": [
    {
     "data": {
      "text/plain": [
       "1024"
      ]
     },
     "execution_count": 13,
     "metadata": {},
     "output_type": "execute_result"
    }
   ],
   "source": [
    "# Sanity check to make sure embedding dimensions are as expected i.e. 1024\n",
    "len(test_voyageai_embed[0])"
   ]
  },
  {
   "cell_type": "markdown",
   "id": "17d7c15a-8d3e-4680-acf1-a61a5be5c998",
   "metadata": {},
   "source": [
    "## Step 6: Evaluation"
   ]
  },
  {
   "cell_type": "markdown",
   "id": "0dc95ac8",
   "metadata": {},
   "source": [
    "### Measuring embedding latency\n",
    "\n",
    "Create a local vector store (list) of embeddings for the entire dataset."
   ]
  },
  {
   "cell_type": "code",
   "execution_count": 14,
   "id": "76e0e043-dea1-4fb7-a779-6aeba0c690e4",
   "metadata": {},
   "outputs": [],
   "source": [
    "from tqdm.auto import tqdm"
   ]
  },
  {
   "cell_type": "code",
   "execution_count": 15,
   "id": "9e0c475e-8f36-4183-997f-c13b2320b280",
   "metadata": {},
   "outputs": [],
   "source": [
    "texts = df[\"text\"].tolist()"
   ]
  },
  {
   "cell_type": "code",
   "execution_count": 16,
   "id": "d793b764-88ec-4bb6-ae71-52dd06791128",
   "metadata": {},
   "outputs": [],
   "source": [
    "batch_size = 128"
   ]
  },
  {
   "cell_type": "code",
   "execution_count": 17,
   "id": "501dc5a1-daed-4ae9-a246-b388b0698e22",
   "metadata": {},
   "outputs": [
    {
     "data": {
      "application/vnd.jupyter.widget-view+json": {
       "model_id": "da028e36d47e4af5acab40ae2a9a1742",
       "version_major": 2,
       "version_minor": 0
      },
      "text/plain": [
       "  0%|          | 0/196 [00:00<?, ?it/s]"
      ]
     },
     "metadata": {},
     "output_type": "display_data"
    }
   ],
   "source": [
    "embeddings = []\n",
    "# Generate embeddings in batches\n",
    "for i in tqdm(range(0, len(texts), batch_size)):\n",
    "    end = min(len(texts), i+batch_size)\n",
    "    batch = texts[i:end]\n",
    "    # Generate embeddings for current batch\n",
    "    batch_embeddings = get_embeddings(batch, \"document\")\n",
    "    # Add to the list of embeddings\n",
    "    embeddings.extend(batch_embeddings)"
   ]
  },
  {
   "cell_type": "markdown",
   "id": "3918f00e-b31f-4225-80fd-1761fbf3a3d2",
   "metadata": {},
   "source": [
    "### Measuring retrieval quality\n",
    "\n",
    "* Create embedding for the user query\n",
    "<p>\n",
    "* Get the top 5 most similar documents from the local vector store using cosine similarity as the similarity metric"
   ]
  },
  {
   "cell_type": "code",
   "execution_count": 20,
   "id": "7fa4806b-7311-4516-aea2-a71230c4f571",
   "metadata": {},
   "outputs": [],
   "source": [
    "import numpy as np\n",
    "from sentence_transformers.util import cos_sim"
   ]
  },
  {
   "cell_type": "code",
   "execution_count": 21,
   "id": "ff11c827-5e24-481b-af48-8389b9963bda",
   "metadata": {},
   "outputs": [],
   "source": [
    "# Converting embeddings list to a Numpy array- required to calculate cosine similarity\n",
    "embeddings = np.asarray(embeddings)"
   ]
  },
  {
   "cell_type": "code",
   "execution_count": 22,
   "id": "f9d9c773-896b-4098-8234-fe77360820c9",
   "metadata": {},
   "outputs": [],
   "source": [
    "def query(query: str, top_k: int=3) -> None:\n",
    "    \"\"\"\n",
    "    Query the local vector store for the top 3 most relevant documents.\n",
    "\n",
    "    Args:\n",
    "        query (str): User query\n",
    "        top_k (int, optional): Number of documents to return. Defaults to 3.\n",
    "    \"\"\"\n",
    "    # Generate embedding for the user query\n",
    "    query_emb = np.asarray(get_embeddings([query], \"query\"))\n",
    "    # Calculate cosine similarity\n",
    "    scores = cos_sim(query_emb, embeddings)[0]\n",
    "    # Get indices of the top k records\n",
    "    idxs = np.argsort(-scores)[:top_k]\n",
    "\n",
    "    print(f\"Query: {query}\")\n",
    "    for idx in idxs:\n",
    "        print(f\"Score: {scores[idx]:.4f}\")\n",
    "        print(texts[idx])\n",
    "        print(\"--------\")"
   ]
  },
  {
   "cell_type": "code",
   "execution_count": 26,
   "id": "ed8ad9ef-67ad-454d-8fa7-65b1e4a35e03",
   "metadata": {},
   "outputs": [
    {
     "name": "stdout",
     "output_type": "stream",
     "text": [
      "Query: Give me some tips to improve my mental health.\n",
      "Score: 0.9284\n",
      "Key Tips:\n",
      "\n",
      "* Learn to recognize early signs of stress and address them proactively.\n",
      "* Share concerns with trusted friends, family members, or mental health professionals.\n",
      "* Develop a list of coping mechanisms to deploy during high-stress periods.\n",
      "\n",
      "Step 6: Cultivate Social Connections\n",
      "Isolation can worsen depression. Nurture relationships with loved ones and participate in social events to foster a sense of belonging.\n",
      "\n",
      "* Join clubs, groups, or communities centered around shared interests.\n",
      "* Schedule regular phone calls or video chats with distant friends and relatives.\n",
      "* Volunteer for causes close to your heart.\n",
      "\n",
      "Key Guidelines:\n",
      "\n",
      "* Set boundaries when necessary to protect your emotional well-being.\n",
      "* Communicate openly about your struggles with trusted confidants.\n",
      "* Seek professional guidance if social anxiety impedes relationship development.\n",
      "--------\n",
      "Score: 0.9247\n",
      "It's crucial to consult a licensed therapist, psychiatrist, or primary care physician for a thorough assessment and individualized treatment recommendations. Keep in mind that finding the right provider and therapeutic approach may require patience and persistence, but investing time and effort into locating suitable care ultimately leads to better outcomes.\n",
      "\n",
      "Conclusion:\n",
      "Managing depression requires dedication, resilience, and compassion toward oneself. Implementing the strategies outlined in this tutorial takes time and practice, so be gentle with yourself throughout the journey. Surround yourself with understanding individuals, engage in nurturing activities, and maintain open communication with your healthcare providers to ensure ongoing progress. With determination and appropriate resources, you can gain control of depression and live a fulfilling, meaningful life.\n",
      "--------\n",
      "Score: 0.9237\n",
      "**Step 1: Seek Professional Help**\n",
      "\n",
      "Before starting any self-help strategy, it's crucial to consult with a mental health professional. They can accurately diagnose your condition, determine its severity, and recommend appropriate treatment options. These may include medication, therapy, or a combination of both. Working with a professional ensures that you receive evidence-based care tailored to your specific needs.\n",
      "\n",
      "*Key tip:* If you're hesitant to seek help due to stigma or financial concerns, remember that seeking help is a sign of strength, and many resources are available to assist you.\n",
      "\n",
      "**Step 2: Develop Healthy Sleep Habits**\n",
      "\n",
      "Sleep plays a vital role in emotional regulation and overall well-being. Poor sleep habits can exacerbate depressive symptoms, while healthy sleep patterns can improve mood and cognitive function. To develop healthy sleep habits:\n",
      "--------\n"
     ]
    }
   ],
   "source": [
    "query(\"Give me some tips to improve my mental health.\")"
   ]
  },
  {
   "cell_type": "code",
   "execution_count": 28,
   "id": "18c1960c",
   "metadata": {},
   "outputs": [
    {
     "name": "stdout",
     "output_type": "stream",
     "text": [
      "Query: Give me some tips for writing good code.\n",
      "Score: 0.9201\n",
      "Step 6: Improve Code Quality\n",
      "Strive for clean, readable, maintainable code. Adopt consistent naming conventions, indentation styles, and formatting rules. Utilize version control systems like Git to track changes and collaborate effectively. Leverage linters and static analyzers to enforce style guides automatically. Document your work using comments and dedicated documentation tools. High-quality code facilitates collaboration, promotes longevity, and simplifies troubleshooting.\n",
      "\n",
      "Step 7: Embrace Best Practices\n",
      "Follow established best practices relevant to your chosen language and domain. Examples include Object-Oriented Design Principles, SOLID principles, Test-Driven Development (TDD), Dependency Injection, Asynchronous Programming, etc. While seemingly overwhelming initially, integrating them gradually enhances design patterns, scalability, and extensibility. Consult authoritative blogs, books, and articles to stay updated on current trends and recommendations.\n",
      "--------\n",
      "Score: 0.9145\n",
      "Title: How to Code Python: A Comprehensive Tutorial for Beginners\n",
      "\n",
      "Introduction:\n",
      "Python is a versatile, high-level programming language known for its simplicity and readability. This tutorial will guide you through the process of coding Python from scratch, providing in-depth explanations, key tips, and best practices along the way. By the end, you'll have a solid foundation to build upon as you continue your journey into the world of programming.\n",
      "\n",
      "Section 1: Installing Python\n",
      "Step 1: Visit the official Python website (<https://www.python.org/>)\n",
      "Explanation: The official site provides stable releases and comprehensive documentation.\n",
      "\n",
      "Step 2: Download the latest version of Python suitable for your operating system\n",
      "Tip: Choose the most recent release to ensure access to the newest features and security updates.\n",
      "\n",
      "Step 3: Run the installer and select 'Add Python to PATH' during installation\n",
      "Guideline: Ensuring Python is added to PATH makes it easier to run scripts from any directory.\n",
      "--------\n",
      "Score: 0.9123\n",
      "Key Tips and Guidelines:\n",
      "--------\n"
     ]
    }
   ],
   "source": [
    "query(\"Give me some tips for writing good code.\")"
   ]
  },
  {
   "cell_type": "code",
   "execution_count": 1,
   "id": "94351d4f",
   "metadata": {},
   "outputs": [
    {
     "ename": "NameError",
     "evalue": "name 'query' is not defined",
     "output_type": "error",
     "traceback": [
      "\u001b[0;31m---------------------------------------------------------------------------\u001b[0m",
      "\u001b[0;31mNameError\u001b[0m                                 Traceback (most recent call last)",
      "Cell \u001b[0;32mIn[1], line 1\u001b[0m\n\u001b[0;32m----> 1\u001b[0m \u001b[43mquery\u001b[49m(\u001b[38;5;124m\"\u001b[39m\u001b[38;5;124mHow do I create a Hello World program?\u001b[39m\u001b[38;5;124m\"\u001b[39m)\n",
      "\u001b[0;31mNameError\u001b[0m: name 'query' is not defined"
     ]
    }
   ],
   "source": [
    "query(\"How to create a basic webpage?\")"
   ]
  },
  {
   "cell_type": "code",
   "execution_count": 39,
   "id": "64453cec",
   "metadata": {},
   "outputs": [
    {
     "name": "stdout",
     "output_type": "stream",
     "text": [
      "Query: What are some environment-friendly practices I can incorporate in everyday life?\n",
      "Score: 0.9389\n",
      "By consistently implementing these steps, every individual can actively contribute to helping the world become a cleaner, greener, and more resilient place for future generations.\n",
      "--------\n",
      "Score: 0.9352\n",
      "Step 9: Recycle Properly\n",
      "Familiarize yourself with local recycling programs and sort materials accordingly. Rinse containers and remove caps if necessary. Key tip: Never place non-recyclable items in bins. Guideline: Educate family members on proper recycling techniques.\n",
      "\n",
      "Step 10: Green Transportation Options\n",
      "Choose walking, cycling, public transit, carpooling, or electric vehicles over gasoline-powered cars. Combine errands to minimize trips. Key tip: Schedule regular vehicle maintenance checks to maximize efficiency. Guideline: Investigate incentives for green transportation options in your area.\n",
      "\n",
      "Step 11: Energy Efficiency Upgrades\n",
      "Replace incandescent bulbs with LED lights, install programmable thermostats, seal drafts, and insulate attics. Consider solar panels or wind turbines. Key tip: Perform energy audits annually. Guideline: Prioritize high-impact areas first (e.g., windows, heating/cooling systems).\n",
      "--------\n",
      "Score: 0.9305\n",
      "Key Tips and Guidelines:\n",
      "\n",
      "* Read books, articles, and reports about environmental science, policy, and activism.\n",
      "* Attend lectures, workshops, webinars, and conferences related to environmental topics.\n",
      "* Join local advocacy groups focused on specific issues such as climate change, conservation, or pollution reduction.\n",
      "* Engage in conversations with friends, family, colleagues, and neighbors about environmental concerns and potential solutions.\n",
      "* Share credible information and resources via social media platforms to amplify messages and reach wider audiences.\n",
      "\n",
      "Conclusion:\n",
      "Helping the environment requires consistent effort and dedication but offers numerous benefits for both present and future generations. By implementing these strategies, individuals can contribute to mitigating climate change, preserving biodiversity, and ensuring a healthier, greener planet for all.\n",
      "--------\n"
     ]
    }
   ],
   "source": [
    "query(\"What are some environment-friendly practices I can incorporate in everyday life?\")"
   ]
  }
 ],
 "metadata": {
  "kernelspec": {
   "display_name": "conda_pytorch_p310",
   "language": "python",
   "name": "conda_pytorch_p310"
  },
  "language_info": {
   "codemirror_mode": {
    "name": "ipython",
    "version": 3
   },
   "file_extension": ".py",
   "mimetype": "text/x-python",
   "name": "python",
   "nbconvert_exporter": "python",
   "pygments_lexer": "ipython3",
   "version": "3.10.13"
  }
 },
 "nbformat": 4,
 "nbformat_minor": 5
}
